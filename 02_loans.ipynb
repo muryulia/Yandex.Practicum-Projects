{
  "cells": [
    {
      "cell_type": "markdown",
      "metadata": {
        "id": "view-in-github",
        "colab_type": "text"
      },
      "source": [
        "<a href=\"https://colab.research.google.com/github/muryulia/Yandex.Practicum-Projects/blob/main/02_loans.ipynb\" target=\"_parent\"><img src=\"https://colab.research.google.com/assets/colab-badge.svg\" alt=\"Open In Colab\"/></a>"
      ]
    },
    {
      "cell_type": "markdown",
      "id": "575a8f6f",
      "metadata": {
        "id": "575a8f6f"
      },
      "source": [
        "# Исследование надежности заемщиков"
      ]
    },
    {
      "cell_type": "markdown",
      "source": [
        "# Содержание"
      ],
      "metadata": {
        "id": "D2JCW3No4R4N"
      },
      "id": "D2JCW3No4R4N"
    },
    {
      "cell_type": "markdown",
      "source": [
        "[1. Обзор данных](#scrollTo=47acd530)\n",
        "\n",
        "\n",
        "[2. Предобработка данных](#scrollTo=38497889)\n",
        "\n",
        "- [2.1 Заполнение пропусков](#scrollTo=f61GMrIm0hIx)\n",
        "\n",
        "- [2.2 Проверка данных на аномалии и исправления](#scrollTo=87d6194e)\n",
        "\n",
        "- [2.3 Изменение типов данных](#scrollTo=fe6c41f8)\n",
        "\n",
        "- [2.4 Удаление дубликатов](#scrollTo=6a4b4e72)\n",
        "\n",
        "- [2.5 Формирование дополнительных датафреймов словарей, декомпозиция исходного датафрейма](#scrollTo=559d77a6)\n",
        "\n",
        "- [2.6 Категоризация дохода](#scrollTo=190f2ad3)\n",
        "\n",
        "- [2.7 Категоризация целей кредита](#scrollTo=32548286)\n",
        "\n",
        "\n",
        "[3. Ответы на вопросы](#scrollTo=36827454)\n",
        "\n",
        "- [Вопрос 1: Есть ли зависимость между количеством детей и возвратом кредита в срок?](#scrollTo=92e93ac6)\n",
        "\n",
        "- [Вопрос 2: Есть ли зависимость между семейным положением и возвратом кредита в срок?](#scrollTo=ea973c4c)\n",
        "\n",
        "- [Вопрос 3: Есть ли зависимость между уровнем дохода и возвратом кредита в срок?](#scrollTo=bbe573d2)\n",
        "\n",
        "- [Вопрос 4: Как уровень образования влияет на возврат кредита в срок?](#scrollTo=hzbPoewbp18a)\n",
        "\n",
        "- [Вопрос 5: Как разные цели кредита влияют на его возврат в срок?](#scrollTo=5da9d123)\n",
        "\n",
        "\n",
        "[4. Общий вывод](#scrollTo=1bbf9003)"
      ],
      "metadata": {
        "id": "p1dwoC2B1KYD"
      },
      "id": "p1dwoC2B1KYD"
    },
    {
      "cell_type": "markdown",
      "id": "d34ddef5",
      "metadata": {
        "id": "d34ddef5"
      },
      "source": [
        "Цель исследования: используя данные банка о платежеспособности заемщиков, определить, влияют ли на погашение кредита в срок такие факторы как семейное положение, количество детей, уровень дохода и цель кредита.\n",
        "\n",
        "Для исследования предоставлен файл в формате .csv. \n",
        "\n",
        "Описание данных:\n",
        "\n",
        "- `children` — количество детей в семье\n",
        "- `days_employed` — общий трудовой стаж в днях\n",
        "- `dob_years` — возраст клиента в годах\n",
        "- `education` — уровень образования клиента\n",
        "- `education_id` — идентификатор уровня образования\n",
        "- `family_status` — семейное положение\n",
        "- `family_status_id` — идентификатор семейного положения\n",
        "- `gender` — пол клиента\n",
        "- `income_type` — тип занятости\n",
        "- `debt` — имел ли задолженность по возврату кредитов\n",
        "- `total_income` — ежемесячный доход\n",
        "- `purpose` — цель получения кредита"
      ]
    },
    {
      "cell_type": "markdown",
      "id": "47acd530",
      "metadata": {
        "id": "47acd530"
      },
      "source": [
        "## 1. Обзор данных"
      ]
    },
    {
      "cell_type": "code",
      "execution_count": 1,
      "id": "6e6d6f0f",
      "metadata": {
        "id": "6e6d6f0f"
      },
      "outputs": [],
      "source": [
        "# Импорт библиотек\n",
        "import pandas as pd\n",
        "import matplotlib.pyplot as plt\n",
        "plt.rcParams['figure.figsize'] = (21,7)\n",
        "plt.rcParams['grid.alpha'] = 0\n",
        "plt.style.use('seaborn-talk')\n",
        "\n",
        "pd.options.display.float_format = '{:.2f}'.format"
      ]
    },
    {
      "cell_type": "code",
      "execution_count": 2,
      "id": "137be96a",
      "metadata": {
        "colab": {
          "base_uri": "https://localhost:8080/",
          "height": 206
        },
        "id": "137be96a",
        "outputId": "31e538bc-d329-41cb-c93b-771928b233f7"
      },
      "outputs": [
        {
          "output_type": "execute_result",
          "data": {
            "text/plain": [
              "   children  days_employed  dob_years education  education_id  \\\n",
              "0         1       -8437.67         42    высшее             0   \n",
              "1         1       -4024.80         36   среднее             1   \n",
              "2         0       -5623.42         33   Среднее             1   \n",
              "3         3       -4124.75         32   среднее             1   \n",
              "4         0      340266.07         53   среднее             1   \n",
              "\n",
              "      family_status  family_status_id gender income_type  debt  total_income  \\\n",
              "0   женат / замужем                 0      F   сотрудник     0     253875.64   \n",
              "1   женат / замужем                 0      F   сотрудник     0     112080.01   \n",
              "2   женат / замужем                 0      M   сотрудник     0     145885.95   \n",
              "3   женат / замужем                 0      M   сотрудник     0     267628.55   \n",
              "4  гражданский брак                 1      F   пенсионер     0     158616.08   \n",
              "\n",
              "                      purpose  \n",
              "0               покупка жилья  \n",
              "1     приобретение автомобиля  \n",
              "2               покупка жилья  \n",
              "3  дополнительное образование  \n",
              "4             сыграть свадьбу  "
            ],
            "text/html": [
              "\n",
              "  <div id=\"df-a61fe5ef-4d91-4fe9-8e3e-21ad628036c4\">\n",
              "    <div class=\"colab-df-container\">\n",
              "      <div>\n",
              "<style scoped>\n",
              "    .dataframe tbody tr th:only-of-type {\n",
              "        vertical-align: middle;\n",
              "    }\n",
              "\n",
              "    .dataframe tbody tr th {\n",
              "        vertical-align: top;\n",
              "    }\n",
              "\n",
              "    .dataframe thead th {\n",
              "        text-align: right;\n",
              "    }\n",
              "</style>\n",
              "<table border=\"1\" class=\"dataframe\">\n",
              "  <thead>\n",
              "    <tr style=\"text-align: right;\">\n",
              "      <th></th>\n",
              "      <th>children</th>\n",
              "      <th>days_employed</th>\n",
              "      <th>dob_years</th>\n",
              "      <th>education</th>\n",
              "      <th>education_id</th>\n",
              "      <th>family_status</th>\n",
              "      <th>family_status_id</th>\n",
              "      <th>gender</th>\n",
              "      <th>income_type</th>\n",
              "      <th>debt</th>\n",
              "      <th>total_income</th>\n",
              "      <th>purpose</th>\n",
              "    </tr>\n",
              "  </thead>\n",
              "  <tbody>\n",
              "    <tr>\n",
              "      <th>0</th>\n",
              "      <td>1</td>\n",
              "      <td>-8437.67</td>\n",
              "      <td>42</td>\n",
              "      <td>высшее</td>\n",
              "      <td>0</td>\n",
              "      <td>женат / замужем</td>\n",
              "      <td>0</td>\n",
              "      <td>F</td>\n",
              "      <td>сотрудник</td>\n",
              "      <td>0</td>\n",
              "      <td>253875.64</td>\n",
              "      <td>покупка жилья</td>\n",
              "    </tr>\n",
              "    <tr>\n",
              "      <th>1</th>\n",
              "      <td>1</td>\n",
              "      <td>-4024.80</td>\n",
              "      <td>36</td>\n",
              "      <td>среднее</td>\n",
              "      <td>1</td>\n",
              "      <td>женат / замужем</td>\n",
              "      <td>0</td>\n",
              "      <td>F</td>\n",
              "      <td>сотрудник</td>\n",
              "      <td>0</td>\n",
              "      <td>112080.01</td>\n",
              "      <td>приобретение автомобиля</td>\n",
              "    </tr>\n",
              "    <tr>\n",
              "      <th>2</th>\n",
              "      <td>0</td>\n",
              "      <td>-5623.42</td>\n",
              "      <td>33</td>\n",
              "      <td>Среднее</td>\n",
              "      <td>1</td>\n",
              "      <td>женат / замужем</td>\n",
              "      <td>0</td>\n",
              "      <td>M</td>\n",
              "      <td>сотрудник</td>\n",
              "      <td>0</td>\n",
              "      <td>145885.95</td>\n",
              "      <td>покупка жилья</td>\n",
              "    </tr>\n",
              "    <tr>\n",
              "      <th>3</th>\n",
              "      <td>3</td>\n",
              "      <td>-4124.75</td>\n",
              "      <td>32</td>\n",
              "      <td>среднее</td>\n",
              "      <td>1</td>\n",
              "      <td>женат / замужем</td>\n",
              "      <td>0</td>\n",
              "      <td>M</td>\n",
              "      <td>сотрудник</td>\n",
              "      <td>0</td>\n",
              "      <td>267628.55</td>\n",
              "      <td>дополнительное образование</td>\n",
              "    </tr>\n",
              "    <tr>\n",
              "      <th>4</th>\n",
              "      <td>0</td>\n",
              "      <td>340266.07</td>\n",
              "      <td>53</td>\n",
              "      <td>среднее</td>\n",
              "      <td>1</td>\n",
              "      <td>гражданский брак</td>\n",
              "      <td>1</td>\n",
              "      <td>F</td>\n",
              "      <td>пенсионер</td>\n",
              "      <td>0</td>\n",
              "      <td>158616.08</td>\n",
              "      <td>сыграть свадьбу</td>\n",
              "    </tr>\n",
              "  </tbody>\n",
              "</table>\n",
              "</div>\n",
              "      <button class=\"colab-df-convert\" onclick=\"convertToInteractive('df-a61fe5ef-4d91-4fe9-8e3e-21ad628036c4')\"\n",
              "              title=\"Convert this dataframe to an interactive table.\"\n",
              "              style=\"display:none;\">\n",
              "        \n",
              "  <svg xmlns=\"http://www.w3.org/2000/svg\" height=\"24px\"viewBox=\"0 0 24 24\"\n",
              "       width=\"24px\">\n",
              "    <path d=\"M0 0h24v24H0V0z\" fill=\"none\"/>\n",
              "    <path d=\"M18.56 5.44l.94 2.06.94-2.06 2.06-.94-2.06-.94-.94-2.06-.94 2.06-2.06.94zm-11 1L8.5 8.5l.94-2.06 2.06-.94-2.06-.94L8.5 2.5l-.94 2.06-2.06.94zm10 10l.94 2.06.94-2.06 2.06-.94-2.06-.94-.94-2.06-.94 2.06-2.06.94z\"/><path d=\"M17.41 7.96l-1.37-1.37c-.4-.4-.92-.59-1.43-.59-.52 0-1.04.2-1.43.59L10.3 9.45l-7.72 7.72c-.78.78-.78 2.05 0 2.83L4 21.41c.39.39.9.59 1.41.59.51 0 1.02-.2 1.41-.59l7.78-7.78 2.81-2.81c.8-.78.8-2.07 0-2.86zM5.41 20L4 18.59l7.72-7.72 1.47 1.35L5.41 20z\"/>\n",
              "  </svg>\n",
              "      </button>\n",
              "      \n",
              "  <style>\n",
              "    .colab-df-container {\n",
              "      display:flex;\n",
              "      flex-wrap:wrap;\n",
              "      gap: 12px;\n",
              "    }\n",
              "\n",
              "    .colab-df-convert {\n",
              "      background-color: #E8F0FE;\n",
              "      border: none;\n",
              "      border-radius: 50%;\n",
              "      cursor: pointer;\n",
              "      display: none;\n",
              "      fill: #1967D2;\n",
              "      height: 32px;\n",
              "      padding: 0 0 0 0;\n",
              "      width: 32px;\n",
              "    }\n",
              "\n",
              "    .colab-df-convert:hover {\n",
              "      background-color: #E2EBFA;\n",
              "      box-shadow: 0px 1px 2px rgba(60, 64, 67, 0.3), 0px 1px 3px 1px rgba(60, 64, 67, 0.15);\n",
              "      fill: #174EA6;\n",
              "    }\n",
              "\n",
              "    [theme=dark] .colab-df-convert {\n",
              "      background-color: #3B4455;\n",
              "      fill: #D2E3FC;\n",
              "    }\n",
              "\n",
              "    [theme=dark] .colab-df-convert:hover {\n",
              "      background-color: #434B5C;\n",
              "      box-shadow: 0px 1px 3px 1px rgba(0, 0, 0, 0.15);\n",
              "      filter: drop-shadow(0px 1px 2px rgba(0, 0, 0, 0.3));\n",
              "      fill: #FFFFFF;\n",
              "    }\n",
              "  </style>\n",
              "\n",
              "      <script>\n",
              "        const buttonEl =\n",
              "          document.querySelector('#df-a61fe5ef-4d91-4fe9-8e3e-21ad628036c4 button.colab-df-convert');\n",
              "        buttonEl.style.display =\n",
              "          google.colab.kernel.accessAllowed ? 'block' : 'none';\n",
              "\n",
              "        async function convertToInteractive(key) {\n",
              "          const element = document.querySelector('#df-a61fe5ef-4d91-4fe9-8e3e-21ad628036c4');\n",
              "          const dataTable =\n",
              "            await google.colab.kernel.invokeFunction('convertToInteractive',\n",
              "                                                     [key], {});\n",
              "          if (!dataTable) return;\n",
              "\n",
              "          const docLinkHtml = 'Like what you see? Visit the ' +\n",
              "            '<a target=\"_blank\" href=https://colab.research.google.com/notebooks/data_table.ipynb>data table notebook</a>'\n",
              "            + ' to learn more about interactive tables.';\n",
              "          element.innerHTML = '';\n",
              "          dataTable['output_type'] = 'display_data';\n",
              "          await google.colab.output.renderOutput(dataTable, element);\n",
              "          const docLink = document.createElement('div');\n",
              "          docLink.innerHTML = docLinkHtml;\n",
              "          element.appendChild(docLink);\n",
              "        }\n",
              "      </script>\n",
              "    </div>\n",
              "  </div>\n",
              "  "
            ]
          },
          "metadata": {},
          "execution_count": 2
        }
      ],
      "source": [
        "# Посмотрим на данные. Сначала прочитаем файл\n",
        "data = pd.read_csv('/datasets/data.csv')\n",
        "\n",
        "# Выведем на экран первые 5 строк файла\n",
        "data.head()"
      ]
    },
    {
      "cell_type": "code",
      "execution_count": 3,
      "id": "2965a1a1",
      "metadata": {
        "scrolled": true,
        "colab": {
          "base_uri": "https://localhost:8080/"
        },
        "id": "2965a1a1",
        "outputId": "a03a7e44-c5e3-4472-9b34-f3056408f7eb"
      },
      "outputs": [
        {
          "output_type": "stream",
          "name": "stdout",
          "text": [
            "<class 'pandas.core.frame.DataFrame'>\n",
            "RangeIndex: 21525 entries, 0 to 21524\n",
            "Data columns (total 12 columns):\n",
            " #   Column            Non-Null Count  Dtype  \n",
            "---  ------            --------------  -----  \n",
            " 0   children          21525 non-null  int64  \n",
            " 1   days_employed     19351 non-null  float64\n",
            " 2   dob_years         21525 non-null  int64  \n",
            " 3   education         21525 non-null  object \n",
            " 4   education_id      21525 non-null  int64  \n",
            " 5   family_status     21525 non-null  object \n",
            " 6   family_status_id  21525 non-null  int64  \n",
            " 7   gender            21525 non-null  object \n",
            " 8   income_type       21525 non-null  object \n",
            " 9   debt              21525 non-null  int64  \n",
            " 10  total_income      19351 non-null  float64\n",
            " 11  purpose           21525 non-null  object \n",
            "dtypes: float64(2), int64(5), object(5)\n",
            "memory usage: 2.0+ MB\n"
          ]
        }
      ],
      "source": [
        "# Получим общую информацию о датафрейме\n",
        "data.info()"
      ]
    },
    {
      "cell_type": "code",
      "execution_count": 4,
      "id": "fc80f269",
      "metadata": {
        "colab": {
          "base_uri": "https://localhost:8080/"
        },
        "id": "fc80f269",
        "outputId": "ece72b46-4f86-40df-c7ad-71d807cc5f03"
      },
      "outputs": [
        {
          "output_type": "execute_result",
          "data": {
            "text/plain": [
              "(21525, 12)"
            ]
          },
          "metadata": {},
          "execution_count": 4
        }
      ],
      "source": [
        "# Оценим общую структуру датафрейма\n",
        "data.shape"
      ]
    },
    {
      "cell_type": "code",
      "execution_count": 5,
      "id": "2b0db57a",
      "metadata": {
        "colab": {
          "base_uri": "https://localhost:8080/",
          "height": 269
        },
        "id": "2b0db57a",
        "outputId": "3282244c-697b-48b3-9174-dee249aef549"
      },
      "outputs": [
        {
          "output_type": "execute_result",
          "data": {
            "text/plain": [
              "                    count      mean       std       min       25%       50%  \\\n",
              "children         21525.00      0.54      1.38     -1.00      0.00      0.00   \n",
              "days_employed    19351.00  63046.50 140827.31 -18388.95  -2747.42  -1203.37   \n",
              "dob_years        21525.00     43.29     12.57      0.00     33.00     42.00   \n",
              "education_id     21525.00      0.82      0.55      0.00      1.00      1.00   \n",
              "family_status_id 21525.00      0.97      1.42      0.00      0.00      0.00   \n",
              "debt             21525.00      0.08      0.27      0.00      0.00      0.00   \n",
              "total_income     19351.00 167422.30 102971.57  20667.26 103053.15 145017.94   \n",
              "\n",
              "                       75%        max  \n",
              "children              1.00      20.00  \n",
              "days_employed      -291.10  401755.40  \n",
              "dob_years            53.00      75.00  \n",
              "education_id          1.00       4.00  \n",
              "family_status_id      1.00       4.00  \n",
              "debt                  0.00       1.00  \n",
              "total_income     203435.07 2265604.03  "
            ],
            "text/html": [
              "\n",
              "  <div id=\"df-b207f872-28a3-4cfc-91f6-6a55477fa6bc\">\n",
              "    <div class=\"colab-df-container\">\n",
              "      <div>\n",
              "<style scoped>\n",
              "    .dataframe tbody tr th:only-of-type {\n",
              "        vertical-align: middle;\n",
              "    }\n",
              "\n",
              "    .dataframe tbody tr th {\n",
              "        vertical-align: top;\n",
              "    }\n",
              "\n",
              "    .dataframe thead th {\n",
              "        text-align: right;\n",
              "    }\n",
              "</style>\n",
              "<table border=\"1\" class=\"dataframe\">\n",
              "  <thead>\n",
              "    <tr style=\"text-align: right;\">\n",
              "      <th></th>\n",
              "      <th>count</th>\n",
              "      <th>mean</th>\n",
              "      <th>std</th>\n",
              "      <th>min</th>\n",
              "      <th>25%</th>\n",
              "      <th>50%</th>\n",
              "      <th>75%</th>\n",
              "      <th>max</th>\n",
              "    </tr>\n",
              "  </thead>\n",
              "  <tbody>\n",
              "    <tr>\n",
              "      <th>children</th>\n",
              "      <td>21525.00</td>\n",
              "      <td>0.54</td>\n",
              "      <td>1.38</td>\n",
              "      <td>-1.00</td>\n",
              "      <td>0.00</td>\n",
              "      <td>0.00</td>\n",
              "      <td>1.00</td>\n",
              "      <td>20.00</td>\n",
              "    </tr>\n",
              "    <tr>\n",
              "      <th>days_employed</th>\n",
              "      <td>19351.00</td>\n",
              "      <td>63046.50</td>\n",
              "      <td>140827.31</td>\n",
              "      <td>-18388.95</td>\n",
              "      <td>-2747.42</td>\n",
              "      <td>-1203.37</td>\n",
              "      <td>-291.10</td>\n",
              "      <td>401755.40</td>\n",
              "    </tr>\n",
              "    <tr>\n",
              "      <th>dob_years</th>\n",
              "      <td>21525.00</td>\n",
              "      <td>43.29</td>\n",
              "      <td>12.57</td>\n",
              "      <td>0.00</td>\n",
              "      <td>33.00</td>\n",
              "      <td>42.00</td>\n",
              "      <td>53.00</td>\n",
              "      <td>75.00</td>\n",
              "    </tr>\n",
              "    <tr>\n",
              "      <th>education_id</th>\n",
              "      <td>21525.00</td>\n",
              "      <td>0.82</td>\n",
              "      <td>0.55</td>\n",
              "      <td>0.00</td>\n",
              "      <td>1.00</td>\n",
              "      <td>1.00</td>\n",
              "      <td>1.00</td>\n",
              "      <td>4.00</td>\n",
              "    </tr>\n",
              "    <tr>\n",
              "      <th>family_status_id</th>\n",
              "      <td>21525.00</td>\n",
              "      <td>0.97</td>\n",
              "      <td>1.42</td>\n",
              "      <td>0.00</td>\n",
              "      <td>0.00</td>\n",
              "      <td>0.00</td>\n",
              "      <td>1.00</td>\n",
              "      <td>4.00</td>\n",
              "    </tr>\n",
              "    <tr>\n",
              "      <th>debt</th>\n",
              "      <td>21525.00</td>\n",
              "      <td>0.08</td>\n",
              "      <td>0.27</td>\n",
              "      <td>0.00</td>\n",
              "      <td>0.00</td>\n",
              "      <td>0.00</td>\n",
              "      <td>0.00</td>\n",
              "      <td>1.00</td>\n",
              "    </tr>\n",
              "    <tr>\n",
              "      <th>total_income</th>\n",
              "      <td>19351.00</td>\n",
              "      <td>167422.30</td>\n",
              "      <td>102971.57</td>\n",
              "      <td>20667.26</td>\n",
              "      <td>103053.15</td>\n",
              "      <td>145017.94</td>\n",
              "      <td>203435.07</td>\n",
              "      <td>2265604.03</td>\n",
              "    </tr>\n",
              "  </tbody>\n",
              "</table>\n",
              "</div>\n",
              "      <button class=\"colab-df-convert\" onclick=\"convertToInteractive('df-b207f872-28a3-4cfc-91f6-6a55477fa6bc')\"\n",
              "              title=\"Convert this dataframe to an interactive table.\"\n",
              "              style=\"display:none;\">\n",
              "        \n",
              "  <svg xmlns=\"http://www.w3.org/2000/svg\" height=\"24px\"viewBox=\"0 0 24 24\"\n",
              "       width=\"24px\">\n",
              "    <path d=\"M0 0h24v24H0V0z\" fill=\"none\"/>\n",
              "    <path d=\"M18.56 5.44l.94 2.06.94-2.06 2.06-.94-2.06-.94-.94-2.06-.94 2.06-2.06.94zm-11 1L8.5 8.5l.94-2.06 2.06-.94-2.06-.94L8.5 2.5l-.94 2.06-2.06.94zm10 10l.94 2.06.94-2.06 2.06-.94-2.06-.94-.94-2.06-.94 2.06-2.06.94z\"/><path d=\"M17.41 7.96l-1.37-1.37c-.4-.4-.92-.59-1.43-.59-.52 0-1.04.2-1.43.59L10.3 9.45l-7.72 7.72c-.78.78-.78 2.05 0 2.83L4 21.41c.39.39.9.59 1.41.59.51 0 1.02-.2 1.41-.59l7.78-7.78 2.81-2.81c.8-.78.8-2.07 0-2.86zM5.41 20L4 18.59l7.72-7.72 1.47 1.35L5.41 20z\"/>\n",
              "  </svg>\n",
              "      </button>\n",
              "      \n",
              "  <style>\n",
              "    .colab-df-container {\n",
              "      display:flex;\n",
              "      flex-wrap:wrap;\n",
              "      gap: 12px;\n",
              "    }\n",
              "\n",
              "    .colab-df-convert {\n",
              "      background-color: #E8F0FE;\n",
              "      border: none;\n",
              "      border-radius: 50%;\n",
              "      cursor: pointer;\n",
              "      display: none;\n",
              "      fill: #1967D2;\n",
              "      height: 32px;\n",
              "      padding: 0 0 0 0;\n",
              "      width: 32px;\n",
              "    }\n",
              "\n",
              "    .colab-df-convert:hover {\n",
              "      background-color: #E2EBFA;\n",
              "      box-shadow: 0px 1px 2px rgba(60, 64, 67, 0.3), 0px 1px 3px 1px rgba(60, 64, 67, 0.15);\n",
              "      fill: #174EA6;\n",
              "    }\n",
              "\n",
              "    [theme=dark] .colab-df-convert {\n",
              "      background-color: #3B4455;\n",
              "      fill: #D2E3FC;\n",
              "    }\n",
              "\n",
              "    [theme=dark] .colab-df-convert:hover {\n",
              "      background-color: #434B5C;\n",
              "      box-shadow: 0px 1px 3px 1px rgba(0, 0, 0, 0.15);\n",
              "      filter: drop-shadow(0px 1px 2px rgba(0, 0, 0, 0.3));\n",
              "      fill: #FFFFFF;\n",
              "    }\n",
              "  </style>\n",
              "\n",
              "      <script>\n",
              "        const buttonEl =\n",
              "          document.querySelector('#df-b207f872-28a3-4cfc-91f6-6a55477fa6bc button.colab-df-convert');\n",
              "        buttonEl.style.display =\n",
              "          google.colab.kernel.accessAllowed ? 'block' : 'none';\n",
              "\n",
              "        async function convertToInteractive(key) {\n",
              "          const element = document.querySelector('#df-b207f872-28a3-4cfc-91f6-6a55477fa6bc');\n",
              "          const dataTable =\n",
              "            await google.colab.kernel.invokeFunction('convertToInteractive',\n",
              "                                                     [key], {});\n",
              "          if (!dataTable) return;\n",
              "\n",
              "          const docLinkHtml = 'Like what you see? Visit the ' +\n",
              "            '<a target=\"_blank\" href=https://colab.research.google.com/notebooks/data_table.ipynb>data table notebook</a>'\n",
              "            + ' to learn more about interactive tables.';\n",
              "          element.innerHTML = '';\n",
              "          dataTable['output_type'] = 'display_data';\n",
              "          await google.colab.output.renderOutput(dataTable, element);\n",
              "          const docLink = document.createElement('div');\n",
              "          docLink.innerHTML = docLinkHtml;\n",
              "          element.appendChild(docLink);\n",
              "        }\n",
              "      </script>\n",
              "    </div>\n",
              "  </div>\n",
              "  "
            ]
          },
          "metadata": {},
          "execution_count": 5
        }
      ],
      "source": [
        "# Также посмотрим на общее описание данных, чтобы оценить разброс значений, максимум, минимум, среднее и медиану\n",
        "data.describe().T"
      ]
    },
    {
      "cell_type": "markdown",
      "id": "9d9f3843",
      "metadata": {
        "id": "9d9f3843"
      },
      "source": [
        "Датафрейм состоит из 12 столбцов и 21525 строк. \n",
        "\n",
        "2 столбца относятся к типу float64, 5 столбцов - к типу int64, 5 столбцов - к типу object. \n",
        "\n",
        "В столбцах `days_employed` и `total_income` количество строк меньше, чем в других столбцах."
      ]
    },
    {
      "cell_type": "markdown",
      "id": "38497889",
      "metadata": {
        "id": "38497889"
      },
      "source": [
        "## 2. Предобработка данных"
      ]
    },
    {
      "cell_type": "markdown",
      "source": [
        "### 2.1 Заполнение пропусков\n",
        "\n"
      ],
      "metadata": {
        "id": "f61GMrIm0hIx"
      },
      "id": "f61GMrIm0hIx"
    },
    {
      "cell_type": "markdown",
      "id": "51a36d28",
      "metadata": {
        "id": "51a36d28"
      },
      "source": [
        "Заполнение пропусков начнем с того, что найдем столбцы с пропущенными значениями."
      ]
    },
    {
      "cell_type": "code",
      "execution_count": 6,
      "id": "ae52cc06",
      "metadata": {
        "colab": {
          "base_uri": "https://localhost:8080/",
          "height": 426
        },
        "id": "ae52cc06",
        "outputId": "71b1cb52-4bdd-458c-dd7d-626990cfc9fa"
      },
      "outputs": [
        {
          "output_type": "execute_result",
          "data": {
            "text/plain": [
              "<pandas.io.formats.style.Styler at 0x7f836d7c3a10>"
            ],
            "text/html": [
              "<style type=\"text/css\">\n",
              "#T_0ec61_row0_col0, #T_0ec61_row0_col1, #T_0ec61_row2_col0, #T_0ec61_row2_col1, #T_0ec61_row3_col0, #T_0ec61_row3_col1, #T_0ec61_row4_col0, #T_0ec61_row4_col1, #T_0ec61_row5_col0, #T_0ec61_row5_col1, #T_0ec61_row6_col0, #T_0ec61_row6_col1, #T_0ec61_row7_col0, #T_0ec61_row7_col1, #T_0ec61_row8_col0, #T_0ec61_row8_col1, #T_0ec61_row9_col0, #T_0ec61_row9_col1, #T_0ec61_row11_col0, #T_0ec61_row11_col1 {\n",
              "  background-color: #fcffa4;\n",
              "  color: #000000;\n",
              "}\n",
              "#T_0ec61_row1_col0, #T_0ec61_row1_col1, #T_0ec61_row10_col0, #T_0ec61_row10_col1 {\n",
              "  background-color: #000004;\n",
              "  color: #f1f1f1;\n",
              "}\n",
              "</style>\n",
              "<table id=\"T_0ec61_\" class=\"dataframe\">\n",
              "  <thead>\n",
              "    <tr>\n",
              "      <th class=\"blank level0\" >&nbsp;</th>\n",
              "      <th class=\"col_heading level0 col0\" >NaN_count</th>\n",
              "      <th class=\"col_heading level0 col1\" >NaN_part</th>\n",
              "    </tr>\n",
              "  </thead>\n",
              "  <tbody>\n",
              "    <tr>\n",
              "      <th id=\"T_0ec61_level0_row0\" class=\"row_heading level0 row0\" >children</th>\n",
              "      <td id=\"T_0ec61_row0_col0\" class=\"data row0 col0\" >0.000000</td>\n",
              "      <td id=\"T_0ec61_row0_col1\" class=\"data row0 col1\" >0.00%</td>\n",
              "    </tr>\n",
              "    <tr>\n",
              "      <th id=\"T_0ec61_level0_row1\" class=\"row_heading level0 row1\" >days_employed</th>\n",
              "      <td id=\"T_0ec61_row1_col0\" class=\"data row1 col0\" >2174.000000</td>\n",
              "      <td id=\"T_0ec61_row1_col1\" class=\"data row1 col1\" >10.10%</td>\n",
              "    </tr>\n",
              "    <tr>\n",
              "      <th id=\"T_0ec61_level0_row2\" class=\"row_heading level0 row2\" >dob_years</th>\n",
              "      <td id=\"T_0ec61_row2_col0\" class=\"data row2 col0\" >0.000000</td>\n",
              "      <td id=\"T_0ec61_row2_col1\" class=\"data row2 col1\" >0.00%</td>\n",
              "    </tr>\n",
              "    <tr>\n",
              "      <th id=\"T_0ec61_level0_row3\" class=\"row_heading level0 row3\" >education</th>\n",
              "      <td id=\"T_0ec61_row3_col0\" class=\"data row3 col0\" >0.000000</td>\n",
              "      <td id=\"T_0ec61_row3_col1\" class=\"data row3 col1\" >0.00%</td>\n",
              "    </tr>\n",
              "    <tr>\n",
              "      <th id=\"T_0ec61_level0_row4\" class=\"row_heading level0 row4\" >education_id</th>\n",
              "      <td id=\"T_0ec61_row4_col0\" class=\"data row4 col0\" >0.000000</td>\n",
              "      <td id=\"T_0ec61_row4_col1\" class=\"data row4 col1\" >0.00%</td>\n",
              "    </tr>\n",
              "    <tr>\n",
              "      <th id=\"T_0ec61_level0_row5\" class=\"row_heading level0 row5\" >family_status</th>\n",
              "      <td id=\"T_0ec61_row5_col0\" class=\"data row5 col0\" >0.000000</td>\n",
              "      <td id=\"T_0ec61_row5_col1\" class=\"data row5 col1\" >0.00%</td>\n",
              "    </tr>\n",
              "    <tr>\n",
              "      <th id=\"T_0ec61_level0_row6\" class=\"row_heading level0 row6\" >family_status_id</th>\n",
              "      <td id=\"T_0ec61_row6_col0\" class=\"data row6 col0\" >0.000000</td>\n",
              "      <td id=\"T_0ec61_row6_col1\" class=\"data row6 col1\" >0.00%</td>\n",
              "    </tr>\n",
              "    <tr>\n",
              "      <th id=\"T_0ec61_level0_row7\" class=\"row_heading level0 row7\" >gender</th>\n",
              "      <td id=\"T_0ec61_row7_col0\" class=\"data row7 col0\" >0.000000</td>\n",
              "      <td id=\"T_0ec61_row7_col1\" class=\"data row7 col1\" >0.00%</td>\n",
              "    </tr>\n",
              "    <tr>\n",
              "      <th id=\"T_0ec61_level0_row8\" class=\"row_heading level0 row8\" >income_type</th>\n",
              "      <td id=\"T_0ec61_row8_col0\" class=\"data row8 col0\" >0.000000</td>\n",
              "      <td id=\"T_0ec61_row8_col1\" class=\"data row8 col1\" >0.00%</td>\n",
              "    </tr>\n",
              "    <tr>\n",
              "      <th id=\"T_0ec61_level0_row9\" class=\"row_heading level0 row9\" >debt</th>\n",
              "      <td id=\"T_0ec61_row9_col0\" class=\"data row9 col0\" >0.000000</td>\n",
              "      <td id=\"T_0ec61_row9_col1\" class=\"data row9 col1\" >0.00%</td>\n",
              "    </tr>\n",
              "    <tr>\n",
              "      <th id=\"T_0ec61_level0_row10\" class=\"row_heading level0 row10\" >total_income</th>\n",
              "      <td id=\"T_0ec61_row10_col0\" class=\"data row10 col0\" >2174.000000</td>\n",
              "      <td id=\"T_0ec61_row10_col1\" class=\"data row10 col1\" >10.10%</td>\n",
              "    </tr>\n",
              "    <tr>\n",
              "      <th id=\"T_0ec61_level0_row11\" class=\"row_heading level0 row11\" >purpose</th>\n",
              "      <td id=\"T_0ec61_row11_col0\" class=\"data row11 col0\" >0.000000</td>\n",
              "      <td id=\"T_0ec61_row11_col1\" class=\"data row11 col1\" >0.00%</td>\n",
              "    </tr>\n",
              "  </tbody>\n",
              "</table>\n"
            ]
          },
          "metadata": {},
          "execution_count": 6
        }
      ],
      "source": [
        "# Применим метод isna() к датафрейму для подсчета общего количества пропущенных значений,\n",
        "# сложим их методом sum(), посчитаем долю методом mean, транспонируем и выведем результат\n",
        "\n",
        "(data.isna()\n",
        ".agg(['sum', 'mean'])\n",
        ".T.rename(columns={'sum': 'NaN_count', 'mean': 'NaN_part'})\n",
        ".style.format({'NaN_part': '{:,.2%}'.format})\n",
        ".background_gradient(cmap='inferno_r', axis=0))"
      ]
    },
    {
      "cell_type": "markdown",
      "id": "d1d88759",
      "metadata": {
        "id": "d1d88759"
      },
      "source": [
        "Мы видим, что в столбцах `days_employed` и `total_income` 10% значений пропущено, а также, что количество пропущенных значений одинаковое в каждом столбце.\n",
        "\n",
        "Посмотрим, как выглядят строки с пропусками. Методом `isna()` найдём все строки с пропусками и просмотрим первые пять строк."
      ]
    },
    {
      "cell_type": "code",
      "execution_count": 7,
      "id": "7b1d6c4b",
      "metadata": {
        "colab": {
          "base_uri": "https://localhost:8080/",
          "height": 275
        },
        "id": "7b1d6c4b",
        "outputId": "f275725a-1066-404e-9513-93a0ebdefb4b"
      },
      "outputs": [
        {
          "output_type": "display_data",
          "data": {
            "text/plain": [
              "    children  days_employed  dob_years education  education_id  \\\n",
              "12         0            NaN         65   среднее             1   \n",
              "26         0            NaN         41   среднее             1   \n",
              "29         0            NaN         63   среднее             1   \n",
              "41         0            NaN         50   среднее             1   \n",
              "55         0            NaN         54   среднее             1   \n",
              "\n",
              "            family_status  family_status_id gender  income_type  debt  \\\n",
              "12       гражданский брак                 1      M    пенсионер     0   \n",
              "26        женат / замужем                 0      M  госслужащий     0   \n",
              "29  Не женат / не замужем                 4      F    пенсионер     0   \n",
              "41        женат / замужем                 0      F  госслужащий     0   \n",
              "55       гражданский брак                 1      F    пенсионер     1   \n",
              "\n",
              "    total_income                           purpose  \n",
              "12           NaN                   сыграть свадьбу  \n",
              "26           NaN                       образование  \n",
              "29           NaN  строительство жилой недвижимости  \n",
              "41           NaN  сделка с подержанным автомобилем  \n",
              "55           NaN                   сыграть свадьбу  "
            ],
            "text/html": [
              "\n",
              "  <div id=\"df-5324ab28-7a7e-4f94-b9dc-e1282153fa70\">\n",
              "    <div class=\"colab-df-container\">\n",
              "      <div>\n",
              "<style scoped>\n",
              "    .dataframe tbody tr th:only-of-type {\n",
              "        vertical-align: middle;\n",
              "    }\n",
              "\n",
              "    .dataframe tbody tr th {\n",
              "        vertical-align: top;\n",
              "    }\n",
              "\n",
              "    .dataframe thead th {\n",
              "        text-align: right;\n",
              "    }\n",
              "</style>\n",
              "<table border=\"1\" class=\"dataframe\">\n",
              "  <thead>\n",
              "    <tr style=\"text-align: right;\">\n",
              "      <th></th>\n",
              "      <th>children</th>\n",
              "      <th>days_employed</th>\n",
              "      <th>dob_years</th>\n",
              "      <th>education</th>\n",
              "      <th>education_id</th>\n",
              "      <th>family_status</th>\n",
              "      <th>family_status_id</th>\n",
              "      <th>gender</th>\n",
              "      <th>income_type</th>\n",
              "      <th>debt</th>\n",
              "      <th>total_income</th>\n",
              "      <th>purpose</th>\n",
              "    </tr>\n",
              "  </thead>\n",
              "  <tbody>\n",
              "    <tr>\n",
              "      <th>12</th>\n",
              "      <td>0</td>\n",
              "      <td>NaN</td>\n",
              "      <td>65</td>\n",
              "      <td>среднее</td>\n",
              "      <td>1</td>\n",
              "      <td>гражданский брак</td>\n",
              "      <td>1</td>\n",
              "      <td>M</td>\n",
              "      <td>пенсионер</td>\n",
              "      <td>0</td>\n",
              "      <td>NaN</td>\n",
              "      <td>сыграть свадьбу</td>\n",
              "    </tr>\n",
              "    <tr>\n",
              "      <th>26</th>\n",
              "      <td>0</td>\n",
              "      <td>NaN</td>\n",
              "      <td>41</td>\n",
              "      <td>среднее</td>\n",
              "      <td>1</td>\n",
              "      <td>женат / замужем</td>\n",
              "      <td>0</td>\n",
              "      <td>M</td>\n",
              "      <td>госслужащий</td>\n",
              "      <td>0</td>\n",
              "      <td>NaN</td>\n",
              "      <td>образование</td>\n",
              "    </tr>\n",
              "    <tr>\n",
              "      <th>29</th>\n",
              "      <td>0</td>\n",
              "      <td>NaN</td>\n",
              "      <td>63</td>\n",
              "      <td>среднее</td>\n",
              "      <td>1</td>\n",
              "      <td>Не женат / не замужем</td>\n",
              "      <td>4</td>\n",
              "      <td>F</td>\n",
              "      <td>пенсионер</td>\n",
              "      <td>0</td>\n",
              "      <td>NaN</td>\n",
              "      <td>строительство жилой недвижимости</td>\n",
              "    </tr>\n",
              "    <tr>\n",
              "      <th>41</th>\n",
              "      <td>0</td>\n",
              "      <td>NaN</td>\n",
              "      <td>50</td>\n",
              "      <td>среднее</td>\n",
              "      <td>1</td>\n",
              "      <td>женат / замужем</td>\n",
              "      <td>0</td>\n",
              "      <td>F</td>\n",
              "      <td>госслужащий</td>\n",
              "      <td>0</td>\n",
              "      <td>NaN</td>\n",
              "      <td>сделка с подержанным автомобилем</td>\n",
              "    </tr>\n",
              "    <tr>\n",
              "      <th>55</th>\n",
              "      <td>0</td>\n",
              "      <td>NaN</td>\n",
              "      <td>54</td>\n",
              "      <td>среднее</td>\n",
              "      <td>1</td>\n",
              "      <td>гражданский брак</td>\n",
              "      <td>1</td>\n",
              "      <td>F</td>\n",
              "      <td>пенсионер</td>\n",
              "      <td>1</td>\n",
              "      <td>NaN</td>\n",
              "      <td>сыграть свадьбу</td>\n",
              "    </tr>\n",
              "  </tbody>\n",
              "</table>\n",
              "</div>\n",
              "      <button class=\"colab-df-convert\" onclick=\"convertToInteractive('df-5324ab28-7a7e-4f94-b9dc-e1282153fa70')\"\n",
              "              title=\"Convert this dataframe to an interactive table.\"\n",
              "              style=\"display:none;\">\n",
              "        \n",
              "  <svg xmlns=\"http://www.w3.org/2000/svg\" height=\"24px\"viewBox=\"0 0 24 24\"\n",
              "       width=\"24px\">\n",
              "    <path d=\"M0 0h24v24H0V0z\" fill=\"none\"/>\n",
              "    <path d=\"M18.56 5.44l.94 2.06.94-2.06 2.06-.94-2.06-.94-.94-2.06-.94 2.06-2.06.94zm-11 1L8.5 8.5l.94-2.06 2.06-.94-2.06-.94L8.5 2.5l-.94 2.06-2.06.94zm10 10l.94 2.06.94-2.06 2.06-.94-2.06-.94-.94-2.06-.94 2.06-2.06.94z\"/><path d=\"M17.41 7.96l-1.37-1.37c-.4-.4-.92-.59-1.43-.59-.52 0-1.04.2-1.43.59L10.3 9.45l-7.72 7.72c-.78.78-.78 2.05 0 2.83L4 21.41c.39.39.9.59 1.41.59.51 0 1.02-.2 1.41-.59l7.78-7.78 2.81-2.81c.8-.78.8-2.07 0-2.86zM5.41 20L4 18.59l7.72-7.72 1.47 1.35L5.41 20z\"/>\n",
              "  </svg>\n",
              "      </button>\n",
              "      \n",
              "  <style>\n",
              "    .colab-df-container {\n",
              "      display:flex;\n",
              "      flex-wrap:wrap;\n",
              "      gap: 12px;\n",
              "    }\n",
              "\n",
              "    .colab-df-convert {\n",
              "      background-color: #E8F0FE;\n",
              "      border: none;\n",
              "      border-radius: 50%;\n",
              "      cursor: pointer;\n",
              "      display: none;\n",
              "      fill: #1967D2;\n",
              "      height: 32px;\n",
              "      padding: 0 0 0 0;\n",
              "      width: 32px;\n",
              "    }\n",
              "\n",
              "    .colab-df-convert:hover {\n",
              "      background-color: #E2EBFA;\n",
              "      box-shadow: 0px 1px 2px rgba(60, 64, 67, 0.3), 0px 1px 3px 1px rgba(60, 64, 67, 0.15);\n",
              "      fill: #174EA6;\n",
              "    }\n",
              "\n",
              "    [theme=dark] .colab-df-convert {\n",
              "      background-color: #3B4455;\n",
              "      fill: #D2E3FC;\n",
              "    }\n",
              "\n",
              "    [theme=dark] .colab-df-convert:hover {\n",
              "      background-color: #434B5C;\n",
              "      box-shadow: 0px 1px 3px 1px rgba(0, 0, 0, 0.15);\n",
              "      filter: drop-shadow(0px 1px 2px rgba(0, 0, 0, 0.3));\n",
              "      fill: #FFFFFF;\n",
              "    }\n",
              "  </style>\n",
              "\n",
              "      <script>\n",
              "        const buttonEl =\n",
              "          document.querySelector('#df-5324ab28-7a7e-4f94-b9dc-e1282153fa70 button.colab-df-convert');\n",
              "        buttonEl.style.display =\n",
              "          google.colab.kernel.accessAllowed ? 'block' : 'none';\n",
              "\n",
              "        async function convertToInteractive(key) {\n",
              "          const element = document.querySelector('#df-5324ab28-7a7e-4f94-b9dc-e1282153fa70');\n",
              "          const dataTable =\n",
              "            await google.colab.kernel.invokeFunction('convertToInteractive',\n",
              "                                                     [key], {});\n",
              "          if (!dataTable) return;\n",
              "\n",
              "          const docLinkHtml = 'Like what you see? Visit the ' +\n",
              "            '<a target=\"_blank\" href=https://colab.research.google.com/notebooks/data_table.ipynb>data table notebook</a>'\n",
              "            + ' to learn more about interactive tables.';\n",
              "          element.innerHTML = '';\n",
              "          dataTable['output_type'] = 'display_data';\n",
              "          await google.colab.output.renderOutput(dataTable, element);\n",
              "          const docLink = document.createElement('div');\n",
              "          docLink.innerHTML = docLinkHtml;\n",
              "          element.appendChild(docLink);\n",
              "        }\n",
              "      </script>\n",
              "    </div>\n",
              "  </div>\n",
              "  "
            ]
          },
          "metadata": {}
        },
        {
          "output_type": "stream",
          "name": "stdout",
          "text": [
            "Количество пропусков:\n",
            "days_employed    2174\n",
            "total_income     2174\n",
            "dtype: int64\n"
          ]
        }
      ],
      "source": [
        "display(data[data['days_employed'].isna()].head())\n",
        "\n",
        "# И еще раз подсчитаем количество пропусков - теперь уже для двух столбцов - чтобы проверить, что данные пропущены в одних и тех же строках\n",
        "\n",
        "print(f'Количество пропусков:', data[['days_employed', 'total_income']].isna().sum(), sep='\\n')"
      ]
    },
    {
      "cell_type": "markdown",
      "id": "2b8e6c4d",
      "metadata": {
        "id": "2b8e6c4d"
      },
      "source": [
        "Пропуски в столбцах имеют вид `NaN`, т.е. пропущенных числовых значений. \n",
        "\n",
        "Данные в столбцах `days_employed` и `total_income` пропущены в одних и тех же строках."
      ]
    },
    {
      "cell_type": "markdown",
      "id": "59d1b8ed",
      "metadata": {
        "id": "59d1b8ed"
      },
      "source": [
        "Попробуем установить причину пропусков в данных. Для этого сгуппируем данные по столбцу `income_type`, посчитаем общее количество записей, количество пропусков и долю пропусков. "
      ]
    },
    {
      "cell_type": "code",
      "execution_count": 8,
      "id": "29d23528",
      "metadata": {
        "id": "29d23528"
      },
      "outputs": [],
      "source": [
        "# Посчитаем количество клиентов по типу дохода\n",
        "count_occupation = data.groupby('income_type')['income_type'].count().to_frame().rename(columns={'income_type': 'have_income'})\n",
        "\n",
        "# Посчитаем количество пропусков \n",
        "count_occupation['empty_income'] = data.groupby('income_type')['total_income'].apply(lambda x: x.isna().sum())\n",
        "\n",
        "#Посчитаем, какую долю составляют клиенты с пропусками в ячейках с доходом\n",
        "count_occupation['empty_part'] =  count_occupation['empty_income'] / count_occupation['have_income']"
      ]
    },
    {
      "cell_type": "code",
      "execution_count": 9,
      "id": "8cd629b3",
      "metadata": {
        "colab": {
          "base_uri": "https://localhost:8080/",
          "height": 331
        },
        "id": "8cd629b3",
        "outputId": "ef007df0-8711-46b0-a63f-bbd035314d78"
      },
      "outputs": [
        {
          "output_type": "execute_result",
          "data": {
            "text/plain": [
              "<pandas.io.formats.style.Styler at 0x7f83619a9650>"
            ],
            "text/html": [
              "<style type=\"text/css\">\n",
              "#T_54c03_row0_col0, #T_54c03_row0_col1, #T_54c03_row0_col2, #T_54c03_row1_col0, #T_54c03_row1_col1, #T_54c03_row1_col2, #T_54c03_row5_col0, #T_54c03_row5_col1, #T_54c03_row7_col0, #T_54c03_row7_col1, #T_54c03_row7_col2 {\n",
              "  background-color: #fcffa4;\n",
              "  color: #000000;\n",
              "}\n",
              "#T_54c03_row2_col0 {\n",
              "  background-color: #f9c72f;\n",
              "  color: #000000;\n",
              "}\n",
              "#T_54c03_row2_col1 {\n",
              "  background-color: #fac62d;\n",
              "  color: #000000;\n",
              "}\n",
              "#T_54c03_row2_col2, #T_54c03_row3_col2 {\n",
              "  background-color: #fca50a;\n",
              "  color: #000000;\n",
              "}\n",
              "#T_54c03_row3_col0, #T_54c03_row3_col1 {\n",
              "  background-color: #ca404a;\n",
              "  color: #f1f1f1;\n",
              "}\n",
              "#T_54c03_row4_col0 {\n",
              "  background-color: #eb6429;\n",
              "  color: #f1f1f1;\n",
              "}\n",
              "#T_54c03_row4_col1 {\n",
              "  background-color: #e45a31;\n",
              "  color: #f1f1f1;\n",
              "}\n",
              "#T_54c03_row4_col2 {\n",
              "  background-color: #fc9f07;\n",
              "  color: #000000;\n",
              "}\n",
              "#T_54c03_row5_col2, #T_54c03_row6_col0, #T_54c03_row6_col1 {\n",
              "  background-color: #000004;\n",
              "  color: #f1f1f1;\n",
              "}\n",
              "#T_54c03_row6_col2 {\n",
              "  background-color: #fca60c;\n",
              "  color: #000000;\n",
              "}\n",
              "</style>\n",
              "<table id=\"T_54c03_\" class=\"dataframe\">\n",
              "  <thead>\n",
              "    <tr>\n",
              "      <th class=\"blank level0\" >&nbsp;</th>\n",
              "      <th class=\"col_heading level0 col0\" >have_income</th>\n",
              "      <th class=\"col_heading level0 col1\" >empty_income</th>\n",
              "      <th class=\"col_heading level0 col2\" >empty_part</th>\n",
              "    </tr>\n",
              "    <tr>\n",
              "      <th class=\"index_name level0\" >income_type</th>\n",
              "      <th class=\"blank col0\" >&nbsp;</th>\n",
              "      <th class=\"blank col1\" >&nbsp;</th>\n",
              "      <th class=\"blank col2\" >&nbsp;</th>\n",
              "    </tr>\n",
              "  </thead>\n",
              "  <tbody>\n",
              "    <tr>\n",
              "      <th id=\"T_54c03_level0_row0\" class=\"row_heading level0 row0\" >безработный</th>\n",
              "      <td id=\"T_54c03_row0_col0\" class=\"data row0 col0\" >2</td>\n",
              "      <td id=\"T_54c03_row0_col1\" class=\"data row0 col1\" >0</td>\n",
              "      <td id=\"T_54c03_row0_col2\" class=\"data row0 col2\" >0.00%</td>\n",
              "    </tr>\n",
              "    <tr>\n",
              "      <th id=\"T_54c03_level0_row1\" class=\"row_heading level0 row1\" >в декрете</th>\n",
              "      <td id=\"T_54c03_row1_col0\" class=\"data row1 col0\" >1</td>\n",
              "      <td id=\"T_54c03_row1_col1\" class=\"data row1 col1\" >0</td>\n",
              "      <td id=\"T_54c03_row1_col2\" class=\"data row1 col2\" >0.00%</td>\n",
              "    </tr>\n",
              "    <tr>\n",
              "      <th id=\"T_54c03_level0_row2\" class=\"row_heading level0 row2\" >госслужащий</th>\n",
              "      <td id=\"T_54c03_row2_col0\" class=\"data row2 col0\" >1459</td>\n",
              "      <td id=\"T_54c03_row2_col1\" class=\"data row2 col1\" >147</td>\n",
              "      <td id=\"T_54c03_row2_col2\" class=\"data row2 col2\" >10.08%</td>\n",
              "    </tr>\n",
              "    <tr>\n",
              "      <th id=\"T_54c03_level0_row3\" class=\"row_heading level0 row3\" >компаньон</th>\n",
              "      <td id=\"T_54c03_row3_col0\" class=\"data row3 col0\" >5085</td>\n",
              "      <td id=\"T_54c03_row3_col1\" class=\"data row3 col1\" >508</td>\n",
              "      <td id=\"T_54c03_row3_col2\" class=\"data row3 col2\" >9.99%</td>\n",
              "    </tr>\n",
              "    <tr>\n",
              "      <th id=\"T_54c03_level0_row4\" class=\"row_heading level0 row4\" >пенсионер</th>\n",
              "      <td id=\"T_54c03_row4_col0\" class=\"data row4 col0\" >3856</td>\n",
              "      <td id=\"T_54c03_row4_col1\" class=\"data row4 col1\" >413</td>\n",
              "      <td id=\"T_54c03_row4_col2\" class=\"data row4 col2\" >10.71%</td>\n",
              "    </tr>\n",
              "    <tr>\n",
              "      <th id=\"T_54c03_level0_row5\" class=\"row_heading level0 row5\" >предприниматель</th>\n",
              "      <td id=\"T_54c03_row5_col0\" class=\"data row5 col0\" >2</td>\n",
              "      <td id=\"T_54c03_row5_col1\" class=\"data row5 col1\" >1</td>\n",
              "      <td id=\"T_54c03_row5_col2\" class=\"data row5 col2\" >50.00%</td>\n",
              "    </tr>\n",
              "    <tr>\n",
              "      <th id=\"T_54c03_level0_row6\" class=\"row_heading level0 row6\" >сотрудник</th>\n",
              "      <td id=\"T_54c03_row6_col0\" class=\"data row6 col0\" >11119</td>\n",
              "      <td id=\"T_54c03_row6_col1\" class=\"data row6 col1\" >1105</td>\n",
              "      <td id=\"T_54c03_row6_col2\" class=\"data row6 col2\" >9.94%</td>\n",
              "    </tr>\n",
              "    <tr>\n",
              "      <th id=\"T_54c03_level0_row7\" class=\"row_heading level0 row7\" >студент</th>\n",
              "      <td id=\"T_54c03_row7_col0\" class=\"data row7 col0\" >1</td>\n",
              "      <td id=\"T_54c03_row7_col1\" class=\"data row7 col1\" >0</td>\n",
              "      <td id=\"T_54c03_row7_col2\" class=\"data row7 col2\" >0.00%</td>\n",
              "    </tr>\n",
              "  </tbody>\n",
              "</table>\n"
            ]
          },
          "metadata": {},
          "execution_count": 9
        }
      ],
      "source": [
        "count_occupation.style.format({'empty_part': '{:.2%}'}).background_gradient(cmap='inferno_r', axis=0)"
      ]
    },
    {
      "cell_type": "markdown",
      "id": "d80db23d",
      "metadata": {
        "id": "d80db23d"
      },
      "source": [
        "Из полученной таблицы можно сделать вывод, что пропущенные значения встречаются независимо от типа дохода клиента и наличия дохода вообще. Вероятно, часть клиентов не сообщают информацию о своем доходе и трудовом стаже при получении кредита. Такие пропуски можно отнести к **неслучайным**.\n",
        "\n",
        "Прежде чем работать с данными дальше, нужно заполнить пропуски. \n",
        "\n",
        "Данные в столбцах `days_employed` и `total_income` относятся к вещественному типу, пропуски можно заполнить средним или медианным значением.\n",
        "\n",
        "Оценим разброс данных в каждом столбце. Для этого сравним среднее и медианное значения."
      ]
    },
    {
      "cell_type": "code",
      "execution_count": 10,
      "id": "c8215c3c",
      "metadata": {
        "scrolled": false,
        "colab": {
          "base_uri": "https://localhost:8080/",
          "height": 112
        },
        "id": "c8215c3c",
        "outputId": "9c153748-89d5-4919-94da-17775b328684"
      },
      "outputs": [
        {
          "output_type": "execute_result",
          "data": {
            "text/plain": [
              "        days_employed  total_income\n",
              "mean         63046.50     167422.30\n",
              "median       -1203.37     145017.94"
            ],
            "text/html": [
              "\n",
              "  <div id=\"df-76992ea0-cb2e-4fe4-adf2-a93585f84bea\">\n",
              "    <div class=\"colab-df-container\">\n",
              "      <div>\n",
              "<style scoped>\n",
              "    .dataframe tbody tr th:only-of-type {\n",
              "        vertical-align: middle;\n",
              "    }\n",
              "\n",
              "    .dataframe tbody tr th {\n",
              "        vertical-align: top;\n",
              "    }\n",
              "\n",
              "    .dataframe thead th {\n",
              "        text-align: right;\n",
              "    }\n",
              "</style>\n",
              "<table border=\"1\" class=\"dataframe\">\n",
              "  <thead>\n",
              "    <tr style=\"text-align: right;\">\n",
              "      <th></th>\n",
              "      <th>days_employed</th>\n",
              "      <th>total_income</th>\n",
              "    </tr>\n",
              "  </thead>\n",
              "  <tbody>\n",
              "    <tr>\n",
              "      <th>mean</th>\n",
              "      <td>63046.50</td>\n",
              "      <td>167422.30</td>\n",
              "    </tr>\n",
              "    <tr>\n",
              "      <th>median</th>\n",
              "      <td>-1203.37</td>\n",
              "      <td>145017.94</td>\n",
              "    </tr>\n",
              "  </tbody>\n",
              "</table>\n",
              "</div>\n",
              "      <button class=\"colab-df-convert\" onclick=\"convertToInteractive('df-76992ea0-cb2e-4fe4-adf2-a93585f84bea')\"\n",
              "              title=\"Convert this dataframe to an interactive table.\"\n",
              "              style=\"display:none;\">\n",
              "        \n",
              "  <svg xmlns=\"http://www.w3.org/2000/svg\" height=\"24px\"viewBox=\"0 0 24 24\"\n",
              "       width=\"24px\">\n",
              "    <path d=\"M0 0h24v24H0V0z\" fill=\"none\"/>\n",
              "    <path d=\"M18.56 5.44l.94 2.06.94-2.06 2.06-.94-2.06-.94-.94-2.06-.94 2.06-2.06.94zm-11 1L8.5 8.5l.94-2.06 2.06-.94-2.06-.94L8.5 2.5l-.94 2.06-2.06.94zm10 10l.94 2.06.94-2.06 2.06-.94-2.06-.94-.94-2.06-.94 2.06-2.06.94z\"/><path d=\"M17.41 7.96l-1.37-1.37c-.4-.4-.92-.59-1.43-.59-.52 0-1.04.2-1.43.59L10.3 9.45l-7.72 7.72c-.78.78-.78 2.05 0 2.83L4 21.41c.39.39.9.59 1.41.59.51 0 1.02-.2 1.41-.59l7.78-7.78 2.81-2.81c.8-.78.8-2.07 0-2.86zM5.41 20L4 18.59l7.72-7.72 1.47 1.35L5.41 20z\"/>\n",
              "  </svg>\n",
              "      </button>\n",
              "      \n",
              "  <style>\n",
              "    .colab-df-container {\n",
              "      display:flex;\n",
              "      flex-wrap:wrap;\n",
              "      gap: 12px;\n",
              "    }\n",
              "\n",
              "    .colab-df-convert {\n",
              "      background-color: #E8F0FE;\n",
              "      border: none;\n",
              "      border-radius: 50%;\n",
              "      cursor: pointer;\n",
              "      display: none;\n",
              "      fill: #1967D2;\n",
              "      height: 32px;\n",
              "      padding: 0 0 0 0;\n",
              "      width: 32px;\n",
              "    }\n",
              "\n",
              "    .colab-df-convert:hover {\n",
              "      background-color: #E2EBFA;\n",
              "      box-shadow: 0px 1px 2px rgba(60, 64, 67, 0.3), 0px 1px 3px 1px rgba(60, 64, 67, 0.15);\n",
              "      fill: #174EA6;\n",
              "    }\n",
              "\n",
              "    [theme=dark] .colab-df-convert {\n",
              "      background-color: #3B4455;\n",
              "      fill: #D2E3FC;\n",
              "    }\n",
              "\n",
              "    [theme=dark] .colab-df-convert:hover {\n",
              "      background-color: #434B5C;\n",
              "      box-shadow: 0px 1px 3px 1px rgba(0, 0, 0, 0.15);\n",
              "      filter: drop-shadow(0px 1px 2px rgba(0, 0, 0, 0.3));\n",
              "      fill: #FFFFFF;\n",
              "    }\n",
              "  </style>\n",
              "\n",
              "      <script>\n",
              "        const buttonEl =\n",
              "          document.querySelector('#df-76992ea0-cb2e-4fe4-adf2-a93585f84bea button.colab-df-convert');\n",
              "        buttonEl.style.display =\n",
              "          google.colab.kernel.accessAllowed ? 'block' : 'none';\n",
              "\n",
              "        async function convertToInteractive(key) {\n",
              "          const element = document.querySelector('#df-76992ea0-cb2e-4fe4-adf2-a93585f84bea');\n",
              "          const dataTable =\n",
              "            await google.colab.kernel.invokeFunction('convertToInteractive',\n",
              "                                                     [key], {});\n",
              "          if (!dataTable) return;\n",
              "\n",
              "          const docLinkHtml = 'Like what you see? Visit the ' +\n",
              "            '<a target=\"_blank\" href=https://colab.research.google.com/notebooks/data_table.ipynb>data table notebook</a>'\n",
              "            + ' to learn more about interactive tables.';\n",
              "          element.innerHTML = '';\n",
              "          dataTable['output_type'] = 'display_data';\n",
              "          await google.colab.output.renderOutput(dataTable, element);\n",
              "          const docLink = document.createElement('div');\n",
              "          docLink.innerHTML = docLinkHtml;\n",
              "          element.appendChild(docLink);\n",
              "        }\n",
              "      </script>\n",
              "    </div>\n",
              "  </div>\n",
              "  "
            ]
          },
          "metadata": {},
          "execution_count": 10
        }
      ],
      "source": [
        "data.agg({'days_employed': ['mean', 'median'],'total_income': ['mean', 'median']})"
      ]
    },
    {
      "cell_type": "markdown",
      "id": "0c947ef6",
      "metadata": {
        "id": "0c947ef6"
      },
      "source": [
        "Среднее и медианное значения отличаются. В этом случае лучше заполнять пропуски медианным значением, т.к. среднее значение может быть смещено из-за разброса в данных.\n",
        "\n",
        "Кроме того, мы видим, что медианное значение дней трудового стажа получилось отрицательным. \n",
        "В действительности количество дней не может быть отрицательной величиной и скорее всего, с данными в столбце что-то не так. Поэтому заполнение дней трудового стажа отрицательным значением не представляется правильным решением. \n",
        "\n",
        "Посчитаем, сколько таких значений в таблице."
      ]
    },
    {
      "cell_type": "code",
      "execution_count": 11,
      "id": "e7a92c3d",
      "metadata": {
        "colab": {
          "base_uri": "https://localhost:8080/"
        },
        "id": "e7a92c3d",
        "outputId": "c851307e-169a-446f-ebc0-924108fcef0e"
      },
      "outputs": [
        {
          "output_type": "execute_result",
          "data": {
            "text/plain": [
              "15906"
            ]
          },
          "metadata": {},
          "execution_count": 11
        }
      ],
      "source": [
        "data[data['days_employed'] < 0]['days_employed'].count()"
      ]
    },
    {
      "cell_type": "markdown",
      "id": "ab184b93",
      "metadata": {
        "id": "ab184b93"
      },
      "source": [
        "Больше половины значений в столбце days_employed - отрицательные.\n",
        "\n",
        "Заменим отрицательные значения на положительные. Посмотрим, как выглядит таблица."
      ]
    },
    {
      "cell_type": "code",
      "execution_count": 12,
      "id": "2eeb4d5d",
      "metadata": {
        "colab": {
          "base_uri": "https://localhost:8080/",
          "height": 206
        },
        "id": "2eeb4d5d",
        "outputId": "b97d0043-e8d3-45e6-b268-63ebbc80ff34"
      },
      "outputs": [
        {
          "output_type": "execute_result",
          "data": {
            "text/plain": [
              "   children  days_employed  dob_years education  education_id  \\\n",
              "0         1        8437.67         42    высшее             0   \n",
              "1         1        4024.80         36   среднее             1   \n",
              "2         0        5623.42         33   Среднее             1   \n",
              "3         3        4124.75         32   среднее             1   \n",
              "4         0      340266.07         53   среднее             1   \n",
              "\n",
              "      family_status  family_status_id gender income_type  debt  total_income  \\\n",
              "0   женат / замужем                 0      F   сотрудник     0     253875.64   \n",
              "1   женат / замужем                 0      F   сотрудник     0     112080.01   \n",
              "2   женат / замужем                 0      M   сотрудник     0     145885.95   \n",
              "3   женат / замужем                 0      M   сотрудник     0     267628.55   \n",
              "4  гражданский брак                 1      F   пенсионер     0     158616.08   \n",
              "\n",
              "                      purpose  \n",
              "0               покупка жилья  \n",
              "1     приобретение автомобиля  \n",
              "2               покупка жилья  \n",
              "3  дополнительное образование  \n",
              "4             сыграть свадьбу  "
            ],
            "text/html": [
              "\n",
              "  <div id=\"df-841a0c70-4ced-4b8c-9a06-c766ab997ac3\">\n",
              "    <div class=\"colab-df-container\">\n",
              "      <div>\n",
              "<style scoped>\n",
              "    .dataframe tbody tr th:only-of-type {\n",
              "        vertical-align: middle;\n",
              "    }\n",
              "\n",
              "    .dataframe tbody tr th {\n",
              "        vertical-align: top;\n",
              "    }\n",
              "\n",
              "    .dataframe thead th {\n",
              "        text-align: right;\n",
              "    }\n",
              "</style>\n",
              "<table border=\"1\" class=\"dataframe\">\n",
              "  <thead>\n",
              "    <tr style=\"text-align: right;\">\n",
              "      <th></th>\n",
              "      <th>children</th>\n",
              "      <th>days_employed</th>\n",
              "      <th>dob_years</th>\n",
              "      <th>education</th>\n",
              "      <th>education_id</th>\n",
              "      <th>family_status</th>\n",
              "      <th>family_status_id</th>\n",
              "      <th>gender</th>\n",
              "      <th>income_type</th>\n",
              "      <th>debt</th>\n",
              "      <th>total_income</th>\n",
              "      <th>purpose</th>\n",
              "    </tr>\n",
              "  </thead>\n",
              "  <tbody>\n",
              "    <tr>\n",
              "      <th>0</th>\n",
              "      <td>1</td>\n",
              "      <td>8437.67</td>\n",
              "      <td>42</td>\n",
              "      <td>высшее</td>\n",
              "      <td>0</td>\n",
              "      <td>женат / замужем</td>\n",
              "      <td>0</td>\n",
              "      <td>F</td>\n",
              "      <td>сотрудник</td>\n",
              "      <td>0</td>\n",
              "      <td>253875.64</td>\n",
              "      <td>покупка жилья</td>\n",
              "    </tr>\n",
              "    <tr>\n",
              "      <th>1</th>\n",
              "      <td>1</td>\n",
              "      <td>4024.80</td>\n",
              "      <td>36</td>\n",
              "      <td>среднее</td>\n",
              "      <td>1</td>\n",
              "      <td>женат / замужем</td>\n",
              "      <td>0</td>\n",
              "      <td>F</td>\n",
              "      <td>сотрудник</td>\n",
              "      <td>0</td>\n",
              "      <td>112080.01</td>\n",
              "      <td>приобретение автомобиля</td>\n",
              "    </tr>\n",
              "    <tr>\n",
              "      <th>2</th>\n",
              "      <td>0</td>\n",
              "      <td>5623.42</td>\n",
              "      <td>33</td>\n",
              "      <td>Среднее</td>\n",
              "      <td>1</td>\n",
              "      <td>женат / замужем</td>\n",
              "      <td>0</td>\n",
              "      <td>M</td>\n",
              "      <td>сотрудник</td>\n",
              "      <td>0</td>\n",
              "      <td>145885.95</td>\n",
              "      <td>покупка жилья</td>\n",
              "    </tr>\n",
              "    <tr>\n",
              "      <th>3</th>\n",
              "      <td>3</td>\n",
              "      <td>4124.75</td>\n",
              "      <td>32</td>\n",
              "      <td>среднее</td>\n",
              "      <td>1</td>\n",
              "      <td>женат / замужем</td>\n",
              "      <td>0</td>\n",
              "      <td>M</td>\n",
              "      <td>сотрудник</td>\n",
              "      <td>0</td>\n",
              "      <td>267628.55</td>\n",
              "      <td>дополнительное образование</td>\n",
              "    </tr>\n",
              "    <tr>\n",
              "      <th>4</th>\n",
              "      <td>0</td>\n",
              "      <td>340266.07</td>\n",
              "      <td>53</td>\n",
              "      <td>среднее</td>\n",
              "      <td>1</td>\n",
              "      <td>гражданский брак</td>\n",
              "      <td>1</td>\n",
              "      <td>F</td>\n",
              "      <td>пенсионер</td>\n",
              "      <td>0</td>\n",
              "      <td>158616.08</td>\n",
              "      <td>сыграть свадьбу</td>\n",
              "    </tr>\n",
              "  </tbody>\n",
              "</table>\n",
              "</div>\n",
              "      <button class=\"colab-df-convert\" onclick=\"convertToInteractive('df-841a0c70-4ced-4b8c-9a06-c766ab997ac3')\"\n",
              "              title=\"Convert this dataframe to an interactive table.\"\n",
              "              style=\"display:none;\">\n",
              "        \n",
              "  <svg xmlns=\"http://www.w3.org/2000/svg\" height=\"24px\"viewBox=\"0 0 24 24\"\n",
              "       width=\"24px\">\n",
              "    <path d=\"M0 0h24v24H0V0z\" fill=\"none\"/>\n",
              "    <path d=\"M18.56 5.44l.94 2.06.94-2.06 2.06-.94-2.06-.94-.94-2.06-.94 2.06-2.06.94zm-11 1L8.5 8.5l.94-2.06 2.06-.94-2.06-.94L8.5 2.5l-.94 2.06-2.06.94zm10 10l.94 2.06.94-2.06 2.06-.94-2.06-.94-.94-2.06-.94 2.06-2.06.94z\"/><path d=\"M17.41 7.96l-1.37-1.37c-.4-.4-.92-.59-1.43-.59-.52 0-1.04.2-1.43.59L10.3 9.45l-7.72 7.72c-.78.78-.78 2.05 0 2.83L4 21.41c.39.39.9.59 1.41.59.51 0 1.02-.2 1.41-.59l7.78-7.78 2.81-2.81c.8-.78.8-2.07 0-2.86zM5.41 20L4 18.59l7.72-7.72 1.47 1.35L5.41 20z\"/>\n",
              "  </svg>\n",
              "      </button>\n",
              "      \n",
              "  <style>\n",
              "    .colab-df-container {\n",
              "      display:flex;\n",
              "      flex-wrap:wrap;\n",
              "      gap: 12px;\n",
              "    }\n",
              "\n",
              "    .colab-df-convert {\n",
              "      background-color: #E8F0FE;\n",
              "      border: none;\n",
              "      border-radius: 50%;\n",
              "      cursor: pointer;\n",
              "      display: none;\n",
              "      fill: #1967D2;\n",
              "      height: 32px;\n",
              "      padding: 0 0 0 0;\n",
              "      width: 32px;\n",
              "    }\n",
              "\n",
              "    .colab-df-convert:hover {\n",
              "      background-color: #E2EBFA;\n",
              "      box-shadow: 0px 1px 2px rgba(60, 64, 67, 0.3), 0px 1px 3px 1px rgba(60, 64, 67, 0.15);\n",
              "      fill: #174EA6;\n",
              "    }\n",
              "\n",
              "    [theme=dark] .colab-df-convert {\n",
              "      background-color: #3B4455;\n",
              "      fill: #D2E3FC;\n",
              "    }\n",
              "\n",
              "    [theme=dark] .colab-df-convert:hover {\n",
              "      background-color: #434B5C;\n",
              "      box-shadow: 0px 1px 3px 1px rgba(0, 0, 0, 0.15);\n",
              "      filter: drop-shadow(0px 1px 2px rgba(0, 0, 0, 0.3));\n",
              "      fill: #FFFFFF;\n",
              "    }\n",
              "  </style>\n",
              "\n",
              "      <script>\n",
              "        const buttonEl =\n",
              "          document.querySelector('#df-841a0c70-4ced-4b8c-9a06-c766ab997ac3 button.colab-df-convert');\n",
              "        buttonEl.style.display =\n",
              "          google.colab.kernel.accessAllowed ? 'block' : 'none';\n",
              "\n",
              "        async function convertToInteractive(key) {\n",
              "          const element = document.querySelector('#df-841a0c70-4ced-4b8c-9a06-c766ab997ac3');\n",
              "          const dataTable =\n",
              "            await google.colab.kernel.invokeFunction('convertToInteractive',\n",
              "                                                     [key], {});\n",
              "          if (!dataTable) return;\n",
              "\n",
              "          const docLinkHtml = 'Like what you see? Visit the ' +\n",
              "            '<a target=\"_blank\" href=https://colab.research.google.com/notebooks/data_table.ipynb>data table notebook</a>'\n",
              "            + ' to learn more about interactive tables.';\n",
              "          element.innerHTML = '';\n",
              "          dataTable['output_type'] = 'display_data';\n",
              "          await google.colab.output.renderOutput(dataTable, element);\n",
              "          const docLink = document.createElement('div');\n",
              "          docLink.innerHTML = docLinkHtml;\n",
              "          element.appendChild(docLink);\n",
              "        }\n",
              "      </script>\n",
              "    </div>\n",
              "  </div>\n",
              "  "
            ]
          },
          "metadata": {},
          "execution_count": 12
        }
      ],
      "source": [
        "data['days_employed'] = abs(data['days_employed'])\n",
        "\n",
        "data.head()"
      ]
    },
    {
      "cell_type": "markdown",
      "id": "5f3606ec",
      "metadata": {
        "id": "5f3606ec"
      },
      "source": [
        "Некоторые значения выглядят неправдоподобно высокими. Попробуем перевести дни в года и посмотреть, какие значения встречаются чаще всего."
      ]
    },
    {
      "cell_type": "code",
      "execution_count": 13,
      "id": "a9530c8a",
      "metadata": {
        "colab": {
          "base_uri": "https://localhost:8080/"
        },
        "id": "a9530c8a",
        "outputId": "e3be4c7a-915f-4500-8275-9b5d3782a39a"
      },
      "outputs": [
        {
          "output_type": "execute_result",
          "data": {
            "text/plain": [
              "(-1.101, 220.2]    15906\n",
              "(880.8, 1101.0]     3445\n",
              "(220.2, 440.4]         0\n",
              "(440.4, 660.6]         0\n",
              "(660.6, 880.8]         0\n",
              "Name: days_employed, dtype: int64"
            ]
          },
          "metadata": {},
          "execution_count": 13
        }
      ],
      "source": [
        "#Чтобы не выводить все значения, разобьем данные на 5 корзин и посмотрим на значения по ним\n",
        "pd.cut(round(data['days_employed'] / 365), bins=5).value_counts()"
      ]
    },
    {
      "cell_type": "markdown",
      "id": "e3d6d932",
      "metadata": {
        "id": "e3d6d932"
      },
      "source": [
        "Результаты впечатляют: у банка есть 3445 клиентов со стажем от 880 до 1100 лет!\n",
        "\n",
        "Предположим, что аномально высокие значения могли появиться в результате ошибки. Например, вместо стажа в днях был указан стаж в часах. Проверим это предположение, разделив стаж в годах на 24 и посмотрим, какие значения получаются."
      ]
    },
    {
      "cell_type": "code",
      "execution_count": 14,
      "id": "c0e712ab",
      "metadata": {
        "colab": {
          "base_uri": "https://localhost:8080/"
        },
        "id": "c0e712ab",
        "outputId": "103742a5-e000-48f4-cfbd-351cf95608af"
      },
      "outputs": [
        {
          "output_type": "execute_result",
          "data": {
            "text/plain": [
              "0.00     13591\n",
              "1.00      2267\n",
              "39.00      429\n",
              "42.00      428\n",
              "45.00      425\n",
              "43.00      422\n",
              "40.00      414\n",
              "41.00      410\n",
              "38.00      397\n",
              "44.00      377\n",
              "46.00      143\n",
              "2.00        48\n",
              "Name: days_employed, dtype: int64"
            ]
          },
          "metadata": {},
          "execution_count": 14
        }
      ],
      "source": [
        "round((data['days_employed'] / 365 / 24)).value_counts()"
      ]
    },
    {
      "cell_type": "markdown",
      "id": "a3f45d25",
      "metadata": {
        "id": "a3f45d25"
      },
      "source": [
        "Теперь значения стажа не превышают 46 лет - такие значения выглядят правдоподобно. Посмотрим, как распределяется возраст клиентов с таким стажем."
      ]
    },
    {
      "cell_type": "code",
      "execution_count": 15,
      "id": "c49e5cc9",
      "metadata": {
        "colab": {
          "base_uri": "https://localhost:8080/",
          "height": 445
        },
        "id": "c49e5cc9",
        "outputId": "ea53bdad-b96b-44ac-f1a8-09d9ea69d17b"
      },
      "outputs": [
        {
          "output_type": "display_data",
          "data": {
            "text/plain": [
              "<Figure size 748.8x514.8 with 1 Axes>"
            ],
            "image/png": "[encoded data removed]"
          },
          "metadata": {
            "needs_background": "light"
          }
        }
      ],
      "source": [
        "# Выбираем значения возраста клиентов, у которых стаж больше 37 лет\n",
        "data[round(data['days_employed'] / 365 / 24) > 37]['dob_years'].hist(bins=7)\n",
        "plt.show()"
      ]
    },
    {
      "cell_type": "markdown",
      "id": "f36c3af2",
      "metadata": {
        "id": "f36c3af2"
      },
      "source": [
        "Как видим на гистограмме, основную массу клиентов со стажем более 37 лет составляют клиенты в возрасте 55 - 60 лет, что вполне правдоподбно. К сожалению, встречаются и клиенты, возраст которых меньше 37 лет, а стаж от 37 лет и больше. Посмотрим на долю таких клиентов."
      ]
    },
    {
      "cell_type": "code",
      "execution_count": 16,
      "id": "abd63548",
      "metadata": {
        "colab": {
          "base_uri": "https://localhost:8080/"
        },
        "id": "abd63548",
        "outputId": "77f4f6b7-8b42-45f4-9ceb-cfdc9b58fb82"
      },
      "outputs": [
        {
          "output_type": "stream",
          "name": "stdout",
          "text": [
            "Доля клиентов моложе 37 лет со стажем 37 и более лет составляет 7.1%.\n"
          ]
        }
      ],
      "source": [
        "# Число клиентов с возрастом 50 и менее лет делим на общее число клиентов со стажем 37+ лет\n",
        "abnormal_users = round((data[(round(data['days_employed'] / 365 / 24) > 37) & (data['dob_years'] <=50)]['dob_years'].value_counts().sum() \n",
        " / data[(round(data['days_employed'] / 365 / 24) > 37)]['dob_years'].value_counts().sum())*100, 1)\n",
        "\n",
        "print(f'Доля клиентов моложе 37 лет со стажем 37 и более лет составляет {abnormal_users}%.')"
      ]
    },
    {
      "cell_type": "markdown",
      "id": "3450023a",
      "metadata": {
        "id": "3450023a"
      },
      "source": [
        "Общая доля клиентов, у которых стаж более 37 лет и возраст 22 - 50 лет, составляет 7.1% от общего числа клиентов, у которых обнаружен аномально большой стаж. \n",
        "\n",
        "Мы не можем быть уверены в том, что аномально большие значения стажа - это значения стажа в часах. Представляется нецелесообразным дальнейшее изучение аномалии в данном столбце, потому что данные из столбца не потребуется для дальнейшего исследования. \n",
        "\n",
        "Поэтому будем считать, что аномальные значения стажа в днях - это значения стажа в часах. Переведем стаж в часах в стаж в днях и заменим значения в столбце со стажем. "
      ]
    },
    {
      "cell_type": "code",
      "execution_count": 17,
      "id": "5fecf5cc",
      "metadata": {
        "id": "5fecf5cc"
      },
      "outputs": [],
      "source": [
        "data.loc[data['days_employed'] / 365 / 24 > 37, 'days_employed'] = data['days_employed'] / 365 / 24"
      ]
    },
    {
      "cell_type": "code",
      "execution_count": 18,
      "id": "c29709e5",
      "metadata": {
        "colab": {
          "base_uri": "https://localhost:8080/",
          "height": 554
        },
        "id": "c29709e5",
        "outputId": "4118a1b9-8a9e-4922-d054-4d33e2bfb7b3"
      },
      "outputs": [
        {
          "output_type": "display_data",
          "data": {
            "text/plain": [
              "(-0.05, 10.0]    16445\n",
              "(10.0, 20.0]      2196\n",
              "(20.0, 30.0]       548\n",
              "(30.0, 40.0]       148\n",
              "(40.0, 50.0]        14\n",
              "Name: days_employed, dtype: int64"
            ]
          },
          "metadata": {}
        },
        {
          "output_type": "display_data",
          "data": {
            "text/plain": [
              "<Figure size 748.8x514.8 with 1 Axes>"
            ],
            "image/png": "[encoded data removed]"
          },
          "metadata": {
            "needs_background": "light"
          }
        }
      ],
      "source": [
        "# Проверим, как выглядят значения в столбце после замены стажа в часах на стаж в днях. Будем отображать стаж в годах, округленный до целых значений\n",
        "display(pd.cut(round(data['days_employed'] / 365), bins=5).value_counts())\n",
        "round(data['days_employed'] / 365).hist()\n",
        "plt.show()"
      ]
    },
    {
      "cell_type": "markdown",
      "id": "4a7e06a9",
      "metadata": {
        "id": "4a7e06a9"
      },
      "source": [
        "Мы избавились от аномально высоких значений стажа: теперь стаж не превышает 50 лет. С учетом того, что максимальный возраст клиентов 75 лет, такие значения стажа выглядят правдоподобными.\n",
        "\n",
        "Теперь мы можем заменить пропуски в столбцах `total_income` и `days_employed` медианным значением.\n",
        "Возьмем медианное значение, рассчитанное для группы клиентов: для столбца `total_income` заполним медианными значениями, сгруппированными по по типу занятости, а для столбца `days_employed` - медианными значениями, сгруппированными по возрасту клиентов."
      ]
    },
    {
      "cell_type": "code",
      "execution_count": 19,
      "id": "4fb84374",
      "metadata": {
        "colab": {
          "base_uri": "https://localhost:8080/"
        },
        "id": "4fb84374",
        "outputId": "0ca2b977-9c41-4f2b-b4b7-c8727c6d7089"
      },
      "outputs": [
        {
          "output_type": "execute_result",
          "data": {
            "text/plain": [
              "children            0\n",
              "days_employed       0\n",
              "dob_years           0\n",
              "education           0\n",
              "education_id        0\n",
              "family_status       0\n",
              "family_status_id    0\n",
              "gender              0\n",
              "income_type         0\n",
              "debt                0\n",
              "total_income        0\n",
              "purpose             0\n",
              "dtype: int64"
            ]
          },
          "metadata": {},
          "execution_count": 19
        }
      ],
      "source": [
        "data['total_income'] = data['total_income'].fillna(data.groupby('income_type')['total_income'].transform(\"median\"))\n",
        "data['days_employed'] = data['days_employed'].fillna(data.groupby('dob_years')['days_employed'].transform(\"median\"))\n",
        "\n",
        "# Считаем пропуски после заполнения медианными значениями\n",
        "data.isna().sum()"
      ]
    },
    {
      "cell_type": "markdown",
      "id": "d54607f2",
      "metadata": {
        "id": "d54607f2"
      },
      "source": [
        "Пропуски заполнены, переходим к поиску аномалий!"
      ]
    },
    {
      "cell_type": "markdown",
      "id": "87d6194e",
      "metadata": {
        "id": "87d6194e"
      },
      "source": [
        "### 2.2 Проверка данных на аномалии и исправления"
      ]
    },
    {
      "cell_type": "markdown",
      "id": "747bd0da",
      "metadata": {
        "id": "747bd0da"
      },
      "source": [
        "Аномалии в столбце `days_employed` мы изучили и обработали в предыдущем разделе исследования.\n",
        "\n",
        "Посмотрим, как распределены значения в остальных столбцах, и есть ли в них аномалии.\n",
        "Будем рассчитывать абсолютное значение признака и его долю в процентах."
      ]
    },
    {
      "cell_type": "code",
      "source": [
        "plt.figure(figsize=(25, 25))\n",
        "for i, col in enumerate(data.columns.to_list()):\n",
        "    try:\n",
        "        plt.subplot(5, 3, i + 1)\n",
        "        plt.title('Распределение значений в столбце ' + col)\n",
        "        data[col].hist()\n",
        "    except:\n",
        "        print('Проверьте значения аргументов df и row')"
      ],
      "metadata": {
        "colab": {
          "base_uri": "https://localhost:8080/",
          "height": 1000
        },
        "id": "9rDg8tqyZtGU",
        "outputId": "66e78d93-e514-4e3f-fcaf-690a68b31bfc"
      },
      "id": "9rDg8tqyZtGU",
      "execution_count": 20,
      "outputs": [
        {
          "output_type": "display_data",
          "data": {
            "text/plain": [
              "<Figure size 1800x1800 with 12 Axes>"
            ],
            "image/png": "[encoded data removed]"
          },
          "metadata": {
            "needs_background": "light"
          }
        }
      ]
    },
    {
      "cell_type": "code",
      "execution_count": 21,
      "id": "ccb0a671",
      "metadata": {
        "colab": {
          "base_uri": "https://localhost:8080/",
          "height": 1000
        },
        "id": "ccb0a671",
        "outputId": "9fce4b2c-b7c4-4a6f-de92-68eb21ff3f06"
      },
      "outputs": [
        {
          "output_type": "stream",
          "name": "stdout",
          "text": [
            "\u001b[1mРаспределение значений в столбце children\u001b[0m\n"
          ]
        },
        {
          "output_type": "display_data",
          "data": {
            "text/plain": [
              "<pandas.io.formats.style.Styler at 0x7f83613597d0>"
            ],
            "text/html": [
              "<style type=\"text/css\">\n",
              "#T_77672_row0_col1 {\n",
              "  background-color: #000004;\n",
              "  color: #f1f1f1;\n",
              "}\n",
              "#T_77672_row1_col1 {\n",
              "  background-color: #eb6628;\n",
              "  color: #f1f1f1;\n",
              "}\n",
              "#T_77672_row2_col1 {\n",
              "  background-color: #fac026;\n",
              "  color: #000000;\n",
              "}\n",
              "#T_77672_row3_col1 {\n",
              "  background-color: #f5f992;\n",
              "  color: #000000;\n",
              "}\n",
              "#T_77672_row4_col1 {\n",
              "  background-color: #fafda1;\n",
              "  color: #000000;\n",
              "}\n",
              "#T_77672_row5_col1, #T_77672_row6_col1, #T_77672_row7_col1 {\n",
              "  background-color: #fcffa4;\n",
              "  color: #000000;\n",
              "}\n",
              "</style>\n",
              "<table id=\"T_77672_\" class=\"dataframe\">\n",
              "  <thead>\n",
              "    <tr>\n",
              "      <th class=\"blank level0\" >&nbsp;</th>\n",
              "      <th class=\"col_heading level0 col0\" >total_count</th>\n",
              "      <th class=\"col_heading level0 col1\" >percentage</th>\n",
              "    </tr>\n",
              "  </thead>\n",
              "  <tbody>\n",
              "    <tr>\n",
              "      <th id=\"T_77672_level0_row0\" class=\"row_heading level0 row0\" >0</th>\n",
              "      <td id=\"T_77672_row0_col0\" class=\"data row0 col0\" >14149</td>\n",
              "      <td id=\"T_77672_row0_col1\" class=\"data row0 col1\" >65.7%</td>\n",
              "    </tr>\n",
              "    <tr>\n",
              "      <th id=\"T_77672_level0_row1\" class=\"row_heading level0 row1\" >1</th>\n",
              "      <td id=\"T_77672_row1_col0\" class=\"data row1 col0\" >4818</td>\n",
              "      <td id=\"T_77672_row1_col1\" class=\"data row1 col1\" >22.4%</td>\n",
              "    </tr>\n",
              "    <tr>\n",
              "      <th id=\"T_77672_level0_row2\" class=\"row_heading level0 row2\" >2</th>\n",
              "      <td id=\"T_77672_row2_col0\" class=\"data row2 col0\" >2055</td>\n",
              "      <td id=\"T_77672_row2_col1\" class=\"data row2 col1\" >9.5%</td>\n",
              "    </tr>\n",
              "    <tr>\n",
              "      <th id=\"T_77672_level0_row3\" class=\"row_heading level0 row3\" >3</th>\n",
              "      <td id=\"T_77672_row3_col0\" class=\"data row3 col0\" >330</td>\n",
              "      <td id=\"T_77672_row3_col1\" class=\"data row3 col1\" >1.5%</td>\n",
              "    </tr>\n",
              "    <tr>\n",
              "      <th id=\"T_77672_level0_row4\" class=\"row_heading level0 row4\" >20</th>\n",
              "      <td id=\"T_77672_row4_col0\" class=\"data row4 col0\" >76</td>\n",
              "      <td id=\"T_77672_row4_col1\" class=\"data row4 col1\" >0.4%</td>\n",
              "    </tr>\n",
              "    <tr>\n",
              "      <th id=\"T_77672_level0_row5\" class=\"row_heading level0 row5\" >-1</th>\n",
              "      <td id=\"T_77672_row5_col0\" class=\"data row5 col0\" >47</td>\n",
              "      <td id=\"T_77672_row5_col1\" class=\"data row5 col1\" >0.2%</td>\n",
              "    </tr>\n",
              "    <tr>\n",
              "      <th id=\"T_77672_level0_row6\" class=\"row_heading level0 row6\" >4</th>\n",
              "      <td id=\"T_77672_row6_col0\" class=\"data row6 col0\" >41</td>\n",
              "      <td id=\"T_77672_row6_col1\" class=\"data row6 col1\" >0.2%</td>\n",
              "    </tr>\n",
              "    <tr>\n",
              "      <th id=\"T_77672_level0_row7\" class=\"row_heading level0 row7\" >5</th>\n",
              "      <td id=\"T_77672_row7_col0\" class=\"data row7 col0\" >9</td>\n",
              "      <td id=\"T_77672_row7_col1\" class=\"data row7 col1\" >0.0%</td>\n",
              "    </tr>\n",
              "  </tbody>\n",
              "</table>\n"
            ]
          },
          "metadata": {}
        },
        {
          "output_type": "stream",
          "name": "stdout",
          "text": [
            "\u001b[1mРаспределение значений в столбце dob_years\u001b[0m\n"
          ]
        },
        {
          "output_type": "display_data",
          "data": {
            "text/plain": [
              "<pandas.io.formats.style.Styler at 0x7f83612e9750>"
            ],
            "text/html": [
              "<style type=\"text/css\">\n",
              "#T_f4f5f_row0_col1 {\n",
              "  background-color: #000004;\n",
              "  color: #f1f1f1;\n",
              "}\n",
              "#T_f4f5f_row1_col1 {\n",
              "  background-color: #010108;\n",
              "  color: #f1f1f1;\n",
              "}\n",
              "#T_f4f5f_row2_col1 {\n",
              "  background-color: #02010a;\n",
              "  color: #f1f1f1;\n",
              "}\n",
              "#T_f4f5f_row3_col1 {\n",
              "  background-color: #02020c;\n",
              "  color: #f1f1f1;\n",
              "}\n",
              "#T_f4f5f_row4_col1 {\n",
              "  background-color: #030210;\n",
              "  color: #f1f1f1;\n",
              "}\n",
              "#T_f4f5f_row5_col1 {\n",
              "  background-color: #040312;\n",
              "  color: #f1f1f1;\n",
              "}\n",
              "#T_f4f5f_row6_col1 {\n",
              "  background-color: #09061f;\n",
              "  color: #f1f1f1;\n",
              "}\n",
              "#T_f4f5f_row7_col1 {\n",
              "  background-color: #0d0829;\n",
              "  color: #f1f1f1;\n",
              "}\n",
              "#T_f4f5f_row8_col1 {\n",
              "  background-color: #140b34;\n",
              "  color: #f1f1f1;\n",
              "}\n",
              "#T_f4f5f_row9_col1 {\n",
              "  background-color: #160b39;\n",
              "  color: #f1f1f1;\n",
              "}\n",
              "#T_f4f5f_row10_col1, #T_f4f5f_row11_col1 {\n",
              "  background-color: #1c0c43;\n",
              "  color: #f1f1f1;\n",
              "}\n",
              "#T_f4f5f_row12_col1 {\n",
              "  background-color: #1f0c48;\n",
              "  color: #f1f1f1;\n",
              "}\n",
              "#T_f4f5f_row13_col1 {\n",
              "  background-color: #210c4a;\n",
              "  color: #f1f1f1;\n",
              "}\n",
              "#T_f4f5f_row14_col1 {\n",
              "  background-color: #230c4c;\n",
              "  color: #f1f1f1;\n",
              "}\n",
              "#T_f4f5f_row15_col1 {\n",
              "  background-color: #320a5e;\n",
              "  color: #f1f1f1;\n",
              "}\n",
              "#T_f4f5f_row16_col1 {\n",
              "  background-color: #340a5f;\n",
              "  color: #f1f1f1;\n",
              "}\n",
              "#T_f4f5f_row17_col1 {\n",
              "  background-color: #360961;\n",
              "  color: #f1f1f1;\n",
              "}\n",
              "#T_f4f5f_row18_col1 {\n",
              "  background-color: #380962;\n",
              "  color: #f1f1f1;\n",
              "}\n",
              "#T_f4f5f_row19_col1 {\n",
              "  background-color: #3b0964;\n",
              "  color: #f1f1f1;\n",
              "}\n",
              "#T_f4f5f_row20_col1 {\n",
              "  background-color: #3e0966;\n",
              "  color: #f1f1f1;\n",
              "}\n",
              "#T_f4f5f_row21_col1 {\n",
              "  background-color: #420a68;\n",
              "  color: #f1f1f1;\n",
              "}\n",
              "#T_f4f5f_row22_col1 {\n",
              "  background-color: #470b6a;\n",
              "  color: #f1f1f1;\n",
              "}\n",
              "#T_f4f5f_row23_col1 {\n",
              "  background-color: #490b6a;\n",
              "  color: #f1f1f1;\n",
              "}\n",
              "#T_f4f5f_row24_col1 {\n",
              "  background-color: #4a0c6b;\n",
              "  color: #f1f1f1;\n",
              "}\n",
              "#T_f4f5f_row25_col1 {\n",
              "  background-color: #4c0c6b;\n",
              "  color: #f1f1f1;\n",
              "}\n",
              "#T_f4f5f_row26_col1 {\n",
              "  background-color: #4f0d6c;\n",
              "  color: #f1f1f1;\n",
              "}\n",
              "#T_f4f5f_row27_col1 {\n",
              "  background-color: #57106e;\n",
              "  color: #f1f1f1;\n",
              "}\n",
              "#T_f4f5f_row28_col1, #T_f4f5f_row29_col1 {\n",
              "  background-color: #59106e;\n",
              "  color: #f1f1f1;\n",
              "}\n",
              "#T_f4f5f_row30_col1 {\n",
              "  background-color: #61136e;\n",
              "  color: #f1f1f1;\n",
              "}\n",
              "#T_f4f5f_row31_col1 {\n",
              "  background-color: #62146e;\n",
              "  color: #f1f1f1;\n",
              "}\n",
              "#T_f4f5f_row32_col1 {\n",
              "  background-color: #64156e;\n",
              "  color: #f1f1f1;\n",
              "}\n",
              "#T_f4f5f_row33_col1 {\n",
              "  background-color: #7a1d6d;\n",
              "  color: #f1f1f1;\n",
              "}\n",
              "#T_f4f5f_row34_col1 {\n",
              "  background-color: #8f2469;\n",
              "  color: #f1f1f1;\n",
              "}\n",
              "#T_f4f5f_row35_col1, #T_f4f5f_row36_col1 {\n",
              "  background-color: #9d2964;\n",
              "  color: #f1f1f1;\n",
              "}\n",
              "#T_f4f5f_row37_col1 {\n",
              "  background-color: #a02a63;\n",
              "  color: #f1f1f1;\n",
              "}\n",
              "#T_f4f5f_row38_col1 {\n",
              "  background-color: #d24644;\n",
              "  color: #f1f1f1;\n",
              "}\n",
              "#T_f4f5f_row39_col1, #T_f4f5f_row40_col1 {\n",
              "  background-color: #d44842;\n",
              "  color: #f1f1f1;\n",
              "}\n",
              "#T_f4f5f_row41_col1 {\n",
              "  background-color: #d94d3d;\n",
              "  color: #f1f1f1;\n",
              "}\n",
              "#T_f4f5f_row42_col1 {\n",
              "  background-color: #f1711f;\n",
              "  color: #f1f1f1;\n",
              "}\n",
              "#T_f4f5f_row43_col1, #T_f4f5f_row44_col1 {\n",
              "  background-color: #f47918;\n",
              "  color: #f1f1f1;\n",
              "}\n",
              "#T_f4f5f_row45_col1 {\n",
              "  background-color: #f8850f;\n",
              "  color: #f1f1f1;\n",
              "}\n",
              "#T_f4f5f_row46_col1 {\n",
              "  background-color: #fcb014;\n",
              "  color: #000000;\n",
              "}\n",
              "#T_f4f5f_row47_col1 {\n",
              "  background-color: #fbb81d;\n",
              "  color: #000000;\n",
              "}\n",
              "#T_f4f5f_row48_col1 {\n",
              "  background-color: #fbba1f;\n",
              "  color: #000000;\n",
              "}\n",
              "#T_f4f5f_row49_col1 {\n",
              "  background-color: #fac62d;\n",
              "  color: #000000;\n",
              "}\n",
              "#T_f4f5f_row50_col1 {\n",
              "  background-color: #f6d543;\n",
              "  color: #000000;\n",
              "}\n",
              "#T_f4f5f_row51_col1 {\n",
              "  background-color: #f5db4c;\n",
              "  color: #000000;\n",
              "}\n",
              "#T_f4f5f_row52_col1 {\n",
              "  background-color: #f4e156;\n",
              "  color: #000000;\n",
              "}\n",
              "#T_f4f5f_row53_col1 {\n",
              "  background-color: #f1ed71;\n",
              "  color: #000000;\n",
              "}\n",
              "#T_f4f5f_row54_col1 {\n",
              "  background-color: #f5f992;\n",
              "  color: #000000;\n",
              "}\n",
              "#T_f4f5f_row55_col1, #T_f4f5f_row56_col1 {\n",
              "  background-color: #f9fc9d;\n",
              "  color: #000000;\n",
              "}\n",
              "#T_f4f5f_row57_col1 {\n",
              "  background-color: #fcffa4;\n",
              "  color: #000000;\n",
              "}\n",
              "</style>\n",
              "<table id=\"T_f4f5f_\" class=\"dataframe\">\n",
              "  <thead>\n",
              "    <tr>\n",
              "      <th class=\"blank level0\" >&nbsp;</th>\n",
              "      <th class=\"col_heading level0 col0\" >total_count</th>\n",
              "      <th class=\"col_heading level0 col1\" >percentage</th>\n",
              "    </tr>\n",
              "  </thead>\n",
              "  <tbody>\n",
              "    <tr>\n",
              "      <th id=\"T_f4f5f_level0_row0\" class=\"row_heading level0 row0\" >35</th>\n",
              "      <td id=\"T_f4f5f_row0_col0\" class=\"data row0 col0\" >617</td>\n",
              "      <td id=\"T_f4f5f_row0_col1\" class=\"data row0 col1\" >2.9%</td>\n",
              "    </tr>\n",
              "    <tr>\n",
              "      <th id=\"T_f4f5f_level0_row1\" class=\"row_heading level0 row1\" >40</th>\n",
              "      <td id=\"T_f4f5f_row1_col0\" class=\"data row1 col0\" >609</td>\n",
              "      <td id=\"T_f4f5f_row1_col1\" class=\"data row1 col1\" >2.8%</td>\n",
              "    </tr>\n",
              "    <tr>\n",
              "      <th id=\"T_f4f5f_level0_row2\" class=\"row_heading level0 row2\" >41</th>\n",
              "      <td id=\"T_f4f5f_row2_col0\" class=\"data row2 col0\" >607</td>\n",
              "      <td id=\"T_f4f5f_row2_col1\" class=\"data row2 col1\" >2.8%</td>\n",
              "    </tr>\n",
              "    <tr>\n",
              "      <th id=\"T_f4f5f_level0_row3\" class=\"row_heading level0 row3\" >34</th>\n",
              "      <td id=\"T_f4f5f_row3_col0\" class=\"data row3 col0\" >603</td>\n",
              "      <td id=\"T_f4f5f_row3_col1\" class=\"data row3 col1\" >2.8%</td>\n",
              "    </tr>\n",
              "    <tr>\n",
              "      <th id=\"T_f4f5f_level0_row4\" class=\"row_heading level0 row4\" >38</th>\n",
              "      <td id=\"T_f4f5f_row4_col0\" class=\"data row4 col0\" >598</td>\n",
              "      <td id=\"T_f4f5f_row4_col1\" class=\"data row4 col1\" >2.8%</td>\n",
              "    </tr>\n",
              "    <tr>\n",
              "      <th id=\"T_f4f5f_level0_row5\" class=\"row_heading level0 row5\" >42</th>\n",
              "      <td id=\"T_f4f5f_row5_col0\" class=\"data row5 col0\" >597</td>\n",
              "      <td id=\"T_f4f5f_row5_col1\" class=\"data row5 col1\" >2.8%</td>\n",
              "    </tr>\n",
              "    <tr>\n",
              "      <th id=\"T_f4f5f_level0_row6\" class=\"row_heading level0 row6\" >33</th>\n",
              "      <td id=\"T_f4f5f_row6_col0\" class=\"data row6 col0\" >581</td>\n",
              "      <td id=\"T_f4f5f_row6_col1\" class=\"data row6 col1\" >2.7%</td>\n",
              "    </tr>\n",
              "    <tr>\n",
              "      <th id=\"T_f4f5f_level0_row7\" class=\"row_heading level0 row7\" >39</th>\n",
              "      <td id=\"T_f4f5f_row7_col0\" class=\"data row7 col0\" >573</td>\n",
              "      <td id=\"T_f4f5f_row7_col1\" class=\"data row7 col1\" >2.7%</td>\n",
              "    </tr>\n",
              "    <tr>\n",
              "      <th id=\"T_f4f5f_level0_row8\" class=\"row_heading level0 row8\" >31</th>\n",
              "      <td id=\"T_f4f5f_row8_col0\" class=\"data row8 col0\" >560</td>\n",
              "      <td id=\"T_f4f5f_row8_col1\" class=\"data row8 col1\" >2.6%</td>\n",
              "    </tr>\n",
              "    <tr>\n",
              "      <th id=\"T_f4f5f_level0_row9\" class=\"row_heading level0 row9\" >36</th>\n",
              "      <td id=\"T_f4f5f_row9_col0\" class=\"data row9 col0\" >555</td>\n",
              "      <td id=\"T_f4f5f_row9_col1\" class=\"data row9 col1\" >2.6%</td>\n",
              "    </tr>\n",
              "    <tr>\n",
              "      <th id=\"T_f4f5f_level0_row10\" class=\"row_heading level0 row10\" >44</th>\n",
              "      <td id=\"T_f4f5f_row10_col0\" class=\"data row10 col0\" >547</td>\n",
              "      <td id=\"T_f4f5f_row10_col1\" class=\"data row10 col1\" >2.5%</td>\n",
              "    </tr>\n",
              "    <tr>\n",
              "      <th id=\"T_f4f5f_level0_row11\" class=\"row_heading level0 row11\" >29</th>\n",
              "      <td id=\"T_f4f5f_row11_col0\" class=\"data row11 col0\" >545</td>\n",
              "      <td id=\"T_f4f5f_row11_col1\" class=\"data row11 col1\" >2.5%</td>\n",
              "    </tr>\n",
              "    <tr>\n",
              "      <th id=\"T_f4f5f_level0_row12\" class=\"row_heading level0 row12\" >30</th>\n",
              "      <td id=\"T_f4f5f_row12_col0\" class=\"data row12 col0\" >540</td>\n",
              "      <td id=\"T_f4f5f_row12_col1\" class=\"data row12 col1\" >2.5%</td>\n",
              "    </tr>\n",
              "    <tr>\n",
              "      <th id=\"T_f4f5f_level0_row13\" class=\"row_heading level0 row13\" >48</th>\n",
              "      <td id=\"T_f4f5f_row13_col0\" class=\"data row13 col0\" >538</td>\n",
              "      <td id=\"T_f4f5f_row13_col1\" class=\"data row13 col1\" >2.5%</td>\n",
              "    </tr>\n",
              "    <tr>\n",
              "      <th id=\"T_f4f5f_level0_row14\" class=\"row_heading level0 row14\" >37</th>\n",
              "      <td id=\"T_f4f5f_row14_col0\" class=\"data row14 col0\" >537</td>\n",
              "      <td id=\"T_f4f5f_row14_col1\" class=\"data row14 col1\" >2.5%</td>\n",
              "    </tr>\n",
              "    <tr>\n",
              "      <th id=\"T_f4f5f_level0_row15\" class=\"row_heading level0 row15\" >50</th>\n",
              "      <td id=\"T_f4f5f_row15_col0\" class=\"data row15 col0\" >514</td>\n",
              "      <td id=\"T_f4f5f_row15_col1\" class=\"data row15 col1\" >2.4%</td>\n",
              "    </tr>\n",
              "    <tr>\n",
              "      <th id=\"T_f4f5f_level0_row16\" class=\"row_heading level0 row16\" >43</th>\n",
              "      <td id=\"T_f4f5f_row16_col0\" class=\"data row16 col0\" >513</td>\n",
              "      <td id=\"T_f4f5f_row16_col1\" class=\"data row16 col1\" >2.4%</td>\n",
              "    </tr>\n",
              "    <tr>\n",
              "      <th id=\"T_f4f5f_level0_row17\" class=\"row_heading level0 row17\" >32</th>\n",
              "      <td id=\"T_f4f5f_row17_col0\" class=\"data row17 col0\" >510</td>\n",
              "      <td id=\"T_f4f5f_row17_col1\" class=\"data row17 col1\" >2.4%</td>\n",
              "    </tr>\n",
              "    <tr>\n",
              "      <th id=\"T_f4f5f_level0_row18\" class=\"row_heading level0 row18\" >49</th>\n",
              "      <td id=\"T_f4f5f_row18_col0\" class=\"data row18 col0\" >508</td>\n",
              "      <td id=\"T_f4f5f_row18_col1\" class=\"data row18 col1\" >2.4%</td>\n",
              "    </tr>\n",
              "    <tr>\n",
              "      <th id=\"T_f4f5f_level0_row19\" class=\"row_heading level0 row19\" >28</th>\n",
              "      <td id=\"T_f4f5f_row19_col0\" class=\"data row19 col0\" >503</td>\n",
              "      <td id=\"T_f4f5f_row19_col1\" class=\"data row19 col1\" >2.3%</td>\n",
              "    </tr>\n",
              "    <tr>\n",
              "      <th id=\"T_f4f5f_level0_row20\" class=\"row_heading level0 row20\" >45</th>\n",
              "      <td id=\"T_f4f5f_row20_col0\" class=\"data row20 col0\" >497</td>\n",
              "      <td id=\"T_f4f5f_row20_col1\" class=\"data row20 col1\" >2.3%</td>\n",
              "    </tr>\n",
              "    <tr>\n",
              "      <th id=\"T_f4f5f_level0_row21\" class=\"row_heading level0 row21\" >27</th>\n",
              "      <td id=\"T_f4f5f_row21_col0\" class=\"data row21 col0\" >493</td>\n",
              "      <td id=\"T_f4f5f_row21_col1\" class=\"data row21 col1\" >2.3%</td>\n",
              "    </tr>\n",
              "    <tr>\n",
              "      <th id=\"T_f4f5f_level0_row22\" class=\"row_heading level0 row22\" >56</th>\n",
              "      <td id=\"T_f4f5f_row22_col0\" class=\"data row22 col0\" >487</td>\n",
              "      <td id=\"T_f4f5f_row22_col1\" class=\"data row22 col1\" >2.3%</td>\n",
              "    </tr>\n",
              "    <tr>\n",
              "      <th id=\"T_f4f5f_level0_row23\" class=\"row_heading level0 row23\" >52</th>\n",
              "      <td id=\"T_f4f5f_row23_col0\" class=\"data row23 col0\" >484</td>\n",
              "      <td id=\"T_f4f5f_row23_col1\" class=\"data row23 col1\" >2.2%</td>\n",
              "    </tr>\n",
              "    <tr>\n",
              "      <th id=\"T_f4f5f_level0_row24\" class=\"row_heading level0 row24\" >47</th>\n",
              "      <td id=\"T_f4f5f_row24_col0\" class=\"data row24 col0\" >480</td>\n",
              "      <td id=\"T_f4f5f_row24_col1\" class=\"data row24 col1\" >2.2%</td>\n",
              "    </tr>\n",
              "    <tr>\n",
              "      <th id=\"T_f4f5f_level0_row25\" class=\"row_heading level0 row25\" >54</th>\n",
              "      <td id=\"T_f4f5f_row25_col0\" class=\"data row25 col0\" >479</td>\n",
              "      <td id=\"T_f4f5f_row25_col1\" class=\"data row25 col1\" >2.2%</td>\n",
              "    </tr>\n",
              "    <tr>\n",
              "      <th id=\"T_f4f5f_level0_row26\" class=\"row_heading level0 row26\" >46</th>\n",
              "      <td id=\"T_f4f5f_row26_col0\" class=\"data row26 col0\" >475</td>\n",
              "      <td id=\"T_f4f5f_row26_col1\" class=\"data row26 col1\" >2.2%</td>\n",
              "    </tr>\n",
              "    <tr>\n",
              "      <th id=\"T_f4f5f_level0_row27\" class=\"row_heading level0 row27\" >58</th>\n",
              "      <td id=\"T_f4f5f_row27_col0\" class=\"data row27 col0\" >461</td>\n",
              "      <td id=\"T_f4f5f_row27_col1\" class=\"data row27 col1\" >2.1%</td>\n",
              "    </tr>\n",
              "    <tr>\n",
              "      <th id=\"T_f4f5f_level0_row28\" class=\"row_heading level0 row28\" >57</th>\n",
              "      <td id=\"T_f4f5f_row28_col0\" class=\"data row28 col0\" >460</td>\n",
              "      <td id=\"T_f4f5f_row28_col1\" class=\"data row28 col1\" >2.1%</td>\n",
              "    </tr>\n",
              "    <tr>\n",
              "      <th id=\"T_f4f5f_level0_row29\" class=\"row_heading level0 row29\" >53</th>\n",
              "      <td id=\"T_f4f5f_row29_col0\" class=\"data row29 col0\" >459</td>\n",
              "      <td id=\"T_f4f5f_row29_col1\" class=\"data row29 col1\" >2.1%</td>\n",
              "    </tr>\n",
              "    <tr>\n",
              "      <th id=\"T_f4f5f_level0_row30\" class=\"row_heading level0 row30\" >51</th>\n",
              "      <td id=\"T_f4f5f_row30_col0\" class=\"data row30 col0\" >448</td>\n",
              "      <td id=\"T_f4f5f_row30_col1\" class=\"data row30 col1\" >2.1%</td>\n",
              "    </tr>\n",
              "    <tr>\n",
              "      <th id=\"T_f4f5f_level0_row31\" class=\"row_heading level0 row31\" >59</th>\n",
              "      <td id=\"T_f4f5f_row31_col0\" class=\"data row31 col0\" >444</td>\n",
              "      <td id=\"T_f4f5f_row31_col1\" class=\"data row31 col1\" >2.1%</td>\n",
              "    </tr>\n",
              "    <tr>\n",
              "      <th id=\"T_f4f5f_level0_row32\" class=\"row_heading level0 row32\" >55</th>\n",
              "      <td id=\"T_f4f5f_row32_col0\" class=\"data row32 col0\" >443</td>\n",
              "      <td id=\"T_f4f5f_row32_col1\" class=\"data row32 col1\" >2.1%</td>\n",
              "    </tr>\n",
              "    <tr>\n",
              "      <th id=\"T_f4f5f_level0_row33\" class=\"row_heading level0 row33\" >26</th>\n",
              "      <td id=\"T_f4f5f_row33_col0\" class=\"data row33 col0\" >408</td>\n",
              "      <td id=\"T_f4f5f_row33_col1\" class=\"data row33 col1\" >1.9%</td>\n",
              "    </tr>\n",
              "    <tr>\n",
              "      <th id=\"T_f4f5f_level0_row34\" class=\"row_heading level0 row34\" >60</th>\n",
              "      <td id=\"T_f4f5f_row34_col0\" class=\"data row34 col0\" >377</td>\n",
              "      <td id=\"T_f4f5f_row34_col1\" class=\"data row34 col1\" >1.8%</td>\n",
              "    </tr>\n",
              "    <tr>\n",
              "      <th id=\"T_f4f5f_level0_row35\" class=\"row_heading level0 row35\" >25</th>\n",
              "      <td id=\"T_f4f5f_row35_col0\" class=\"data row35 col0\" >357</td>\n",
              "      <td id=\"T_f4f5f_row35_col1\" class=\"data row35 col1\" >1.7%</td>\n",
              "    </tr>\n",
              "    <tr>\n",
              "      <th id=\"T_f4f5f_level0_row36\" class=\"row_heading level0 row36\" >61</th>\n",
              "      <td id=\"T_f4f5f_row36_col0\" class=\"data row36 col0\" >355</td>\n",
              "      <td id=\"T_f4f5f_row36_col1\" class=\"data row36 col1\" >1.6%</td>\n",
              "    </tr>\n",
              "    <tr>\n",
              "      <th id=\"T_f4f5f_level0_row37\" class=\"row_heading level0 row37\" >62</th>\n",
              "      <td id=\"T_f4f5f_row37_col0\" class=\"data row37 col0\" >352</td>\n",
              "      <td id=\"T_f4f5f_row37_col1\" class=\"data row37 col1\" >1.6%</td>\n",
              "    </tr>\n",
              "    <tr>\n",
              "      <th id=\"T_f4f5f_level0_row38\" class=\"row_heading level0 row38\" >63</th>\n",
              "      <td id=\"T_f4f5f_row38_col0\" class=\"data row38 col0\" >269</td>\n",
              "      <td id=\"T_f4f5f_row38_col1\" class=\"data row38 col1\" >1.2%</td>\n",
              "    </tr>\n",
              "    <tr>\n",
              "      <th id=\"T_f4f5f_level0_row39\" class=\"row_heading level0 row39\" >64</th>\n",
              "      <td id=\"T_f4f5f_row39_col0\" class=\"data row39 col0\" >265</td>\n",
              "      <td id=\"T_f4f5f_row39_col1\" class=\"data row39 col1\" >1.2%</td>\n",
              "    </tr>\n",
              "    <tr>\n",
              "      <th id=\"T_f4f5f_level0_row40\" class=\"row_heading level0 row40\" >24</th>\n",
              "      <td id=\"T_f4f5f_row40_col0\" class=\"data row40 col0\" >264</td>\n",
              "      <td id=\"T_f4f5f_row40_col1\" class=\"data row40 col1\" >1.2%</td>\n",
              "    </tr>\n",
              "    <tr>\n",
              "      <th id=\"T_f4f5f_level0_row41\" class=\"row_heading level0 row41\" >23</th>\n",
              "      <td id=\"T_f4f5f_row41_col0\" class=\"data row41 col0\" >254</td>\n",
              "      <td id=\"T_f4f5f_row41_col1\" class=\"data row41 col1\" >1.2%</td>\n",
              "    </tr>\n",
              "    <tr>\n",
              "      <th id=\"T_f4f5f_level0_row42\" class=\"row_heading level0 row42\" >65</th>\n",
              "      <td id=\"T_f4f5f_row42_col0\" class=\"data row42 col0\" >194</td>\n",
              "      <td id=\"T_f4f5f_row42_col1\" class=\"data row42 col1\" >0.9%</td>\n",
              "    </tr>\n",
              "    <tr>\n",
              "      <th id=\"T_f4f5f_level0_row43\" class=\"row_heading level0 row43\" >22</th>\n",
              "      <td id=\"T_f4f5f_row43_col0\" class=\"data row43 col0\" >183</td>\n",
              "      <td id=\"T_f4f5f_row43_col1\" class=\"data row43 col1\" >0.9%</td>\n",
              "    </tr>\n",
              "    <tr>\n",
              "      <th id=\"T_f4f5f_level0_row44\" class=\"row_heading level0 row44\" >66</th>\n",
              "      <td id=\"T_f4f5f_row44_col0\" class=\"data row44 col0\" >183</td>\n",
              "      <td id=\"T_f4f5f_row44_col1\" class=\"data row44 col1\" >0.9%</td>\n",
              "    </tr>\n",
              "    <tr>\n",
              "      <th id=\"T_f4f5f_level0_row45\" class=\"row_heading level0 row45\" >67</th>\n",
              "      <td id=\"T_f4f5f_row45_col0\" class=\"data row45 col0\" >167</td>\n",
              "      <td id=\"T_f4f5f_row45_col1\" class=\"data row45 col1\" >0.8%</td>\n",
              "    </tr>\n",
              "    <tr>\n",
              "      <th id=\"T_f4f5f_level0_row46\" class=\"row_heading level0 row46\" >21</th>\n",
              "      <td id=\"T_f4f5f_row46_col0\" class=\"data row46 col0\" >111</td>\n",
              "      <td id=\"T_f4f5f_row46_col1\" class=\"data row46 col1\" >0.5%</td>\n",
              "    </tr>\n",
              "    <tr>\n",
              "      <th id=\"T_f4f5f_level0_row47\" class=\"row_heading level0 row47\" >0</th>\n",
              "      <td id=\"T_f4f5f_row47_col0\" class=\"data row47 col0\" >101</td>\n",
              "      <td id=\"T_f4f5f_row47_col1\" class=\"data row47 col1\" >0.5%</td>\n",
              "    </tr>\n",
              "    <tr>\n",
              "      <th id=\"T_f4f5f_level0_row48\" class=\"row_heading level0 row48\" >68</th>\n",
              "      <td id=\"T_f4f5f_row48_col0\" class=\"data row48 col0\" >99</td>\n",
              "      <td id=\"T_f4f5f_row48_col1\" class=\"data row48 col1\" >0.5%</td>\n",
              "    </tr>\n",
              "    <tr>\n",
              "      <th id=\"T_f4f5f_level0_row49\" class=\"row_heading level0 row49\" >69</th>\n",
              "      <td id=\"T_f4f5f_row49_col0\" class=\"data row49 col0\" >85</td>\n",
              "      <td id=\"T_f4f5f_row49_col1\" class=\"data row49 col1\" >0.4%</td>\n",
              "    </tr>\n",
              "    <tr>\n",
              "      <th id=\"T_f4f5f_level0_row50\" class=\"row_heading level0 row50\" >70</th>\n",
              "      <td id=\"T_f4f5f_row50_col0\" class=\"data row50 col0\" >65</td>\n",
              "      <td id=\"T_f4f5f_row50_col1\" class=\"data row50 col1\" >0.3%</td>\n",
              "    </tr>\n",
              "    <tr>\n",
              "      <th id=\"T_f4f5f_level0_row51\" class=\"row_heading level0 row51\" >71</th>\n",
              "      <td id=\"T_f4f5f_row51_col0\" class=\"data row51 col0\" >58</td>\n",
              "      <td id=\"T_f4f5f_row51_col1\" class=\"data row51 col1\" >0.3%</td>\n",
              "    </tr>\n",
              "    <tr>\n",
              "      <th id=\"T_f4f5f_level0_row52\" class=\"row_heading level0 row52\" >20</th>\n",
              "      <td id=\"T_f4f5f_row52_col0\" class=\"data row52 col0\" >51</td>\n",
              "      <td id=\"T_f4f5f_row52_col1\" class=\"data row52 col1\" >0.2%</td>\n",
              "    </tr>\n",
              "    <tr>\n",
              "      <th id=\"T_f4f5f_level0_row53\" class=\"row_heading level0 row53\" >72</th>\n",
              "      <td id=\"T_f4f5f_row53_col0\" class=\"data row53 col0\" >33</td>\n",
              "      <td id=\"T_f4f5f_row53_col1\" class=\"data row53 col1\" >0.2%</td>\n",
              "    </tr>\n",
              "    <tr>\n",
              "      <th id=\"T_f4f5f_level0_row54\" class=\"row_heading level0 row54\" >19</th>\n",
              "      <td id=\"T_f4f5f_row54_col0\" class=\"data row54 col0\" >14</td>\n",
              "      <td id=\"T_f4f5f_row54_col1\" class=\"data row54 col1\" >0.1%</td>\n",
              "    </tr>\n",
              "    <tr>\n",
              "      <th id=\"T_f4f5f_level0_row55\" class=\"row_heading level0 row55\" >73</th>\n",
              "      <td id=\"T_f4f5f_row55_col0\" class=\"data row55 col0\" >8</td>\n",
              "      <td id=\"T_f4f5f_row55_col1\" class=\"data row55 col1\" >0.0%</td>\n",
              "    </tr>\n",
              "    <tr>\n",
              "      <th id=\"T_f4f5f_level0_row56\" class=\"row_heading level0 row56\" >74</th>\n",
              "      <td id=\"T_f4f5f_row56_col0\" class=\"data row56 col0\" >6</td>\n",
              "      <td id=\"T_f4f5f_row56_col1\" class=\"data row56 col1\" >0.0%</td>\n",
              "    </tr>\n",
              "    <tr>\n",
              "      <th id=\"T_f4f5f_level0_row57\" class=\"row_heading level0 row57\" >75</th>\n",
              "      <td id=\"T_f4f5f_row57_col0\" class=\"data row57 col0\" >1</td>\n",
              "      <td id=\"T_f4f5f_row57_col1\" class=\"data row57 col1\" >0.0%</td>\n",
              "    </tr>\n",
              "  </tbody>\n",
              "</table>\n"
            ]
          },
          "metadata": {}
        },
        {
          "output_type": "stream",
          "name": "stdout",
          "text": [
            "\u001b[1mРаспределение значений в столбце education\u001b[0m\n"
          ]
        },
        {
          "output_type": "display_data",
          "data": {
            "text/plain": [
              "<pandas.io.formats.style.Styler at 0x7f8361126650>"
            ],
            "text/html": [
              "<style type=\"text/css\">\n",
              "#T_126c5_row0_col1 {\n",
              "  background-color: #000004;\n",
              "  color: #f1f1f1;\n",
              "}\n",
              "#T_126c5_row1_col1 {\n",
              "  background-color: #eb6628;\n",
              "  color: #f1f1f1;\n",
              "}\n",
              "#T_126c5_row2_col1 {\n",
              "  background-color: #f1ec6d;\n",
              "  color: #000000;\n",
              "}\n",
              "#T_126c5_row3_col1 {\n",
              "  background-color: #f1ed71;\n",
              "  color: #000000;\n",
              "}\n",
              "#T_126c5_row4_col1 {\n",
              "  background-color: #f1ef75;\n",
              "  color: #000000;\n",
              "}\n",
              "#T_126c5_row5_col1 {\n",
              "  background-color: #f5f992;\n",
              "  color: #000000;\n",
              "}\n",
              "#T_126c5_row6_col1, #T_126c5_row7_col1 {\n",
              "  background-color: #f6fa96;\n",
              "  color: #000000;\n",
              "}\n",
              "#T_126c5_row8_col1, #T_126c5_row9_col1, #T_126c5_row10_col1, #T_126c5_row11_col1, #T_126c5_row12_col1, #T_126c5_row13_col1, #T_126c5_row14_col1 {\n",
              "  background-color: #fcffa4;\n",
              "  color: #000000;\n",
              "}\n",
              "</style>\n",
              "<table id=\"T_126c5_\" class=\"dataframe\">\n",
              "  <thead>\n",
              "    <tr>\n",
              "      <th class=\"blank level0\" >&nbsp;</th>\n",
              "      <th class=\"col_heading level0 col0\" >total_count</th>\n",
              "      <th class=\"col_heading level0 col1\" >percentage</th>\n",
              "    </tr>\n",
              "  </thead>\n",
              "  <tbody>\n",
              "    <tr>\n",
              "      <th id=\"T_126c5_level0_row0\" class=\"row_heading level0 row0\" >среднее</th>\n",
              "      <td id=\"T_126c5_row0_col0\" class=\"data row0 col0\" >13750</td>\n",
              "      <td id=\"T_126c5_row0_col1\" class=\"data row0 col1\" >63.9%</td>\n",
              "    </tr>\n",
              "    <tr>\n",
              "      <th id=\"T_126c5_level0_row1\" class=\"row_heading level0 row1\" >высшее</th>\n",
              "      <td id=\"T_126c5_row1_col0\" class=\"data row1 col0\" >4718</td>\n",
              "      <td id=\"T_126c5_row1_col1\" class=\"data row1 col1\" >21.9%</td>\n",
              "    </tr>\n",
              "    <tr>\n",
              "      <th id=\"T_126c5_level0_row2\" class=\"row_heading level0 row2\" >СРЕДНЕЕ</th>\n",
              "      <td id=\"T_126c5_row2_col0\" class=\"data row2 col0\" >772</td>\n",
              "      <td id=\"T_126c5_row2_col1\" class=\"data row2 col1\" >3.6%</td>\n",
              "    </tr>\n",
              "    <tr>\n",
              "      <th id=\"T_126c5_level0_row3\" class=\"row_heading level0 row3\" >Среднее</th>\n",
              "      <td id=\"T_126c5_row3_col0\" class=\"data row3 col0\" >711</td>\n",
              "      <td id=\"T_126c5_row3_col1\" class=\"data row3 col1\" >3.3%</td>\n",
              "    </tr>\n",
              "    <tr>\n",
              "      <th id=\"T_126c5_level0_row4\" class=\"row_heading level0 row4\" >неоконченное высшее</th>\n",
              "      <td id=\"T_126c5_row4_col0\" class=\"data row4 col0\" >668</td>\n",
              "      <td id=\"T_126c5_row4_col1\" class=\"data row4 col1\" >3.1%</td>\n",
              "    </tr>\n",
              "    <tr>\n",
              "      <th id=\"T_126c5_level0_row5\" class=\"row_heading level0 row5\" >ВЫСШЕЕ</th>\n",
              "      <td id=\"T_126c5_row5_col0\" class=\"data row5 col0\" >274</td>\n",
              "      <td id=\"T_126c5_row5_col1\" class=\"data row5 col1\" >1.3%</td>\n",
              "    </tr>\n",
              "    <tr>\n",
              "      <th id=\"T_126c5_level0_row6\" class=\"row_heading level0 row6\" >Высшее</th>\n",
              "      <td id=\"T_126c5_row6_col0\" class=\"data row6 col0\" >268</td>\n",
              "      <td id=\"T_126c5_row6_col1\" class=\"data row6 col1\" >1.2%</td>\n",
              "    </tr>\n",
              "    <tr>\n",
              "      <th id=\"T_126c5_level0_row7\" class=\"row_heading level0 row7\" >начальное</th>\n",
              "      <td id=\"T_126c5_row7_col0\" class=\"data row7 col0\" >250</td>\n",
              "      <td id=\"T_126c5_row7_col1\" class=\"data row7 col1\" >1.2%</td>\n",
              "    </tr>\n",
              "    <tr>\n",
              "      <th id=\"T_126c5_level0_row8\" class=\"row_heading level0 row8\" >Неоконченное высшее</th>\n",
              "      <td id=\"T_126c5_row8_col0\" class=\"data row8 col0\" >47</td>\n",
              "      <td id=\"T_126c5_row8_col1\" class=\"data row8 col1\" >0.2%</td>\n",
              "    </tr>\n",
              "    <tr>\n",
              "      <th id=\"T_126c5_level0_row9\" class=\"row_heading level0 row9\" >НЕОКОНЧЕННОЕ ВЫСШЕЕ</th>\n",
              "      <td id=\"T_126c5_row9_col0\" class=\"data row9 col0\" >29</td>\n",
              "      <td id=\"T_126c5_row9_col1\" class=\"data row9 col1\" >0.1%</td>\n",
              "    </tr>\n",
              "    <tr>\n",
              "      <th id=\"T_126c5_level0_row10\" class=\"row_heading level0 row10\" >НАЧАЛЬНОЕ</th>\n",
              "      <td id=\"T_126c5_row10_col0\" class=\"data row10 col0\" >17</td>\n",
              "      <td id=\"T_126c5_row10_col1\" class=\"data row10 col1\" >0.1%</td>\n",
              "    </tr>\n",
              "    <tr>\n",
              "      <th id=\"T_126c5_level0_row11\" class=\"row_heading level0 row11\" >Начальное</th>\n",
              "      <td id=\"T_126c5_row11_col0\" class=\"data row11 col0\" >15</td>\n",
              "      <td id=\"T_126c5_row11_col1\" class=\"data row11 col1\" >0.1%</td>\n",
              "    </tr>\n",
              "    <tr>\n",
              "      <th id=\"T_126c5_level0_row12\" class=\"row_heading level0 row12\" >ученая степень</th>\n",
              "      <td id=\"T_126c5_row12_col0\" class=\"data row12 col0\" >4</td>\n",
              "      <td id=\"T_126c5_row12_col1\" class=\"data row12 col1\" >0.0%</td>\n",
              "    </tr>\n",
              "    <tr>\n",
              "      <th id=\"T_126c5_level0_row13\" class=\"row_heading level0 row13\" >Ученая степень</th>\n",
              "      <td id=\"T_126c5_row13_col0\" class=\"data row13 col0\" >1</td>\n",
              "      <td id=\"T_126c5_row13_col1\" class=\"data row13 col1\" >0.0%</td>\n",
              "    </tr>\n",
              "    <tr>\n",
              "      <th id=\"T_126c5_level0_row14\" class=\"row_heading level0 row14\" >УЧЕНАЯ СТЕПЕНЬ</th>\n",
              "      <td id=\"T_126c5_row14_col0\" class=\"data row14 col0\" >1</td>\n",
              "      <td id=\"T_126c5_row14_col1\" class=\"data row14 col1\" >0.0%</td>\n",
              "    </tr>\n",
              "  </tbody>\n",
              "</table>\n"
            ]
          },
          "metadata": {}
        },
        {
          "output_type": "stream",
          "name": "stdout",
          "text": [
            "\u001b[1mРаспределение значений в столбце education_id\u001b[0m\n"
          ]
        },
        {
          "output_type": "display_data",
          "data": {
            "text/plain": [
              "<pandas.io.formats.style.Styler at 0x7f8361038410>"
            ],
            "text/html": [
              "<style type=\"text/css\">\n",
              "#T_2f22b_row0_col1 {\n",
              "  background-color: #000004;\n",
              "  color: #f1f1f1;\n",
              "}\n",
              "#T_2f22b_row1_col1 {\n",
              "  background-color: #eb6429;\n",
              "  color: #f1f1f1;\n",
              "}\n",
              "#T_2f22b_row2_col1 {\n",
              "  background-color: #f1ef75;\n",
              "  color: #000000;\n",
              "}\n",
              "#T_2f22b_row3_col1 {\n",
              "  background-color: #f6fa96;\n",
              "  color: #000000;\n",
              "}\n",
              "#T_2f22b_row4_col1 {\n",
              "  background-color: #fcffa4;\n",
              "  color: #000000;\n",
              "}\n",
              "</style>\n",
              "<table id=\"T_2f22b_\" class=\"dataframe\">\n",
              "  <thead>\n",
              "    <tr>\n",
              "      <th class=\"blank level0\" >&nbsp;</th>\n",
              "      <th class=\"col_heading level0 col0\" >total_count</th>\n",
              "      <th class=\"col_heading level0 col1\" >percentage</th>\n",
              "    </tr>\n",
              "  </thead>\n",
              "  <tbody>\n",
              "    <tr>\n",
              "      <th id=\"T_2f22b_level0_row0\" class=\"row_heading level0 row0\" >1</th>\n",
              "      <td id=\"T_2f22b_row0_col0\" class=\"data row0 col0\" >15233</td>\n",
              "      <td id=\"T_2f22b_row0_col1\" class=\"data row0 col1\" >70.8%</td>\n",
              "    </tr>\n",
              "    <tr>\n",
              "      <th id=\"T_2f22b_level0_row1\" class=\"row_heading level0 row1\" >0</th>\n",
              "      <td id=\"T_2f22b_row1_col0\" class=\"data row1 col0\" >5260</td>\n",
              "      <td id=\"T_2f22b_row1_col1\" class=\"data row1 col1\" >24.4%</td>\n",
              "    </tr>\n",
              "    <tr>\n",
              "      <th id=\"T_2f22b_level0_row2\" class=\"row_heading level0 row2\" >2</th>\n",
              "      <td id=\"T_2f22b_row2_col0\" class=\"data row2 col0\" >744</td>\n",
              "      <td id=\"T_2f22b_row2_col1\" class=\"data row2 col1\" >3.5%</td>\n",
              "    </tr>\n",
              "    <tr>\n",
              "      <th id=\"T_2f22b_level0_row3\" class=\"row_heading level0 row3\" >3</th>\n",
              "      <td id=\"T_2f22b_row3_col0\" class=\"data row3 col0\" >282</td>\n",
              "      <td id=\"T_2f22b_row3_col1\" class=\"data row3 col1\" >1.3%</td>\n",
              "    </tr>\n",
              "    <tr>\n",
              "      <th id=\"T_2f22b_level0_row4\" class=\"row_heading level0 row4\" >4</th>\n",
              "      <td id=\"T_2f22b_row4_col0\" class=\"data row4 col0\" >6</td>\n",
              "      <td id=\"T_2f22b_row4_col1\" class=\"data row4 col1\" >0.0%</td>\n",
              "    </tr>\n",
              "  </tbody>\n",
              "</table>\n"
            ]
          },
          "metadata": {}
        },
        {
          "output_type": "stream",
          "name": "stdout",
          "text": [
            "\u001b[1mРаспределение значений в столбце family_status\u001b[0m\n"
          ]
        },
        {
          "output_type": "display_data",
          "data": {
            "text/plain": [
              "<pandas.io.formats.style.Styler at 0x7f83612f5850>"
            ],
            "text/html": [
              "<style type=\"text/css\">\n",
              "#T_9f156_row0_col1 {\n",
              "  background-color: #000004;\n",
              "  color: #f1f1f1;\n",
              "}\n",
              "#T_9f156_row1_col1 {\n",
              "  background-color: #f67e14;\n",
              "  color: #f1f1f1;\n",
              "}\n",
              "#T_9f156_row2_col1 {\n",
              "  background-color: #fbb81d;\n",
              "  color: #000000;\n",
              "}\n",
              "#T_9f156_row3_col1 {\n",
              "  background-color: #f5f992;\n",
              "  color: #000000;\n",
              "}\n",
              "#T_9f156_row4_col1 {\n",
              "  background-color: #fcffa4;\n",
              "  color: #000000;\n",
              "}\n",
              "</style>\n",
              "<table id=\"T_9f156_\" class=\"dataframe\">\n",
              "  <thead>\n",
              "    <tr>\n",
              "      <th class=\"blank level0\" >&nbsp;</th>\n",
              "      <th class=\"col_heading level0 col0\" >total_count</th>\n",
              "      <th class=\"col_heading level0 col1\" >percentage</th>\n",
              "    </tr>\n",
              "  </thead>\n",
              "  <tbody>\n",
              "    <tr>\n",
              "      <th id=\"T_9f156_level0_row0\" class=\"row_heading level0 row0\" >женат / замужем</th>\n",
              "      <td id=\"T_9f156_row0_col0\" class=\"data row0 col0\" >12380</td>\n",
              "      <td id=\"T_9f156_row0_col1\" class=\"data row0 col1\" >57.5%</td>\n",
              "    </tr>\n",
              "    <tr>\n",
              "      <th id=\"T_9f156_level0_row1\" class=\"row_heading level0 row1\" >гражданский брак</th>\n",
              "      <td id=\"T_9f156_row1_col0\" class=\"data row1 col0\" >4177</td>\n",
              "      <td id=\"T_9f156_row1_col1\" class=\"data row1 col1\" >19.4%</td>\n",
              "    </tr>\n",
              "    <tr>\n",
              "      <th id=\"T_9f156_level0_row2\" class=\"row_heading level0 row2\" >Не женат / не замужем</th>\n",
              "      <td id=\"T_9f156_row2_col0\" class=\"data row2 col0\" >2813</td>\n",
              "      <td id=\"T_9f156_row2_col1\" class=\"data row2 col1\" >13.1%</td>\n",
              "    </tr>\n",
              "    <tr>\n",
              "      <th id=\"T_9f156_level0_row3\" class=\"row_heading level0 row3\" >в разводе</th>\n",
              "      <td id=\"T_9f156_row3_col0\" class=\"data row3 col0\" >1195</td>\n",
              "      <td id=\"T_9f156_row3_col1\" class=\"data row3 col1\" >5.6%</td>\n",
              "    </tr>\n",
              "    <tr>\n",
              "      <th id=\"T_9f156_level0_row4\" class=\"row_heading level0 row4\" >вдовец / вдова</th>\n",
              "      <td id=\"T_9f156_row4_col0\" class=\"data row4 col0\" >960</td>\n",
              "      <td id=\"T_9f156_row4_col1\" class=\"data row4 col1\" >4.5%</td>\n",
              "    </tr>\n",
              "  </tbody>\n",
              "</table>\n"
            ]
          },
          "metadata": {}
        },
        {
          "output_type": "stream",
          "name": "stdout",
          "text": [
            "\u001b[1mРаспределение значений в столбце family_status_id\u001b[0m\n"
          ]
        },
        {
          "output_type": "display_data",
          "data": {
            "text/plain": [
              "<pandas.io.formats.style.Styler at 0x7f83612ff290>"
            ],
            "text/html": [
              "<style type=\"text/css\">\n",
              "#T_1f391_row0_col1 {\n",
              "  background-color: #000004;\n",
              "  color: #f1f1f1;\n",
              "}\n",
              "#T_1f391_row1_col1 {\n",
              "  background-color: #f67e14;\n",
              "  color: #f1f1f1;\n",
              "}\n",
              "#T_1f391_row2_col1 {\n",
              "  background-color: #fbb81d;\n",
              "  color: #000000;\n",
              "}\n",
              "#T_1f391_row3_col1 {\n",
              "  background-color: #f5f992;\n",
              "  color: #000000;\n",
              "}\n",
              "#T_1f391_row4_col1 {\n",
              "  background-color: #fcffa4;\n",
              "  color: #000000;\n",
              "}\n",
              "</style>\n",
              "<table id=\"T_1f391_\" class=\"dataframe\">\n",
              "  <thead>\n",
              "    <tr>\n",
              "      <th class=\"blank level0\" >&nbsp;</th>\n",
              "      <th class=\"col_heading level0 col0\" >total_count</th>\n",
              "      <th class=\"col_heading level0 col1\" >percentage</th>\n",
              "    </tr>\n",
              "  </thead>\n",
              "  <tbody>\n",
              "    <tr>\n",
              "      <th id=\"T_1f391_level0_row0\" class=\"row_heading level0 row0\" >0</th>\n",
              "      <td id=\"T_1f391_row0_col0\" class=\"data row0 col0\" >12380</td>\n",
              "      <td id=\"T_1f391_row0_col1\" class=\"data row0 col1\" >57.5%</td>\n",
              "    </tr>\n",
              "    <tr>\n",
              "      <th id=\"T_1f391_level0_row1\" class=\"row_heading level0 row1\" >1</th>\n",
              "      <td id=\"T_1f391_row1_col0\" class=\"data row1 col0\" >4177</td>\n",
              "      <td id=\"T_1f391_row1_col1\" class=\"data row1 col1\" >19.4%</td>\n",
              "    </tr>\n",
              "    <tr>\n",
              "      <th id=\"T_1f391_level0_row2\" class=\"row_heading level0 row2\" >4</th>\n",
              "      <td id=\"T_1f391_row2_col0\" class=\"data row2 col0\" >2813</td>\n",
              "      <td id=\"T_1f391_row2_col1\" class=\"data row2 col1\" >13.1%</td>\n",
              "    </tr>\n",
              "    <tr>\n",
              "      <th id=\"T_1f391_level0_row3\" class=\"row_heading level0 row3\" >3</th>\n",
              "      <td id=\"T_1f391_row3_col0\" class=\"data row3 col0\" >1195</td>\n",
              "      <td id=\"T_1f391_row3_col1\" class=\"data row3 col1\" >5.6%</td>\n",
              "    </tr>\n",
              "    <tr>\n",
              "      <th id=\"T_1f391_level0_row4\" class=\"row_heading level0 row4\" >2</th>\n",
              "      <td id=\"T_1f391_row4_col0\" class=\"data row4 col0\" >960</td>\n",
              "      <td id=\"T_1f391_row4_col1\" class=\"data row4 col1\" >4.5%</td>\n",
              "    </tr>\n",
              "  </tbody>\n",
              "</table>\n"
            ]
          },
          "metadata": {}
        },
        {
          "output_type": "stream",
          "name": "stdout",
          "text": [
            "\u001b[1mРаспределение значений в столбце gender\u001b[0m\n"
          ]
        },
        {
          "output_type": "display_data",
          "data": {
            "text/plain": [
              "<pandas.io.formats.style.Styler at 0x7f8360d45f50>"
            ],
            "text/html": [
              "<style type=\"text/css\">\n",
              "#T_23b39_row0_col1 {\n",
              "  background-color: #000004;\n",
              "  color: #f1f1f1;\n",
              "}\n",
              "#T_23b39_row1_col1 {\n",
              "  background-color: #b63458;\n",
              "  color: #f1f1f1;\n",
              "}\n",
              "#T_23b39_row2_col1 {\n",
              "  background-color: #fcffa4;\n",
              "  color: #000000;\n",
              "}\n",
              "</style>\n",
              "<table id=\"T_23b39_\" class=\"dataframe\">\n",
              "  <thead>\n",
              "    <tr>\n",
              "      <th class=\"blank level0\" >&nbsp;</th>\n",
              "      <th class=\"col_heading level0 col0\" >total_count</th>\n",
              "      <th class=\"col_heading level0 col1\" >percentage</th>\n",
              "    </tr>\n",
              "  </thead>\n",
              "  <tbody>\n",
              "    <tr>\n",
              "      <th id=\"T_23b39_level0_row0\" class=\"row_heading level0 row0\" >F</th>\n",
              "      <td id=\"T_23b39_row0_col0\" class=\"data row0 col0\" >14236</td>\n",
              "      <td id=\"T_23b39_row0_col1\" class=\"data row0 col1\" >66.1%</td>\n",
              "    </tr>\n",
              "    <tr>\n",
              "      <th id=\"T_23b39_level0_row1\" class=\"row_heading level0 row1\" >M</th>\n",
              "      <td id=\"T_23b39_row1_col0\" class=\"data row1 col0\" >7288</td>\n",
              "      <td id=\"T_23b39_row1_col1\" class=\"data row1 col1\" >33.9%</td>\n",
              "    </tr>\n",
              "    <tr>\n",
              "      <th id=\"T_23b39_level0_row2\" class=\"row_heading level0 row2\" >XNA</th>\n",
              "      <td id=\"T_23b39_row2_col0\" class=\"data row2 col0\" >1</td>\n",
              "      <td id=\"T_23b39_row2_col1\" class=\"data row2 col1\" >0.0%</td>\n",
              "    </tr>\n",
              "  </tbody>\n",
              "</table>\n"
            ]
          },
          "metadata": {}
        },
        {
          "output_type": "stream",
          "name": "stdout",
          "text": [
            "\u001b[1mРаспределение значений в столбце income_type\u001b[0m\n"
          ]
        },
        {
          "output_type": "display_data",
          "data": {
            "text/plain": [
              "<pandas.io.formats.style.Styler at 0x7f8360daef10>"
            ],
            "text/html": [
              "<style type=\"text/css\">\n",
              "#T_9d91a_row0_col1 {\n",
              "  background-color: #000004;\n",
              "  color: #f1f1f1;\n",
              "}\n",
              "#T_9d91a_row1_col1 {\n",
              "  background-color: #ca404a;\n",
              "  color: #f1f1f1;\n",
              "}\n",
              "#T_9d91a_row2_col1 {\n",
              "  background-color: #eb6429;\n",
              "  color: #f1f1f1;\n",
              "}\n",
              "#T_9d91a_row3_col1 {\n",
              "  background-color: #f9c72f;\n",
              "  color: #000000;\n",
              "}\n",
              "#T_9d91a_row4_col1, #T_9d91a_row5_col1, #T_9d91a_row6_col1, #T_9d91a_row7_col1 {\n",
              "  background-color: #fcffa4;\n",
              "  color: #000000;\n",
              "}\n",
              "</style>\n",
              "<table id=\"T_9d91a_\" class=\"dataframe\">\n",
              "  <thead>\n",
              "    <tr>\n",
              "      <th class=\"blank level0\" >&nbsp;</th>\n",
              "      <th class=\"col_heading level0 col0\" >total_count</th>\n",
              "      <th class=\"col_heading level0 col1\" >percentage</th>\n",
              "    </tr>\n",
              "  </thead>\n",
              "  <tbody>\n",
              "    <tr>\n",
              "      <th id=\"T_9d91a_level0_row0\" class=\"row_heading level0 row0\" >сотрудник</th>\n",
              "      <td id=\"T_9d91a_row0_col0\" class=\"data row0 col0\" >11119</td>\n",
              "      <td id=\"T_9d91a_row0_col1\" class=\"data row0 col1\" >51.7%</td>\n",
              "    </tr>\n",
              "    <tr>\n",
              "      <th id=\"T_9d91a_level0_row1\" class=\"row_heading level0 row1\" >компаньон</th>\n",
              "      <td id=\"T_9d91a_row1_col0\" class=\"data row1 col0\" >5085</td>\n",
              "      <td id=\"T_9d91a_row1_col1\" class=\"data row1 col1\" >23.6%</td>\n",
              "    </tr>\n",
              "    <tr>\n",
              "      <th id=\"T_9d91a_level0_row2\" class=\"row_heading level0 row2\" >пенсионер</th>\n",
              "      <td id=\"T_9d91a_row2_col0\" class=\"data row2 col0\" >3856</td>\n",
              "      <td id=\"T_9d91a_row2_col1\" class=\"data row2 col1\" >17.9%</td>\n",
              "    </tr>\n",
              "    <tr>\n",
              "      <th id=\"T_9d91a_level0_row3\" class=\"row_heading level0 row3\" >госслужащий</th>\n",
              "      <td id=\"T_9d91a_row3_col0\" class=\"data row3 col0\" >1459</td>\n",
              "      <td id=\"T_9d91a_row3_col1\" class=\"data row3 col1\" >6.8%</td>\n",
              "    </tr>\n",
              "    <tr>\n",
              "      <th id=\"T_9d91a_level0_row4\" class=\"row_heading level0 row4\" >безработный</th>\n",
              "      <td id=\"T_9d91a_row4_col0\" class=\"data row4 col0\" >2</td>\n",
              "      <td id=\"T_9d91a_row4_col1\" class=\"data row4 col1\" >0.0%</td>\n",
              "    </tr>\n",
              "    <tr>\n",
              "      <th id=\"T_9d91a_level0_row5\" class=\"row_heading level0 row5\" >предприниматель</th>\n",
              "      <td id=\"T_9d91a_row5_col0\" class=\"data row5 col0\" >2</td>\n",
              "      <td id=\"T_9d91a_row5_col1\" class=\"data row5 col1\" >0.0%</td>\n",
              "    </tr>\n",
              "    <tr>\n",
              "      <th id=\"T_9d91a_level0_row6\" class=\"row_heading level0 row6\" >студент</th>\n",
              "      <td id=\"T_9d91a_row6_col0\" class=\"data row6 col0\" >1</td>\n",
              "      <td id=\"T_9d91a_row6_col1\" class=\"data row6 col1\" >0.0%</td>\n",
              "    </tr>\n",
              "    <tr>\n",
              "      <th id=\"T_9d91a_level0_row7\" class=\"row_heading level0 row7\" >в декрете</th>\n",
              "      <td id=\"T_9d91a_row7_col0\" class=\"data row7 col0\" >1</td>\n",
              "      <td id=\"T_9d91a_row7_col1\" class=\"data row7 col1\" >0.0%</td>\n",
              "    </tr>\n",
              "  </tbody>\n",
              "</table>\n"
            ]
          },
          "metadata": {}
        },
        {
          "output_type": "stream",
          "name": "stdout",
          "text": [
            "\u001b[1mРаспределение значений в столбце debt\u001b[0m\n"
          ]
        },
        {
          "output_type": "display_data",
          "data": {
            "text/plain": [
              "<pandas.io.formats.style.Styler at 0x7f83619a8d90>"
            ],
            "text/html": [
              "<style type=\"text/css\">\n",
              "#T_8753b_row0_col1 {\n",
              "  background-color: #000004;\n",
              "  color: #f1f1f1;\n",
              "}\n",
              "#T_8753b_row1_col1 {\n",
              "  background-color: #fcffa4;\n",
              "  color: #000000;\n",
              "}\n",
              "</style>\n",
              "<table id=\"T_8753b_\" class=\"dataframe\">\n",
              "  <thead>\n",
              "    <tr>\n",
              "      <th class=\"blank level0\" >&nbsp;</th>\n",
              "      <th class=\"col_heading level0 col0\" >total_count</th>\n",
              "      <th class=\"col_heading level0 col1\" >percentage</th>\n",
              "    </tr>\n",
              "  </thead>\n",
              "  <tbody>\n",
              "    <tr>\n",
              "      <th id=\"T_8753b_level0_row0\" class=\"row_heading level0 row0\" >0</th>\n",
              "      <td id=\"T_8753b_row0_col0\" class=\"data row0 col0\" >19784</td>\n",
              "      <td id=\"T_8753b_row0_col1\" class=\"data row0 col1\" >91.9%</td>\n",
              "    </tr>\n",
              "    <tr>\n",
              "      <th id=\"T_8753b_level0_row1\" class=\"row_heading level0 row1\" >1</th>\n",
              "      <td id=\"T_8753b_row1_col0\" class=\"data row1 col0\" >1741</td>\n",
              "      <td id=\"T_8753b_row1_col1\" class=\"data row1 col1\" >8.1%</td>\n",
              "    </tr>\n",
              "  </tbody>\n",
              "</table>\n"
            ]
          },
          "metadata": {}
        },
        {
          "output_type": "stream",
          "name": "stdout",
          "text": [
            "\u001b[1mРаспределение значений в столбце purpose\u001b[0m\n"
          ]
        },
        {
          "output_type": "display_data",
          "data": {
            "text/plain": [
              "<pandas.io.formats.style.Styler at 0x7f83613597d0>"
            ],
            "text/html": [
              "<style type=\"text/css\">\n",
              "#T_d16fd_row0_col1 {\n",
              "  background-color: #000004;\n",
              "  color: #f1f1f1;\n",
              "}\n",
              "#T_d16fd_row1_col1 {\n",
              "  background-color: #08051d;\n",
              "  color: #f1f1f1;\n",
              "}\n",
              "#T_d16fd_row2_col1 {\n",
              "  background-color: #0a0722;\n",
              "  color: #f1f1f1;\n",
              "}\n",
              "#T_d16fd_row3_col1 {\n",
              "  background-color: #71196e;\n",
              "  color: #f1f1f1;\n",
              "}\n",
              "#T_d16fd_row4_col1 {\n",
              "  background-color: #7d1e6d;\n",
              "  color: #f1f1f1;\n",
              "}\n",
              "#T_d16fd_row5_col1, #T_d16fd_row6_col1 {\n",
              "  background-color: #88226a;\n",
              "  color: #f1f1f1;\n",
              "}\n",
              "#T_d16fd_row7_col1 {\n",
              "  background-color: #8c2369;\n",
              "  color: #f1f1f1;\n",
              "}\n",
              "#T_d16fd_row8_col1, #T_d16fd_row9_col1 {\n",
              "  background-color: #8f2469;\n",
              "  color: #f1f1f1;\n",
              "}\n",
              "#T_d16fd_row10_col1 {\n",
              "  background-color: #952667;\n",
              "  color: #f1f1f1;\n",
              "}\n",
              "#T_d16fd_row11_col1 {\n",
              "  background-color: #9b2964;\n",
              "  color: #f1f1f1;\n",
              "}\n",
              "#T_d16fd_row12_col1 {\n",
              "  background-color: #9d2964;\n",
              "  color: #f1f1f1;\n",
              "}\n",
              "#T_d16fd_row13_col1 {\n",
              "  background-color: #a22b62;\n",
              "  color: #f1f1f1;\n",
              "}\n",
              "#T_d16fd_row14_col1 {\n",
              "  background-color: #a52c60;\n",
              "  color: #f1f1f1;\n",
              "}\n",
              "#T_d16fd_row15_col1 {\n",
              "  background-color: #a82e5f;\n",
              "  color: #f1f1f1;\n",
              "}\n",
              "#T_d16fd_row16_col1, #T_d16fd_row17_col1 {\n",
              "  background-color: #ab2f5e;\n",
              "  color: #f1f1f1;\n",
              "}\n",
              "#T_d16fd_row18_col1 {\n",
              "  background-color: #b43359;\n",
              "  color: #f1f1f1;\n",
              "}\n",
              "#T_d16fd_row19_col1 {\n",
              "  background-color: #b93556;\n",
              "  color: #f1f1f1;\n",
              "}\n",
              "#T_d16fd_row20_col1 {\n",
              "  background-color: #fa9207;\n",
              "  color: #000000;\n",
              "}\n",
              "#T_d16fd_row21_col1, #T_d16fd_row22_col1 {\n",
              "  background-color: #fb9d07;\n",
              "  color: #000000;\n",
              "}\n",
              "#T_d16fd_row23_col1 {\n",
              "  background-color: #fca50a;\n",
              "  color: #000000;\n",
              "}\n",
              "#T_d16fd_row24_col1 {\n",
              "  background-color: #fcb014;\n",
              "  color: #000000;\n",
              "}\n",
              "#T_d16fd_row25_col1 {\n",
              "  background-color: #fcb216;\n",
              "  color: #000000;\n",
              "}\n",
              "#T_d16fd_row26_col1 {\n",
              "  background-color: #fcb418;\n",
              "  color: #000000;\n",
              "}\n",
              "#T_d16fd_row27_col1 {\n",
              "  background-color: #fbbc21;\n",
              "  color: #000000;\n",
              "}\n",
              "#T_d16fd_row28_col1, #T_d16fd_row29_col1 {\n",
              "  background-color: #f9c72f;\n",
              "  color: #000000;\n",
              "}\n",
              "#T_d16fd_row30_col1 {\n",
              "  background-color: #f7d13d;\n",
              "  color: #000000;\n",
              "}\n",
              "#T_d16fd_row31_col1 {\n",
              "  background-color: #f7d340;\n",
              "  color: #000000;\n",
              "}\n",
              "#T_d16fd_row32_col1, #T_d16fd_row33_col1 {\n",
              "  background-color: #f5db4c;\n",
              "  color: #000000;\n",
              "}\n",
              "#T_d16fd_row34_col1 {\n",
              "  background-color: #f4e156;\n",
              "  color: #000000;\n",
              "}\n",
              "#T_d16fd_row35_col1 {\n",
              "  background-color: #f2ea69;\n",
              "  color: #000000;\n",
              "}\n",
              "#T_d16fd_row36_col1 {\n",
              "  background-color: #f2f482;\n",
              "  color: #000000;\n",
              "}\n",
              "#T_d16fd_row37_col1 {\n",
              "  background-color: #fcffa4;\n",
              "  color: #000000;\n",
              "}\n",
              "</style>\n",
              "<table id=\"T_d16fd_\" class=\"dataframe\">\n",
              "  <thead>\n",
              "    <tr>\n",
              "      <th class=\"blank level0\" >&nbsp;</th>\n",
              "      <th class=\"col_heading level0 col0\" >total_count</th>\n",
              "      <th class=\"col_heading level0 col1\" >percentage</th>\n",
              "    </tr>\n",
              "  </thead>\n",
              "  <tbody>\n",
              "    <tr>\n",
              "      <th id=\"T_d16fd_level0_row0\" class=\"row_heading level0 row0\" >свадьба</th>\n",
              "      <td id=\"T_d16fd_row0_col0\" class=\"data row0 col0\" >797</td>\n",
              "      <td id=\"T_d16fd_row0_col1\" class=\"data row0 col1\" >3.7%</td>\n",
              "    </tr>\n",
              "    <tr>\n",
              "      <th id=\"T_d16fd_level0_row1\" class=\"row_heading level0 row1\" >на проведение свадьбы</th>\n",
              "      <td id=\"T_d16fd_row1_col0\" class=\"data row1 col0\" >777</td>\n",
              "      <td id=\"T_d16fd_row1_col1\" class=\"data row1 col1\" >3.6%</td>\n",
              "    </tr>\n",
              "    <tr>\n",
              "      <th id=\"T_d16fd_level0_row2\" class=\"row_heading level0 row2\" >сыграть свадьбу</th>\n",
              "      <td id=\"T_d16fd_row2_col0\" class=\"data row2 col0\" >774</td>\n",
              "      <td id=\"T_d16fd_row2_col1\" class=\"data row2 col1\" >3.6%</td>\n",
              "    </tr>\n",
              "    <tr>\n",
              "      <th id=\"T_d16fd_level0_row3\" class=\"row_heading level0 row3\" >операции с недвижимостью</th>\n",
              "      <td id=\"T_d16fd_row3_col0\" class=\"data row3 col0\" >676</td>\n",
              "      <td id=\"T_d16fd_row3_col1\" class=\"data row3 col1\" >3.1%</td>\n",
              "    </tr>\n",
              "    <tr>\n",
              "      <th id=\"T_d16fd_level0_row4\" class=\"row_heading level0 row4\" >покупка коммерческой недвижимости</th>\n",
              "      <td id=\"T_d16fd_row4_col0\" class=\"data row4 col0\" >664</td>\n",
              "      <td id=\"T_d16fd_row4_col1\" class=\"data row4 col1\" >3.1%</td>\n",
              "    </tr>\n",
              "    <tr>\n",
              "      <th id=\"T_d16fd_level0_row5\" class=\"row_heading level0 row5\" >покупка жилья для сдачи</th>\n",
              "      <td id=\"T_d16fd_row5_col0\" class=\"data row5 col0\" >653</td>\n",
              "      <td id=\"T_d16fd_row5_col1\" class=\"data row5 col1\" >3.0%</td>\n",
              "    </tr>\n",
              "    <tr>\n",
              "      <th id=\"T_d16fd_level0_row6\" class=\"row_heading level0 row6\" >операции с жильем</th>\n",
              "      <td id=\"T_d16fd_row6_col0\" class=\"data row6 col0\" >653</td>\n",
              "      <td id=\"T_d16fd_row6_col1\" class=\"data row6 col1\" >3.0%</td>\n",
              "    </tr>\n",
              "    <tr>\n",
              "      <th id=\"T_d16fd_level0_row7\" class=\"row_heading level0 row7\" >операции с коммерческой недвижимостью</th>\n",
              "      <td id=\"T_d16fd_row7_col0\" class=\"data row7 col0\" >651</td>\n",
              "      <td id=\"T_d16fd_row7_col1\" class=\"data row7 col1\" >3.0%</td>\n",
              "    </tr>\n",
              "    <tr>\n",
              "      <th id=\"T_d16fd_level0_row8\" class=\"row_heading level0 row8\" >покупка жилья</th>\n",
              "      <td id=\"T_d16fd_row8_col0\" class=\"data row8 col0\" >647</td>\n",
              "      <td id=\"T_d16fd_row8_col1\" class=\"data row8 col1\" >3.0%</td>\n",
              "    </tr>\n",
              "    <tr>\n",
              "      <th id=\"T_d16fd_level0_row9\" class=\"row_heading level0 row9\" >жилье</th>\n",
              "      <td id=\"T_d16fd_row9_col0\" class=\"data row9 col0\" >647</td>\n",
              "      <td id=\"T_d16fd_row9_col1\" class=\"data row9 col1\" >3.0%</td>\n",
              "    </tr>\n",
              "    <tr>\n",
              "      <th id=\"T_d16fd_level0_row10\" class=\"row_heading level0 row10\" >покупка жилья для семьи</th>\n",
              "      <td id=\"T_d16fd_row10_col0\" class=\"data row10 col0\" >641</td>\n",
              "      <td id=\"T_d16fd_row10_col1\" class=\"data row10 col1\" >3.0%</td>\n",
              "    </tr>\n",
              "    <tr>\n",
              "      <th id=\"T_d16fd_level0_row11\" class=\"row_heading level0 row11\" >строительство собственной недвижимости</th>\n",
              "      <td id=\"T_d16fd_row11_col0\" class=\"data row11 col0\" >635</td>\n",
              "      <td id=\"T_d16fd_row11_col1\" class=\"data row11 col1\" >3.0%</td>\n",
              "    </tr>\n",
              "    <tr>\n",
              "      <th id=\"T_d16fd_level0_row12\" class=\"row_heading level0 row12\" >недвижимость</th>\n",
              "      <td id=\"T_d16fd_row12_col0\" class=\"data row12 col0\" >634</td>\n",
              "      <td id=\"T_d16fd_row12_col1\" class=\"data row12 col1\" >2.9%</td>\n",
              "    </tr>\n",
              "    <tr>\n",
              "      <th id=\"T_d16fd_level0_row13\" class=\"row_heading level0 row13\" >операции со своей недвижимостью</th>\n",
              "      <td id=\"T_d16fd_row13_col0\" class=\"data row13 col0\" >630</td>\n",
              "      <td id=\"T_d16fd_row13_col1\" class=\"data row13 col1\" >2.9%</td>\n",
              "    </tr>\n",
              "    <tr>\n",
              "      <th id=\"T_d16fd_level0_row14\" class=\"row_heading level0 row14\" >строительство жилой недвижимости</th>\n",
              "      <td id=\"T_d16fd_row14_col0\" class=\"data row14 col0\" >626</td>\n",
              "      <td id=\"T_d16fd_row14_col1\" class=\"data row14 col1\" >2.9%</td>\n",
              "    </tr>\n",
              "    <tr>\n",
              "      <th id=\"T_d16fd_level0_row15\" class=\"row_heading level0 row15\" >покупка недвижимости</th>\n",
              "      <td id=\"T_d16fd_row15_col0\" class=\"data row15 col0\" >624</td>\n",
              "      <td id=\"T_d16fd_row15_col1\" class=\"data row15 col1\" >2.9%</td>\n",
              "    </tr>\n",
              "    <tr>\n",
              "      <th id=\"T_d16fd_level0_row16\" class=\"row_heading level0 row16\" >строительство недвижимости</th>\n",
              "      <td id=\"T_d16fd_row16_col0\" class=\"data row16 col0\" >620</td>\n",
              "      <td id=\"T_d16fd_row16_col1\" class=\"data row16 col1\" >2.9%</td>\n",
              "    </tr>\n",
              "    <tr>\n",
              "      <th id=\"T_d16fd_level0_row17\" class=\"row_heading level0 row17\" >покупка своего жилья</th>\n",
              "      <td id=\"T_d16fd_row17_col0\" class=\"data row17 col0\" >620</td>\n",
              "      <td id=\"T_d16fd_row17_col1\" class=\"data row17 col1\" >2.9%</td>\n",
              "    </tr>\n",
              "    <tr>\n",
              "      <th id=\"T_d16fd_level0_row18\" class=\"row_heading level0 row18\" >ремонт жилью</th>\n",
              "      <td id=\"T_d16fd_row18_col0\" class=\"data row18 col0\" >612</td>\n",
              "      <td id=\"T_d16fd_row18_col1\" class=\"data row18 col1\" >2.8%</td>\n",
              "    </tr>\n",
              "    <tr>\n",
              "      <th id=\"T_d16fd_level0_row19\" class=\"row_heading level0 row19\" >покупка жилой недвижимости</th>\n",
              "      <td id=\"T_d16fd_row19_col0\" class=\"data row19 col0\" >607</td>\n",
              "      <td id=\"T_d16fd_row19_col1\" class=\"data row19 col1\" >2.8%</td>\n",
              "    </tr>\n",
              "    <tr>\n",
              "      <th id=\"T_d16fd_level0_row20\" class=\"row_heading level0 row20\" >на покупку своего автомобиля</th>\n",
              "      <td id=\"T_d16fd_row20_col0\" class=\"data row20 col0\" >505</td>\n",
              "      <td id=\"T_d16fd_row20_col1\" class=\"data row20 col1\" >2.3%</td>\n",
              "    </tr>\n",
              "    <tr>\n",
              "      <th id=\"T_d16fd_level0_row21\" class=\"row_heading level0 row21\" >заняться высшим образованием</th>\n",
              "      <td id=\"T_d16fd_row21_col0\" class=\"data row21 col0\" >496</td>\n",
              "      <td id=\"T_d16fd_row21_col1\" class=\"data row21 col1\" >2.3%</td>\n",
              "    </tr>\n",
              "    <tr>\n",
              "      <th id=\"T_d16fd_level0_row22\" class=\"row_heading level0 row22\" >автомобиль</th>\n",
              "      <td id=\"T_d16fd_row22_col0\" class=\"data row22 col0\" >495</td>\n",
              "      <td id=\"T_d16fd_row22_col1\" class=\"data row22 col1\" >2.3%</td>\n",
              "    </tr>\n",
              "    <tr>\n",
              "      <th id=\"T_d16fd_level0_row23\" class=\"row_heading level0 row23\" >сделка с подержанным автомобилем</th>\n",
              "      <td id=\"T_d16fd_row23_col0\" class=\"data row23 col0\" >489</td>\n",
              "      <td id=\"T_d16fd_row23_col1\" class=\"data row23 col1\" >2.3%</td>\n",
              "    </tr>\n",
              "    <tr>\n",
              "      <th id=\"T_d16fd_level0_row24\" class=\"row_heading level0 row24\" >свой автомобиль</th>\n",
              "      <td id=\"T_d16fd_row24_col0\" class=\"data row24 col0\" >480</td>\n",
              "      <td id=\"T_d16fd_row24_col1\" class=\"data row24 col1\" >2.2%</td>\n",
              "    </tr>\n",
              "    <tr>\n",
              "      <th id=\"T_d16fd_level0_row25\" class=\"row_heading level0 row25\" >на покупку подержанного автомобиля</th>\n",
              "      <td id=\"T_d16fd_row25_col0\" class=\"data row25 col0\" >479</td>\n",
              "      <td id=\"T_d16fd_row25_col1\" class=\"data row25 col1\" >2.2%</td>\n",
              "    </tr>\n",
              "    <tr>\n",
              "      <th id=\"T_d16fd_level0_row26\" class=\"row_heading level0 row26\" >автомобили</th>\n",
              "      <td id=\"T_d16fd_row26_col0\" class=\"data row26 col0\" >478</td>\n",
              "      <td id=\"T_d16fd_row26_col1\" class=\"data row26 col1\" >2.2%</td>\n",
              "    </tr>\n",
              "    <tr>\n",
              "      <th id=\"T_d16fd_level0_row27\" class=\"row_heading level0 row27\" >на покупку автомобиля</th>\n",
              "      <td id=\"T_d16fd_row27_col0\" class=\"data row27 col0\" >472</td>\n",
              "      <td id=\"T_d16fd_row27_col1\" class=\"data row27 col1\" >2.2%</td>\n",
              "    </tr>\n",
              "    <tr>\n",
              "      <th id=\"T_d16fd_level0_row28\" class=\"row_heading level0 row28\" >дополнительное образование</th>\n",
              "      <td id=\"T_d16fd_row28_col0\" class=\"data row28 col0\" >462</td>\n",
              "      <td id=\"T_d16fd_row28_col1\" class=\"data row28 col1\" >2.1%</td>\n",
              "    </tr>\n",
              "    <tr>\n",
              "      <th id=\"T_d16fd_level0_row29\" class=\"row_heading level0 row29\" >приобретение автомобиля</th>\n",
              "      <td id=\"T_d16fd_row29_col0\" class=\"data row29 col0\" >462</td>\n",
              "      <td id=\"T_d16fd_row29_col1\" class=\"data row29 col1\" >2.1%</td>\n",
              "    </tr>\n",
              "    <tr>\n",
              "      <th id=\"T_d16fd_level0_row30\" class=\"row_heading level0 row30\" >сделка с автомобилем</th>\n",
              "      <td id=\"T_d16fd_row30_col0\" class=\"data row30 col0\" >455</td>\n",
              "      <td id=\"T_d16fd_row30_col1\" class=\"data row30 col1\" >2.1%</td>\n",
              "    </tr>\n",
              "    <tr>\n",
              "      <th id=\"T_d16fd_level0_row31\" class=\"row_heading level0 row31\" >высшее образование</th>\n",
              "      <td id=\"T_d16fd_row31_col0\" class=\"data row31 col0\" >453</td>\n",
              "      <td id=\"T_d16fd_row31_col1\" class=\"data row31 col1\" >2.1%</td>\n",
              "    </tr>\n",
              "    <tr>\n",
              "      <th id=\"T_d16fd_level0_row32\" class=\"row_heading level0 row32\" >образование</th>\n",
              "      <td id=\"T_d16fd_row32_col0\" class=\"data row32 col0\" >447</td>\n",
              "      <td id=\"T_d16fd_row32_col1\" class=\"data row32 col1\" >2.1%</td>\n",
              "    </tr>\n",
              "    <tr>\n",
              "      <th id=\"T_d16fd_level0_row33\" class=\"row_heading level0 row33\" >получение дополнительного образования</th>\n",
              "      <td id=\"T_d16fd_row33_col0\" class=\"data row33 col0\" >447</td>\n",
              "      <td id=\"T_d16fd_row33_col1\" class=\"data row33 col1\" >2.1%</td>\n",
              "    </tr>\n",
              "    <tr>\n",
              "      <th id=\"T_d16fd_level0_row34\" class=\"row_heading level0 row34\" >получение образования</th>\n",
              "      <td id=\"T_d16fd_row34_col0\" class=\"data row34 col0\" >443</td>\n",
              "      <td id=\"T_d16fd_row34_col1\" class=\"data row34 col1\" >2.1%</td>\n",
              "    </tr>\n",
              "    <tr>\n",
              "      <th id=\"T_d16fd_level0_row35\" class=\"row_heading level0 row35\" >профильное образование</th>\n",
              "      <td id=\"T_d16fd_row35_col0\" class=\"data row35 col0\" >436</td>\n",
              "      <td id=\"T_d16fd_row35_col1\" class=\"data row35 col1\" >2.0%</td>\n",
              "    </tr>\n",
              "    <tr>\n",
              "      <th id=\"T_d16fd_level0_row36\" class=\"row_heading level0 row36\" >получение высшего образования</th>\n",
              "      <td id=\"T_d16fd_row36_col0\" class=\"data row36 col0\" >426</td>\n",
              "      <td id=\"T_d16fd_row36_col1\" class=\"data row36 col1\" >2.0%</td>\n",
              "    </tr>\n",
              "    <tr>\n",
              "      <th id=\"T_d16fd_level0_row37\" class=\"row_heading level0 row37\" >заняться образованием</th>\n",
              "      <td id=\"T_d16fd_row37_col0\" class=\"data row37 col0\" >412</td>\n",
              "      <td id=\"T_d16fd_row37_col1\" class=\"data row37 col1\" >1.9%</td>\n",
              "    </tr>\n",
              "  </tbody>\n",
              "</table>\n"
            ]
          },
          "metadata": {}
        }
      ],
      "source": [
        "for col in ['children', 'dob_years', 'education', 'education_id',\n",
        "       'family_status', 'family_status_id', 'gender', 'income_type', 'debt', 'purpose']:\n",
        "    try:\n",
        "        print(f'\\033[1mРаспределение значений в столбце {col}\\033[0m')\n",
        "        display(pd.concat([data[col].value_counts(), data[col].value_counts(normalize=True)], \n",
        "                          axis=1, keys=['total_count', 'percentage']).style.format({'percentage': '{:.1%}'})\n",
        ".background_gradient(subset='percentage', cmap='inferno_r', axis=0))\n",
        "    except:\n",
        "        print('Проверьте значения аргументов df и row')"
      ]
    },
    {
      "cell_type": "code",
      "execution_count": 22,
      "id": "e3c03806",
      "metadata": {
        "colab": {
          "base_uri": "https://localhost:8080/"
        },
        "id": "e3c03806",
        "outputId": "0f48e7da-2908-4395-94af-811d33f9dda2"
      },
      "outputs": [
        {
          "output_type": "execute_result",
          "data": {
            "text/plain": [
              "(52.857, 63.429]    2419\n",
              "(63.429, 74.0]       978\n",
              "(42.286, 52.857]     369\n",
              "(31.714, 42.286]      61\n",
              "(-0.074, 10.571]      20\n",
              "(21.143, 31.714]       9\n",
              "(10.571, 21.143]       0\n",
              "Name: dob_years, dtype: int64"
            ]
          },
          "metadata": {},
          "execution_count": 22
        }
      ],
      "source": [
        "#Также посмотрим на распределение данных по возрасту и типу дохода \"пенсионер\", потому что этот статус подразумевает достижение определенного возраста\n",
        "pd.cut(data.query('income_type == \"пенсионер\"')['dob_years'], bins=7).value_counts()"
      ]
    },
    {
      "cell_type": "markdown",
      "id": "5433ac5a",
      "metadata": {
        "id": "5433ac5a"
      },
      "source": [
        "Мы выявили следующие аномалии в данных:\n",
        "\n",
        "- значения -1 и 20 в столбце `children`. Причем значение 20 встречается 76 раз, что значительно больше, чем значение 5. Здравый смысл говорит, что в наше время семьи с 20 детьми встречаются гораздо реже, чем семьи с 5 детьми;\n",
        "\n",
        "- значение 0 в столбце `dob_years` - встречается 101 раз;\n",
        "\n",
        "- значений в столбце `education` больше, чем в столбце `education_id`;\n",
        "\n",
        "- разное форматирование в столбце `family_status`: все значения записаны строчными буквами, значение \"Не женат / не замужем\" начинается с заглавной буквы;\n",
        "\n",
        "- значение XNA в столбце `gender` - встречается 1 раз;\n",
        "\n",
        "- несоответствие возраста в столбце `dob_years` и типа занятости в столбце `income_type`: 70 пенсионеров в возрасте 21 - 42 года.\n",
        "\n",
        "Прежде чем устранять аномалии, оценим, какие из них могут повлиять на результаты нашего исследования.\n",
        "\n",
        "В исследовании необходимо ответить на вопросы:\n",
        "\n",
        "Есть ли зависимость между количеством детей и возвратом кредита в срок?\n",
        "\n",
        "Есть ли зависимость между семейным положением и возвратом кредита в срок?\n",
        "\n",
        "Есть ли зависимость между уровнем дохода и возвратом кредита в срок?\n",
        "\n",
        "Как разные цели кредита влияют на его возврат в срок?\n",
        "\n",
        "Таким образом, из найденных аномалий только количество детей имеет значение для исследования. Поэтому эту аномалию необходимо устранить.\n",
        "\n",
        "Можно поступить по-разному:\n",
        "\n",
        "- удалить строки с аномальными значениями - они составляют меньше 1% от выборки;\n",
        "\n",
        "- заменить аномальные значения на другие, например, на медианное значение либо на моду - в данном случае оба значения равны 0;\n",
        "\n",
        "- исправить значения в соответствии со здравым смыслом.\n",
        "\n",
        "Поскольку доля ячеек со значениями 20 и -1 в столбце `children` составляет менее 1% значений от общего числа строк, удаление этих строк не сильно повлияет на результаты анализа. Поэтому удалим строки со значениями 20 и -1 в столбце `children`."
      ]
    },
    {
      "cell_type": "code",
      "execution_count": 23,
      "id": "cffab119",
      "metadata": {
        "scrolled": false,
        "colab": {
          "base_uri": "https://localhost:8080/"
        },
        "id": "cffab119",
        "outputId": "8c02e5ec-ffc9-4ec8-cd94-9baf7688ca00"
      },
      "outputs": [
        {
          "output_type": "execute_result",
          "data": {
            "text/plain": [
              "0    14149\n",
              "1     4818\n",
              "2     2055\n",
              "3      330\n",
              "4       41\n",
              "5        9\n",
              "Name: children, dtype: int64"
            ]
          },
          "metadata": {},
          "execution_count": 23
        }
      ],
      "source": [
        "# Удалим строки, в которых значения в столбце `children` равны 20 и -1\n",
        "data = data.drop(data[(data['children'] == 20) | (data['children'] == -1)].index)\n",
        "\n",
        "# Проверим значения в столбце 'children'\n",
        "data['children'].value_counts()"
      ]
    },
    {
      "cell_type": "markdown",
      "id": "e404ce0b",
      "metadata": {
        "id": "e404ce0b"
      },
      "source": [
        "Дубликаты в столбце `education` будут удалены на одном из следубщих шагов.\n",
        "\n",
        "Устраним ошибку с регистром в столбце `family_status`, т.к. этот столбец будет использоваться в следующем шаге."
      ]
    },
    {
      "cell_type": "code",
      "execution_count": 24,
      "id": "b3eb0e05",
      "metadata": {
        "scrolled": true,
        "colab": {
          "base_uri": "https://localhost:8080/"
        },
        "id": "b3eb0e05",
        "outputId": "c6cde98e-5c99-4266-9f86-21a32508decc"
      },
      "outputs": [
        {
          "output_type": "execute_result",
          "data": {
            "text/plain": [
              "женат / замужем          12302\n",
              "гражданский брак          4160\n",
              "не женат / не замужем     2799\n",
              "в разводе                 1189\n",
              "вдовец / вдова             952\n",
              "Name: family_status, dtype: int64"
            ]
          },
          "metadata": {},
          "execution_count": 24
        }
      ],
      "source": [
        "# Приведем значения в столбце к нижнему регистру\n",
        "data['family_status'] = data['family_status'].str.lower()\n",
        "\n",
        "# Посмотрим на значения в столбце\n",
        "data['family_status'].value_counts()"
      ]
    },
    {
      "cell_type": "markdown",
      "source": [
        "Удалим строку с неизвестным полом в столбце `gender`."
      ],
      "metadata": {
        "id": "0OVcVEYMbGoC"
      },
      "id": "0OVcVEYMbGoC"
    },
    {
      "cell_type": "code",
      "source": [
        "data.drop(data[(data['gender'] == 'XNA')].index, inplace=True)\n",
        "data['gender'].value_counts()"
      ],
      "metadata": {
        "colab": {
          "base_uri": "https://localhost:8080/"
        },
        "id": "8mgZo5A-ihkq",
        "outputId": "16f37875-89b8-4d50-82be-edee38a5ffea"
      },
      "id": "8mgZo5A-ihkq",
      "execution_count": 25,
      "outputs": [
        {
          "output_type": "execute_result",
          "data": {
            "text/plain": [
              "F    14154\n",
              "M     7247\n",
              "Name: gender, dtype: int64"
            ]
          },
          "metadata": {},
          "execution_count": 25
        }
      ]
    },
    {
      "cell_type": "markdown",
      "source": [
        "Удалим записи, где в столбце `dob_years` возраст клиента равен 0 лет."
      ],
      "metadata": {
        "id": "mfSnNVQZbSOg"
      },
      "id": "mfSnNVQZbSOg"
    },
    {
      "cell_type": "code",
      "source": [
        "data.drop(data[(data['dob_years'] == 0)].index, inplace=True)\n",
        "data[(data['dob_years'] == 0)]['dob_years'].count()"
      ],
      "metadata": {
        "colab": {
          "base_uri": "https://localhost:8080/"
        },
        "id": "mz66UvBCi61T",
        "outputId": "fc202392-d2ac-48af-bb88-acf72e7ec972"
      },
      "id": "mz66UvBCi61T",
      "execution_count": 26,
      "outputs": [
        {
          "output_type": "execute_result",
          "data": {
            "text/plain": [
              "0"
            ]
          },
          "metadata": {},
          "execution_count": 26
        }
      ]
    },
    {
      "cell_type": "markdown",
      "id": "fb13d918",
      "metadata": {
        "id": "fb13d918"
      },
      "source": [
        "Аномалии в других столбцах не влияют на результаты исследования, поэтому их устранять на данном этапе не будем."
      ]
    },
    {
      "cell_type": "markdown",
      "id": "fe6c41f8",
      "metadata": {
        "id": "fe6c41f8"
      },
      "source": [
        "### 2.3 Изменение типов данных"
      ]
    },
    {
      "cell_type": "markdown",
      "id": "126f10fe",
      "metadata": {
        "id": "126f10fe"
      },
      "source": [
        "Заменим вещественный тип данных в столбце `total_income` на целочисленный с помощью метода `astype()`. Также заменим типы данных в некоторых столбцах с int64 на int8."
      ]
    },
    {
      "cell_type": "code",
      "execution_count": 27,
      "id": "19e053dc",
      "metadata": {
        "scrolled": true,
        "colab": {
          "base_uri": "https://localhost:8080/"
        },
        "id": "19e053dc",
        "outputId": "ba5821bf-3d34-4ef2-e667-ae77d99e97d4"
      },
      "outputs": [
        {
          "output_type": "stream",
          "name": "stdout",
          "text": [
            "<class 'pandas.core.frame.DataFrame'>\n",
            "Int64Index: 21301 entries, 0 to 21524\n",
            "Data columns (total 12 columns):\n",
            " #   Column            Non-Null Count  Dtype  \n",
            "---  ------            --------------  -----  \n",
            " 0   children          21301 non-null  int8   \n",
            " 1   days_employed     21301 non-null  float64\n",
            " 2   dob_years         21301 non-null  int8   \n",
            " 3   education         21301 non-null  object \n",
            " 4   education_id      21301 non-null  int8   \n",
            " 5   family_status     21301 non-null  object \n",
            " 6   family_status_id  21301 non-null  int8   \n",
            " 7   gender            21301 non-null  object \n",
            " 8   income_type       21301 non-null  object \n",
            " 9   debt              21301 non-null  int8   \n",
            " 10  total_income      21301 non-null  int32  \n",
            " 11  purpose           21301 non-null  object \n",
            "dtypes: float64(1), int32(1), int8(5), object(5)\n",
            "memory usage: 1.3+ MB\n"
          ]
        }
      ],
      "source": [
        "data = data.astype({\n",
        "    'children': 'int8', \n",
        "    'dob_years': 'int8', \n",
        "    'education_id': 'int8', \n",
        "    'family_status_id': 'int8', \n",
        "    'debt': 'int8', \n",
        "    'total_income': 'int32'})\n",
        "\n",
        "# Проверим тип данных в таблице\n",
        "data.info()"
      ]
    },
    {
      "cell_type": "markdown",
      "id": "deee0830",
      "metadata": {
        "id": "deee0830"
      },
      "source": [
        "Типы данных изменены."
      ]
    },
    {
      "cell_type": "markdown",
      "id": "6a4b4e72",
      "metadata": {
        "id": "6a4b4e72"
      },
      "source": [
        "### 2.4 Удаление дубликатов"
      ]
    },
    {
      "cell_type": "markdown",
      "id": "2ce4996f",
      "metadata": {
        "id": "2ce4996f"
      },
      "source": [
        "Мы обнаружили дубликаты в столбце `education`, вызванные различным форматированием строк. Приведем все строки в столбце к нижнему регистру при помощи метода `str.lower()`."
      ]
    },
    {
      "cell_type": "code",
      "execution_count": 28,
      "id": "6541def8",
      "metadata": {
        "scrolled": true,
        "colab": {
          "base_uri": "https://localhost:8080/"
        },
        "id": "6541def8",
        "outputId": "9930fe61-d256-4fdd-fbb1-e79c442d2f6f"
      },
      "outputs": [
        {
          "output_type": "execute_result",
          "data": {
            "text/plain": [
              "среднее                15073\n",
              "высшее                  5202\n",
              "неоконченное высшее      738\n",
              "начальное                282\n",
              "ученая степень             6\n",
              "Name: education, dtype: int64"
            ]
          },
          "metadata": {},
          "execution_count": 28
        }
      ],
      "source": [
        "data['education'] = data['education'].str.lower()\n",
        "# Проверим столбец на дубликаты\n",
        "data['education'].value_counts()"
      ]
    },
    {
      "cell_type": "markdown",
      "id": "3c42335e",
      "metadata": {
        "id": "3c42335e"
      },
      "source": [
        "Проверим, остались ли еще дубликаты."
      ]
    },
    {
      "cell_type": "code",
      "execution_count": 29,
      "id": "55f7e3ff",
      "metadata": {
        "colab": {
          "base_uri": "https://localhost:8080/"
        },
        "id": "55f7e3ff",
        "outputId": "b40ea71c-790d-4b16-bac7-36fa7047a2da"
      },
      "outputs": [
        {
          "output_type": "execute_result",
          "data": {
            "text/plain": [
              "71"
            ]
          },
          "metadata": {},
          "execution_count": 29
        }
      ],
      "source": [
        "data.duplicated().sum()"
      ]
    },
    {
      "cell_type": "markdown",
      "id": "3d80690f",
      "metadata": {
        "id": "3d80690f"
      },
      "source": [
        "Удалим дубликаты и пересчитаем их количество."
      ]
    },
    {
      "cell_type": "code",
      "execution_count": 30,
      "id": "71e99191",
      "metadata": {
        "colab": {
          "base_uri": "https://localhost:8080/"
        },
        "id": "71e99191",
        "outputId": "abdce616-930a-4586-8940-af4e5821158b"
      },
      "outputs": [
        {
          "output_type": "execute_result",
          "data": {
            "text/plain": [
              "0"
            ]
          },
          "metadata": {},
          "execution_count": 30
        }
      ],
      "source": [
        "data = data.drop_duplicates().reset_index(drop=True)\n",
        "data.duplicated().sum()"
      ]
    },
    {
      "cell_type": "markdown",
      "id": "184efb96",
      "metadata": {
        "id": "184efb96"
      },
      "source": [
        "Дубликаты устранены."
      ]
    },
    {
      "cell_type": "code",
      "execution_count": 31,
      "id": "3e8f4745",
      "metadata": {
        "colab": {
          "base_uri": "https://localhost:8080/"
        },
        "id": "3e8f4745",
        "outputId": "e5d93fc7-c8ce-451c-c743-befb614ecfdf"
      },
      "outputs": [
        {
          "output_type": "execute_result",
          "data": {
            "text/plain": [
              "(21230, 12)"
            ]
          },
          "metadata": {},
          "execution_count": 31
        }
      ],
      "source": [
        "#Проверим информацию о текущем размере датафрейма\n",
        "data.shape"
      ]
    },
    {
      "cell_type": "markdown",
      "id": "559d77a6",
      "metadata": {
        "id": "559d77a6"
      },
      "source": [
        "### 2.5 Формирование дополнительных датафреймов словарей, декомпозиция исходного датафрейма"
      ]
    },
    {
      "cell_type": "markdown",
      "id": "c2a2a722",
      "metadata": {
        "id": "c2a2a722"
      },
      "source": [
        "Создадим два новых датафрейма со столбцами:\n",
        "1. `education_id` и `education`;\n",
        "2. `family_status_id` и `family_status`."
      ]
    },
    {
      "cell_type": "code",
      "execution_count": 32,
      "id": "60b723bb",
      "metadata": {
        "id": "60b723bb"
      },
      "outputs": [],
      "source": [
        "# Создаем новые датафреймы\n",
        "education_dict = data[['education_id','education']]\n",
        "family_dict = data[['family_status_id','family_status']]\n",
        "\n",
        "# Удалим дубликаты и сбросим индексы\n",
        "education_dict = education_dict.drop_duplicates().reset_index(drop=True)\n",
        "family_dict = family_dict.drop_duplicates().reset_index(drop=True)"
      ]
    },
    {
      "cell_type": "code",
      "execution_count": 33,
      "id": "b0878ef3",
      "metadata": {
        "scrolled": true,
        "colab": {
          "base_uri": "https://localhost:8080/",
          "height": 395
        },
        "id": "b0878ef3",
        "outputId": "13ac8e5d-8383-4391-c593-723635a953af"
      },
      "outputs": [
        {
          "output_type": "display_data",
          "data": {
            "text/plain": [
              "   education_id            education\n",
              "0             0               высшее\n",
              "1             1              среднее\n",
              "2             2  неоконченное высшее\n",
              "3             3            начальное\n",
              "4             4       ученая степень"
            ],
            "text/html": [
              "\n",
              "  <div id=\"df-80cb87d4-b4f1-4010-9199-ea6e0ab9ec69\">\n",
              "    <div class=\"colab-df-container\">\n",
              "      <div>\n",
              "<style scoped>\n",
              "    .dataframe tbody tr th:only-of-type {\n",
              "        vertical-align: middle;\n",
              "    }\n",
              "\n",
              "    .dataframe tbody tr th {\n",
              "        vertical-align: top;\n",
              "    }\n",
              "\n",
              "    .dataframe thead th {\n",
              "        text-align: right;\n",
              "    }\n",
              "</style>\n",
              "<table border=\"1\" class=\"dataframe\">\n",
              "  <thead>\n",
              "    <tr style=\"text-align: right;\">\n",
              "      <th></th>\n",
              "      <th>education_id</th>\n",
              "      <th>education</th>\n",
              "    </tr>\n",
              "  </thead>\n",
              "  <tbody>\n",
              "    <tr>\n",
              "      <th>0</th>\n",
              "      <td>0</td>\n",
              "      <td>высшее</td>\n",
              "    </tr>\n",
              "    <tr>\n",
              "      <th>1</th>\n",
              "      <td>1</td>\n",
              "      <td>среднее</td>\n",
              "    </tr>\n",
              "    <tr>\n",
              "      <th>2</th>\n",
              "      <td>2</td>\n",
              "      <td>неоконченное высшее</td>\n",
              "    </tr>\n",
              "    <tr>\n",
              "      <th>3</th>\n",
              "      <td>3</td>\n",
              "      <td>начальное</td>\n",
              "    </tr>\n",
              "    <tr>\n",
              "      <th>4</th>\n",
              "      <td>4</td>\n",
              "      <td>ученая степень</td>\n",
              "    </tr>\n",
              "  </tbody>\n",
              "</table>\n",
              "</div>\n",
              "      <button class=\"colab-df-convert\" onclick=\"convertToInteractive('df-80cb87d4-b4f1-4010-9199-ea6e0ab9ec69')\"\n",
              "              title=\"Convert this dataframe to an interactive table.\"\n",
              "              style=\"display:none;\">\n",
              "        \n",
              "  <svg xmlns=\"http://www.w3.org/2000/svg\" height=\"24px\"viewBox=\"0 0 24 24\"\n",
              "       width=\"24px\">\n",
              "    <path d=\"M0 0h24v24H0V0z\" fill=\"none\"/>\n",
              "    <path d=\"M18.56 5.44l.94 2.06.94-2.06 2.06-.94-2.06-.94-.94-2.06-.94 2.06-2.06.94zm-11 1L8.5 8.5l.94-2.06 2.06-.94-2.06-.94L8.5 2.5l-.94 2.06-2.06.94zm10 10l.94 2.06.94-2.06 2.06-.94-2.06-.94-.94-2.06-.94 2.06-2.06.94z\"/><path d=\"M17.41 7.96l-1.37-1.37c-.4-.4-.92-.59-1.43-.59-.52 0-1.04.2-1.43.59L10.3 9.45l-7.72 7.72c-.78.78-.78 2.05 0 2.83L4 21.41c.39.39.9.59 1.41.59.51 0 1.02-.2 1.41-.59l7.78-7.78 2.81-2.81c.8-.78.8-2.07 0-2.86zM5.41 20L4 18.59l7.72-7.72 1.47 1.35L5.41 20z\"/>\n",
              "  </svg>\n",
              "      </button>\n",
              "      \n",
              "  <style>\n",
              "    .colab-df-container {\n",
              "      display:flex;\n",
              "      flex-wrap:wrap;\n",
              "      gap: 12px;\n",
              "    }\n",
              "\n",
              "    .colab-df-convert {\n",
              "      background-color: #E8F0FE;\n",
              "      border: none;\n",
              "      border-radius: 50%;\n",
              "      cursor: pointer;\n",
              "      display: none;\n",
              "      fill: #1967D2;\n",
              "      height: 32px;\n",
              "      padding: 0 0 0 0;\n",
              "      width: 32px;\n",
              "    }\n",
              "\n",
              "    .colab-df-convert:hover {\n",
              "      background-color: #E2EBFA;\n",
              "      box-shadow: 0px 1px 2px rgba(60, 64, 67, 0.3), 0px 1px 3px 1px rgba(60, 64, 67, 0.15);\n",
              "      fill: #174EA6;\n",
              "    }\n",
              "\n",
              "    [theme=dark] .colab-df-convert {\n",
              "      background-color: #3B4455;\n",
              "      fill: #D2E3FC;\n",
              "    }\n",
              "\n",
              "    [theme=dark] .colab-df-convert:hover {\n",
              "      background-color: #434B5C;\n",
              "      box-shadow: 0px 1px 3px 1px rgba(0, 0, 0, 0.15);\n",
              "      filter: drop-shadow(0px 1px 2px rgba(0, 0, 0, 0.3));\n",
              "      fill: #FFFFFF;\n",
              "    }\n",
              "  </style>\n",
              "\n",
              "      <script>\n",
              "        const buttonEl =\n",
              "          document.querySelector('#df-80cb87d4-b4f1-4010-9199-ea6e0ab9ec69 button.colab-df-convert');\n",
              "        buttonEl.style.display =\n",
              "          google.colab.kernel.accessAllowed ? 'block' : 'none';\n",
              "\n",
              "        async function convertToInteractive(key) {\n",
              "          const element = document.querySelector('#df-80cb87d4-b4f1-4010-9199-ea6e0ab9ec69');\n",
              "          const dataTable =\n",
              "            await google.colab.kernel.invokeFunction('convertToInteractive',\n",
              "                                                     [key], {});\n",
              "          if (!dataTable) return;\n",
              "\n",
              "          const docLinkHtml = 'Like what you see? Visit the ' +\n",
              "            '<a target=\"_blank\" href=https://colab.research.google.com/notebooks/data_table.ipynb>data table notebook</a>'\n",
              "            + ' to learn more about interactive tables.';\n",
              "          element.innerHTML = '';\n",
              "          dataTable['output_type'] = 'display_data';\n",
              "          await google.colab.output.renderOutput(dataTable, element);\n",
              "          const docLink = document.createElement('div');\n",
              "          docLink.innerHTML = docLinkHtml;\n",
              "          element.appendChild(docLink);\n",
              "        }\n",
              "      </script>\n",
              "    </div>\n",
              "  </div>\n",
              "  "
            ]
          },
          "metadata": {}
        },
        {
          "output_type": "display_data",
          "data": {
            "text/plain": [
              "   family_status_id          family_status\n",
              "0                 0        женат / замужем\n",
              "1                 1       гражданский брак\n",
              "2                 2         вдовец / вдова\n",
              "3                 3              в разводе\n",
              "4                 4  не женат / не замужем"
            ],
            "text/html": [
              "\n",
              "  <div id=\"df-66be3d08-4648-4d2d-a803-49e5cab2b556\">\n",
              "    <div class=\"colab-df-container\">\n",
              "      <div>\n",
              "<style scoped>\n",
              "    .dataframe tbody tr th:only-of-type {\n",
              "        vertical-align: middle;\n",
              "    }\n",
              "\n",
              "    .dataframe tbody tr th {\n",
              "        vertical-align: top;\n",
              "    }\n",
              "\n",
              "    .dataframe thead th {\n",
              "        text-align: right;\n",
              "    }\n",
              "</style>\n",
              "<table border=\"1\" class=\"dataframe\">\n",
              "  <thead>\n",
              "    <tr style=\"text-align: right;\">\n",
              "      <th></th>\n",
              "      <th>family_status_id</th>\n",
              "      <th>family_status</th>\n",
              "    </tr>\n",
              "  </thead>\n",
              "  <tbody>\n",
              "    <tr>\n",
              "      <th>0</th>\n",
              "      <td>0</td>\n",
              "      <td>женат / замужем</td>\n",
              "    </tr>\n",
              "    <tr>\n",
              "      <th>1</th>\n",
              "      <td>1</td>\n",
              "      <td>гражданский брак</td>\n",
              "    </tr>\n",
              "    <tr>\n",
              "      <th>2</th>\n",
              "      <td>2</td>\n",
              "      <td>вдовец / вдова</td>\n",
              "    </tr>\n",
              "    <tr>\n",
              "      <th>3</th>\n",
              "      <td>3</td>\n",
              "      <td>в разводе</td>\n",
              "    </tr>\n",
              "    <tr>\n",
              "      <th>4</th>\n",
              "      <td>4</td>\n",
              "      <td>не женат / не замужем</td>\n",
              "    </tr>\n",
              "  </tbody>\n",
              "</table>\n",
              "</div>\n",
              "      <button class=\"colab-df-convert\" onclick=\"convertToInteractive('df-66be3d08-4648-4d2d-a803-49e5cab2b556')\"\n",
              "              title=\"Convert this dataframe to an interactive table.\"\n",
              "              style=\"display:none;\">\n",
              "        \n",
              "  <svg xmlns=\"http://www.w3.org/2000/svg\" height=\"24px\"viewBox=\"0 0 24 24\"\n",
              "       width=\"24px\">\n",
              "    <path d=\"M0 0h24v24H0V0z\" fill=\"none\"/>\n",
              "    <path d=\"M18.56 5.44l.94 2.06.94-2.06 2.06-.94-2.06-.94-.94-2.06-.94 2.06-2.06.94zm-11 1L8.5 8.5l.94-2.06 2.06-.94-2.06-.94L8.5 2.5l-.94 2.06-2.06.94zm10 10l.94 2.06.94-2.06 2.06-.94-2.06-.94-.94-2.06-.94 2.06-2.06.94z\"/><path d=\"M17.41 7.96l-1.37-1.37c-.4-.4-.92-.59-1.43-.59-.52 0-1.04.2-1.43.59L10.3 9.45l-7.72 7.72c-.78.78-.78 2.05 0 2.83L4 21.41c.39.39.9.59 1.41.59.51 0 1.02-.2 1.41-.59l7.78-7.78 2.81-2.81c.8-.78.8-2.07 0-2.86zM5.41 20L4 18.59l7.72-7.72 1.47 1.35L5.41 20z\"/>\n",
              "  </svg>\n",
              "      </button>\n",
              "      \n",
              "  <style>\n",
              "    .colab-df-container {\n",
              "      display:flex;\n",
              "      flex-wrap:wrap;\n",
              "      gap: 12px;\n",
              "    }\n",
              "\n",
              "    .colab-df-convert {\n",
              "      background-color: #E8F0FE;\n",
              "      border: none;\n",
              "      border-radius: 50%;\n",
              "      cursor: pointer;\n",
              "      display: none;\n",
              "      fill: #1967D2;\n",
              "      height: 32px;\n",
              "      padding: 0 0 0 0;\n",
              "      width: 32px;\n",
              "    }\n",
              "\n",
              "    .colab-df-convert:hover {\n",
              "      background-color: #E2EBFA;\n",
              "      box-shadow: 0px 1px 2px rgba(60, 64, 67, 0.3), 0px 1px 3px 1px rgba(60, 64, 67, 0.15);\n",
              "      fill: #174EA6;\n",
              "    }\n",
              "\n",
              "    [theme=dark] .colab-df-convert {\n",
              "      background-color: #3B4455;\n",
              "      fill: #D2E3FC;\n",
              "    }\n",
              "\n",
              "    [theme=dark] .colab-df-convert:hover {\n",
              "      background-color: #434B5C;\n",
              "      box-shadow: 0px 1px 3px 1px rgba(0, 0, 0, 0.15);\n",
              "      filter: drop-shadow(0px 1px 2px rgba(0, 0, 0, 0.3));\n",
              "      fill: #FFFFFF;\n",
              "    }\n",
              "  </style>\n",
              "\n",
              "      <script>\n",
              "        const buttonEl =\n",
              "          document.querySelector('#df-66be3d08-4648-4d2d-a803-49e5cab2b556 button.colab-df-convert');\n",
              "        buttonEl.style.display =\n",
              "          google.colab.kernel.accessAllowed ? 'block' : 'none';\n",
              "\n",
              "        async function convertToInteractive(key) {\n",
              "          const element = document.querySelector('#df-66be3d08-4648-4d2d-a803-49e5cab2b556');\n",
              "          const dataTable =\n",
              "            await google.colab.kernel.invokeFunction('convertToInteractive',\n",
              "                                                     [key], {});\n",
              "          if (!dataTable) return;\n",
              "\n",
              "          const docLinkHtml = 'Like what you see? Visit the ' +\n",
              "            '<a target=\"_blank\" href=https://colab.research.google.com/notebooks/data_table.ipynb>data table notebook</a>'\n",
              "            + ' to learn more about interactive tables.';\n",
              "          element.innerHTML = '';\n",
              "          dataTable['output_type'] = 'display_data';\n",
              "          await google.colab.output.renderOutput(dataTable, element);\n",
              "          const docLink = document.createElement('div');\n",
              "          docLink.innerHTML = docLinkHtml;\n",
              "          element.appendChild(docLink);\n",
              "        }\n",
              "      </script>\n",
              "    </div>\n",
              "  </div>\n",
              "  "
            ]
          },
          "metadata": {}
        }
      ],
      "source": [
        "# Проверим, как выглядят новые датафреймы\n",
        "display(education_dict)\n",
        "display(family_dict)"
      ]
    },
    {
      "cell_type": "markdown",
      "id": "828d5c23",
      "metadata": {
        "id": "828d5c23"
      },
      "source": [
        "Из исходного датафрейма удалим столбцы `education` и `family_status`, оставив только их идентификаторы: `education_id` и `family_status_id`."
      ]
    },
    {
      "cell_type": "code",
      "execution_count": 34,
      "id": "cdff03c8",
      "metadata": {
        "scrolled": false,
        "colab": {
          "base_uri": "https://localhost:8080/",
          "height": 206
        },
        "id": "cdff03c8",
        "outputId": "eac1a4c1-c677-40fc-e805-b01b503d5889"
      },
      "outputs": [
        {
          "output_type": "execute_result",
          "data": {
            "text/plain": [
              "   children  days_employed  dob_years  education_id  family_status_id gender  \\\n",
              "0         1        8437.67         42             0                 0      F   \n",
              "1         1        4024.80         36             1                 0      F   \n",
              "2         0        5623.42         33             1                 0      M   \n",
              "3         3        4124.75         32             1                 0      M   \n",
              "4         0          38.84         53             1                 1      F   \n",
              "\n",
              "  income_type  debt  total_income                     purpose  \n",
              "0   сотрудник     0        253875               покупка жилья  \n",
              "1   сотрудник     0        112080     приобретение автомобиля  \n",
              "2   сотрудник     0        145885               покупка жилья  \n",
              "3   сотрудник     0        267628  дополнительное образование  \n",
              "4   пенсионер     0        158616             сыграть свадьбу  "
            ],
            "text/html": [
              "\n",
              "  <div id=\"df-1a767c14-ad12-437d-97b2-7fc876402770\">\n",
              "    <div class=\"colab-df-container\">\n",
              "      <div>\n",
              "<style scoped>\n",
              "    .dataframe tbody tr th:only-of-type {\n",
              "        vertical-align: middle;\n",
              "    }\n",
              "\n",
              "    .dataframe tbody tr th {\n",
              "        vertical-align: top;\n",
              "    }\n",
              "\n",
              "    .dataframe thead th {\n",
              "        text-align: right;\n",
              "    }\n",
              "</style>\n",
              "<table border=\"1\" class=\"dataframe\">\n",
              "  <thead>\n",
              "    <tr style=\"text-align: right;\">\n",
              "      <th></th>\n",
              "      <th>children</th>\n",
              "      <th>days_employed</th>\n",
              "      <th>dob_years</th>\n",
              "      <th>education_id</th>\n",
              "      <th>family_status_id</th>\n",
              "      <th>gender</th>\n",
              "      <th>income_type</th>\n",
              "      <th>debt</th>\n",
              "      <th>total_income</th>\n",
              "      <th>purpose</th>\n",
              "    </tr>\n",
              "  </thead>\n",
              "  <tbody>\n",
              "    <tr>\n",
              "      <th>0</th>\n",
              "      <td>1</td>\n",
              "      <td>8437.67</td>\n",
              "      <td>42</td>\n",
              "      <td>0</td>\n",
              "      <td>0</td>\n",
              "      <td>F</td>\n",
              "      <td>сотрудник</td>\n",
              "      <td>0</td>\n",
              "      <td>253875</td>\n",
              "      <td>покупка жилья</td>\n",
              "    </tr>\n",
              "    <tr>\n",
              "      <th>1</th>\n",
              "      <td>1</td>\n",
              "      <td>4024.80</td>\n",
              "      <td>36</td>\n",
              "      <td>1</td>\n",
              "      <td>0</td>\n",
              "      <td>F</td>\n",
              "      <td>сотрудник</td>\n",
              "      <td>0</td>\n",
              "      <td>112080</td>\n",
              "      <td>приобретение автомобиля</td>\n",
              "    </tr>\n",
              "    <tr>\n",
              "      <th>2</th>\n",
              "      <td>0</td>\n",
              "      <td>5623.42</td>\n",
              "      <td>33</td>\n",
              "      <td>1</td>\n",
              "      <td>0</td>\n",
              "      <td>M</td>\n",
              "      <td>сотрудник</td>\n",
              "      <td>0</td>\n",
              "      <td>145885</td>\n",
              "      <td>покупка жилья</td>\n",
              "    </tr>\n",
              "    <tr>\n",
              "      <th>3</th>\n",
              "      <td>3</td>\n",
              "      <td>4124.75</td>\n",
              "      <td>32</td>\n",
              "      <td>1</td>\n",
              "      <td>0</td>\n",
              "      <td>M</td>\n",
              "      <td>сотрудник</td>\n",
              "      <td>0</td>\n",
              "      <td>267628</td>\n",
              "      <td>дополнительное образование</td>\n",
              "    </tr>\n",
              "    <tr>\n",
              "      <th>4</th>\n",
              "      <td>0</td>\n",
              "      <td>38.84</td>\n",
              "      <td>53</td>\n",
              "      <td>1</td>\n",
              "      <td>1</td>\n",
              "      <td>F</td>\n",
              "      <td>пенсионер</td>\n",
              "      <td>0</td>\n",
              "      <td>158616</td>\n",
              "      <td>сыграть свадьбу</td>\n",
              "    </tr>\n",
              "  </tbody>\n",
              "</table>\n",
              "</div>\n",
              "      <button class=\"colab-df-convert\" onclick=\"convertToInteractive('df-1a767c14-ad12-437d-97b2-7fc876402770')\"\n",
              "              title=\"Convert this dataframe to an interactive table.\"\n",
              "              style=\"display:none;\">\n",
              "        \n",
              "  <svg xmlns=\"http://www.w3.org/2000/svg\" height=\"24px\"viewBox=\"0 0 24 24\"\n",
              "       width=\"24px\">\n",
              "    <path d=\"M0 0h24v24H0V0z\" fill=\"none\"/>\n",
              "    <path d=\"M18.56 5.44l.94 2.06.94-2.06 2.06-.94-2.06-.94-.94-2.06-.94 2.06-2.06.94zm-11 1L8.5 8.5l.94-2.06 2.06-.94-2.06-.94L8.5 2.5l-.94 2.06-2.06.94zm10 10l.94 2.06.94-2.06 2.06-.94-2.06-.94-.94-2.06-.94 2.06-2.06.94z\"/><path d=\"M17.41 7.96l-1.37-1.37c-.4-.4-.92-.59-1.43-.59-.52 0-1.04.2-1.43.59L10.3 9.45l-7.72 7.72c-.78.78-.78 2.05 0 2.83L4 21.41c.39.39.9.59 1.41.59.51 0 1.02-.2 1.41-.59l7.78-7.78 2.81-2.81c.8-.78.8-2.07 0-2.86zM5.41 20L4 18.59l7.72-7.72 1.47 1.35L5.41 20z\"/>\n",
              "  </svg>\n",
              "      </button>\n",
              "      \n",
              "  <style>\n",
              "    .colab-df-container {\n",
              "      display:flex;\n",
              "      flex-wrap:wrap;\n",
              "      gap: 12px;\n",
              "    }\n",
              "\n",
              "    .colab-df-convert {\n",
              "      background-color: #E8F0FE;\n",
              "      border: none;\n",
              "      border-radius: 50%;\n",
              "      cursor: pointer;\n",
              "      display: none;\n",
              "      fill: #1967D2;\n",
              "      height: 32px;\n",
              "      padding: 0 0 0 0;\n",
              "      width: 32px;\n",
              "    }\n",
              "\n",
              "    .colab-df-convert:hover {\n",
              "      background-color: #E2EBFA;\n",
              "      box-shadow: 0px 1px 2px rgba(60, 64, 67, 0.3), 0px 1px 3px 1px rgba(60, 64, 67, 0.15);\n",
              "      fill: #174EA6;\n",
              "    }\n",
              "\n",
              "    [theme=dark] .colab-df-convert {\n",
              "      background-color: #3B4455;\n",
              "      fill: #D2E3FC;\n",
              "    }\n",
              "\n",
              "    [theme=dark] .colab-df-convert:hover {\n",
              "      background-color: #434B5C;\n",
              "      box-shadow: 0px 1px 3px 1px rgba(0, 0, 0, 0.15);\n",
              "      filter: drop-shadow(0px 1px 2px rgba(0, 0, 0, 0.3));\n",
              "      fill: #FFFFFF;\n",
              "    }\n",
              "  </style>\n",
              "\n",
              "      <script>\n",
              "        const buttonEl =\n",
              "          document.querySelector('#df-1a767c14-ad12-437d-97b2-7fc876402770 button.colab-df-convert');\n",
              "        buttonEl.style.display =\n",
              "          google.colab.kernel.accessAllowed ? 'block' : 'none';\n",
              "\n",
              "        async function convertToInteractive(key) {\n",
              "          const element = document.querySelector('#df-1a767c14-ad12-437d-97b2-7fc876402770');\n",
              "          const dataTable =\n",
              "            await google.colab.kernel.invokeFunction('convertToInteractive',\n",
              "                                                     [key], {});\n",
              "          if (!dataTable) return;\n",
              "\n",
              "          const docLinkHtml = 'Like what you see? Visit the ' +\n",
              "            '<a target=\"_blank\" href=https://colab.research.google.com/notebooks/data_table.ipynb>data table notebook</a>'\n",
              "            + ' to learn more about interactive tables.';\n",
              "          element.innerHTML = '';\n",
              "          dataTable['output_type'] = 'display_data';\n",
              "          await google.colab.output.renderOutput(dataTable, element);\n",
              "          const docLink = document.createElement('div');\n",
              "          docLink.innerHTML = docLinkHtml;\n",
              "          element.appendChild(docLink);\n",
              "        }\n",
              "      </script>\n",
              "    </div>\n",
              "  </div>\n",
              "  "
            ]
          },
          "metadata": {},
          "execution_count": 34
        }
      ],
      "source": [
        "#data = data[['children', 'days_employed', 'dob_years', 'education_id', 'family_status_id', \n",
        "             #'gender', 'income_type', 'debt', 'total_income', 'purpose']]\n",
        "\n",
        "data.drop(columns=['education', 'family_status'], inplace=True)\n",
        "\n",
        "# Сбросим индексы\n",
        "data = data.reset_index(drop=True)\n",
        "\n",
        "# Посмотрим, что получилось\n",
        "data.head()"
      ]
    },
    {
      "cell_type": "code",
      "execution_count": 35,
      "id": "8e82fb62",
      "metadata": {
        "colab": {
          "base_uri": "https://localhost:8080/",
          "height": 69
        },
        "id": "8e82fb62",
        "outputId": "3f45527d-f458-4637-da15-62aba03b2223"
      },
      "outputs": [
        {
          "output_type": "display_data",
          "data": {
            "text/plain": [
              "(21230, 10)"
            ]
          },
          "metadata": {}
        },
        {
          "output_type": "display_data",
          "data": {
            "text/plain": [
              "(5, 2)"
            ]
          },
          "metadata": {}
        },
        {
          "output_type": "display_data",
          "data": {
            "text/plain": [
              "(5, 2)"
            ]
          },
          "metadata": {}
        }
      ],
      "source": [
        "# Получим информацию о каждом датафрейме\n",
        "display(data.shape)\n",
        "display(education_dict.shape)\n",
        "display(family_dict.shape)"
      ]
    },
    {
      "cell_type": "markdown",
      "id": "351653cd",
      "metadata": {
        "id": "351653cd"
      },
      "source": [
        "Декомпозиция датафрейма завершена!"
      ]
    },
    {
      "cell_type": "markdown",
      "id": "190f2ad3",
      "metadata": {
        "id": "190f2ad3"
      },
      "source": [
        "### 2.6 Категоризация дохода"
      ]
    },
    {
      "cell_type": "markdown",
      "id": "ea4a8c5e",
      "metadata": {
        "id": "ea4a8c5e"
      },
      "source": [
        "Добавим несколько категорий дохода на основании диапазонов, указанных ниже:\n",
        "- 0–30000 — 'E';\n",
        "- 30001–50000 — 'D';\n",
        "- 50001–200000 — 'C';\n",
        "- 200001–1000000 — 'B';\n",
        "- 1000001 и выше — 'A'.\n",
        "\n",
        "Для этого напишем функцию, которая на вход принимает значение дохода, а на выходе присваивает категорию в зависимости от указанного дохода."
      ]
    },
    {
      "cell_type": "code",
      "execution_count": 36,
      "id": "8529fed5",
      "metadata": {
        "id": "8529fed5"
      },
      "outputs": [],
      "source": [
        "def income_group(income):\n",
        "   \n",
        "    if income <= 30000:\n",
        "        return 'E'\n",
        "    if income <= 50000:\n",
        "        return 'D'\n",
        "    if income <= 200000:\n",
        "        return 'C'\n",
        "    if income <= 1000000:\n",
        "        return 'B'\n",
        "    return 'A' "
      ]
    },
    {
      "cell_type": "markdown",
      "id": "ee61e354",
      "metadata": {
        "id": "ee61e354"
      },
      "source": [
        "Создадим столбец `total_income_category` и применим к нему функцию `income_group()`."
      ]
    },
    {
      "cell_type": "code",
      "execution_count": 37,
      "id": "c09c2148",
      "metadata": {
        "scrolled": false,
        "colab": {
          "base_uri": "https://localhost:8080/",
          "height": 206
        },
        "id": "c09c2148",
        "outputId": "61414541-faae-44c1-e6fc-b660d50e228e"
      },
      "outputs": [
        {
          "output_type": "execute_result",
          "data": {
            "text/plain": [
              "   children  days_employed  dob_years  education_id  family_status_id gender  \\\n",
              "0         1        8437.67         42             0                 0      F   \n",
              "1         1        4024.80         36             1                 0      F   \n",
              "2         0        5623.42         33             1                 0      M   \n",
              "3         3        4124.75         32             1                 0      M   \n",
              "4         0          38.84         53             1                 1      F   \n",
              "\n",
              "  income_type  debt  total_income                     purpose  \\\n",
              "0   сотрудник     0        253875               покупка жилья   \n",
              "1   сотрудник     0        112080     приобретение автомобиля   \n",
              "2   сотрудник     0        145885               покупка жилья   \n",
              "3   сотрудник     0        267628  дополнительное образование   \n",
              "4   пенсионер     0        158616             сыграть свадьбу   \n",
              "\n",
              "  total_income_category  \n",
              "0                     B  \n",
              "1                     C  \n",
              "2                     C  \n",
              "3                     B  \n",
              "4                     C  "
            ],
            "text/html": [
              "\n",
              "  <div id=\"df-3ef52709-1011-459e-8bbd-55e5ba910fe0\">\n",
              "    <div class=\"colab-df-container\">\n",
              "      <div>\n",
              "<style scoped>\n",
              "    .dataframe tbody tr th:only-of-type {\n",
              "        vertical-align: middle;\n",
              "    }\n",
              "\n",
              "    .dataframe tbody tr th {\n",
              "        vertical-align: top;\n",
              "    }\n",
              "\n",
              "    .dataframe thead th {\n",
              "        text-align: right;\n",
              "    }\n",
              "</style>\n",
              "<table border=\"1\" class=\"dataframe\">\n",
              "  <thead>\n",
              "    <tr style=\"text-align: right;\">\n",
              "      <th></th>\n",
              "      <th>children</th>\n",
              "      <th>days_employed</th>\n",
              "      <th>dob_years</th>\n",
              "      <th>education_id</th>\n",
              "      <th>family_status_id</th>\n",
              "      <th>gender</th>\n",
              "      <th>income_type</th>\n",
              "      <th>debt</th>\n",
              "      <th>total_income</th>\n",
              "      <th>purpose</th>\n",
              "      <th>total_income_category</th>\n",
              "    </tr>\n",
              "  </thead>\n",
              "  <tbody>\n",
              "    <tr>\n",
              "      <th>0</th>\n",
              "      <td>1</td>\n",
              "      <td>8437.67</td>\n",
              "      <td>42</td>\n",
              "      <td>0</td>\n",
              "      <td>0</td>\n",
              "      <td>F</td>\n",
              "      <td>сотрудник</td>\n",
              "      <td>0</td>\n",
              "      <td>253875</td>\n",
              "      <td>покупка жилья</td>\n",
              "      <td>B</td>\n",
              "    </tr>\n",
              "    <tr>\n",
              "      <th>1</th>\n",
              "      <td>1</td>\n",
              "      <td>4024.80</td>\n",
              "      <td>36</td>\n",
              "      <td>1</td>\n",
              "      <td>0</td>\n",
              "      <td>F</td>\n",
              "      <td>сотрудник</td>\n",
              "      <td>0</td>\n",
              "      <td>112080</td>\n",
              "      <td>приобретение автомобиля</td>\n",
              "      <td>C</td>\n",
              "    </tr>\n",
              "    <tr>\n",
              "      <th>2</th>\n",
              "      <td>0</td>\n",
              "      <td>5623.42</td>\n",
              "      <td>33</td>\n",
              "      <td>1</td>\n",
              "      <td>0</td>\n",
              "      <td>M</td>\n",
              "      <td>сотрудник</td>\n",
              "      <td>0</td>\n",
              "      <td>145885</td>\n",
              "      <td>покупка жилья</td>\n",
              "      <td>C</td>\n",
              "    </tr>\n",
              "    <tr>\n",
              "      <th>3</th>\n",
              "      <td>3</td>\n",
              "      <td>4124.75</td>\n",
              "      <td>32</td>\n",
              "      <td>1</td>\n",
              "      <td>0</td>\n",
              "      <td>M</td>\n",
              "      <td>сотрудник</td>\n",
              "      <td>0</td>\n",
              "      <td>267628</td>\n",
              "      <td>дополнительное образование</td>\n",
              "      <td>B</td>\n",
              "    </tr>\n",
              "    <tr>\n",
              "      <th>4</th>\n",
              "      <td>0</td>\n",
              "      <td>38.84</td>\n",
              "      <td>53</td>\n",
              "      <td>1</td>\n",
              "      <td>1</td>\n",
              "      <td>F</td>\n",
              "      <td>пенсионер</td>\n",
              "      <td>0</td>\n",
              "      <td>158616</td>\n",
              "      <td>сыграть свадьбу</td>\n",
              "      <td>C</td>\n",
              "    </tr>\n",
              "  </tbody>\n",
              "</table>\n",
              "</div>\n",
              "      <button class=\"colab-df-convert\" onclick=\"convertToInteractive('df-3ef52709-1011-459e-8bbd-55e5ba910fe0')\"\n",
              "              title=\"Convert this dataframe to an interactive table.\"\n",
              "              style=\"display:none;\">\n",
              "        \n",
              "  <svg xmlns=\"http://www.w3.org/2000/svg\" height=\"24px\"viewBox=\"0 0 24 24\"\n",
              "       width=\"24px\">\n",
              "    <path d=\"M0 0h24v24H0V0z\" fill=\"none\"/>\n",
              "    <path d=\"M18.56 5.44l.94 2.06.94-2.06 2.06-.94-2.06-.94-.94-2.06-.94 2.06-2.06.94zm-11 1L8.5 8.5l.94-2.06 2.06-.94-2.06-.94L8.5 2.5l-.94 2.06-2.06.94zm10 10l.94 2.06.94-2.06 2.06-.94-2.06-.94-.94-2.06-.94 2.06-2.06.94z\"/><path d=\"M17.41 7.96l-1.37-1.37c-.4-.4-.92-.59-1.43-.59-.52 0-1.04.2-1.43.59L10.3 9.45l-7.72 7.72c-.78.78-.78 2.05 0 2.83L4 21.41c.39.39.9.59 1.41.59.51 0 1.02-.2 1.41-.59l7.78-7.78 2.81-2.81c.8-.78.8-2.07 0-2.86zM5.41 20L4 18.59l7.72-7.72 1.47 1.35L5.41 20z\"/>\n",
              "  </svg>\n",
              "      </button>\n",
              "      \n",
              "  <style>\n",
              "    .colab-df-container {\n",
              "      display:flex;\n",
              "      flex-wrap:wrap;\n",
              "      gap: 12px;\n",
              "    }\n",
              "\n",
              "    .colab-df-convert {\n",
              "      background-color: #E8F0FE;\n",
              "      border: none;\n",
              "      border-radius: 50%;\n",
              "      cursor: pointer;\n",
              "      display: none;\n",
              "      fill: #1967D2;\n",
              "      height: 32px;\n",
              "      padding: 0 0 0 0;\n",
              "      width: 32px;\n",
              "    }\n",
              "\n",
              "    .colab-df-convert:hover {\n",
              "      background-color: #E2EBFA;\n",
              "      box-shadow: 0px 1px 2px rgba(60, 64, 67, 0.3), 0px 1px 3px 1px rgba(60, 64, 67, 0.15);\n",
              "      fill: #174EA6;\n",
              "    }\n",
              "\n",
              "    [theme=dark] .colab-df-convert {\n",
              "      background-color: #3B4455;\n",
              "      fill: #D2E3FC;\n",
              "    }\n",
              "\n",
              "    [theme=dark] .colab-df-convert:hover {\n",
              "      background-color: #434B5C;\n",
              "      box-shadow: 0px 1px 3px 1px rgba(0, 0, 0, 0.15);\n",
              "      filter: drop-shadow(0px 1px 2px rgba(0, 0, 0, 0.3));\n",
              "      fill: #FFFFFF;\n",
              "    }\n",
              "  </style>\n",
              "\n",
              "      <script>\n",
              "        const buttonEl =\n",
              "          document.querySelector('#df-3ef52709-1011-459e-8bbd-55e5ba910fe0 button.colab-df-convert');\n",
              "        buttonEl.style.display =\n",
              "          google.colab.kernel.accessAllowed ? 'block' : 'none';\n",
              "\n",
              "        async function convertToInteractive(key) {\n",
              "          const element = document.querySelector('#df-3ef52709-1011-459e-8bbd-55e5ba910fe0');\n",
              "          const dataTable =\n",
              "            await google.colab.kernel.invokeFunction('convertToInteractive',\n",
              "                                                     [key], {});\n",
              "          if (!dataTable) return;\n",
              "\n",
              "          const docLinkHtml = 'Like what you see? Visit the ' +\n",
              "            '<a target=\"_blank\" href=https://colab.research.google.com/notebooks/data_table.ipynb>data table notebook</a>'\n",
              "            + ' to learn more about interactive tables.';\n",
              "          element.innerHTML = '';\n",
              "          dataTable['output_type'] = 'display_data';\n",
              "          await google.colab.output.renderOutput(dataTable, element);\n",
              "          const docLink = document.createElement('div');\n",
              "          docLink.innerHTML = docLinkHtml;\n",
              "          element.appendChild(docLink);\n",
              "        }\n",
              "      </script>\n",
              "    </div>\n",
              "  </div>\n",
              "  "
            ]
          },
          "metadata": {},
          "execution_count": 37
        }
      ],
      "source": [
        "data['total_income_category'] = data['total_income'].apply(income_group)\n",
        "\n",
        "# Посмотрим, что получилось\n",
        "data.head()"
      ]
    },
    {
      "cell_type": "code",
      "execution_count": 38,
      "id": "65dee481",
      "metadata": {
        "colab": {
          "base_uri": "https://localhost:8080/"
        },
        "id": "65dee481",
        "outputId": "9d460701-af19-478b-b734-46c6b2380961"
      },
      "outputs": [
        {
          "output_type": "execute_result",
          "data": {
            "text/plain": [
              "C    15849\n",
              "B     4987\n",
              "D      347\n",
              "A       25\n",
              "E       22\n",
              "Name: total_income_category, dtype: int64"
            ]
          },
          "metadata": {},
          "execution_count": 38
        }
      ],
      "source": [
        "# Также проверим распредление значений по категориям\n",
        "data['total_income_category'].value_counts()"
      ]
    },
    {
      "cell_type": "markdown",
      "id": "32548286",
      "metadata": {
        "id": "32548286"
      },
      "source": [
        "### 2.7 Категоризация целей кредита"
      ]
    },
    {
      "cell_type": "markdown",
      "id": "6cee607c",
      "metadata": {
        "id": "6cee607c"
      },
      "source": [
        "В зависимости от цели получения кредита создадим следующие категории:\n",
        "\n",
        "- 'операции с автомобилем',\n",
        "- 'операции с недвижимостью',\n",
        "- 'проведение свадьбы',\n",
        "- 'получение образования'.\n",
        "\n",
        "Для этого напишем функцию, которая на основании данных из столбца purpose сформирует новый столбец `purpose_category` с категорией кредита."
      ]
    },
    {
      "cell_type": "code",
      "execution_count": 39,
      "id": "34c411a2",
      "metadata": {
        "colab": {
          "base_uri": "https://localhost:8080/",
          "height": 1000
        },
        "id": "34c411a2",
        "outputId": "4c3f7968-2f2e-41aa-9f07-88dcd4adac1b"
      },
      "outputs": [
        {
          "output_type": "display_data",
          "data": {
            "text/plain": [
              "   children  days_employed  dob_years  education_id  family_status_id gender  \\\n",
              "0         1        8437.67         42             0                 0      F   \n",
              "1         1        4024.80         36             1                 0      F   \n",
              "2         0        5623.42         33             1                 0      M   \n",
              "3         3        4124.75         32             1                 0      M   \n",
              "4         0          38.84         53             1                 1      F   \n",
              "\n",
              "  income_type  debt  total_income                     purpose  \\\n",
              "0   сотрудник     0        253875               покупка жилья   \n",
              "1   сотрудник     0        112080     приобретение автомобиля   \n",
              "2   сотрудник     0        145885               покупка жилья   \n",
              "3   сотрудник     0        267628  дополнительное образование   \n",
              "4   пенсионер     0        158616             сыграть свадьбу   \n",
              "\n",
              "  total_income_category          purpose_category  \n",
              "0                     B  операции с недвижимостью  \n",
              "1                     C    операции с автомобилем  \n",
              "2                     C  операции с недвижимостью  \n",
              "3                     B     получение образования  \n",
              "4                     C        проведение свадьбы  "
            ],
            "text/html": [
              "\n",
              "  <div id=\"df-118411da-45ee-46e0-83a9-52833c1048b0\">\n",
              "    <div class=\"colab-df-container\">\n",
              "      <div>\n",
              "<style scoped>\n",
              "    .dataframe tbody tr th:only-of-type {\n",
              "        vertical-align: middle;\n",
              "    }\n",
              "\n",
              "    .dataframe tbody tr th {\n",
              "        vertical-align: top;\n",
              "    }\n",
              "\n",
              "    .dataframe thead th {\n",
              "        text-align: right;\n",
              "    }\n",
              "</style>\n",
              "<table border=\"1\" class=\"dataframe\">\n",
              "  <thead>\n",
              "    <tr style=\"text-align: right;\">\n",
              "      <th></th>\n",
              "      <th>children</th>\n",
              "      <th>days_employed</th>\n",
              "      <th>dob_years</th>\n",
              "      <th>education_id</th>\n",
              "      <th>family_status_id</th>\n",
              "      <th>gender</th>\n",
              "      <th>income_type</th>\n",
              "      <th>debt</th>\n",
              "      <th>total_income</th>\n",
              "      <th>purpose</th>\n",
              "      <th>total_income_category</th>\n",
              "      <th>purpose_category</th>\n",
              "    </tr>\n",
              "  </thead>\n",
              "  <tbody>\n",
              "    <tr>\n",
              "      <th>0</th>\n",
              "      <td>1</td>\n",
              "      <td>8437.67</td>\n",
              "      <td>42</td>\n",
              "      <td>0</td>\n",
              "      <td>0</td>\n",
              "      <td>F</td>\n",
              "      <td>сотрудник</td>\n",
              "      <td>0</td>\n",
              "      <td>253875</td>\n",
              "      <td>покупка жилья</td>\n",
              "      <td>B</td>\n",
              "      <td>операции с недвижимостью</td>\n",
              "    </tr>\n",
              "    <tr>\n",
              "      <th>1</th>\n",
              "      <td>1</td>\n",
              "      <td>4024.80</td>\n",
              "      <td>36</td>\n",
              "      <td>1</td>\n",
              "      <td>0</td>\n",
              "      <td>F</td>\n",
              "      <td>сотрудник</td>\n",
              "      <td>0</td>\n",
              "      <td>112080</td>\n",
              "      <td>приобретение автомобиля</td>\n",
              "      <td>C</td>\n",
              "      <td>операции с автомобилем</td>\n",
              "    </tr>\n",
              "    <tr>\n",
              "      <th>2</th>\n",
              "      <td>0</td>\n",
              "      <td>5623.42</td>\n",
              "      <td>33</td>\n",
              "      <td>1</td>\n",
              "      <td>0</td>\n",
              "      <td>M</td>\n",
              "      <td>сотрудник</td>\n",
              "      <td>0</td>\n",
              "      <td>145885</td>\n",
              "      <td>покупка жилья</td>\n",
              "      <td>C</td>\n",
              "      <td>операции с недвижимостью</td>\n",
              "    </tr>\n",
              "    <tr>\n",
              "      <th>3</th>\n",
              "      <td>3</td>\n",
              "      <td>4124.75</td>\n",
              "      <td>32</td>\n",
              "      <td>1</td>\n",
              "      <td>0</td>\n",
              "      <td>M</td>\n",
              "      <td>сотрудник</td>\n",
              "      <td>0</td>\n",
              "      <td>267628</td>\n",
              "      <td>дополнительное образование</td>\n",
              "      <td>B</td>\n",
              "      <td>получение образования</td>\n",
              "    </tr>\n",
              "    <tr>\n",
              "      <th>4</th>\n",
              "      <td>0</td>\n",
              "      <td>38.84</td>\n",
              "      <td>53</td>\n",
              "      <td>1</td>\n",
              "      <td>1</td>\n",
              "      <td>F</td>\n",
              "      <td>пенсионер</td>\n",
              "      <td>0</td>\n",
              "      <td>158616</td>\n",
              "      <td>сыграть свадьбу</td>\n",
              "      <td>C</td>\n",
              "      <td>проведение свадьбы</td>\n",
              "    </tr>\n",
              "  </tbody>\n",
              "</table>\n",
              "</div>\n",
              "      <button class=\"colab-df-convert\" onclick=\"convertToInteractive('df-118411da-45ee-46e0-83a9-52833c1048b0')\"\n",
              "              title=\"Convert this dataframe to an interactive table.\"\n",
              "              style=\"display:none;\">\n",
              "        \n",
              "  <svg xmlns=\"http://www.w3.org/2000/svg\" height=\"24px\"viewBox=\"0 0 24 24\"\n",
              "       width=\"24px\">\n",
              "    <path d=\"M0 0h24v24H0V0z\" fill=\"none\"/>\n",
              "    <path d=\"M18.56 5.44l.94 2.06.94-2.06 2.06-.94-2.06-.94-.94-2.06-.94 2.06-2.06.94zm-11 1L8.5 8.5l.94-2.06 2.06-.94-2.06-.94L8.5 2.5l-.94 2.06-2.06.94zm10 10l.94 2.06.94-2.06 2.06-.94-2.06-.94-.94-2.06-.94 2.06-2.06.94z\"/><path d=\"M17.41 7.96l-1.37-1.37c-.4-.4-.92-.59-1.43-.59-.52 0-1.04.2-1.43.59L10.3 9.45l-7.72 7.72c-.78.78-.78 2.05 0 2.83L4 21.41c.39.39.9.59 1.41.59.51 0 1.02-.2 1.41-.59l7.78-7.78 2.81-2.81c.8-.78.8-2.07 0-2.86zM5.41 20L4 18.59l7.72-7.72 1.47 1.35L5.41 20z\"/>\n",
              "  </svg>\n",
              "      </button>\n",
              "      \n",
              "  <style>\n",
              "    .colab-df-container {\n",
              "      display:flex;\n",
              "      flex-wrap:wrap;\n",
              "      gap: 12px;\n",
              "    }\n",
              "\n",
              "    .colab-df-convert {\n",
              "      background-color: #E8F0FE;\n",
              "      border: none;\n",
              "      border-radius: 50%;\n",
              "      cursor: pointer;\n",
              "      display: none;\n",
              "      fill: #1967D2;\n",
              "      height: 32px;\n",
              "      padding: 0 0 0 0;\n",
              "      width: 32px;\n",
              "    }\n",
              "\n",
              "    .colab-df-convert:hover {\n",
              "      background-color: #E2EBFA;\n",
              "      box-shadow: 0px 1px 2px rgba(60, 64, 67, 0.3), 0px 1px 3px 1px rgba(60, 64, 67, 0.15);\n",
              "      fill: #174EA6;\n",
              "    }\n",
              "\n",
              "    [theme=dark] .colab-df-convert {\n",
              "      background-color: #3B4455;\n",
              "      fill: #D2E3FC;\n",
              "    }\n",
              "\n",
              "    [theme=dark] .colab-df-convert:hover {\n",
              "      background-color: #434B5C;\n",
              "      box-shadow: 0px 1px 3px 1px rgba(0, 0, 0, 0.15);\n",
              "      filter: drop-shadow(0px 1px 2px rgba(0, 0, 0, 0.3));\n",
              "      fill: #FFFFFF;\n",
              "    }\n",
              "  </style>\n",
              "\n",
              "      <script>\n",
              "        const buttonEl =\n",
              "          document.querySelector('#df-118411da-45ee-46e0-83a9-52833c1048b0 button.colab-df-convert');\n",
              "        buttonEl.style.display =\n",
              "          google.colab.kernel.accessAllowed ? 'block' : 'none';\n",
              "\n",
              "        async function convertToInteractive(key) {\n",
              "          const element = document.querySelector('#df-118411da-45ee-46e0-83a9-52833c1048b0');\n",
              "          const dataTable =\n",
              "            await google.colab.kernel.invokeFunction('convertToInteractive',\n",
              "                                                     [key], {});\n",
              "          if (!dataTable) return;\n",
              "\n",
              "          const docLinkHtml = 'Like what you see? Visit the ' +\n",
              "            '<a target=\"_blank\" href=https://colab.research.google.com/notebooks/data_table.ipynb>data table notebook</a>'\n",
              "            + ' to learn more about interactive tables.';\n",
              "          element.innerHTML = '';\n",
              "          dataTable['output_type'] = 'display_data';\n",
              "          await google.colab.output.renderOutput(dataTable, element);\n",
              "          const docLink = document.createElement('div');\n",
              "          docLink.innerHTML = docLinkHtml;\n",
              "          element.appendChild(docLink);\n",
              "        }\n",
              "      </script>\n",
              "    </div>\n",
              "  </div>\n",
              "  "
            ]
          },
          "metadata": {}
        },
        {
          "output_type": "execute_result",
          "data": {
            "text/plain": [
              "                                                                 purpose\n",
              "purpose_category         purpose                                        \n",
              "операции с автомобилем   автомобили                                  474\n",
              "                         автомобиль                                  487\n",
              "                         на покупку автомобиля                       465\n",
              "                         на покупку подержанного автомобиля          471\n",
              "                         на покупку своего автомобиля                501\n",
              "                         приобретение автомобиля                     457\n",
              "                         свой автомобиль                             470\n",
              "                         сделка с автомобилем                        454\n",
              "                         сделка с подержанным автомобилем            479\n",
              "операции с недвижимостью жилье                                       635\n",
              "                         недвижимость                                627\n",
              "                         операции с жильем                           641\n",
              "                         операции с коммерческой недвижимостью       643\n",
              "                         операции с недвижимостью                    669\n",
              "                         операции со своей недвижимостью             623\n",
              "                         покупка жилой недвижимости                  599\n",
              "                         покупка жилья                               634\n",
              "                         покупка жилья для сдачи                     647\n",
              "                         покупка жилья для семьи                     636\n",
              "                         покупка коммерческой недвижимости           655\n",
              "                         покупка недвижимости                        612\n",
              "                         покупка своего жилья                        618\n",
              "                         ремонт жилью                                602\n",
              "                         строительство жилой недвижимости            617\n",
              "                         строительство недвижимости                  619\n",
              "                         строительство собственной недвижимости      626\n",
              "получение образования    высшее образование                          443\n",
              "                         дополнительное образование                  453\n",
              "                         заняться высшим образованием                493\n",
              "                         заняться образованием                       407\n",
              "                         образование                                 439\n",
              "                         получение высшего образования               423\n",
              "                         получение дополнительного образования       442\n",
              "                         получение образования                       439\n",
              "                         профильное образование                      431\n",
              "проведение свадьбы       на проведение свадьбы                       759\n",
              "                         свадьба                                     785\n",
              "                         сыграть свадьбу                             755"
            ],
            "text/html": [
              "\n",
              "  <div id=\"df-8b6586dd-505b-4fec-8658-970f06ba077a\">\n",
              "    <div class=\"colab-df-container\">\n",
              "      <div>\n",
              "<style scoped>\n",
              "    .dataframe tbody tr th:only-of-type {\n",
              "        vertical-align: middle;\n",
              "    }\n",
              "\n",
              "    .dataframe tbody tr th {\n",
              "        vertical-align: top;\n",
              "    }\n",
              "\n",
              "    .dataframe thead th {\n",
              "        text-align: right;\n",
              "    }\n",
              "</style>\n",
              "<table border=\"1\" class=\"dataframe\">\n",
              "  <thead>\n",
              "    <tr style=\"text-align: right;\">\n",
              "      <th></th>\n",
              "      <th></th>\n",
              "      <th>purpose</th>\n",
              "    </tr>\n",
              "    <tr>\n",
              "      <th>purpose_category</th>\n",
              "      <th>purpose</th>\n",
              "      <th></th>\n",
              "    </tr>\n",
              "  </thead>\n",
              "  <tbody>\n",
              "    <tr>\n",
              "      <th rowspan=\"9\" valign=\"top\">операции с автомобилем</th>\n",
              "      <th>автомобили</th>\n",
              "      <td>474</td>\n",
              "    </tr>\n",
              "    <tr>\n",
              "      <th>автомобиль</th>\n",
              "      <td>487</td>\n",
              "    </tr>\n",
              "    <tr>\n",
              "      <th>на покупку автомобиля</th>\n",
              "      <td>465</td>\n",
              "    </tr>\n",
              "    <tr>\n",
              "      <th>на покупку подержанного автомобиля</th>\n",
              "      <td>471</td>\n",
              "    </tr>\n",
              "    <tr>\n",
              "      <th>на покупку своего автомобиля</th>\n",
              "      <td>501</td>\n",
              "    </tr>\n",
              "    <tr>\n",
              "      <th>приобретение автомобиля</th>\n",
              "      <td>457</td>\n",
              "    </tr>\n",
              "    <tr>\n",
              "      <th>свой автомобиль</th>\n",
              "      <td>470</td>\n",
              "    </tr>\n",
              "    <tr>\n",
              "      <th>сделка с автомобилем</th>\n",
              "      <td>454</td>\n",
              "    </tr>\n",
              "    <tr>\n",
              "      <th>сделка с подержанным автомобилем</th>\n",
              "      <td>479</td>\n",
              "    </tr>\n",
              "    <tr>\n",
              "      <th rowspan=\"17\" valign=\"top\">операции с недвижимостью</th>\n",
              "      <th>жилье</th>\n",
              "      <td>635</td>\n",
              "    </tr>\n",
              "    <tr>\n",
              "      <th>недвижимость</th>\n",
              "      <td>627</td>\n",
              "    </tr>\n",
              "    <tr>\n",
              "      <th>операции с жильем</th>\n",
              "      <td>641</td>\n",
              "    </tr>\n",
              "    <tr>\n",
              "      <th>операции с коммерческой недвижимостью</th>\n",
              "      <td>643</td>\n",
              "    </tr>\n",
              "    <tr>\n",
              "      <th>операции с недвижимостью</th>\n",
              "      <td>669</td>\n",
              "    </tr>\n",
              "    <tr>\n",
              "      <th>операции со своей недвижимостью</th>\n",
              "      <td>623</td>\n",
              "    </tr>\n",
              "    <tr>\n",
              "      <th>покупка жилой недвижимости</th>\n",
              "      <td>599</td>\n",
              "    </tr>\n",
              "    <tr>\n",
              "      <th>покупка жилья</th>\n",
              "      <td>634</td>\n",
              "    </tr>\n",
              "    <tr>\n",
              "      <th>покупка жилья для сдачи</th>\n",
              "      <td>647</td>\n",
              "    </tr>\n",
              "    <tr>\n",
              "      <th>покупка жилья для семьи</th>\n",
              "      <td>636</td>\n",
              "    </tr>\n",
              "    <tr>\n",
              "      <th>покупка коммерческой недвижимости</th>\n",
              "      <td>655</td>\n",
              "    </tr>\n",
              "    <tr>\n",
              "      <th>покупка недвижимости</th>\n",
              "      <td>612</td>\n",
              "    </tr>\n",
              "    <tr>\n",
              "      <th>покупка своего жилья</th>\n",
              "      <td>618</td>\n",
              "    </tr>\n",
              "    <tr>\n",
              "      <th>ремонт жилью</th>\n",
              "      <td>602</td>\n",
              "    </tr>\n",
              "    <tr>\n",
              "      <th>строительство жилой недвижимости</th>\n",
              "      <td>617</td>\n",
              "    </tr>\n",
              "    <tr>\n",
              "      <th>строительство недвижимости</th>\n",
              "      <td>619</td>\n",
              "    </tr>\n",
              "    <tr>\n",
              "      <th>строительство собственной недвижимости</th>\n",
              "      <td>626</td>\n",
              "    </tr>\n",
              "    <tr>\n",
              "      <th rowspan=\"9\" valign=\"top\">получение образования</th>\n",
              "      <th>высшее образование</th>\n",
              "      <td>443</td>\n",
              "    </tr>\n",
              "    <tr>\n",
              "      <th>дополнительное образование</th>\n",
              "      <td>453</td>\n",
              "    </tr>\n",
              "    <tr>\n",
              "      <th>заняться высшим образованием</th>\n",
              "      <td>493</td>\n",
              "    </tr>\n",
              "    <tr>\n",
              "      <th>заняться образованием</th>\n",
              "      <td>407</td>\n",
              "    </tr>\n",
              "    <tr>\n",
              "      <th>образование</th>\n",
              "      <td>439</td>\n",
              "    </tr>\n",
              "    <tr>\n",
              "      <th>получение высшего образования</th>\n",
              "      <td>423</td>\n",
              "    </tr>\n",
              "    <tr>\n",
              "      <th>получение дополнительного образования</th>\n",
              "      <td>442</td>\n",
              "    </tr>\n",
              "    <tr>\n",
              "      <th>получение образования</th>\n",
              "      <td>439</td>\n",
              "    </tr>\n",
              "    <tr>\n",
              "      <th>профильное образование</th>\n",
              "      <td>431</td>\n",
              "    </tr>\n",
              "    <tr>\n",
              "      <th rowspan=\"3\" valign=\"top\">проведение свадьбы</th>\n",
              "      <th>на проведение свадьбы</th>\n",
              "      <td>759</td>\n",
              "    </tr>\n",
              "    <tr>\n",
              "      <th>свадьба</th>\n",
              "      <td>785</td>\n",
              "    </tr>\n",
              "    <tr>\n",
              "      <th>сыграть свадьбу</th>\n",
              "      <td>755</td>\n",
              "    </tr>\n",
              "  </tbody>\n",
              "</table>\n",
              "</div>\n",
              "      <button class=\"colab-df-convert\" onclick=\"convertToInteractive('df-8b6586dd-505b-4fec-8658-970f06ba077a')\"\n",
              "              title=\"Convert this dataframe to an interactive table.\"\n",
              "              style=\"display:none;\">\n",
              "        \n",
              "  <svg xmlns=\"http://www.w3.org/2000/svg\" height=\"24px\"viewBox=\"0 0 24 24\"\n",
              "       width=\"24px\">\n",
              "    <path d=\"M0 0h24v24H0V0z\" fill=\"none\"/>\n",
              "    <path d=\"M18.56 5.44l.94 2.06.94-2.06 2.06-.94-2.06-.94-.94-2.06-.94 2.06-2.06.94zm-11 1L8.5 8.5l.94-2.06 2.06-.94-2.06-.94L8.5 2.5l-.94 2.06-2.06.94zm10 10l.94 2.06.94-2.06 2.06-.94-2.06-.94-.94-2.06-.94 2.06-2.06.94z\"/><path d=\"M17.41 7.96l-1.37-1.37c-.4-.4-.92-.59-1.43-.59-.52 0-1.04.2-1.43.59L10.3 9.45l-7.72 7.72c-.78.78-.78 2.05 0 2.83L4 21.41c.39.39.9.59 1.41.59.51 0 1.02-.2 1.41-.59l7.78-7.78 2.81-2.81c.8-.78.8-2.07 0-2.86zM5.41 20L4 18.59l7.72-7.72 1.47 1.35L5.41 20z\"/>\n",
              "  </svg>\n",
              "      </button>\n",
              "      \n",
              "  <style>\n",
              "    .colab-df-container {\n",
              "      display:flex;\n",
              "      flex-wrap:wrap;\n",
              "      gap: 12px;\n",
              "    }\n",
              "\n",
              "    .colab-df-convert {\n",
              "      background-color: #E8F0FE;\n",
              "      border: none;\n",
              "      border-radius: 50%;\n",
              "      cursor: pointer;\n",
              "      display: none;\n",
              "      fill: #1967D2;\n",
              "      height: 32px;\n",
              "      padding: 0 0 0 0;\n",
              "      width: 32px;\n",
              "    }\n",
              "\n",
              "    .colab-df-convert:hover {\n",
              "      background-color: #E2EBFA;\n",
              "      box-shadow: 0px 1px 2px rgba(60, 64, 67, 0.3), 0px 1px 3px 1px rgba(60, 64, 67, 0.15);\n",
              "      fill: #174EA6;\n",
              "    }\n",
              "\n",
              "    [theme=dark] .colab-df-convert {\n",
              "      background-color: #3B4455;\n",
              "      fill: #D2E3FC;\n",
              "    }\n",
              "\n",
              "    [theme=dark] .colab-df-convert:hover {\n",
              "      background-color: #434B5C;\n",
              "      box-shadow: 0px 1px 3px 1px rgba(0, 0, 0, 0.15);\n",
              "      filter: drop-shadow(0px 1px 2px rgba(0, 0, 0, 0.3));\n",
              "      fill: #FFFFFF;\n",
              "    }\n",
              "  </style>\n",
              "\n",
              "      <script>\n",
              "        const buttonEl =\n",
              "          document.querySelector('#df-8b6586dd-505b-4fec-8658-970f06ba077a button.colab-df-convert');\n",
              "        buttonEl.style.display =\n",
              "          google.colab.kernel.accessAllowed ? 'block' : 'none';\n",
              "\n",
              "        async function convertToInteractive(key) {\n",
              "          const element = document.querySelector('#df-8b6586dd-505b-4fec-8658-970f06ba077a');\n",
              "          const dataTable =\n",
              "            await google.colab.kernel.invokeFunction('convertToInteractive',\n",
              "                                                     [key], {});\n",
              "          if (!dataTable) return;\n",
              "\n",
              "          const docLinkHtml = 'Like what you see? Visit the ' +\n",
              "            '<a target=\"_blank\" href=https://colab.research.google.com/notebooks/data_table.ipynb>data table notebook</a>'\n",
              "            + ' to learn more about interactive tables.';\n",
              "          element.innerHTML = '';\n",
              "          dataTable['output_type'] = 'display_data';\n",
              "          await google.colab.output.renderOutput(dataTable, element);\n",
              "          const docLink = document.createElement('div');\n",
              "          docLink.innerHTML = docLinkHtml;\n",
              "          element.appendChild(docLink);\n",
              "        }\n",
              "      </script>\n",
              "    </div>\n",
              "  </div>\n",
              "  "
            ]
          },
          "metadata": {},
          "execution_count": 39
        }
      ],
      "source": [
        "def purpose_category(purpose):\n",
        "    \n",
        "    if 'авто' in purpose:\n",
        "        return 'операции с автомобилем'\n",
        "    if 'свад' in purpose:\n",
        "        return 'проведение свадьбы'\n",
        "    if ('жиль' in purpose) | ('недвиж' in purpose):\n",
        "        return 'операции с недвижимостью'\n",
        "    if 'образ' in purpose:\n",
        "        return 'получение образования'   \n",
        "    return 'other' \n",
        "\n",
        "# Применим функцию `purpose_category` к столбцу `purpose`\n",
        "data['purpose_category'] = data['purpose'].apply(purpose_category)\n",
        "\n",
        "# Посмотрим на таблицу\n",
        "display(data.head())\n",
        "\n",
        "# Проверим, что в столбце нет лишних значений и категории присвоены корректно\n",
        "data.groupby(['purpose_category', 'purpose']).agg({'purpose': 'count'})"
      ]
    },
    {
      "cell_type": "code",
      "execution_count": 40,
      "id": "dad4a0cf",
      "metadata": {
        "colab": {
          "base_uri": "https://localhost:8080/",
          "height": 175
        },
        "id": "dad4a0cf",
        "outputId": "7ca3b5af-ad81-4931-cb68-d39bfd378949"
      },
      "outputs": [
        {
          "output_type": "execute_result",
          "data": {
            "text/plain": [
              "<pandas.io.formats.style.Styler at 0x7f836e823510>"
            ],
            "text/html": [
              "<style type=\"text/css\">\n",
              "#T_80356_row0_col0, #T_80356_row0_col1 {\n",
              "  background-color: #000004;\n",
              "  color: #f1f1f1;\n",
              "}\n",
              "#T_80356_row1_col0, #T_80356_row1_col1 {\n",
              "  background-color: #fb9606;\n",
              "  color: #000000;\n",
              "}\n",
              "#T_80356_row2_col0, #T_80356_row2_col1 {\n",
              "  background-color: #fca60c;\n",
              "  color: #000000;\n",
              "}\n",
              "#T_80356_row3_col0, #T_80356_row3_col1 {\n",
              "  background-color: #fcffa4;\n",
              "  color: #000000;\n",
              "}\n",
              "</style>\n",
              "<table id=\"T_80356_\" class=\"dataframe\">\n",
              "  <thead>\n",
              "    <tr>\n",
              "      <th class=\"blank level0\" >&nbsp;</th>\n",
              "      <th class=\"col_heading level0 col0\" >purpose_count</th>\n",
              "      <th class=\"col_heading level0 col1\" >purpose_part</th>\n",
              "    </tr>\n",
              "  </thead>\n",
              "  <tbody>\n",
              "    <tr>\n",
              "      <th id=\"T_80356_level0_row0\" class=\"row_heading level0 row0\" >операции с недвижимостью</th>\n",
              "      <td id=\"T_80356_row0_col0\" class=\"data row0 col0\" >10703</td>\n",
              "      <td id=\"T_80356_row0_col1\" class=\"data row0 col1\" >50.4%</td>\n",
              "    </tr>\n",
              "    <tr>\n",
              "      <th id=\"T_80356_level0_row1\" class=\"row_heading level0 row1\" >операции с автомобилем</th>\n",
              "      <td id=\"T_80356_row1_col0\" class=\"data row1 col0\" >4258</td>\n",
              "      <td id=\"T_80356_row1_col1\" class=\"data row1 col1\" >20.1%</td>\n",
              "    </tr>\n",
              "    <tr>\n",
              "      <th id=\"T_80356_level0_row2\" class=\"row_heading level0 row2\" >получение образования</th>\n",
              "      <td id=\"T_80356_row2_col0\" class=\"data row2 col0\" >3970</td>\n",
              "      <td id=\"T_80356_row2_col1\" class=\"data row2 col1\" >18.7%</td>\n",
              "    </tr>\n",
              "    <tr>\n",
              "      <th id=\"T_80356_level0_row3\" class=\"row_heading level0 row3\" >проведение свадьбы</th>\n",
              "      <td id=\"T_80356_row3_col0\" class=\"data row3 col0\" >2299</td>\n",
              "      <td id=\"T_80356_row3_col1\" class=\"data row3 col1\" >10.8%</td>\n",
              "    </tr>\n",
              "  </tbody>\n",
              "</table>\n"
            ]
          },
          "metadata": {},
          "execution_count": 40
        }
      ],
      "source": [
        "# Также проверим распредление значений по категориям\n",
        "pd.concat([data['purpose_category'].value_counts(),\n",
        "           data['purpose_category'].value_counts(normalize=True)],\n",
        "          axis=1, keys=['purpose_count', 'purpose_part']).style.format({'purpose_part': '{:.1%}'}).background_gradient(cmap='inferno_r', axis=0)"
      ]
    },
    {
      "cell_type": "code",
      "execution_count": 41,
      "id": "0d2ed25b",
      "metadata": {
        "colab": {
          "base_uri": "https://localhost:8080/"
        },
        "id": "0d2ed25b",
        "outputId": "55287f6d-4450-4d3d-f28e-d0cd4db14e2c"
      },
      "outputs": [
        {
          "output_type": "execute_result",
          "data": {
            "text/plain": [
              "(21230, 12)"
            ]
          },
          "metadata": {},
          "execution_count": 41
        }
      ],
      "source": [
        "# Проверим информацию о размере датафрейма\n",
        "data.shape"
      ]
    },
    {
      "cell_type": "markdown",
      "id": "6805d86a",
      "metadata": {
        "id": "6805d86a"
      },
      "source": [
        "Категоризация доходов и целей кредита завершена!"
      ]
    },
    {
      "cell_type": "markdown",
      "id": "36827454",
      "metadata": {
        "id": "36827454"
      },
      "source": [
        "## 3. Ответы на вопросы"
      ]
    },
    {
      "cell_type": "markdown",
      "id": "a3b80ce0",
      "metadata": {
        "id": "a3b80ce0"
      },
      "source": [
        "Чтобы ответить на вопросы исследования, создадим сводные таблицы и посчитаем количество клиентов без задолженности и с задолженностью, а также посчитаем долю клиентов с задолженностью от общего числа клиентов в каждой категории.\n",
        "\n",
        "Будем считать, что значение 0 в столбце `debt` означает, что задолженность отсутствует, а значение 1 означает, что есть задолженность."
      ]
    },
    {
      "cell_type": "code",
      "execution_count": 42,
      "id": "2ff944c8",
      "metadata": {
        "id": "2ff944c8"
      },
      "outputs": [],
      "source": [
        "# Напишем функцию, которая на вход принимает название датафрейма и столбца, по которому нужно построить сводную таблицу и рассчитать доли клиентов\n",
        "def debt_by_column(df, row):\n",
        "    try:\n",
        "        df = df.pivot_table(index=row, values='debt', aggfunc=['count', 'sum', 'mean'], fill_value=0)\n",
        "        df.columns = ['total_count', 'have_debt', 'debtors_part']\n",
        "        df.reset_index(inplace=True)\n",
        "        return df\n",
        "    except:\n",
        "        print('Проверьте значения аргументов')   \n",
        "\n",
        "# Напишем функцию, которая раскрашивает наши данные определенным образом\n",
        "def make_it_nice(df, col='debtors_part'):\n",
        "  try:\n",
        "    df = df.style.format({col:'{:.1%}'}).background_gradient(subset=col, cmap='inferno_r', axis=0)\n",
        "    return df\n",
        "  except:\n",
        "    print('Проверьте значения аргументов')           "
      ]
    },
    {
      "cell_type": "markdown",
      "id": "92e93ac6",
      "metadata": {
        "id": "92e93ac6"
      },
      "source": [
        "### Вопрос 1: Есть ли зависимость между количеством детей и возвратом кредита в срок?"
      ]
    },
    {
      "cell_type": "code",
      "execution_count": 43,
      "id": "38551672",
      "metadata": {
        "colab": {
          "base_uri": "https://localhost:8080/",
          "height": 237
        },
        "id": "38551672",
        "outputId": "853f0bef-048b-4320-cc18-6e2c53c19a2c"
      },
      "outputs": [
        {
          "output_type": "execute_result",
          "data": {
            "text/plain": [
              "<pandas.io.formats.style.Styler at 0x7f8361324e90>"
            ],
            "text/html": [
              "<style type=\"text/css\">\n",
              "#T_9766d_row0_col3 {\n",
              "  background-color: #4c0c6b;\n",
              "  color: #f1f1f1;\n",
              "}\n",
              "#T_9766d_row1_col3 {\n",
              "  background-color: #09061f;\n",
              "  color: #f1f1f1;\n",
              "}\n",
              "#T_9766d_row2_col3 {\n",
              "  background-color: #02020e;\n",
              "  color: #f1f1f1;\n",
              "}\n",
              "#T_9766d_row3_col3 {\n",
              "  background-color: #2d0b59;\n",
              "  color: #f1f1f1;\n",
              "}\n",
              "#T_9766d_row4_col3 {\n",
              "  background-color: #000004;\n",
              "  color: #f1f1f1;\n",
              "}\n",
              "#T_9766d_row5_col3 {\n",
              "  background-color: #fcffa4;\n",
              "  color: #000000;\n",
              "}\n",
              "</style>\n",
              "<table id=\"T_9766d_\" class=\"dataframe\">\n",
              "  <thead>\n",
              "    <tr>\n",
              "      <th class=\"blank level0\" >&nbsp;</th>\n",
              "      <th class=\"col_heading level0 col0\" >children</th>\n",
              "      <th class=\"col_heading level0 col1\" >total_count</th>\n",
              "      <th class=\"col_heading level0 col2\" >have_debt</th>\n",
              "      <th class=\"col_heading level0 col3\" >debtors_part</th>\n",
              "    </tr>\n",
              "  </thead>\n",
              "  <tbody>\n",
              "    <tr>\n",
              "      <th id=\"T_9766d_level0_row0\" class=\"row_heading level0 row0\" >0</th>\n",
              "      <td id=\"T_9766d_row0_col0\" class=\"data row0 col0\" >0</td>\n",
              "      <td id=\"T_9766d_row0_col1\" class=\"data row0 col1\" >14021</td>\n",
              "      <td id=\"T_9766d_row0_col2\" class=\"data row0 col2\" >1058</td>\n",
              "      <td id=\"T_9766d_row0_col3\" class=\"data row0 col3\" >7.5%</td>\n",
              "    </tr>\n",
              "    <tr>\n",
              "      <th id=\"T_9766d_level0_row1\" class=\"row_heading level0 row1\" >1</th>\n",
              "      <td id=\"T_9766d_row1_col0\" class=\"data row1 col0\" >1</td>\n",
              "      <td id=\"T_9766d_row1_col1\" class=\"data row1 col1\" >4792</td>\n",
              "      <td id=\"T_9766d_row1_col2\" class=\"data row1 col2\" >441</td>\n",
              "      <td id=\"T_9766d_row1_col3\" class=\"data row1 col3\" >9.2%</td>\n",
              "    </tr>\n",
              "    <tr>\n",
              "      <th id=\"T_9766d_level0_row2\" class=\"row_heading level0 row2\" >2</th>\n",
              "      <td id=\"T_9766d_row2_col0\" class=\"data row2 col0\" >2</td>\n",
              "      <td id=\"T_9766d_row2_col1\" class=\"data row2 col1\" >2039</td>\n",
              "      <td id=\"T_9766d_row2_col2\" class=\"data row2 col2\" >194</td>\n",
              "      <td id=\"T_9766d_row2_col3\" class=\"data row2 col3\" >9.5%</td>\n",
              "    </tr>\n",
              "    <tr>\n",
              "      <th id=\"T_9766d_level0_row3\" class=\"row_heading level0 row3\" >3</th>\n",
              "      <td id=\"T_9766d_row3_col0\" class=\"data row3 col0\" >3</td>\n",
              "      <td id=\"T_9766d_row3_col1\" class=\"data row3 col1\" >328</td>\n",
              "      <td id=\"T_9766d_row3_col2\" class=\"data row3 col2\" >27</td>\n",
              "      <td id=\"T_9766d_row3_col3\" class=\"data row3 col3\" >8.2%</td>\n",
              "    </tr>\n",
              "    <tr>\n",
              "      <th id=\"T_9766d_level0_row4\" class=\"row_heading level0 row4\" >4</th>\n",
              "      <td id=\"T_9766d_row4_col0\" class=\"data row4 col0\" >4</td>\n",
              "      <td id=\"T_9766d_row4_col1\" class=\"data row4 col1\" >41</td>\n",
              "      <td id=\"T_9766d_row4_col2\" class=\"data row4 col2\" >4</td>\n",
              "      <td id=\"T_9766d_row4_col3\" class=\"data row4 col3\" >9.8%</td>\n",
              "    </tr>\n",
              "    <tr>\n",
              "      <th id=\"T_9766d_level0_row5\" class=\"row_heading level0 row5\" >5</th>\n",
              "      <td id=\"T_9766d_row5_col0\" class=\"data row5 col0\" >5</td>\n",
              "      <td id=\"T_9766d_row5_col1\" class=\"data row5 col1\" >9</td>\n",
              "      <td id=\"T_9766d_row5_col2\" class=\"data row5 col2\" >0</td>\n",
              "      <td id=\"T_9766d_row5_col3\" class=\"data row5 col3\" >0.0%</td>\n",
              "    </tr>\n",
              "  </tbody>\n",
              "</table>\n"
            ]
          },
          "metadata": {},
          "execution_count": 43
        }
      ],
      "source": [
        "kids = debt_by_column(data, 'children')\n",
        "make_it_nice(kids)"
      ]
    },
    {
      "cell_type": "markdown",
      "id": "aea24222",
      "metadata": {
        "id": "aea24222"
      },
      "source": [
        "Группы по количеству детей распределены неравномерно: больше всего заемщиков, у которых нет детей. Поэтому имеет смысл сделать еще один расчет: должники, у которых нет детей, и должники, у которых есть дети."
      ]
    },
    {
      "cell_type": "code",
      "execution_count": 44,
      "id": "a7ebd65b",
      "metadata": {
        "colab": {
          "base_uri": "https://localhost:8080/",
          "height": 112
        },
        "id": "a7ebd65b",
        "outputId": "f32c9e63-b69a-4e24-81a3-ad572e91ffc8"
      },
      "outputs": [
        {
          "output_type": "execute_result",
          "data": {
            "text/plain": [
              "<pandas.io.formats.style.Styler at 0x7f8361d01f50>"
            ],
            "text/html": [
              "<style type=\"text/css\">\n",
              "#T_02ad4_row0_col3 {\n",
              "  background-color: #fcffa4;\n",
              "  color: #000000;\n",
              "}\n",
              "#T_02ad4_row1_col3 {\n",
              "  background-color: #000004;\n",
              "  color: #f1f1f1;\n",
              "}\n",
              "</style>\n",
              "<table id=\"T_02ad4_\" class=\"dataframe\">\n",
              "  <thead>\n",
              "    <tr>\n",
              "      <th class=\"blank level0\" >&nbsp;</th>\n",
              "      <th class=\"col_heading level0 col0\" >children</th>\n",
              "      <th class=\"col_heading level0 col1\" >total_count</th>\n",
              "      <th class=\"col_heading level0 col2\" >have_debt</th>\n",
              "      <th class=\"col_heading level0 col3\" >debtors_part</th>\n",
              "    </tr>\n",
              "  </thead>\n",
              "  <tbody>\n",
              "    <tr>\n",
              "      <th id=\"T_02ad4_level0_row0\" class=\"row_heading level0 row0\" >0</th>\n",
              "      <td id=\"T_02ad4_row0_col0\" class=\"data row0 col0\" >0</td>\n",
              "      <td id=\"T_02ad4_row0_col1\" class=\"data row0 col1\" >14021</td>\n",
              "      <td id=\"T_02ad4_row0_col2\" class=\"data row0 col2\" >1058</td>\n",
              "      <td id=\"T_02ad4_row0_col3\" class=\"data row0 col3\" >7.5%</td>\n",
              "    </tr>\n",
              "    <tr>\n",
              "      <th id=\"T_02ad4_level0_row1\" class=\"row_heading level0 row1\" >1</th>\n",
              "      <td id=\"T_02ad4_row1_col0\" class=\"data row1 col0\" >1+</td>\n",
              "      <td id=\"T_02ad4_row1_col1\" class=\"data row1 col1\" >7209</td>\n",
              "      <td id=\"T_02ad4_row1_col2\" class=\"data row1 col2\" >666</td>\n",
              "      <td id=\"T_02ad4_row1_col3\" class=\"data row1 col3\" >9.2%</td>\n",
              "    </tr>\n",
              "  </tbody>\n",
              "</table>\n"
            ]
          },
          "metadata": {},
          "execution_count": 44
        }
      ],
      "source": [
        "df_kids = data[['children', 'debt']].copy()\n",
        "df_kids.loc[df_kids['children'] > 0, 'children'] = '1+'\n",
        "df_kids = debt_by_column(df_kids, 'children')\n",
        "make_it_nice(df_kids)"
      ]
    },
    {
      "cell_type": "markdown",
      "id": "64c5539a",
      "metadata": {
        "id": "64c5539a"
      },
      "source": [
        "**Вывод 1:**"
      ]
    },
    {
      "cell_type": "markdown",
      "id": "37cb3b51",
      "metadata": {
        "id": "37cb3b51"
      },
      "source": [
        "Только заемщики с 5 детьми не имеют задержек с выплатой кредита. Это можно объяснить крайне малым размером выборки по данному критерию, и этот вывод не может быть признан достоверным.\n",
        "\n",
        "Расчет по двум критериям: заемщики без детей и заемщики с детьми показывает, что заемщики без детей чаще возвращают кредиты в срок, чем заемщики с детьми."
      ]
    },
    {
      "cell_type": "markdown",
      "id": "ea973c4c",
      "metadata": {
        "id": "ea973c4c"
      },
      "source": [
        "### Вопрос 2: Есть ли зависимость между семейным положением и возвратом кредита в срок?"
      ]
    },
    {
      "cell_type": "code",
      "execution_count": 45,
      "id": "9b205698",
      "metadata": {
        "scrolled": true,
        "colab": {
          "base_uri": "https://localhost:8080/",
          "height": 237
        },
        "id": "9b205698",
        "outputId": "e331be2d-9803-4ae0-aac7-98a74bf808ab"
      },
      "outputs": [
        {
          "output_type": "execute_result",
          "data": {
            "text/plain": [
              "<pandas.io.formats.style.Styler at 0x7f8361837b10>"
            ],
            "text/html": [
              "<style type=\"text/css\">\n",
              "#T_97da6_row0_col3 {\n",
              "  background-color: #f1731d;\n",
              "  color: #f1f1f1;\n",
              "}\n",
              "#T_97da6_row1_col3 {\n",
              "  background-color: #290b55;\n",
              "  color: #f1f1f1;\n",
              "}\n",
              "#T_97da6_row2_col3 {\n",
              "  background-color: #fcffa4;\n",
              "  color: #000000;\n",
              "}\n",
              "#T_97da6_row3_col3 {\n",
              "  background-color: #fcb014;\n",
              "  color: #000000;\n",
              "}\n",
              "#T_97da6_row4_col3 {\n",
              "  background-color: #000004;\n",
              "  color: #f1f1f1;\n",
              "}\n",
              "</style>\n",
              "<table id=\"T_97da6_\" class=\"dataframe\">\n",
              "  <thead>\n",
              "    <tr>\n",
              "      <th class=\"blank level0\" >&nbsp;</th>\n",
              "      <th class=\"col_heading level0 col0\" >family_status_id</th>\n",
              "      <th class=\"col_heading level0 col1\" >total_count</th>\n",
              "      <th class=\"col_heading level0 col2\" >have_debt</th>\n",
              "      <th class=\"col_heading level0 col3\" >debtors_part</th>\n",
              "    </tr>\n",
              "    <tr>\n",
              "      <th class=\"index_name level0\" >family_status</th>\n",
              "      <th class=\"blank col0\" >&nbsp;</th>\n",
              "      <th class=\"blank col1\" >&nbsp;</th>\n",
              "      <th class=\"blank col2\" >&nbsp;</th>\n",
              "      <th class=\"blank col3\" >&nbsp;</th>\n",
              "    </tr>\n",
              "  </thead>\n",
              "  <tbody>\n",
              "    <tr>\n",
              "      <th id=\"T_97da6_level0_row0\" class=\"row_heading level0 row0\" >женат / замужем</th>\n",
              "      <td id=\"T_97da6_row0_col0\" class=\"data row0 col0\" >0</td>\n",
              "      <td id=\"T_97da6_row0_col1\" class=\"data row0 col1\" >12213</td>\n",
              "      <td id=\"T_97da6_row0_col2\" class=\"data row0 col2\" >923</td>\n",
              "      <td id=\"T_97da6_row0_col3\" class=\"data row0 col3\" >7.6%</td>\n",
              "    </tr>\n",
              "    <tr>\n",
              "      <th id=\"T_97da6_level0_row1\" class=\"row_heading level0 row1\" >гражданский брак</th>\n",
              "      <td id=\"T_97da6_row1_col0\" class=\"data row1 col0\" >1</td>\n",
              "      <td id=\"T_97da6_row1_col1\" class=\"data row1 col1\" >4112</td>\n",
              "      <td id=\"T_97da6_row1_col2\" class=\"data row1 col2\" >383</td>\n",
              "      <td id=\"T_97da6_row1_col3\" class=\"data row1 col3\" >9.3%</td>\n",
              "    </tr>\n",
              "    <tr>\n",
              "      <th id=\"T_97da6_level0_row2\" class=\"row_heading level0 row2\" >вдовец / вдова</th>\n",
              "      <td id=\"T_97da6_row2_col0\" class=\"data row2 col0\" >2</td>\n",
              "      <td id=\"T_97da6_row2_col1\" class=\"data row2 col1\" >946</td>\n",
              "      <td id=\"T_97da6_row2_col2\" class=\"data row2 col2\" >62</td>\n",
              "      <td id=\"T_97da6_row2_col3\" class=\"data row2 col3\" >6.6%</td>\n",
              "    </tr>\n",
              "    <tr>\n",
              "      <th id=\"T_97da6_level0_row3\" class=\"row_heading level0 row3\" >в разводе</th>\n",
              "      <td id=\"T_97da6_row3_col0\" class=\"data row3 col0\" >3</td>\n",
              "      <td id=\"T_97da6_row3_col1\" class=\"data row3 col1\" >1179</td>\n",
              "      <td id=\"T_97da6_row3_col2\" class=\"data row3 col2\" >84</td>\n",
              "      <td id=\"T_97da6_row3_col3\" class=\"data row3 col3\" >7.1%</td>\n",
              "    </tr>\n",
              "    <tr>\n",
              "      <th id=\"T_97da6_level0_row4\" class=\"row_heading level0 row4\" >не женат / не замужем</th>\n",
              "      <td id=\"T_97da6_row4_col0\" class=\"data row4 col0\" >4</td>\n",
              "      <td id=\"T_97da6_row4_col1\" class=\"data row4 col1\" >2780</td>\n",
              "      <td id=\"T_97da6_row4_col2\" class=\"data row4 col2\" >272</td>\n",
              "      <td id=\"T_97da6_row4_col3\" class=\"data row4 col3\" >9.8%</td>\n",
              "    </tr>\n",
              "  </tbody>\n",
              "</table>\n"
            ]
          },
          "metadata": {},
          "execution_count": 45
        }
      ],
      "source": [
        "# Подставляем значения из словаря по индексам\n",
        "family = debt_by_column(data, 'family_status_id').set_index(family_dict['family_status'])\n",
        "make_it_nice(family)"
      ]
    },
    {
      "cell_type": "markdown",
      "id": "67053cef",
      "metadata": {
        "id": "67053cef"
      },
      "source": [
        "Укрупним группы: выделим группу заемщиков, состоящих в браке, и группу заемщиков с другими статусами."
      ]
    },
    {
      "cell_type": "code",
      "execution_count": 46,
      "id": "2ffb9f32",
      "metadata": {
        "colab": {
          "base_uri": "https://localhost:8080/",
          "height": 112
        },
        "id": "2ffb9f32",
        "outputId": "a7bc4d87-ac91-4a3a-901a-19681fea9a4c"
      },
      "outputs": [
        {
          "output_type": "execute_result",
          "data": {
            "text/plain": [
              "<pandas.io.formats.style.Styler at 0x7f83612e9f50>"
            ],
            "text/html": [
              "<style type=\"text/css\">\n",
              "#T_0003f_row0_col3 {\n",
              "  background-color: #fcffa4;\n",
              "  color: #000000;\n",
              "}\n",
              "#T_0003f_row1_col3 {\n",
              "  background-color: #000004;\n",
              "  color: #f1f1f1;\n",
              "}\n",
              "</style>\n",
              "<table id=\"T_0003f_\" class=\"dataframe\">\n",
              "  <thead>\n",
              "    <tr>\n",
              "      <th class=\"blank level0\" >&nbsp;</th>\n",
              "      <th class=\"col_heading level0 col0\" >family_status_id</th>\n",
              "      <th class=\"col_heading level0 col1\" >total_count</th>\n",
              "      <th class=\"col_heading level0 col2\" >have_debt</th>\n",
              "      <th class=\"col_heading level0 col3\" >debtors_part</th>\n",
              "    </tr>\n",
              "  </thead>\n",
              "  <tbody>\n",
              "    <tr>\n",
              "      <th id=\"T_0003f_level0_row0\" class=\"row_heading level0 row0\" >0</th>\n",
              "      <td id=\"T_0003f_row0_col0\" class=\"data row0 col0\" >женат / замужем</td>\n",
              "      <td id=\"T_0003f_row0_col1\" class=\"data row0 col1\" >12213</td>\n",
              "      <td id=\"T_0003f_row0_col2\" class=\"data row0 col2\" >923</td>\n",
              "      <td id=\"T_0003f_row0_col3\" class=\"data row0 col3\" >7.6%</td>\n",
              "    </tr>\n",
              "    <tr>\n",
              "      <th id=\"T_0003f_level0_row1\" class=\"row_heading level0 row1\" >1</th>\n",
              "      <td id=\"T_0003f_row1_col0\" class=\"data row1 col0\" >прочее</td>\n",
              "      <td id=\"T_0003f_row1_col1\" class=\"data row1 col1\" >9017</td>\n",
              "      <td id=\"T_0003f_row1_col2\" class=\"data row1 col2\" >801</td>\n",
              "      <td id=\"T_0003f_row1_col3\" class=\"data row1 col3\" >8.9%</td>\n",
              "    </tr>\n",
              "  </tbody>\n",
              "</table>\n"
            ]
          },
          "metadata": {},
          "execution_count": 46
        }
      ],
      "source": [
        "df_family = data[['family_status_id', 'debt']].copy()\n",
        "df_family.loc[(df_family['family_status_id'] != 0), 'family_status_id'] = 'прочее'\n",
        "df_family.loc[(df_family['family_status_id'] == 0), 'family_status_id'] = 'женат / замужем'\n",
        "df_family = debt_by_column(df_family, 'family_status_id')\n",
        "make_it_nice(df_family)"
      ]
    },
    {
      "cell_type": "markdown",
      "id": "d10a44eb",
      "metadata": {
        "id": "d10a44eb"
      },
      "source": [
        "**Вывод 2:**"
      ]
    },
    {
      "cell_type": "markdown",
      "id": "c9fb86d4",
      "metadata": {
        "id": "c9fb86d4"
      },
      "source": [
        "Доля клиентов, которые имеют задолженность по кредиту, ниже среди клиентов со статусом \"вдовец / вдова\" и \"в разводе\", и выше среди клиентов с семейным статусом \"не женат / не замужем\" и \"гражданский брак\". Кроме того, заемщики, состоящие в браке, имеют меньше просрочек, чем прочие категории заемщиков."
      ]
    },
    {
      "cell_type": "markdown",
      "id": "bbe573d2",
      "metadata": {
        "id": "bbe573d2"
      },
      "source": [
        "### Вопрос 3: Есть ли зависимость между уровнем дохода и возвратом кредита в срок?"
      ]
    },
    {
      "cell_type": "code",
      "execution_count": 47,
      "id": "1fb84ebd",
      "metadata": {
        "colab": {
          "base_uri": "https://localhost:8080/",
          "height": 206
        },
        "id": "1fb84ebd",
        "outputId": "dfcea36e-aaf2-4064-a9c8-0786736fa53e"
      },
      "outputs": [
        {
          "output_type": "execute_result",
          "data": {
            "text/plain": [
              "<pandas.io.formats.style.Styler at 0x7f836130b750>"
            ],
            "text/html": [
              "<style type=\"text/css\">\n",
              "#T_4121c_row0_col3 {\n",
              "  background-color: #82206c;\n",
              "  color: #f1f1f1;\n",
              "}\n",
              "#T_4121c_row1_col3 {\n",
              "  background-color: #ec6726;\n",
              "  color: #f1f1f1;\n",
              "}\n",
              "#T_4121c_row2_col3 {\n",
              "  background-color: #400a67;\n",
              "  color: #f1f1f1;\n",
              "}\n",
              "#T_4121c_row3_col3 {\n",
              "  background-color: #fcffa4;\n",
              "  color: #000000;\n",
              "}\n",
              "#T_4121c_row4_col3 {\n",
              "  background-color: #000004;\n",
              "  color: #f1f1f1;\n",
              "}\n",
              "</style>\n",
              "<table id=\"T_4121c_\" class=\"dataframe\">\n",
              "  <thead>\n",
              "    <tr>\n",
              "      <th class=\"blank level0\" >&nbsp;</th>\n",
              "      <th class=\"col_heading level0 col0\" >total_income_category</th>\n",
              "      <th class=\"col_heading level0 col1\" >total_count</th>\n",
              "      <th class=\"col_heading level0 col2\" >have_debt</th>\n",
              "      <th class=\"col_heading level0 col3\" >debtors_part</th>\n",
              "    </tr>\n",
              "  </thead>\n",
              "  <tbody>\n",
              "    <tr>\n",
              "      <th id=\"T_4121c_level0_row0\" class=\"row_heading level0 row0\" >0</th>\n",
              "      <td id=\"T_4121c_row0_col0\" class=\"data row0 col0\" >A</td>\n",
              "      <td id=\"T_4121c_row0_col1\" class=\"data row0 col1\" >25</td>\n",
              "      <td id=\"T_4121c_row0_col2\" class=\"data row0 col2\" >2</td>\n",
              "      <td id=\"T_4121c_row0_col3\" class=\"data row0 col3\" >8.0%</td>\n",
              "    </tr>\n",
              "    <tr>\n",
              "      <th id=\"T_4121c_level0_row1\" class=\"row_heading level0 row1\" >1</th>\n",
              "      <td id=\"T_4121c_row1_col0\" class=\"data row1 col0\" >B</td>\n",
              "      <td id=\"T_4121c_row1_col1\" class=\"data row1 col1\" >4987</td>\n",
              "      <td id=\"T_4121c_row1_col2\" class=\"data row1 col2\" >353</td>\n",
              "      <td id=\"T_4121c_row1_col3\" class=\"data row1 col3\" >7.1%</td>\n",
              "    </tr>\n",
              "    <tr>\n",
              "      <th id=\"T_4121c_level0_row2\" class=\"row_heading level0 row2\" >2</th>\n",
              "      <td id=\"T_4121c_row2_col0\" class=\"data row2 col0\" >C</td>\n",
              "      <td id=\"T_4121c_row2_col1\" class=\"data row2 col1\" >15849</td>\n",
              "      <td id=\"T_4121c_row2_col2\" class=\"data row2 col2\" >1346</td>\n",
              "      <td id=\"T_4121c_row2_col3\" class=\"data row2 col3\" >8.5%</td>\n",
              "    </tr>\n",
              "    <tr>\n",
              "      <th id=\"T_4121c_level0_row3\" class=\"row_heading level0 row3\" >3</th>\n",
              "      <td id=\"T_4121c_row3_col0\" class=\"data row3 col0\" >D</td>\n",
              "      <td id=\"T_4121c_row3_col1\" class=\"data row3 col1\" >347</td>\n",
              "      <td id=\"T_4121c_row3_col2\" class=\"data row3 col2\" >21</td>\n",
              "      <td id=\"T_4121c_row3_col3\" class=\"data row3 col3\" >6.1%</td>\n",
              "    </tr>\n",
              "    <tr>\n",
              "      <th id=\"T_4121c_level0_row4\" class=\"row_heading level0 row4\" >4</th>\n",
              "      <td id=\"T_4121c_row4_col0\" class=\"data row4 col0\" >E</td>\n",
              "      <td id=\"T_4121c_row4_col1\" class=\"data row4 col1\" >22</td>\n",
              "      <td id=\"T_4121c_row4_col2\" class=\"data row4 col2\" >2</td>\n",
              "      <td id=\"T_4121c_row4_col3\" class=\"data row4 col3\" >9.1%</td>\n",
              "    </tr>\n",
              "  </tbody>\n",
              "</table>\n"
            ]
          },
          "metadata": {},
          "execution_count": 47
        }
      ],
      "source": [
        "income = debt_by_column(data, 'total_income_category')\n",
        "make_it_nice(income)"
      ]
    },
    {
      "cell_type": "markdown",
      "id": "ac003c68",
      "metadata": {
        "id": "ac003c68"
      },
      "source": [
        "Сгруппируем заемщиков по уровню дохода: выше среднего, средний, ниже среднего, чтобы избавиться от групп со значениями меньше 30."
      ]
    },
    {
      "cell_type": "code",
      "execution_count": 48,
      "id": "e56f3215",
      "metadata": {
        "colab": {
          "base_uri": "https://localhost:8080/",
          "height": 143
        },
        "id": "e56f3215",
        "outputId": "e7d1fe47-b711-4c0a-a765-24561cd9ba20"
      },
      "outputs": [
        {
          "output_type": "execute_result",
          "data": {
            "text/plain": [
              "<pandas.io.formats.style.Styler at 0x7f8361d01590>"
            ],
            "text/html": [
              "<style type=\"text/css\">\n",
              "#T_441c9_row0_col3 {\n",
              "  background-color: #fcffa4;\n",
              "  color: #000000;\n",
              "}\n",
              "#T_441c9_row1_col3 {\n",
              "  background-color: #e35933;\n",
              "  color: #f1f1f1;\n",
              "}\n",
              "#T_441c9_row2_col3 {\n",
              "  background-color: #000004;\n",
              "  color: #f1f1f1;\n",
              "}\n",
              "</style>\n",
              "<table id=\"T_441c9_\" class=\"dataframe\">\n",
              "  <thead>\n",
              "    <tr>\n",
              "      <th class=\"blank level0\" >&nbsp;</th>\n",
              "      <th class=\"col_heading level0 col0\" >total_income_category</th>\n",
              "      <th class=\"col_heading level0 col1\" >total_count</th>\n",
              "      <th class=\"col_heading level0 col2\" >have_debt</th>\n",
              "      <th class=\"col_heading level0 col3\" >debtors_part</th>\n",
              "    </tr>\n",
              "  </thead>\n",
              "  <tbody>\n",
              "    <tr>\n",
              "      <th id=\"T_441c9_level0_row0\" class=\"row_heading level0 row0\" >0</th>\n",
              "      <td id=\"T_441c9_row0_col0\" class=\"data row0 col0\" >0-50К, ниже среднего</td>\n",
              "      <td id=\"T_441c9_row0_col1\" class=\"data row0 col1\" >369</td>\n",
              "      <td id=\"T_441c9_row0_col2\" class=\"data row0 col2\" >23</td>\n",
              "      <td id=\"T_441c9_row0_col3\" class=\"data row0 col3\" >6.2%</td>\n",
              "    </tr>\n",
              "    <tr>\n",
              "      <th id=\"T_441c9_level0_row1\" class=\"row_heading level0 row1\" >1</th>\n",
              "      <td id=\"T_441c9_row1_col0\" class=\"data row1 col0\" >200К+, выше среднего</td>\n",
              "      <td id=\"T_441c9_row1_col1\" class=\"data row1 col1\" >5012</td>\n",
              "      <td id=\"T_441c9_row1_col2\" class=\"data row1 col2\" >355</td>\n",
              "      <td id=\"T_441c9_row1_col3\" class=\"data row1 col3\" >7.1%</td>\n",
              "    </tr>\n",
              "    <tr>\n",
              "      <th id=\"T_441c9_level0_row2\" class=\"row_heading level0 row2\" >2</th>\n",
              "      <td id=\"T_441c9_row2_col0\" class=\"data row2 col0\" >50-200К, средний</td>\n",
              "      <td id=\"T_441c9_row2_col1\" class=\"data row2 col1\" >15849</td>\n",
              "      <td id=\"T_441c9_row2_col2\" class=\"data row2 col2\" >1346</td>\n",
              "      <td id=\"T_441c9_row2_col3\" class=\"data row2 col3\" >8.5%</td>\n",
              "    </tr>\n",
              "  </tbody>\n",
              "</table>\n"
            ]
          },
          "metadata": {},
          "execution_count": 48
        }
      ],
      "source": [
        "df_income = data[['total_income_category', 'debt']].copy()\n",
        "df_income.loc[(df_income['total_income_category'] == 'A') | (df_income['total_income_category'] == 'B'), 'total_income_category'] = '200К+, выше среднего'\n",
        "df_income.loc[(df_income['total_income_category'] == 'C'), 'total_income_category'] = '50-200К, средний'\n",
        "df_income.loc[(df_income['total_income_category'] == 'D') | (df_income['total_income_category'] == 'E'), 'total_income_category'] = '0-50К, ниже среднего'\n",
        "df_income = debt_by_column(df_income, 'total_income_category')\n",
        "make_it_nice(df_income)"
      ]
    },
    {
      "cell_type": "markdown",
      "id": "29e0c2a1",
      "metadata": {
        "id": "29e0c2a1"
      },
      "source": [
        "**Вывод 3:**"
      ]
    },
    {
      "cell_type": "markdown",
      "id": "20c4f05a",
      "metadata": {
        "id": "20c4f05a"
      },
      "source": [
        "В связи с тем, что выборка по заемщикам с категорией дохода А и E невелика, выводы по этим категориям нельзя считать достоверными. Поэтому группы укрупнили.\n",
        "\n",
        "Наибольший процент задолжености наблюдается у заемщиков с категорией дохода С (средний доход) - таких заемщиков больше всего. \n",
        "\n",
        "Наименьший процент задолженности у заемщиков с доходом ниже среднего - это можно объяснить тем, что банк более внимательно выбирает, кому из клиентов с доходами ниже среднего выдать кредит, а также выдает этим клиентам кредиты на небольшие суммы. Низкий процент задолженности не говорит о том, что нужно выдавать больше кредитов этим клиентам. Скорее, это свидетельство того, что банк грамотно выстроил работу с этой категорией клиентов.\n",
        "\n",
        "Кроме того, полученные результаты могут говорить о том, что учитывать только доход при выдаче кредита не всегда разумно - мы видим, что доля должников среди заемщиков с доходом выше среднего превышает долю должников с доходом ниже среднего. Это может говорить о том, что банк охотнее дает кредиты заемщикам с высоким доходом, но высокий доход не всегда гарантирует надежность заемщика."
      ]
    },
    {
      "cell_type": "markdown",
      "source": [
        "### Вопрос 4: Как уровень образования влияет на возврат кредита в срок?"
      ],
      "metadata": {
        "id": "hzbPoewbp18a"
      },
      "id": "hzbPoewbp18a"
    },
    {
      "cell_type": "markdown",
      "source": [
        "Проверим также, есть ли зависимость между уровнем образования и выплатой кредита."
      ],
      "metadata": {
        "id": "BpFX3ND8cxpH"
      },
      "id": "BpFX3ND8cxpH"
    },
    {
      "cell_type": "code",
      "source": [
        "# Подставляем значения из словаря по индексам\n",
        "education = debt_by_column(data, 'education_id').set_index(education_dict['education'])\n",
        "make_it_nice(education)"
      ],
      "metadata": {
        "colab": {
          "base_uri": "https://localhost:8080/",
          "height": 237
        },
        "id": "gPpU3C-ocaDt",
        "outputId": "2abca00b-0619-41dc-ecc7-d6b92cb66112"
      },
      "id": "gPpU3C-ocaDt",
      "execution_count": 49,
      "outputs": [
        {
          "output_type": "execute_result",
          "data": {
            "text/plain": [
              "<pandas.io.formats.style.Styler at 0x7f836136e750>"
            ],
            "text/html": [
              "<style type=\"text/css\">\n",
              "#T_8ee94_row0_col3 {\n",
              "  background-color: #c03a51;\n",
              "  color: #f1f1f1;\n",
              "}\n",
              "#T_8ee94_row1_col3 {\n",
              "  background-color: #390963;\n",
              "  color: #f1f1f1;\n",
              "}\n",
              "#T_8ee94_row2_col3 {\n",
              "  background-color: #310a5c;\n",
              "  color: #f1f1f1;\n",
              "}\n",
              "#T_8ee94_row3_col3 {\n",
              "  background-color: #000004;\n",
              "  color: #f1f1f1;\n",
              "}\n",
              "#T_8ee94_row4_col3 {\n",
              "  background-color: #fcffa4;\n",
              "  color: #000000;\n",
              "}\n",
              "</style>\n",
              "<table id=\"T_8ee94_\" class=\"dataframe\">\n",
              "  <thead>\n",
              "    <tr>\n",
              "      <th class=\"blank level0\" >&nbsp;</th>\n",
              "      <th class=\"col_heading level0 col0\" >education_id</th>\n",
              "      <th class=\"col_heading level0 col1\" >total_count</th>\n",
              "      <th class=\"col_heading level0 col2\" >have_debt</th>\n",
              "      <th class=\"col_heading level0 col3\" >debtors_part</th>\n",
              "    </tr>\n",
              "    <tr>\n",
              "      <th class=\"index_name level0\" >education</th>\n",
              "      <th class=\"blank col0\" >&nbsp;</th>\n",
              "      <th class=\"blank col1\" >&nbsp;</th>\n",
              "      <th class=\"blank col2\" >&nbsp;</th>\n",
              "      <th class=\"blank col3\" >&nbsp;</th>\n",
              "    </tr>\n",
              "  </thead>\n",
              "  <tbody>\n",
              "    <tr>\n",
              "      <th id=\"T_8ee94_level0_row0\" class=\"row_heading level0 row0\" >высшее</th>\n",
              "      <td id=\"T_8ee94_row0_col0\" class=\"data row0 col0\" >0</td>\n",
              "      <td id=\"T_8ee94_row0_col1\" class=\"data row0 col1\" >5192</td>\n",
              "      <td id=\"T_8ee94_row0_col2\" class=\"data row0 col2\" >277</td>\n",
              "      <td id=\"T_8ee94_row0_col3\" class=\"data row0 col3\" >5.3%</td>\n",
              "    </tr>\n",
              "    <tr>\n",
              "      <th id=\"T_8ee94_level0_row1\" class=\"row_heading level0 row1\" >среднее</th>\n",
              "      <td id=\"T_8ee94_row1_col0\" class=\"data row1 col0\" >1</td>\n",
              "      <td id=\"T_8ee94_row1_col1\" class=\"data row1 col1\" >15012</td>\n",
              "      <td id=\"T_8ee94_row1_col2\" class=\"data row1 col2\" >1348</td>\n",
              "      <td id=\"T_8ee94_row1_col3\" class=\"data row1 col3\" >9.0%</td>\n",
              "    </tr>\n",
              "    <tr>\n",
              "      <th id=\"T_8ee94_level0_row2\" class=\"row_heading level0 row2\" >неоконченное высшее</th>\n",
              "      <td id=\"T_8ee94_row2_col0\" class=\"data row2 col0\" >2</td>\n",
              "      <td id=\"T_8ee94_row2_col1\" class=\"data row2 col1\" >738</td>\n",
              "      <td id=\"T_8ee94_row2_col2\" class=\"data row2 col2\" >68</td>\n",
              "      <td id=\"T_8ee94_row2_col3\" class=\"data row2 col3\" >9.2%</td>\n",
              "    </tr>\n",
              "    <tr>\n",
              "      <th id=\"T_8ee94_level0_row3\" class=\"row_heading level0 row3\" >начальное</th>\n",
              "      <td id=\"T_8ee94_row3_col0\" class=\"data row3 col0\" >3</td>\n",
              "      <td id=\"T_8ee94_row3_col1\" class=\"data row3 col1\" >282</td>\n",
              "      <td id=\"T_8ee94_row3_col2\" class=\"data row3 col2\" >31</td>\n",
              "      <td id=\"T_8ee94_row3_col3\" class=\"data row3 col3\" >11.0%</td>\n",
              "    </tr>\n",
              "    <tr>\n",
              "      <th id=\"T_8ee94_level0_row4\" class=\"row_heading level0 row4\" >ученая степень</th>\n",
              "      <td id=\"T_8ee94_row4_col0\" class=\"data row4 col0\" >4</td>\n",
              "      <td id=\"T_8ee94_row4_col1\" class=\"data row4 col1\" >6</td>\n",
              "      <td id=\"T_8ee94_row4_col2\" class=\"data row4 col2\" >0</td>\n",
              "      <td id=\"T_8ee94_row4_col3\" class=\"data row4 col3\" >0.0%</td>\n",
              "    </tr>\n",
              "  </tbody>\n",
              "</table>\n"
            ]
          },
          "metadata": {},
          "execution_count": 49
        }
      ]
    },
    {
      "cell_type": "markdown",
      "source": [
        "Как видим, клиенты с высшим образованием имеют меньше проблем с погашением задолженности, чем клиенты, у которых другое образование. Возможно, здесь  также играет роль и доход. Сгруппируем данные по уровню уобразования и доходу и посмотрим, у какой группы просрочка больше."
      ],
      "metadata": {
        "id": "41pgSsDwdHGS"
      },
      "id": "41pgSsDwdHGS"
    },
    {
      "cell_type": "code",
      "source": [
        "edu_and_income = data[['education_id', 'total_income', 'total_income_category', 'debt']].copy()\n",
        "\n",
        "edu_and_income.loc[(edu_and_income['total_income_category'] == 'A') | (edu_and_income['total_income_category'] == 'B'), 'total_income_category'] = '200К+, выше среднего'\n",
        "edu_and_income.loc[(edu_and_income['total_income_category'] == 'C'), 'total_income_category'] = '50-200К, средний'\n",
        "edu_and_income.loc[(edu_and_income['total_income_category'] == 'D') | (edu_and_income['total_income_category'] == 'E'), 'total_income_category'] = '0-50К, ниже среднего'\n",
        "\n",
        "edu_and_income = (edu_and_income.groupby(['education_id', 'total_income_category'])\n",
        ".agg({'total_income': 'count', 'debt': 'mean'})\n",
        ".set_axis(['count_of_clients', 'debtors_part'], axis='columns')\n",
        ".reset_index())\n",
        "\n",
        "edu_and_income = edu_and_income.merge(education_dict, on='education_id')\n",
        "edu_and_income = edu_and_income[['education', 'total_income_category', 'count_of_clients', 'debtors_part']]\n",
        "\n",
        "make_it_nice(edu_and_income)"
      ],
      "metadata": {
        "colab": {
          "base_uri": "https://localhost:8080/",
          "height": 488
        },
        "id": "p1kBcAzydw0E",
        "outputId": "93eb5cb1-0cd5-4318-dc14-678ffab2a9be"
      },
      "id": "p1kBcAzydw0E",
      "execution_count": 50,
      "outputs": [
        {
          "output_type": "execute_result",
          "data": {
            "text/plain": [
              "<pandas.io.formats.style.Styler at 0x7f83610962d0>"
            ],
            "text/html": [
              "<style type=\"text/css\">\n",
              "#T_0accf_row0_col3 {\n",
              "  background-color: #f98b0b;\n",
              "  color: #f1f1f1;\n",
              "}\n",
              "#T_0accf_row1_col3 {\n",
              "  background-color: #e75e2e;\n",
              "  color: #f1f1f1;\n",
              "}\n",
              "#T_0accf_row2_col3 {\n",
              "  background-color: #c83f4b;\n",
              "  color: #f1f1f1;\n",
              "}\n",
              "#T_0accf_row3_col3 {\n",
              "  background-color: #a82e5f;\n",
              "  color: #f1f1f1;\n",
              "}\n",
              "#T_0accf_row4_col3 {\n",
              "  background-color: #7c1d6d;\n",
              "  color: #f1f1f1;\n",
              "}\n",
              "#T_0accf_row5_col3 {\n",
              "  background-color: #5d126e;\n",
              "  color: #f1f1f1;\n",
              "}\n",
              "#T_0accf_row6_col3, #T_0accf_row9_col3, #T_0accf_row12_col3, #T_0accf_row13_col3 {\n",
              "  background-color: #fcffa4;\n",
              "  color: #000000;\n",
              "}\n",
              "#T_0accf_row7_col3 {\n",
              "  background-color: #000004;\n",
              "  color: #f1f1f1;\n",
              "}\n",
              "#T_0accf_row8_col3 {\n",
              "  background-color: #88226a;\n",
              "  color: #f1f1f1;\n",
              "}\n",
              "#T_0accf_row10_col3 {\n",
              "  background-color: #440a68;\n",
              "  color: #f1f1f1;\n",
              "}\n",
              "#T_0accf_row11_col3 {\n",
              "  background-color: #08051d;\n",
              "  color: #f1f1f1;\n",
              "}\n",
              "</style>\n",
              "<table id=\"T_0accf_\" class=\"dataframe\">\n",
              "  <thead>\n",
              "    <tr>\n",
              "      <th class=\"blank level0\" >&nbsp;</th>\n",
              "      <th class=\"col_heading level0 col0\" >education</th>\n",
              "      <th class=\"col_heading level0 col1\" >total_income_category</th>\n",
              "      <th class=\"col_heading level0 col2\" >count_of_clients</th>\n",
              "      <th class=\"col_heading level0 col3\" >debtors_part</th>\n",
              "    </tr>\n",
              "  </thead>\n",
              "  <tbody>\n",
              "    <tr>\n",
              "      <th id=\"T_0accf_level0_row0\" class=\"row_heading level0 row0\" >0</th>\n",
              "      <td id=\"T_0accf_row0_col0\" class=\"data row0 col0\" >высшее</td>\n",
              "      <td id=\"T_0accf_row0_col1\" class=\"data row0 col1\" >0-50К, ниже среднего</td>\n",
              "      <td id=\"T_0accf_row0_col2\" class=\"data row0 col2\" >31</td>\n",
              "      <td id=\"T_0accf_row0_col3\" class=\"data row0 col3\" >3.2%</td>\n",
              "    </tr>\n",
              "    <tr>\n",
              "      <th id=\"T_0accf_level0_row1\" class=\"row_heading level0 row1\" >1</th>\n",
              "      <td id=\"T_0accf_row1_col0\" class=\"data row1 col0\" >высшее</td>\n",
              "      <td id=\"T_0accf_row1_col1\" class=\"data row1 col1\" >200К+, выше среднего</td>\n",
              "      <td id=\"T_0accf_row1_col2\" class=\"data row1 col2\" >1858</td>\n",
              "      <td id=\"T_0accf_row1_col3\" class=\"data row1 col3\" >4.5%</td>\n",
              "    </tr>\n",
              "    <tr>\n",
              "      <th id=\"T_0accf_level0_row2\" class=\"row_heading level0 row2\" >2</th>\n",
              "      <td id=\"T_0accf_row2_col0\" class=\"data row2 col0\" >высшее</td>\n",
              "      <td id=\"T_0accf_row2_col1\" class=\"data row2 col1\" >50-200К, средний</td>\n",
              "      <td id=\"T_0accf_row2_col2\" class=\"data row2 col2\" >3303</td>\n",
              "      <td id=\"T_0accf_row2_col3\" class=\"data row2 col3\" >5.8%</td>\n",
              "    </tr>\n",
              "    <tr>\n",
              "      <th id=\"T_0accf_level0_row3\" class=\"row_heading level0 row3\" >3</th>\n",
              "      <td id=\"T_0accf_row3_col0\" class=\"data row3 col0\" >среднее</td>\n",
              "      <td id=\"T_0accf_row3_col1\" class=\"data row3 col1\" >0-50К, ниже среднего</td>\n",
              "      <td id=\"T_0accf_row3_col2\" class=\"data row3 col2\" >320</td>\n",
              "      <td id=\"T_0accf_row3_col3\" class=\"data row3 col3\" >6.9%</td>\n",
              "    </tr>\n",
              "    <tr>\n",
              "      <th id=\"T_0accf_level0_row4\" class=\"row_heading level0 row4\" >4</th>\n",
              "      <td id=\"T_0accf_row4_col0\" class=\"data row4 col0\" >среднее</td>\n",
              "      <td id=\"T_0accf_row4_col1\" class=\"data row4 col1\" >200К+, выше среднего</td>\n",
              "      <td id=\"T_0accf_row4_col2\" class=\"data row4 col2\" >2897</td>\n",
              "      <td id=\"T_0accf_row4_col3\" class=\"data row4 col3\" >8.3%</td>\n",
              "    </tr>\n",
              "    <tr>\n",
              "      <th id=\"T_0accf_level0_row5\" class=\"row_heading level0 row5\" >5</th>\n",
              "      <td id=\"T_0accf_row5_col0\" class=\"data row5 col0\" >среднее</td>\n",
              "      <td id=\"T_0accf_row5_col1\" class=\"data row5 col1\" >50-200К, средний</td>\n",
              "      <td id=\"T_0accf_row5_col2\" class=\"data row5 col2\" >11795</td>\n",
              "      <td id=\"T_0accf_row5_col3\" class=\"data row5 col3\" >9.2%</td>\n",
              "    </tr>\n",
              "    <tr>\n",
              "      <th id=\"T_0accf_level0_row6\" class=\"row_heading level0 row6\" >6</th>\n",
              "      <td id=\"T_0accf_row6_col0\" class=\"data row6 col0\" >неоконченное высшее</td>\n",
              "      <td id=\"T_0accf_row6_col1\" class=\"data row6 col1\" >0-50К, ниже среднего</td>\n",
              "      <td id=\"T_0accf_row6_col2\" class=\"data row6 col2\" >3</td>\n",
              "      <td id=\"T_0accf_row6_col3\" class=\"data row6 col3\" >0.0%</td>\n",
              "    </tr>\n",
              "    <tr>\n",
              "      <th id=\"T_0accf_level0_row7\" class=\"row_heading level0 row7\" >7</th>\n",
              "      <td id=\"T_0accf_row7_col0\" class=\"data row7 col0\" >неоконченное высшее</td>\n",
              "      <td id=\"T_0accf_row7_col1\" class=\"data row7 col1\" >200К+, выше среднего</td>\n",
              "      <td id=\"T_0accf_row7_col2\" class=\"data row7 col2\" >215</td>\n",
              "      <td id=\"T_0accf_row7_col3\" class=\"data row7 col3\" >12.6%</td>\n",
              "    </tr>\n",
              "    <tr>\n",
              "      <th id=\"T_0accf_level0_row8\" class=\"row_heading level0 row8\" >8</th>\n",
              "      <td id=\"T_0accf_row8_col0\" class=\"data row8 col0\" >неоконченное высшее</td>\n",
              "      <td id=\"T_0accf_row8_col1\" class=\"data row8 col1\" >50-200К, средний</td>\n",
              "      <td id=\"T_0accf_row8_col2\" class=\"data row8 col2\" >520</td>\n",
              "      <td id=\"T_0accf_row8_col3\" class=\"data row8 col3\" >7.9%</td>\n",
              "    </tr>\n",
              "    <tr>\n",
              "      <th id=\"T_0accf_level0_row9\" class=\"row_heading level0 row9\" >9</th>\n",
              "      <td id=\"T_0accf_row9_col0\" class=\"data row9 col0\" >начальное</td>\n",
              "      <td id=\"T_0accf_row9_col1\" class=\"data row9 col1\" >0-50К, ниже среднего</td>\n",
              "      <td id=\"T_0accf_row9_col2\" class=\"data row9 col2\" >15</td>\n",
              "      <td id=\"T_0accf_row9_col3\" class=\"data row9 col3\" >0.0%</td>\n",
              "    </tr>\n",
              "    <tr>\n",
              "      <th id=\"T_0accf_level0_row10\" class=\"row_heading level0 row10\" >10</th>\n",
              "      <td id=\"T_0accf_row10_col0\" class=\"data row10 col0\" >начальное</td>\n",
              "      <td id=\"T_0accf_row10_col1\" class=\"data row10 col1\" >200К+, выше среднего</td>\n",
              "      <td id=\"T_0accf_row10_col2\" class=\"data row10 col2\" >40</td>\n",
              "      <td id=\"T_0accf_row10_col3\" class=\"data row10 col3\" >10.0%</td>\n",
              "    </tr>\n",
              "    <tr>\n",
              "      <th id=\"T_0accf_level0_row11\" class=\"row_heading level0 row11\" >11</th>\n",
              "      <td id=\"T_0accf_row11_col0\" class=\"data row11 col0\" >начальное</td>\n",
              "      <td id=\"T_0accf_row11_col1\" class=\"data row11 col1\" >50-200К, средний</td>\n",
              "      <td id=\"T_0accf_row11_col2\" class=\"data row11 col2\" >227</td>\n",
              "      <td id=\"T_0accf_row11_col3\" class=\"data row11 col3\" >11.9%</td>\n",
              "    </tr>\n",
              "    <tr>\n",
              "      <th id=\"T_0accf_level0_row12\" class=\"row_heading level0 row12\" >12</th>\n",
              "      <td id=\"T_0accf_row12_col0\" class=\"data row12 col0\" >ученая степень</td>\n",
              "      <td id=\"T_0accf_row12_col1\" class=\"data row12 col1\" >200К+, выше среднего</td>\n",
              "      <td id=\"T_0accf_row12_col2\" class=\"data row12 col2\" >2</td>\n",
              "      <td id=\"T_0accf_row12_col3\" class=\"data row12 col3\" >0.0%</td>\n",
              "    </tr>\n",
              "    <tr>\n",
              "      <th id=\"T_0accf_level0_row13\" class=\"row_heading level0 row13\" >13</th>\n",
              "      <td id=\"T_0accf_row13_col0\" class=\"data row13 col0\" >ученая степень</td>\n",
              "      <td id=\"T_0accf_row13_col1\" class=\"data row13 col1\" >50-200К, средний</td>\n",
              "      <td id=\"T_0accf_row13_col2\" class=\"data row13 col2\" >4</td>\n",
              "      <td id=\"T_0accf_row13_col3\" class=\"data row13 col3\" >0.0%</td>\n",
              "    </tr>\n",
              "  </tbody>\n",
              "</table>\n"
            ]
          },
          "metadata": {},
          "execution_count": 50
        }
      ]
    },
    {
      "cell_type": "markdown",
      "source": [
        "**Вывод 4:**"
      ],
      "metadata": {
        "id": "Dcb6F6oFY5yv"
      },
      "id": "Dcb6F6oFY5yv"
    },
    {
      "cell_type": "markdown",
      "source": [
        "Похоже, что уровень дохода зависит от образования, и наличие задолженности связана с этими двумя факторами. Если взять основную группу должников - клиентов со средним доходом - то можно заметить, что в основном просрочку допускают клиенты, у которых образование ниже высшего. То же самое можно сказать и о клиентах с доходом выше среднего. \n",
        "\n",
        "Возможно наличие образования повышает не только уровень дохода, но и общую финансовую грамотность и позволяет клиентам распоряжаться деньгами более грамотно."
      ],
      "metadata": {
        "id": "s5CwJ6XRmuDR"
      },
      "id": "s5CwJ6XRmuDR"
    },
    {
      "cell_type": "markdown",
      "id": "5da9d123",
      "metadata": {
        "id": "5da9d123"
      },
      "source": [
        "### Вопрос 5: Как разные цели кредита влияют на его возврат в срок?"
      ]
    },
    {
      "cell_type": "code",
      "execution_count": 51,
      "id": "de89e718",
      "metadata": {
        "colab": {
          "base_uri": "https://localhost:8080/",
          "height": 175
        },
        "id": "de89e718",
        "outputId": "208c29ce-5497-4e37-d441-8ae64823c72b"
      },
      "outputs": [
        {
          "output_type": "execute_result",
          "data": {
            "text/plain": [
              "<pandas.io.formats.style.Styler at 0x7f836196c750>"
            ],
            "text/html": [
              "<style type=\"text/css\">\n",
              "#T_87588_row0_col3 {\n",
              "  background-color: #000004;\n",
              "  color: #f1f1f1;\n",
              "}\n",
              "#T_87588_row1_col3 {\n",
              "  background-color: #fcffa4;\n",
              "  color: #000000;\n",
              "}\n",
              "#T_87588_row2_col3 {\n",
              "  background-color: #010108;\n",
              "  color: #f1f1f1;\n",
              "}\n",
              "#T_87588_row3_col3 {\n",
              "  background-color: #f37819;\n",
              "  color: #f1f1f1;\n",
              "}\n",
              "</style>\n",
              "<table id=\"T_87588_\" class=\"dataframe\">\n",
              "  <thead>\n",
              "    <tr>\n",
              "      <th class=\"blank level0\" >&nbsp;</th>\n",
              "      <th class=\"col_heading level0 col0\" >purpose_category</th>\n",
              "      <th class=\"col_heading level0 col1\" >total_count</th>\n",
              "      <th class=\"col_heading level0 col2\" >have_debt</th>\n",
              "      <th class=\"col_heading level0 col3\" >debtors_part</th>\n",
              "    </tr>\n",
              "  </thead>\n",
              "  <tbody>\n",
              "    <tr>\n",
              "      <th id=\"T_87588_level0_row0\" class=\"row_heading level0 row0\" >0</th>\n",
              "      <td id=\"T_87588_row0_col0\" class=\"data row0 col0\" >операции с автомобилем</td>\n",
              "      <td id=\"T_87588_row0_col1\" class=\"data row0 col1\" >4258</td>\n",
              "      <td id=\"T_87588_row0_col2\" class=\"data row0 col2\" >397</td>\n",
              "      <td id=\"T_87588_row0_col3\" class=\"data row0 col3\" >9.3%</td>\n",
              "    </tr>\n",
              "    <tr>\n",
              "      <th id=\"T_87588_level0_row1\" class=\"row_heading level0 row1\" >1</th>\n",
              "      <td id=\"T_87588_row1_col0\" class=\"data row1 col0\" >операции с недвижимостью</td>\n",
              "      <td id=\"T_87588_row1_col1\" class=\"data row1 col1\" >10703</td>\n",
              "      <td id=\"T_87588_row1_col2\" class=\"data row1 col2\" >777</td>\n",
              "      <td id=\"T_87588_row1_col3\" class=\"data row1 col3\" >7.3%</td>\n",
              "    </tr>\n",
              "    <tr>\n",
              "      <th id=\"T_87588_level0_row2\" class=\"row_heading level0 row2\" >2</th>\n",
              "      <td id=\"T_87588_row2_col0\" class=\"data row2 col0\" >получение образования</td>\n",
              "      <td id=\"T_87588_row2_col1\" class=\"data row2 col1\" >3970</td>\n",
              "      <td id=\"T_87588_row2_col2\" class=\"data row2 col2\" >369</td>\n",
              "      <td id=\"T_87588_row2_col3\" class=\"data row2 col3\" >9.3%</td>\n",
              "    </tr>\n",
              "    <tr>\n",
              "      <th id=\"T_87588_level0_row3\" class=\"row_heading level0 row3\" >3</th>\n",
              "      <td id=\"T_87588_row3_col0\" class=\"data row3 col0\" >проведение свадьбы</td>\n",
              "      <td id=\"T_87588_row3_col1\" class=\"data row3 col1\" >2299</td>\n",
              "      <td id=\"T_87588_row3_col2\" class=\"data row3 col2\" >181</td>\n",
              "      <td id=\"T_87588_row3_col3\" class=\"data row3 col3\" >7.9%</td>\n",
              "    </tr>\n",
              "  </tbody>\n",
              "</table>\n"
            ]
          },
          "metadata": {},
          "execution_count": 51
        }
      ],
      "source": [
        "purpose = debt_by_column(data, 'purpose_category')\n",
        "make_it_nice(purpose)"
      ]
    },
    {
      "cell_type": "markdown",
      "id": "4300b5ba",
      "metadata": {
        "id": "4300b5ba"
      },
      "source": [
        "Укрупним группы, чтобы получить равномерное распределение заемщиков по категориям. Выделим две категории: \"операции с недвижимостью\" и \"прочее\"."
      ]
    },
    {
      "cell_type": "code",
      "execution_count": 52,
      "id": "f2315300",
      "metadata": {
        "colab": {
          "base_uri": "https://localhost:8080/",
          "height": 112
        },
        "id": "f2315300",
        "outputId": "4563d40c-681e-499d-c7f2-c94b1167a032"
      },
      "outputs": [
        {
          "output_type": "execute_result",
          "data": {
            "text/plain": [
              "<pandas.io.formats.style.Styler at 0x7f8361831e10>"
            ],
            "text/html": [
              "<style type=\"text/css\">\n",
              "#T_731de_row0_col3 {\n",
              "  background-color: #fcffa4;\n",
              "  color: #000000;\n",
              "}\n",
              "#T_731de_row1_col3 {\n",
              "  background-color: #000004;\n",
              "  color: #f1f1f1;\n",
              "}\n",
              "</style>\n",
              "<table id=\"T_731de_\" class=\"dataframe\">\n",
              "  <thead>\n",
              "    <tr>\n",
              "      <th class=\"blank level0\" >&nbsp;</th>\n",
              "      <th class=\"col_heading level0 col0\" >purpose_category</th>\n",
              "      <th class=\"col_heading level0 col1\" >total_count</th>\n",
              "      <th class=\"col_heading level0 col2\" >have_debt</th>\n",
              "      <th class=\"col_heading level0 col3\" >debtors_part</th>\n",
              "    </tr>\n",
              "  </thead>\n",
              "  <tbody>\n",
              "    <tr>\n",
              "      <th id=\"T_731de_level0_row0\" class=\"row_heading level0 row0\" >0</th>\n",
              "      <td id=\"T_731de_row0_col0\" class=\"data row0 col0\" >операции с недвижимостью</td>\n",
              "      <td id=\"T_731de_row0_col1\" class=\"data row0 col1\" >10703</td>\n",
              "      <td id=\"T_731de_row0_col2\" class=\"data row0 col2\" >777</td>\n",
              "      <td id=\"T_731de_row0_col3\" class=\"data row0 col3\" >7.3%</td>\n",
              "    </tr>\n",
              "    <tr>\n",
              "      <th id=\"T_731de_level0_row1\" class=\"row_heading level0 row1\" >1</th>\n",
              "      <td id=\"T_731de_row1_col0\" class=\"data row1 col0\" >прочее</td>\n",
              "      <td id=\"T_731de_row1_col1\" class=\"data row1 col1\" >10527</td>\n",
              "      <td id=\"T_731de_row1_col2\" class=\"data row1 col2\" >947</td>\n",
              "      <td id=\"T_731de_row1_col3\" class=\"data row1 col3\" >9.0%</td>\n",
              "    </tr>\n",
              "  </tbody>\n",
              "</table>\n"
            ]
          },
          "metadata": {},
          "execution_count": 52
        }
      ],
      "source": [
        "df_purpose = data[['purpose_category', 'debt']].copy()\n",
        "df_purpose.loc[(df_purpose['purpose_category'] != 'операции с недвижимостью'), 'purpose_category'] = 'прочее'\n",
        "df_purpose = debt_by_column(df_purpose, 'purpose_category')\n",
        "make_it_nice(df_purpose)"
      ]
    },
    {
      "cell_type": "markdown",
      "id": "6d44e5a2",
      "metadata": {
        "id": "6d44e5a2"
      },
      "source": [
        "**Вывод 5:**"
      ]
    },
    {
      "cell_type": "markdown",
      "id": "9161f263",
      "metadata": {
        "id": "9161f263"
      },
      "source": [
        "Наименьший процент задолженностей по кредиту имеют клиенты с целью кредита \"операции с недвижимостью\", наибольший - клиенты с целью кредита \"операции с автомобилем\" и \"получение образования\"."
      ]
    },
    {
      "cell_type": "markdown",
      "id": "1bbf9003",
      "metadata": {
        "id": "1bbf9003"
      },
      "source": [
        "## 4. Общий вывод"
      ]
    },
    {
      "cell_type": "markdown",
      "id": "23470528",
      "metadata": {
        "id": "23470528"
      },
      "source": [
        "В данном исследовании были изучены факторы, которые могут повлиять на возврат кредита в срок, для последующего построения модели кредитного скоринга.\n",
        "\n",
        "Были исследованы следующие факторы:\n",
        "- зависимость между количеством детей и возвратом кредита в срок;\n",
        "- зависимость между семейным положением и возвратом кредита в срок;\n",
        "- зависимость между уровнем дохода и возвратом кредита в срок;\n",
        "- зависимость между целью кредита и возвратом кредита в срок.\n",
        "\n",
        "Для ответа на поставленные вопросы была проведена предварительная работа по подготовке и очистке данных:\n",
        "- изучена общая структура данных;\n",
        "- устранены пропуски в данных:\n",
        "    - в столбце `total_income` 2174 пропуска заменены на медианное значение;\n",
        "    - в столбце `days_employed` 2174 пропуска заменены на медианное значение;\n",
        "- в столбце `days_employed` отрицательные значения дней стажа заменены на положительные, исправлены аномально высокие значения стажа; \n",
        "- удалены дубликаты в столбце `education`, вызванные различным форматированием строк, значения после исправления: высшее, среднее, неоконченное высшее, начальное, ученая степень;\n",
        "- удалены дубликаты строк;\n",
        "- исправлен регистр на нижний в ячейках со значением \"Не женат / не замужем\" столбца `family_status`, значение после исправления: не женат / не замужем;\n",
        "- удалено 76 строк со значением 20 и 47 строк со значением -1 в столбце `children`;\n",
        "- удалена 1 строка со значением XNA в столбце `gender`;\n",
        "- удалена 101 строка со значением 0 в столбце `dob_years`;\n",
        "- тип данных в столбце `total_income` изменен с вещественного на целочисленный.\n",
        "\n",
        "Размер датафрейма до очистки составлял 12 столбцов и 21525 строк, после очистки составляет 12 столбцов и 21230 строк.\n",
        "\n",
        "Следующим шагом по работе с данными стала декомпозиция датафрейма: \n",
        "- создан датафрейм `education_dict` со столбцами: `education_id` и `education`;\n",
        "- создан датафрейм `family_dict` со столбцами: `family_status_id` и `family_status`;\n",
        "- из исходного датафрейма `data` удалены стоблцы `education` и `family_status`.\n",
        "\n",
        "Далее была проведена категоризация дохода:\n",
        "- добавлен столбец `total_income_category`: на основании дохода из столбца `total_income` были присвоены следующие категории:\n",
        "    - 0–30000 — 'E';\n",
        "    - 30001–50000 — 'D';\n",
        "    - 50001–200000 — 'C';\n",
        "    - 200001–1000000 — 'B';\n",
        "    - 1000001 и выше — 'A'\n",
        "\n",
        "Также была проведена категоризация целей получения кредита:\n",
        "-  добавлен столбец `purpose_category`: на основании целей кредита из столбца `purpose` были присвоены следующие категории:\n",
        "    - операции с автомобилем;\n",
        "    - операции с недвижимостью;\n",
        "    - проведение свадьбы;\n",
        "    - получение образования.\n",
        "    \n",
        "Таким образом, для анализа данных были подготовлены следующие датафреймы:\n",
        "- `data`, размер:  12 столбцов и 21230 строк;\n",
        "- `education_dict`, размер: 2 столбца и 5 строк;\n",
        "- `family_dict`, размер:  2 столбца и 5 строк.\n",
        "\n",
        "В результате анализа были сделаны следующие выводы:\n",
        "- семьи без детей чаще возвращают кредиты в срок, чем остальные категории заемщиков;\n",
        "- клиенты со статусом \"вдовец / вдова\" и \"в разводе\" чаще возвращают кредиты в срок, клиенты с семейным статусом \"не женат / не замужем\" и \"гражданский брак\" чаще имеют задолженности по кредиту;\n",
        "- наибольший процент задолжености наблюдается у заемщиков с категорией дохода С (50001–200000);\n",
        "- наибольший процент задолжености наблюдается у заемщиков без высшего образования;\n",
        "- наименьший процент задолженностей по кредиту имеют клиенты с целью кредита \"операции с недвижимостью\", наибольший - клиенты с целью кредита \"операции с автомобилем\" и \"получение образования\".\n",
        "\n",
        "Таким образом, портрет идеального заемщика - это клиент с доходом выше среднего, состоящий в браке, но без детей, с высшим образованием, берущий кредит на покупку недвижимости. \n",
        "\n",
        "Рекомендации по работе с данными:\n",
        "- проверить корректность и формат данных в столбце `days_employed` - аномально высокие значения стажа в днях и отрицательные значения стажа;\n",
        "- проверить корректность данных в столбце `dob_years` - значения 0 для возраста и значения возраста, не соответствующие типу занятости: пенсионеры в возрасте моложе 40 лет."
      ]
    }
  ],
  "metadata": {
    "ExecuteTimeLog": [
      {
        "duration": 862,
        "start_time": "2022-02-22T17:45:30.551Z"
      },
      {
        "duration": 19,
        "start_time": "2022-02-22T17:46:40.995Z"
      },
      {
        "duration": 351,
        "start_time": "2022-02-22T17:48:58.237Z"
      },
      {
        "duration": 5,
        "start_time": "2022-02-22T17:49:08.669Z"
      },
      {
        "duration": 6,
        "start_time": "2022-02-22T18:21:44.375Z"
      },
      {
        "duration": 7,
        "start_time": "2022-02-22T18:22:09.924Z"
      },
      {
        "duration": 6,
        "start_time": "2022-02-22T18:22:35.221Z"
      },
      {
        "duration": 82,
        "start_time": "2022-02-22T18:24:40.959Z"
      },
      {
        "duration": 7,
        "start_time": "2022-02-22T18:25:15.633Z"
      },
      {
        "duration": 7,
        "start_time": "2022-02-22T18:30:18.400Z"
      },
      {
        "duration": 12,
        "start_time": "2022-02-22T18:31:37.033Z"
      },
      {
        "duration": 8,
        "start_time": "2022-02-22T18:32:15.514Z"
      },
      {
        "duration": 8,
        "start_time": "2022-02-22T18:33:52.111Z"
      },
      {
        "duration": 7,
        "start_time": "2022-02-22T18:34:07.058Z"
      },
      {
        "duration": 17,
        "start_time": "2022-02-22T18:34:41.439Z"
      },
      {
        "duration": 25,
        "start_time": "2022-02-22T18:35:37.905Z"
      },
      {
        "duration": 12,
        "start_time": "2022-02-22T18:36:21.415Z"
      },
      {
        "duration": 8,
        "start_time": "2022-02-22T18:36:41.593Z"
      },
      {
        "duration": 12,
        "start_time": "2022-02-22T18:37:49.367Z"
      },
      {
        "duration": 12,
        "start_time": "2022-02-22T18:38:34.068Z"
      },
      {
        "duration": 425,
        "start_time": "2022-02-22T18:43:31.328Z"
      },
      {
        "duration": 5,
        "start_time": "2022-02-22T18:43:43.333Z"
      },
      {
        "duration": 6,
        "start_time": "2022-02-22T18:45:38.653Z"
      },
      {
        "duration": 7,
        "start_time": "2022-02-22T18:45:53.132Z"
      },
      {
        "duration": 8,
        "start_time": "2022-02-22T18:46:12.219Z"
      },
      {
        "duration": 6,
        "start_time": "2022-02-22T18:48:43.300Z"
      },
      {
        "duration": 7,
        "start_time": "2022-02-22T18:52:43.301Z"
      },
      {
        "duration": 6,
        "start_time": "2022-02-22T18:56:00.621Z"
      },
      {
        "duration": 8,
        "start_time": "2022-02-22T18:56:02.471Z"
      },
      {
        "duration": 3306,
        "start_time": "2022-02-22T19:01:13.375Z"
      },
      {
        "duration": 12,
        "start_time": "2022-02-22T19:02:03.861Z"
      },
      {
        "duration": 6446,
        "start_time": "2022-02-22T19:04:14.660Z"
      },
      {
        "duration": 6398,
        "start_time": "2022-02-22T19:04:48.934Z"
      },
      {
        "duration": 17,
        "start_time": "2022-02-22T19:05:16.139Z"
      },
      {
        "duration": 12,
        "start_time": "2022-02-22T19:05:38.295Z"
      },
      {
        "duration": 13,
        "start_time": "2022-02-22T19:05:48.766Z"
      },
      {
        "duration": 15,
        "start_time": "2022-02-22T19:06:09.626Z"
      },
      {
        "duration": 760,
        "start_time": "2022-02-22T19:06:41.686Z"
      },
      {
        "duration": 14,
        "start_time": "2022-02-22T19:06:42.449Z"
      },
      {
        "duration": 13,
        "start_time": "2022-02-22T19:06:42.466Z"
      },
      {
        "duration": 25,
        "start_time": "2022-02-22T19:06:42.482Z"
      },
      {
        "duration": 17,
        "start_time": "2022-02-22T19:06:42.510Z"
      },
      {
        "duration": 7374,
        "start_time": "2022-02-22T19:07:58.418Z"
      },
      {
        "duration": 176,
        "start_time": "2022-02-22T19:08:17.828Z"
      },
      {
        "duration": 163,
        "start_time": "2022-02-22T19:11:07.471Z"
      },
      {
        "duration": 171,
        "start_time": "2022-02-22T19:11:37.514Z"
      },
      {
        "duration": 166,
        "start_time": "2022-02-22T19:12:02.895Z"
      },
      {
        "duration": 181,
        "start_time": "2022-02-22T19:13:09.095Z"
      },
      {
        "duration": 166,
        "start_time": "2022-02-22T19:13:44.528Z"
      },
      {
        "duration": 156,
        "start_time": "2022-02-22T19:13:58.343Z"
      },
      {
        "duration": 179,
        "start_time": "2022-02-22T19:17:02.058Z"
      },
      {
        "duration": 222,
        "start_time": "2022-02-22T19:17:59.378Z"
      },
      {
        "duration": 120,
        "start_time": "2022-02-22T19:18:18.277Z"
      },
      {
        "duration": 85,
        "start_time": "2022-02-22T19:18:47.101Z"
      },
      {
        "duration": 94,
        "start_time": "2022-02-22T19:19:08.670Z"
      },
      {
        "duration": 77,
        "start_time": "2022-02-22T19:19:24.300Z"
      },
      {
        "duration": 126,
        "start_time": "2022-02-22T19:19:42.779Z"
      },
      {
        "duration": 134,
        "start_time": "2022-02-22T19:19:55.053Z"
      },
      {
        "duration": 40,
        "start_time": "2022-02-22T19:20:54.611Z"
      },
      {
        "duration": 23,
        "start_time": "2022-02-22T19:21:15.668Z"
      },
      {
        "duration": 20,
        "start_time": "2022-02-22T19:22:24.023Z"
      },
      {
        "duration": 20,
        "start_time": "2022-02-22T19:22:55.904Z"
      },
      {
        "duration": 18,
        "start_time": "2022-02-22T19:23:22.119Z"
      },
      {
        "duration": 15,
        "start_time": "2022-02-22T19:23:52.047Z"
      },
      {
        "duration": 12,
        "start_time": "2022-02-22T19:26:22.065Z"
      },
      {
        "duration": 6,
        "start_time": "2022-02-22T19:31:04.465Z"
      },
      {
        "duration": 6,
        "start_time": "2022-02-22T19:31:24.334Z"
      },
      {
        "duration": 5,
        "start_time": "2022-02-22T19:34:17.543Z"
      },
      {
        "duration": 9,
        "start_time": "2022-02-22T19:34:36.063Z"
      },
      {
        "duration": 6,
        "start_time": "2022-02-22T19:34:47.057Z"
      },
      {
        "duration": 5,
        "start_time": "2022-02-22T19:35:53.171Z"
      },
      {
        "duration": 5,
        "start_time": "2022-02-22T19:35:57.407Z"
      },
      {
        "duration": 5,
        "start_time": "2022-02-22T19:36:02.828Z"
      },
      {
        "duration": 345,
        "start_time": "2022-02-23T05:16:17.671Z"
      },
      {
        "duration": 836,
        "start_time": "2022-02-23T05:16:25.072Z"
      },
      {
        "duration": 12,
        "start_time": "2022-02-23T05:16:35.884Z"
      },
      {
        "duration": 13,
        "start_time": "2022-02-23T05:16:51.941Z"
      },
      {
        "duration": 9,
        "start_time": "2022-02-23T05:17:02.321Z"
      },
      {
        "duration": 12,
        "start_time": "2022-02-23T05:18:02.433Z"
      },
      {
        "duration": 22,
        "start_time": "2022-02-23T05:19:28.327Z"
      },
      {
        "duration": 13,
        "start_time": "2022-02-23T05:19:42.930Z"
      },
      {
        "duration": 18,
        "start_time": "2022-02-23T05:20:03.603Z"
      },
      {
        "duration": 23,
        "start_time": "2022-02-23T05:20:30.215Z"
      },
      {
        "duration": 21,
        "start_time": "2022-02-23T05:20:46.062Z"
      },
      {
        "duration": 24,
        "start_time": "2022-02-23T05:29:39.431Z"
      },
      {
        "duration": 27,
        "start_time": "2022-02-23T05:32:00.986Z"
      },
      {
        "duration": 30,
        "start_time": "2022-02-23T05:32:19.457Z"
      },
      {
        "duration": 36,
        "start_time": "2022-02-23T05:32:37.409Z"
      },
      {
        "duration": 36,
        "start_time": "2022-02-23T05:32:57.569Z"
      },
      {
        "duration": 6,
        "start_time": "2022-02-23T05:36:35.482Z"
      },
      {
        "duration": 31,
        "start_time": "2022-02-23T05:40:18.252Z"
      },
      {
        "duration": 6,
        "start_time": "2022-02-23T05:42:36.816Z"
      },
      {
        "duration": 280,
        "start_time": "2022-02-23T05:43:07.250Z"
      },
      {
        "duration": 27,
        "start_time": "2022-02-23T05:43:44.977Z"
      },
      {
        "duration": 88,
        "start_time": "2022-02-23T05:44:54.126Z"
      },
      {
        "duration": 244,
        "start_time": "2022-02-23T05:45:09.242Z"
      },
      {
        "duration": 241,
        "start_time": "2022-02-23T05:45:30.711Z"
      },
      {
        "duration": 257,
        "start_time": "2022-02-23T05:48:42.590Z"
      },
      {
        "duration": 19,
        "start_time": "2022-02-23T05:48:59.748Z"
      },
      {
        "duration": 919,
        "start_time": "2022-02-23T05:49:58.968Z"
      },
      {
        "duration": 233,
        "start_time": "2022-02-23T05:51:43.638Z"
      },
      {
        "duration": 42,
        "start_time": "2022-02-23T05:53:10.029Z"
      },
      {
        "duration": 26,
        "start_time": "2022-02-23T05:53:59.697Z"
      },
      {
        "duration": 25,
        "start_time": "2022-02-23T05:54:39.728Z"
      },
      {
        "duration": 13,
        "start_time": "2022-02-23T05:55:02.564Z"
      },
      {
        "duration": 17,
        "start_time": "2022-02-23T05:56:10.800Z"
      },
      {
        "duration": 10,
        "start_time": "2022-02-23T05:57:28.483Z"
      },
      {
        "duration": 18,
        "start_time": "2022-02-23T05:57:56.933Z"
      },
      {
        "duration": 221,
        "start_time": "2022-02-23T06:04:02.007Z"
      },
      {
        "duration": 15,
        "start_time": "2022-02-23T06:04:08.178Z"
      },
      {
        "duration": 33,
        "start_time": "2022-02-23T06:05:23.863Z"
      },
      {
        "duration": 70,
        "start_time": "2022-02-23T06:05:33.800Z"
      },
      {
        "duration": 9,
        "start_time": "2022-02-23T06:06:28.453Z"
      },
      {
        "duration": 13,
        "start_time": "2022-02-23T06:06:40.631Z"
      },
      {
        "duration": 317,
        "start_time": "2022-02-23T06:07:22.419Z"
      },
      {
        "duration": 130,
        "start_time": "2022-02-23T06:10:14.686Z"
      },
      {
        "duration": 16,
        "start_time": "2022-02-23T06:10:41.695Z"
      },
      {
        "duration": 11,
        "start_time": "2022-02-23T06:15:39.443Z"
      },
      {
        "duration": 20,
        "start_time": "2022-02-23T06:15:41.667Z"
      },
      {
        "duration": 260,
        "start_time": "2022-02-23T06:20:54.549Z"
      },
      {
        "duration": 260,
        "start_time": "2022-02-23T06:21:09.896Z"
      },
      {
        "duration": 948,
        "start_time": "2022-02-23T06:21:37.465Z"
      },
      {
        "duration": 22,
        "start_time": "2022-02-23T06:21:46.793Z"
      },
      {
        "duration": 10,
        "start_time": "2022-02-23T06:21:59.025Z"
      },
      {
        "duration": 22,
        "start_time": "2022-02-23T06:22:16.442Z"
      },
      {
        "duration": 2502,
        "start_time": "2022-02-23T06:22:38.265Z"
      },
      {
        "duration": 2371,
        "start_time": "2022-02-23T06:22:45.486Z"
      },
      {
        "duration": 2569,
        "start_time": "2022-02-23T06:22:57.159Z"
      },
      {
        "duration": 2286,
        "start_time": "2022-02-23T06:23:02.374Z"
      },
      {
        "duration": 10,
        "start_time": "2022-02-23T06:26:06.762Z"
      },
      {
        "duration": 334,
        "start_time": "2022-02-23T06:26:25.615Z"
      },
      {
        "duration": 20,
        "start_time": "2022-02-23T06:27:11.595Z"
      },
      {
        "duration": 339,
        "start_time": "2022-02-23T06:27:25.340Z"
      },
      {
        "duration": 304,
        "start_time": "2022-02-23T06:27:39.974Z"
      },
      {
        "duration": 419,
        "start_time": "2022-02-23T06:28:43.255Z"
      },
      {
        "duration": 254,
        "start_time": "2022-02-23T06:28:55.317Z"
      },
      {
        "duration": 11,
        "start_time": "2022-02-23T06:31:41.732Z"
      },
      {
        "duration": 20,
        "start_time": "2022-02-23T06:31:43.265Z"
      },
      {
        "duration": 10,
        "start_time": "2022-02-23T06:34:52.312Z"
      },
      {
        "duration": 19,
        "start_time": "2022-02-23T06:34:53.949Z"
      },
      {
        "duration": 13,
        "start_time": "2022-02-23T06:35:30.580Z"
      },
      {
        "duration": 20,
        "start_time": "2022-02-23T06:35:32.470Z"
      },
      {
        "duration": 12,
        "start_time": "2022-02-23T06:37:21.982Z"
      },
      {
        "duration": 249,
        "start_time": "2022-02-23T06:37:23.567Z"
      },
      {
        "duration": 387,
        "start_time": "2022-02-23T06:37:50.978Z"
      },
      {
        "duration": 11,
        "start_time": "2022-02-23T06:37:59.940Z"
      },
      {
        "duration": 25,
        "start_time": "2022-02-23T06:38:02.875Z"
      },
      {
        "duration": 11,
        "start_time": "2022-02-23T06:38:20.601Z"
      },
      {
        "duration": 32,
        "start_time": "2022-02-23T06:38:22.279Z"
      },
      {
        "duration": 39,
        "start_time": "2022-02-23T06:39:21.025Z"
      },
      {
        "duration": 11,
        "start_time": "2022-02-23T06:39:28.423Z"
      },
      {
        "duration": 18,
        "start_time": "2022-02-23T06:39:30.971Z"
      },
      {
        "duration": 11,
        "start_time": "2022-02-23T06:41:00.058Z"
      },
      {
        "duration": 6880,
        "start_time": "2022-02-23T06:41:01.665Z"
      },
      {
        "duration": 10,
        "start_time": "2022-02-23T06:41:58.565Z"
      },
      {
        "duration": 14,
        "start_time": "2022-02-23T06:42:01.107Z"
      },
      {
        "duration": 11,
        "start_time": "2022-02-23T06:42:23.342Z"
      },
      {
        "duration": 10,
        "start_time": "2022-02-23T06:45:44.617Z"
      },
      {
        "duration": 16,
        "start_time": "2022-02-23T06:45:46.764Z"
      },
      {
        "duration": 13,
        "start_time": "2022-02-23T06:45:49.714Z"
      },
      {
        "duration": 19,
        "start_time": "2022-02-23T06:46:50.771Z"
      },
      {
        "duration": 11,
        "start_time": "2022-02-23T06:46:53.444Z"
      },
      {
        "duration": 36,
        "start_time": "2022-02-23T06:54:57.486Z"
      },
      {
        "duration": 25,
        "start_time": "2022-02-23T06:54:59.938Z"
      },
      {
        "duration": 19,
        "start_time": "2022-02-23T06:55:24.331Z"
      },
      {
        "duration": 11,
        "start_time": "2022-02-23T06:55:25.626Z"
      },
      {
        "duration": 24,
        "start_time": "2022-02-23T07:07:42.801Z"
      },
      {
        "duration": 29,
        "start_time": "2022-02-23T07:09:40.895Z"
      },
      {
        "duration": 120,
        "start_time": "2022-02-23T07:10:07.030Z"
      },
      {
        "duration": 11,
        "start_time": "2022-02-23T07:10:15.763Z"
      },
      {
        "duration": 14,
        "start_time": "2022-02-23T07:11:18.935Z"
      },
      {
        "duration": 11,
        "start_time": "2022-02-23T07:11:52.631Z"
      },
      {
        "duration": 7,
        "start_time": "2022-02-23T07:13:11.389Z"
      },
      {
        "duration": 8,
        "start_time": "2022-02-23T07:13:18.535Z"
      },
      {
        "duration": 7,
        "start_time": "2022-02-23T07:13:41.097Z"
      },
      {
        "duration": 6,
        "start_time": "2022-02-23T07:13:46.590Z"
      },
      {
        "duration": 11,
        "start_time": "2022-02-23T07:14:12.455Z"
      },
      {
        "duration": 12,
        "start_time": "2022-02-23T07:14:32.922Z"
      },
      {
        "duration": 12,
        "start_time": "2022-02-23T07:14:53.435Z"
      },
      {
        "duration": 18,
        "start_time": "2022-02-23T07:34:32.462Z"
      },
      {
        "duration": 16,
        "start_time": "2022-02-23T07:35:03.105Z"
      },
      {
        "duration": 1386,
        "start_time": "2022-02-23T07:35:16.642Z"
      },
      {
        "duration": 252,
        "start_time": "2022-02-23T07:35:35.689Z"
      },
      {
        "duration": 74,
        "start_time": "2022-02-23T07:36:45.751Z"
      },
      {
        "duration": 22,
        "start_time": "2022-02-23T07:37:52.929Z"
      },
      {
        "duration": 10,
        "start_time": "2022-02-23T07:39:00.607Z"
      },
      {
        "duration": 243,
        "start_time": "2022-02-23T07:39:41.775Z"
      },
      {
        "duration": 84,
        "start_time": "2022-02-23T07:40:00.552Z"
      },
      {
        "duration": 14,
        "start_time": "2022-02-23T07:40:14.382Z"
      },
      {
        "duration": 17,
        "start_time": "2022-02-23T07:40:37.137Z"
      },
      {
        "duration": 13,
        "start_time": "2022-02-23T07:40:44.639Z"
      },
      {
        "duration": 23,
        "start_time": "2022-02-23T07:41:05.697Z"
      },
      {
        "duration": 72,
        "start_time": "2022-02-23T07:41:18.550Z"
      },
      {
        "duration": 32,
        "start_time": "2022-02-23T07:43:01.395Z"
      },
      {
        "duration": 12,
        "start_time": "2022-02-23T07:43:07.079Z"
      },
      {
        "duration": 26,
        "start_time": "2022-02-23T07:45:17.234Z"
      },
      {
        "duration": 81,
        "start_time": "2022-02-23T07:45:29.721Z"
      },
      {
        "duration": 28,
        "start_time": "2022-02-23T07:45:43.629Z"
      },
      {
        "duration": 41,
        "start_time": "2022-02-23T07:45:50.281Z"
      },
      {
        "duration": 36,
        "start_time": "2022-02-23T07:47:26.149Z"
      },
      {
        "duration": 40,
        "start_time": "2022-02-23T07:49:02.497Z"
      },
      {
        "duration": 35,
        "start_time": "2022-02-23T07:49:35.474Z"
      },
      {
        "duration": 10,
        "start_time": "2022-02-23T08:08:12.840Z"
      },
      {
        "duration": 33,
        "start_time": "2022-02-23T08:09:38.066Z"
      },
      {
        "duration": 29,
        "start_time": "2022-02-23T08:10:50.855Z"
      },
      {
        "duration": 29,
        "start_time": "2022-02-23T08:13:13.549Z"
      },
      {
        "duration": 17,
        "start_time": "2022-02-23T08:23:38.123Z"
      },
      {
        "duration": 16,
        "start_time": "2022-02-23T08:24:14.589Z"
      },
      {
        "duration": 26,
        "start_time": "2022-02-23T08:24:23.642Z"
      },
      {
        "duration": 27,
        "start_time": "2022-02-23T08:24:40.232Z"
      },
      {
        "duration": 42,
        "start_time": "2022-02-23T08:26:35.899Z"
      },
      {
        "duration": 76,
        "start_time": "2022-02-23T08:34:10.739Z"
      },
      {
        "duration": 17,
        "start_time": "2022-02-23T08:34:13.083Z"
      },
      {
        "duration": 5,
        "start_time": "2022-02-23T08:34:14.777Z"
      },
      {
        "duration": 13,
        "start_time": "2022-02-23T08:34:17.186Z"
      },
      {
        "duration": 33,
        "start_time": "2022-02-23T08:34:20.893Z"
      },
      {
        "duration": 7,
        "start_time": "2022-02-23T08:34:26.952Z"
      },
      {
        "duration": 7,
        "start_time": "2022-02-23T08:34:33.503Z"
      },
      {
        "duration": 20,
        "start_time": "2022-02-23T08:34:37.089Z"
      },
      {
        "duration": 11,
        "start_time": "2022-02-23T08:34:39.651Z"
      },
      {
        "duration": 15,
        "start_time": "2022-02-23T08:34:44.668Z"
      },
      {
        "duration": 12,
        "start_time": "2022-02-23T08:34:46.992Z"
      },
      {
        "duration": 17,
        "start_time": "2022-02-23T08:51:21.201Z"
      },
      {
        "duration": 12,
        "start_time": "2022-02-23T08:52:02.412Z"
      },
      {
        "duration": 255,
        "start_time": "2022-02-23T09:04:42.628Z"
      },
      {
        "duration": 8,
        "start_time": "2022-02-23T09:05:12.664Z"
      },
      {
        "duration": 247,
        "start_time": "2022-02-23T09:05:25.287Z"
      },
      {
        "duration": 4,
        "start_time": "2022-02-23T09:05:53.873Z"
      },
      {
        "duration": 28,
        "start_time": "2022-02-23T09:06:39.930Z"
      },
      {
        "duration": 5,
        "start_time": "2022-02-23T09:06:51.299Z"
      },
      {
        "duration": 6,
        "start_time": "2022-02-23T09:07:14.173Z"
      },
      {
        "duration": 5,
        "start_time": "2022-02-23T09:07:21.403Z"
      },
      {
        "duration": 46,
        "start_time": "2022-02-23T09:07:36.449Z"
      },
      {
        "duration": 48,
        "start_time": "2022-02-23T09:08:42.268Z"
      },
      {
        "duration": 6,
        "start_time": "2022-02-23T09:09:15.986Z"
      },
      {
        "duration": 8,
        "start_time": "2022-02-23T09:14:53.012Z"
      },
      {
        "duration": 5,
        "start_time": "2022-02-23T09:19:53.122Z"
      },
      {
        "duration": 18,
        "start_time": "2022-02-23T09:25:03.599Z"
      },
      {
        "duration": 1277,
        "start_time": "2022-02-23T09:28:10.622Z"
      },
      {
        "duration": 5,
        "start_time": "2022-02-23T09:29:02.107Z"
      },
      {
        "duration": 6,
        "start_time": "2022-02-23T09:29:21.956Z"
      },
      {
        "duration": 5,
        "start_time": "2022-02-23T09:29:32.979Z"
      },
      {
        "duration": 6,
        "start_time": "2022-02-23T09:29:54.831Z"
      },
      {
        "duration": 6,
        "start_time": "2022-02-23T09:30:05.714Z"
      },
      {
        "duration": 6,
        "start_time": "2022-02-23T09:30:19.016Z"
      },
      {
        "duration": 272,
        "start_time": "2022-02-23T09:58:42.900Z"
      },
      {
        "duration": 7,
        "start_time": "2022-02-23T09:58:59.069Z"
      },
      {
        "duration": 46,
        "start_time": "2022-02-23T09:59:25.520Z"
      },
      {
        "duration": 6,
        "start_time": "2022-02-23T09:59:46.043Z"
      },
      {
        "duration": 6,
        "start_time": "2022-02-23T10:00:06.495Z"
      },
      {
        "duration": 41,
        "start_time": "2022-02-23T10:00:58.984Z"
      },
      {
        "duration": 5,
        "start_time": "2022-02-23T10:01:11.351Z"
      },
      {
        "duration": 6,
        "start_time": "2022-02-23T10:01:39.937Z"
      },
      {
        "duration": 6,
        "start_time": "2022-02-23T10:09:10.521Z"
      },
      {
        "duration": 11,
        "start_time": "2022-02-23T10:26:15.315Z"
      },
      {
        "duration": 32,
        "start_time": "2022-02-23T10:26:22.001Z"
      },
      {
        "duration": 31,
        "start_time": "2022-02-23T10:27:43.289Z"
      },
      {
        "duration": 6,
        "start_time": "2022-02-23T10:28:40.286Z"
      },
      {
        "duration": 45,
        "start_time": "2022-02-23T10:28:59.464Z"
      },
      {
        "duration": 46,
        "start_time": "2022-02-23T10:29:50.414Z"
      },
      {
        "duration": 6288,
        "start_time": "2022-02-23T10:31:21.276Z"
      },
      {
        "duration": 7424,
        "start_time": "2022-02-23T10:32:45.375Z"
      },
      {
        "duration": 16,
        "start_time": "2022-02-23T10:33:33.812Z"
      },
      {
        "duration": 15,
        "start_time": "2022-02-23T10:35:07.037Z"
      },
      {
        "duration": 268,
        "start_time": "2022-02-23T10:39:08.476Z"
      },
      {
        "duration": 11,
        "start_time": "2022-02-23T10:41:52.739Z"
      },
      {
        "duration": 10,
        "start_time": "2022-02-23T10:42:46.516Z"
      },
      {
        "duration": 11,
        "start_time": "2022-02-23T10:43:55.915Z"
      },
      {
        "duration": 10,
        "start_time": "2022-02-23T10:44:03.890Z"
      },
      {
        "duration": 11,
        "start_time": "2022-02-23T10:44:10.343Z"
      },
      {
        "duration": 12,
        "start_time": "2022-02-23T10:45:54.648Z"
      },
      {
        "duration": 10,
        "start_time": "2022-02-23T10:46:30.885Z"
      },
      {
        "duration": 10,
        "start_time": "2022-02-23T10:47:14.831Z"
      },
      {
        "duration": 12,
        "start_time": "2022-02-23T10:48:23.984Z"
      },
      {
        "duration": 10,
        "start_time": "2022-02-23T10:48:43.149Z"
      },
      {
        "duration": 10,
        "start_time": "2022-02-23T10:48:49.833Z"
      },
      {
        "duration": 252,
        "start_time": "2022-02-23T10:50:34.239Z"
      },
      {
        "duration": 3432,
        "start_time": "2022-02-23T10:50:56.638Z"
      },
      {
        "duration": 81,
        "start_time": "2022-02-23T10:52:36.154Z"
      },
      {
        "duration": 1745,
        "start_time": "2022-02-23T10:52:54.052Z"
      },
      {
        "duration": 285,
        "start_time": "2022-02-23T10:53:31.174Z"
      },
      {
        "duration": 232,
        "start_time": "2022-02-23T10:53:42.002Z"
      },
      {
        "duration": 244,
        "start_time": "2022-02-23T10:53:58.308Z"
      },
      {
        "duration": 257,
        "start_time": "2022-02-23T10:55:01.186Z"
      },
      {
        "duration": 12,
        "start_time": "2022-02-23T10:55:23.567Z"
      },
      {
        "duration": 281,
        "start_time": "2022-02-23T10:55:49.139Z"
      },
      {
        "duration": 11,
        "start_time": "2022-02-23T10:56:32.615Z"
      },
      {
        "duration": 236,
        "start_time": "2022-02-23T10:56:57.248Z"
      },
      {
        "duration": 3062,
        "start_time": "2022-02-23T10:57:25.247Z"
      },
      {
        "duration": 11,
        "start_time": "2022-02-23T10:57:37.968Z"
      },
      {
        "duration": 9,
        "start_time": "2022-02-23T10:58:08.737Z"
      },
      {
        "duration": 9,
        "start_time": "2022-02-23T10:58:19.852Z"
      },
      {
        "duration": 9,
        "start_time": "2022-02-23T10:58:35.665Z"
      },
      {
        "duration": 9,
        "start_time": "2022-02-23T11:00:02.386Z"
      },
      {
        "duration": 49,
        "start_time": "2022-02-23T12:42:23.372Z"
      },
      {
        "duration": 46,
        "start_time": "2022-02-23T12:42:52.554Z"
      },
      {
        "duration": 49,
        "start_time": "2022-02-23T12:43:08.987Z"
      },
      {
        "duration": 49,
        "start_time": "2022-02-23T12:43:33.324Z"
      },
      {
        "duration": 43,
        "start_time": "2022-02-23T12:43:49.966Z"
      },
      {
        "duration": 48,
        "start_time": "2022-02-23T12:44:19.726Z"
      },
      {
        "duration": 43,
        "start_time": "2022-02-23T12:44:34.981Z"
      },
      {
        "duration": 40,
        "start_time": "2022-02-23T12:45:08.066Z"
      },
      {
        "duration": 41,
        "start_time": "2022-02-23T12:46:21.790Z"
      },
      {
        "duration": 50,
        "start_time": "2022-02-23T12:47:00.805Z"
      },
      {
        "duration": 308,
        "start_time": "2022-02-23T12:57:33.765Z"
      },
      {
        "duration": 15,
        "start_time": "2022-02-23T12:58:06.623Z"
      },
      {
        "duration": 18,
        "start_time": "2022-02-23T12:59:16.189Z"
      },
      {
        "duration": 15,
        "start_time": "2022-02-23T12:59:36.225Z"
      },
      {
        "duration": 11,
        "start_time": "2022-02-23T13:05:35.337Z"
      },
      {
        "duration": 9,
        "start_time": "2022-02-23T13:06:30.138Z"
      },
      {
        "duration": 11,
        "start_time": "2022-02-23T13:06:39.127Z"
      },
      {
        "duration": 17,
        "start_time": "2022-02-23T13:10:15.174Z"
      },
      {
        "duration": 17,
        "start_time": "2022-02-23T13:10:24.481Z"
      },
      {
        "duration": 17,
        "start_time": "2022-02-23T13:10:38.595Z"
      },
      {
        "duration": 17,
        "start_time": "2022-02-23T13:10:43.153Z"
      },
      {
        "duration": 18,
        "start_time": "2022-02-23T13:11:02.238Z"
      },
      {
        "duration": 19,
        "start_time": "2022-02-23T13:11:17.458Z"
      },
      {
        "duration": 18,
        "start_time": "2022-02-23T13:12:37.127Z"
      },
      {
        "duration": 19,
        "start_time": "2022-02-23T13:12:58.560Z"
      },
      {
        "duration": 12,
        "start_time": "2022-02-23T13:13:04.611Z"
      },
      {
        "duration": 19,
        "start_time": "2022-02-23T13:13:42.308Z"
      },
      {
        "duration": 11,
        "start_time": "2022-02-23T13:13:43.889Z"
      },
      {
        "duration": 29,
        "start_time": "2022-02-23T13:14:08.418Z"
      },
      {
        "duration": 12,
        "start_time": "2022-02-23T13:14:12.122Z"
      },
      {
        "duration": 82,
        "start_time": "2022-02-23T13:14:19.487Z"
      },
      {
        "duration": 23,
        "start_time": "2022-02-23T13:14:30.212Z"
      },
      {
        "duration": 15,
        "start_time": "2022-02-23T13:14:31.617Z"
      },
      {
        "duration": 19,
        "start_time": "2022-02-23T13:14:49.162Z"
      },
      {
        "duration": 15,
        "start_time": "2022-02-23T13:14:50.793Z"
      },
      {
        "duration": 19,
        "start_time": "2022-02-23T13:15:04.383Z"
      },
      {
        "duration": 18,
        "start_time": "2022-02-23T13:15:18.942Z"
      },
      {
        "duration": 23,
        "start_time": "2022-02-23T13:17:17.041Z"
      },
      {
        "duration": 23,
        "start_time": "2022-02-23T13:17:56.466Z"
      },
      {
        "duration": 15,
        "start_time": "2022-02-23T13:18:29.002Z"
      },
      {
        "duration": 29,
        "start_time": "2022-02-23T13:19:12.355Z"
      },
      {
        "duration": 20,
        "start_time": "2022-02-23T13:19:33.891Z"
      },
      {
        "duration": 23,
        "start_time": "2022-02-23T13:20:00.765Z"
      },
      {
        "duration": 25,
        "start_time": "2022-02-23T13:21:56.608Z"
      },
      {
        "duration": 20,
        "start_time": "2022-02-23T13:22:27.256Z"
      },
      {
        "duration": 27,
        "start_time": "2022-02-23T13:22:49.374Z"
      },
      {
        "duration": 339,
        "start_time": "2022-02-23T13:37:46.951Z"
      },
      {
        "duration": 40,
        "start_time": "2022-02-23T13:38:34.230Z"
      },
      {
        "duration": 16,
        "start_time": "2022-02-23T13:38:54.261Z"
      },
      {
        "duration": 15,
        "start_time": "2022-02-23T13:39:29.027Z"
      },
      {
        "duration": 17,
        "start_time": "2022-02-23T13:39:56.628Z"
      },
      {
        "duration": 255,
        "start_time": "2022-02-23T13:41:09.669Z"
      },
      {
        "duration": 272,
        "start_time": "2022-02-23T13:42:54.379Z"
      },
      {
        "duration": 269,
        "start_time": "2022-02-23T13:49:38.984Z"
      },
      {
        "duration": 282,
        "start_time": "2022-02-23T13:49:55.769Z"
      },
      {
        "duration": 258,
        "start_time": "2022-02-23T13:50:45.868Z"
      },
      {
        "duration": 24,
        "start_time": "2022-02-23T13:53:36.486Z"
      },
      {
        "duration": 19,
        "start_time": "2022-02-23T13:53:55.726Z"
      },
      {
        "duration": 263,
        "start_time": "2022-02-23T13:54:29.350Z"
      },
      {
        "duration": 267,
        "start_time": "2022-02-23T13:54:48.593Z"
      },
      {
        "duration": 293,
        "start_time": "2022-02-23T13:54:57.483Z"
      },
      {
        "duration": 401,
        "start_time": "2022-02-23T13:55:02.600Z"
      },
      {
        "duration": 267,
        "start_time": "2022-02-23T13:55:30.108Z"
      },
      {
        "duration": 310,
        "start_time": "2022-02-23T13:55:42.223Z"
      },
      {
        "duration": 278,
        "start_time": "2022-02-23T13:56:01.296Z"
      },
      {
        "duration": 20,
        "start_time": "2022-02-23T13:56:07.660Z"
      },
      {
        "duration": 257,
        "start_time": "2022-02-23T14:00:44.588Z"
      },
      {
        "duration": 273,
        "start_time": "2022-02-23T14:00:50.442Z"
      },
      {
        "duration": 268,
        "start_time": "2022-02-23T14:01:04.786Z"
      },
      {
        "duration": 264,
        "start_time": "2022-02-23T14:01:10.083Z"
      },
      {
        "duration": 254,
        "start_time": "2022-02-23T14:02:25.192Z"
      },
      {
        "duration": 243,
        "start_time": "2022-02-23T14:02:30.352Z"
      },
      {
        "duration": 41,
        "start_time": "2022-02-23T14:02:39.361Z"
      },
      {
        "duration": 252,
        "start_time": "2022-02-23T14:04:05.767Z"
      },
      {
        "duration": 275,
        "start_time": "2022-02-23T14:04:38.976Z"
      },
      {
        "duration": 17,
        "start_time": "2022-02-23T14:05:33.042Z"
      },
      {
        "duration": 39,
        "start_time": "2022-02-23T14:30:16.679Z"
      },
      {
        "duration": 37,
        "start_time": "2022-02-23T14:31:10.090Z"
      },
      {
        "duration": 7,
        "start_time": "2022-02-23T14:38:40.724Z"
      },
      {
        "duration": 7,
        "start_time": "2022-02-23T14:38:54.484Z"
      },
      {
        "duration": 7,
        "start_time": "2022-02-23T14:39:03.471Z"
      },
      {
        "duration": 21,
        "start_time": "2022-02-23T14:42:00.899Z"
      },
      {
        "duration": 22,
        "start_time": "2022-02-23T14:45:24.956Z"
      },
      {
        "duration": 17,
        "start_time": "2022-02-23T14:46:20.329Z"
      },
      {
        "duration": 30,
        "start_time": "2022-02-23T16:13:26.824Z"
      },
      {
        "duration": 5,
        "start_time": "2022-02-23T16:23:17.808Z"
      },
      {
        "duration": 18,
        "start_time": "2022-02-23T16:24:33.412Z"
      },
      {
        "duration": 17,
        "start_time": "2022-02-23T16:28:29.341Z"
      },
      {
        "duration": 28,
        "start_time": "2022-02-23T16:29:12.305Z"
      },
      {
        "duration": 74,
        "start_time": "2022-02-24T13:48:27.904Z"
      },
      {
        "duration": 814,
        "start_time": "2022-02-24T13:49:36.037Z"
      },
      {
        "duration": 21,
        "start_time": "2022-02-24T13:49:36.855Z"
      },
      {
        "duration": 19,
        "start_time": "2022-02-24T13:49:36.879Z"
      },
      {
        "duration": 26,
        "start_time": "2022-02-24T13:49:36.901Z"
      },
      {
        "duration": 32,
        "start_time": "2022-02-24T13:49:36.930Z"
      },
      {
        "duration": 29,
        "start_time": "2022-02-24T13:49:36.965Z"
      },
      {
        "duration": 20,
        "start_time": "2022-02-24T13:49:36.997Z"
      },
      {
        "duration": 15,
        "start_time": "2022-02-24T13:49:37.019Z"
      },
      {
        "duration": 54,
        "start_time": "2022-02-24T13:49:37.039Z"
      },
      {
        "duration": 21,
        "start_time": "2022-02-24T13:49:37.098Z"
      },
      {
        "duration": 12,
        "start_time": "2022-02-24T13:49:37.122Z"
      },
      {
        "duration": 72,
        "start_time": "2022-02-24T13:49:37.138Z"
      },
      {
        "duration": 9,
        "start_time": "2022-02-24T13:49:37.212Z"
      },
      {
        "duration": 10,
        "start_time": "2022-02-24T13:49:37.224Z"
      },
      {
        "duration": 18,
        "start_time": "2022-02-24T13:49:37.237Z"
      },
      {
        "duration": 55,
        "start_time": "2022-02-24T13:49:37.258Z"
      },
      {
        "duration": 118,
        "start_time": "2022-02-24T13:49:37.315Z"
      },
      {
        "duration": 24,
        "start_time": "2022-02-24T13:49:37.436Z"
      },
      {
        "duration": 21,
        "start_time": "2022-02-24T13:49:37.463Z"
      },
      {
        "duration": 22,
        "start_time": "2022-02-24T13:49:37.487Z"
      },
      {
        "duration": 22,
        "start_time": "2022-02-24T13:49:37.512Z"
      },
      {
        "duration": 23,
        "start_time": "2022-02-24T13:49:37.536Z"
      },
      {
        "duration": 48,
        "start_time": "2022-02-24T13:49:37.562Z"
      },
      {
        "duration": 26,
        "start_time": "2022-02-24T13:49:37.613Z"
      },
      {
        "duration": 16,
        "start_time": "2022-02-24T13:49:37.641Z"
      },
      {
        "duration": 49,
        "start_time": "2022-02-24T13:49:37.659Z"
      },
      {
        "duration": 91,
        "start_time": "2022-02-24T13:49:37.712Z"
      },
      {
        "duration": -115,
        "start_time": "2022-02-24T13:49:37.921Z"
      },
      {
        "duration": -117,
        "start_time": "2022-02-24T13:49:37.925Z"
      },
      {
        "duration": -137,
        "start_time": "2022-02-24T13:49:37.947Z"
      },
      {
        "duration": 17,
        "start_time": "2022-02-24T13:51:19.511Z"
      },
      {
        "duration": 26,
        "start_time": "2022-02-24T13:51:25.332Z"
      },
      {
        "duration": 7,
        "start_time": "2022-02-24T13:51:31.783Z"
      },
      {
        "duration": 9,
        "start_time": "2022-02-24T13:51:34.452Z"
      },
      {
        "duration": 13,
        "start_time": "2022-02-24T13:52:12.293Z"
      },
      {
        "duration": 434,
        "start_time": "2022-02-24T13:54:06.734Z"
      },
      {
        "duration": 18,
        "start_time": "2022-02-24T13:54:25.858Z"
      },
      {
        "duration": 9,
        "start_time": "2022-02-24T13:54:29.137Z"
      },
      {
        "duration": 10,
        "start_time": "2022-02-24T13:54:34.947Z"
      },
      {
        "duration": 10,
        "start_time": "2022-02-24T13:54:58.196Z"
      },
      {
        "duration": 17,
        "start_time": "2022-02-24T13:55:22.560Z"
      },
      {
        "duration": 19,
        "start_time": "2022-02-24T13:55:42.648Z"
      },
      {
        "duration": 14,
        "start_time": "2022-02-24T13:55:44.377Z"
      },
      {
        "duration": 241,
        "start_time": "2022-02-24T13:56:29.223Z"
      },
      {
        "duration": 244,
        "start_time": "2022-02-24T13:56:39.307Z"
      },
      {
        "duration": 90,
        "start_time": "2022-02-24T13:56:45.041Z"
      },
      {
        "duration": 73,
        "start_time": "2022-02-24T13:56:52.285Z"
      },
      {
        "duration": 15,
        "start_time": "2022-02-24T13:56:58.812Z"
      },
      {
        "duration": 238,
        "start_time": "2022-02-24T14:12:54.558Z"
      },
      {
        "duration": 236,
        "start_time": "2022-02-24T14:13:03.589Z"
      },
      {
        "duration": 21,
        "start_time": "2022-02-24T14:13:45.416Z"
      },
      {
        "duration": 27,
        "start_time": "2022-02-24T14:13:52.614Z"
      },
      {
        "duration": 23,
        "start_time": "2022-02-24T14:14:17.908Z"
      },
      {
        "duration": 5,
        "start_time": "2022-02-24T14:21:45.154Z"
      },
      {
        "duration": 5,
        "start_time": "2022-02-24T14:22:00.422Z"
      },
      {
        "duration": 5,
        "start_time": "2022-02-24T14:22:08.325Z"
      },
      {
        "duration": 6,
        "start_time": "2022-02-24T14:22:12.199Z"
      },
      {
        "duration": 14,
        "start_time": "2022-02-24T14:27:31.072Z"
      },
      {
        "duration": 27,
        "start_time": "2022-02-24T14:27:45.193Z"
      },
      {
        "duration": 41,
        "start_time": "2022-02-24T14:27:58.478Z"
      },
      {
        "duration": 42,
        "start_time": "2022-02-24T14:28:24.823Z"
      },
      {
        "duration": 43,
        "start_time": "2022-02-24T14:29:07.534Z"
      },
      {
        "duration": 25,
        "start_time": "2022-02-24T14:29:39.199Z"
      },
      {
        "duration": 5,
        "start_time": "2022-02-24T14:54:17.495Z"
      },
      {
        "duration": 5,
        "start_time": "2022-02-24T14:54:49.691Z"
      },
      {
        "duration": 5,
        "start_time": "2022-02-24T14:54:59.132Z"
      },
      {
        "duration": 5,
        "start_time": "2022-02-24T14:55:20.709Z"
      },
      {
        "duration": 8,
        "start_time": "2022-02-24T17:13:08.024Z"
      },
      {
        "duration": 7,
        "start_time": "2022-02-24T17:13:14.313Z"
      },
      {
        "duration": 8,
        "start_time": "2022-02-24T17:13:25.087Z"
      },
      {
        "duration": 8,
        "start_time": "2022-02-24T17:13:34.201Z"
      },
      {
        "duration": 9,
        "start_time": "2022-02-24T17:13:44.084Z"
      },
      {
        "duration": 7,
        "start_time": "2022-02-24T17:14:46.403Z"
      },
      {
        "duration": 7,
        "start_time": "2022-02-24T17:14:54.393Z"
      },
      {
        "duration": 8,
        "start_time": "2022-02-24T17:15:19.798Z"
      },
      {
        "duration": 8,
        "start_time": "2022-02-24T17:15:28.100Z"
      },
      {
        "duration": 40,
        "start_time": "2022-02-24T17:19:49.691Z"
      },
      {
        "duration": 61,
        "start_time": "2022-02-24T17:19:59.150Z"
      },
      {
        "duration": 273,
        "start_time": "2022-02-24T17:21:01.665Z"
      },
      {
        "duration": 48,
        "start_time": "2022-02-24T17:21:10.816Z"
      },
      {
        "duration": 44,
        "start_time": "2022-02-24T17:22:19.041Z"
      },
      {
        "duration": 44,
        "start_time": "2022-02-24T17:22:27.276Z"
      },
      {
        "duration": 8,
        "start_time": "2022-02-24T17:24:39.227Z"
      },
      {
        "duration": 7,
        "start_time": "2022-02-24T17:24:48.608Z"
      },
      {
        "duration": 7,
        "start_time": "2022-02-24T17:24:58.469Z"
      },
      {
        "duration": 8,
        "start_time": "2022-02-24T17:25:28.200Z"
      },
      {
        "duration": 8,
        "start_time": "2022-02-24T17:26:38.518Z"
      },
      {
        "duration": 9,
        "start_time": "2022-02-24T17:26:42.881Z"
      },
      {
        "duration": 8,
        "start_time": "2022-02-24T17:26:55.086Z"
      },
      {
        "duration": 8,
        "start_time": "2022-02-24T17:27:02.512Z"
      },
      {
        "duration": 8,
        "start_time": "2022-02-24T17:27:12.787Z"
      },
      {
        "duration": 8,
        "start_time": "2022-02-24T17:27:19.272Z"
      },
      {
        "duration": 9,
        "start_time": "2022-02-24T17:27:47.865Z"
      },
      {
        "duration": 42,
        "start_time": "2022-02-24T17:28:34.076Z"
      },
      {
        "duration": 264,
        "start_time": "2022-02-24T17:28:49.175Z"
      },
      {
        "duration": 44,
        "start_time": "2022-02-24T17:29:01.959Z"
      },
      {
        "duration": 37,
        "start_time": "2022-02-24T17:29:25.010Z"
      },
      {
        "duration": 32,
        "start_time": "2022-02-24T17:29:46.063Z"
      },
      {
        "duration": 33,
        "start_time": "2022-02-24T17:30:02.996Z"
      },
      {
        "duration": 32,
        "start_time": "2022-02-24T17:30:17.290Z"
      },
      {
        "duration": 43,
        "start_time": "2022-02-24T17:30:42.853Z"
      },
      {
        "duration": 155,
        "start_time": "2022-02-24T17:31:34.426Z"
      },
      {
        "duration": 46,
        "start_time": "2022-02-24T17:31:57.313Z"
      },
      {
        "duration": 50,
        "start_time": "2022-02-24T17:32:25.940Z"
      },
      {
        "duration": 35,
        "start_time": "2022-02-24T17:32:45.078Z"
      },
      {
        "duration": 455,
        "start_time": "2022-02-24T17:34:37.693Z"
      },
      {
        "duration": 9768,
        "start_time": "2022-02-24T17:34:48.346Z"
      },
      {
        "duration": 80,
        "start_time": "2022-02-24T17:35:43.341Z"
      },
      {
        "duration": 45,
        "start_time": "2022-02-24T17:36:11.215Z"
      },
      {
        "duration": 61,
        "start_time": "2022-02-24T17:36:58.072Z"
      },
      {
        "duration": 57,
        "start_time": "2022-02-24T17:37:57.155Z"
      },
      {
        "duration": 878,
        "start_time": "2022-02-25T06:53:03.679Z"
      },
      {
        "duration": 889,
        "start_time": "2022-02-25T06:53:29.837Z"
      },
      {
        "duration": 16,
        "start_time": "2022-02-25T06:53:30.730Z"
      },
      {
        "duration": 9,
        "start_time": "2022-02-25T06:53:30.750Z"
      },
      {
        "duration": 18,
        "start_time": "2022-02-25T06:53:30.762Z"
      },
      {
        "duration": 56,
        "start_time": "2022-02-25T06:53:30.782Z"
      },
      {
        "duration": 6,
        "start_time": "2022-02-25T06:53:30.841Z"
      },
      {
        "duration": 29,
        "start_time": "2022-02-25T06:53:30.850Z"
      },
      {
        "duration": 14,
        "start_time": "2022-02-25T06:53:30.883Z"
      },
      {
        "duration": 16,
        "start_time": "2022-02-25T06:53:30.927Z"
      },
      {
        "duration": 19,
        "start_time": "2022-02-25T06:53:30.946Z"
      },
      {
        "duration": 10,
        "start_time": "2022-02-25T06:53:30.968Z"
      },
      {
        "duration": 63,
        "start_time": "2022-02-25T06:53:30.980Z"
      },
      {
        "duration": 10,
        "start_time": "2022-02-25T06:53:31.046Z"
      },
      {
        "duration": 15,
        "start_time": "2022-02-25T06:53:31.059Z"
      },
      {
        "duration": 21,
        "start_time": "2022-02-25T06:53:31.076Z"
      },
      {
        "duration": 45,
        "start_time": "2022-02-25T06:53:31.100Z"
      },
      {
        "duration": 23,
        "start_time": "2022-02-25T06:53:31.147Z"
      },
      {
        "duration": 53,
        "start_time": "2022-02-25T06:53:31.174Z"
      },
      {
        "duration": 21,
        "start_time": "2022-02-25T06:53:31.230Z"
      },
      {
        "duration": 24,
        "start_time": "2022-02-25T06:53:31.253Z"
      },
      {
        "duration": 21,
        "start_time": "2022-02-25T06:53:31.279Z"
      },
      {
        "duration": 21,
        "start_time": "2022-02-25T06:53:31.326Z"
      },
      {
        "duration": 25,
        "start_time": "2022-02-25T06:53:31.352Z"
      },
      {
        "duration": 47,
        "start_time": "2022-02-25T06:53:31.381Z"
      },
      {
        "duration": 20,
        "start_time": "2022-02-25T06:53:31.431Z"
      },
      {
        "duration": 16,
        "start_time": "2022-02-25T06:53:31.453Z"
      },
      {
        "duration": 18,
        "start_time": "2022-02-25T06:53:31.471Z"
      },
      {
        "duration": 58,
        "start_time": "2022-02-25T06:53:31.492Z"
      },
      {
        "duration": 38,
        "start_time": "2022-02-25T06:53:31.554Z"
      },
      {
        "duration": 31,
        "start_time": "2022-02-25T06:53:31.595Z"
      },
      {
        "duration": 22,
        "start_time": "2022-02-25T06:53:31.629Z"
      },
      {
        "duration": 20,
        "start_time": "2022-02-25T06:53:31.654Z"
      },
      {
        "duration": 9,
        "start_time": "2022-02-25T06:53:31.677Z"
      },
      {
        "duration": 56,
        "start_time": "2022-02-25T06:53:31.689Z"
      },
      {
        "duration": 92,
        "start_time": "2022-02-25T06:53:31.748Z"
      },
      {
        "duration": 820,
        "start_time": "2022-02-25T06:57:24.333Z"
      },
      {
        "duration": 15,
        "start_time": "2022-02-25T06:57:25.155Z"
      },
      {
        "duration": 5,
        "start_time": "2022-02-25T06:57:25.173Z"
      },
      {
        "duration": 14,
        "start_time": "2022-02-25T06:57:25.181Z"
      },
      {
        "duration": 52,
        "start_time": "2022-02-25T06:57:25.197Z"
      },
      {
        "duration": 8,
        "start_time": "2022-02-25T06:57:25.251Z"
      },
      {
        "duration": 25,
        "start_time": "2022-02-25T06:57:25.262Z"
      },
      {
        "duration": 44,
        "start_time": "2022-02-25T06:57:25.289Z"
      },
      {
        "duration": 15,
        "start_time": "2022-02-25T06:57:25.339Z"
      },
      {
        "duration": 19,
        "start_time": "2022-02-25T06:57:25.358Z"
      },
      {
        "duration": 53,
        "start_time": "2022-02-25T06:57:25.380Z"
      },
      {
        "duration": 30,
        "start_time": "2022-02-25T06:57:25.436Z"
      },
      {
        "duration": 12,
        "start_time": "2022-02-25T06:57:25.468Z"
      },
      {
        "duration": 50,
        "start_time": "2022-02-25T06:57:25.482Z"
      },
      {
        "duration": 15,
        "start_time": "2022-02-25T06:57:25.534Z"
      },
      {
        "duration": 20,
        "start_time": "2022-02-25T06:57:25.551Z"
      },
      {
        "duration": 54,
        "start_time": "2022-02-25T06:57:25.574Z"
      },
      {
        "duration": 20,
        "start_time": "2022-02-25T06:57:25.631Z"
      },
      {
        "duration": 21,
        "start_time": "2022-02-25T06:57:25.654Z"
      },
      {
        "duration": 50,
        "start_time": "2022-02-25T06:57:25.678Z"
      },
      {
        "duration": 20,
        "start_time": "2022-02-25T06:57:25.731Z"
      },
      {
        "duration": 21,
        "start_time": "2022-02-25T06:57:25.753Z"
      },
      {
        "duration": 21,
        "start_time": "2022-02-25T06:57:25.776Z"
      },
      {
        "duration": 23,
        "start_time": "2022-02-25T06:57:25.827Z"
      },
      {
        "duration": 14,
        "start_time": "2022-02-25T06:57:25.853Z"
      },
      {
        "duration": 16,
        "start_time": "2022-02-25T06:57:25.870Z"
      },
      {
        "duration": 17,
        "start_time": "2022-02-25T06:57:25.927Z"
      },
      {
        "duration": 25,
        "start_time": "2022-02-25T06:57:25.947Z"
      },
      {
        "duration": 51,
        "start_time": "2022-02-25T06:57:25.975Z"
      },
      {
        "duration": 16,
        "start_time": "2022-02-25T06:57:26.028Z"
      },
      {
        "duration": 20,
        "start_time": "2022-02-25T06:57:26.046Z"
      },
      {
        "duration": 8,
        "start_time": "2022-02-25T06:57:26.068Z"
      },
      {
        "duration": 7,
        "start_time": "2022-02-25T06:57:26.079Z"
      },
      {
        "duration": 62,
        "start_time": "2022-02-25T06:57:26.089Z"
      },
      {
        "duration": 81,
        "start_time": "2022-02-25T06:57:26.153Z"
      },
      {
        "duration": 78,
        "start_time": "2022-02-25T07:03:23.387Z"
      },
      {
        "duration": 513,
        "start_time": "2022-02-25T07:03:28.006Z"
      },
      {
        "duration": 312,
        "start_time": "2022-02-25T07:03:37.914Z"
      },
      {
        "duration": 14,
        "start_time": "2022-02-25T07:04:24.709Z"
      },
      {
        "duration": 395,
        "start_time": "2022-02-25T07:05:45.007Z"
      },
      {
        "duration": 11,
        "start_time": "2022-02-25T07:06:49.460Z"
      },
      {
        "duration": 28,
        "start_time": "2022-02-25T07:07:11.194Z"
      },
      {
        "duration": 26,
        "start_time": "2022-02-25T07:07:23.053Z"
      },
      {
        "duration": 30,
        "start_time": "2022-02-25T07:07:38.024Z"
      },
      {
        "duration": 27,
        "start_time": "2022-02-25T07:07:44.659Z"
      },
      {
        "duration": 44,
        "start_time": "2022-02-25T07:07:56.272Z"
      },
      {
        "duration": 84,
        "start_time": "2022-02-25T07:10:07.236Z"
      },
      {
        "duration": 12,
        "start_time": "2022-02-25T07:10:21.190Z"
      },
      {
        "duration": 44,
        "start_time": "2022-02-25T07:10:24.503Z"
      },
      {
        "duration": 306,
        "start_time": "2022-02-25T07:10:45.777Z"
      },
      {
        "duration": 47,
        "start_time": "2022-02-25T07:10:55.563Z"
      },
      {
        "duration": 85,
        "start_time": "2022-02-25T07:12:15.073Z"
      },
      {
        "duration": 289,
        "start_time": "2022-02-25T07:13:20.111Z"
      },
      {
        "duration": 266,
        "start_time": "2022-02-25T07:13:53.477Z"
      },
      {
        "duration": 19,
        "start_time": "2022-02-25T07:14:39.909Z"
      },
      {
        "duration": 11,
        "start_time": "2022-02-25T07:14:43.200Z"
      },
      {
        "duration": 3021,
        "start_time": "2022-02-25T07:20:13.299Z"
      },
      {
        "duration": 181,
        "start_time": "2022-02-25T07:20:46.559Z"
      },
      {
        "duration": 13,
        "start_time": "2022-02-25T07:22:08.427Z"
      },
      {
        "duration": 8,
        "start_time": "2022-02-25T07:22:31.011Z"
      },
      {
        "duration": 14,
        "start_time": "2022-02-25T07:22:45.575Z"
      },
      {
        "duration": 21,
        "start_time": "2022-02-25T07:23:03.376Z"
      },
      {
        "duration": 4102,
        "start_time": "2022-02-25T07:26:39.470Z"
      },
      {
        "duration": 23,
        "start_time": "2022-02-25T07:29:23.526Z"
      },
      {
        "duration": 186,
        "start_time": "2022-02-25T07:31:29.587Z"
      },
      {
        "duration": 187,
        "start_time": "2022-02-25T07:31:33.373Z"
      },
      {
        "duration": 14,
        "start_time": "2022-02-25T07:34:30.799Z"
      },
      {
        "duration": 16,
        "start_time": "2022-02-25T07:35:02.815Z"
      },
      {
        "duration": 22,
        "start_time": "2022-02-25T07:35:27.334Z"
      },
      {
        "duration": 269,
        "start_time": "2022-02-25T07:41:13.773Z"
      },
      {
        "duration": 19,
        "start_time": "2022-02-25T07:41:24.270Z"
      },
      {
        "duration": 828,
        "start_time": "2022-02-25T07:41:45.673Z"
      },
      {
        "duration": 22,
        "start_time": "2022-02-25T07:41:46.504Z"
      },
      {
        "duration": 5,
        "start_time": "2022-02-25T07:41:46.529Z"
      },
      {
        "duration": 16,
        "start_time": "2022-02-25T07:41:46.536Z"
      },
      {
        "duration": 25,
        "start_time": "2022-02-25T07:41:46.555Z"
      },
      {
        "duration": 6,
        "start_time": "2022-02-25T07:41:46.583Z"
      },
      {
        "duration": 25,
        "start_time": "2022-02-25T07:41:46.627Z"
      },
      {
        "duration": 11,
        "start_time": "2022-02-25T07:41:46.656Z"
      },
      {
        "duration": 19,
        "start_time": "2022-02-25T07:41:46.669Z"
      },
      {
        "duration": 51,
        "start_time": "2022-02-25T07:41:46.690Z"
      },
      {
        "duration": 10,
        "start_time": "2022-02-25T07:41:46.743Z"
      },
      {
        "duration": 28,
        "start_time": "2022-02-25T07:41:46.756Z"
      },
      {
        "duration": 42,
        "start_time": "2022-02-25T07:41:46.787Z"
      },
      {
        "duration": 11,
        "start_time": "2022-02-25T07:41:46.832Z"
      },
      {
        "duration": 21,
        "start_time": "2022-02-25T07:41:46.846Z"
      },
      {
        "duration": 16,
        "start_time": "2022-02-25T07:41:46.869Z"
      },
      {
        "duration": 21,
        "start_time": "2022-02-25T07:41:46.927Z"
      },
      {
        "duration": 21,
        "start_time": "2022-02-25T07:41:46.951Z"
      },
      {
        "duration": 19,
        "start_time": "2022-02-25T07:41:46.975Z"
      },
      {
        "duration": 22,
        "start_time": "2022-02-25T07:41:47.027Z"
      },
      {
        "duration": 27,
        "start_time": "2022-02-25T07:41:47.051Z"
      },
      {
        "duration": 20,
        "start_time": "2022-02-25T07:41:47.080Z"
      },
      {
        "duration": 22,
        "start_time": "2022-02-25T07:41:47.131Z"
      },
      {
        "duration": 18,
        "start_time": "2022-02-25T07:41:47.157Z"
      },
      {
        "duration": 56,
        "start_time": "2022-02-25T07:41:47.179Z"
      },
      {
        "duration": 15,
        "start_time": "2022-02-25T07:41:47.238Z"
      },
      {
        "duration": 17,
        "start_time": "2022-02-25T07:41:47.256Z"
      },
      {
        "duration": 57,
        "start_time": "2022-02-25T07:41:47.276Z"
      },
      {
        "duration": 25,
        "start_time": "2022-02-25T07:41:47.336Z"
      },
      {
        "duration": 20,
        "start_time": "2022-02-25T07:41:47.363Z"
      },
      {
        "duration": 43,
        "start_time": "2022-02-25T07:41:47.386Z"
      },
      {
        "duration": 22,
        "start_time": "2022-02-25T07:41:47.431Z"
      },
      {
        "duration": 11,
        "start_time": "2022-02-25T07:41:47.455Z"
      },
      {
        "duration": 8,
        "start_time": "2022-02-25T07:41:47.468Z"
      },
      {
        "duration": 59,
        "start_time": "2022-02-25T07:41:47.479Z"
      },
      {
        "duration": 62,
        "start_time": "2022-02-25T07:41:47.540Z"
      },
      {
        "duration": 18,
        "start_time": "2022-02-25T07:41:47.625Z"
      },
      {
        "duration": 441,
        "start_time": "2022-02-25T07:42:16.138Z"
      },
      {
        "duration": 289,
        "start_time": "2022-02-25T07:42:48.007Z"
      },
      {
        "duration": 288,
        "start_time": "2022-02-25T07:44:12.865Z"
      },
      {
        "duration": 29,
        "start_time": "2022-02-25T07:44:30.036Z"
      },
      {
        "duration": 289,
        "start_time": "2022-02-25T07:44:45.651Z"
      },
      {
        "duration": 387,
        "start_time": "2022-02-25T07:45:31.743Z"
      },
      {
        "duration": 468,
        "start_time": "2022-02-25T07:45:50.251Z"
      },
      {
        "duration": 30,
        "start_time": "2022-02-25T07:45:59.430Z"
      },
      {
        "duration": 22,
        "start_time": "2022-02-25T07:46:44.855Z"
      },
      {
        "duration": 300,
        "start_time": "2022-02-25T07:48:07.831Z"
      },
      {
        "duration": 295,
        "start_time": "2022-02-25T07:48:27.437Z"
      },
      {
        "duration": 30,
        "start_time": "2022-02-25T07:48:43.115Z"
      },
      {
        "duration": 32,
        "start_time": "2022-02-25T07:49:33.597Z"
      },
      {
        "duration": 33,
        "start_time": "2022-02-25T07:50:09.451Z"
      },
      {
        "duration": 308,
        "start_time": "2022-02-25T07:51:44.662Z"
      },
      {
        "duration": 262,
        "start_time": "2022-02-25T07:52:00.687Z"
      },
      {
        "duration": 273,
        "start_time": "2022-02-25T07:52:08.933Z"
      },
      {
        "duration": 268,
        "start_time": "2022-02-25T07:52:17.219Z"
      },
      {
        "duration": 302,
        "start_time": "2022-02-25T07:59:04.065Z"
      },
      {
        "duration": 297,
        "start_time": "2022-02-25T07:59:58.516Z"
      },
      {
        "duration": 308,
        "start_time": "2022-02-25T08:00:06.692Z"
      },
      {
        "duration": 30,
        "start_time": "2022-02-25T08:02:46.893Z"
      },
      {
        "duration": 5215,
        "start_time": "2022-02-25T08:03:54.377Z"
      },
      {
        "duration": 5077,
        "start_time": "2022-02-25T08:04:05.947Z"
      },
      {
        "duration": 5065,
        "start_time": "2022-02-25T08:04:23.409Z"
      },
      {
        "duration": 5075,
        "start_time": "2022-02-25T08:04:29.453Z"
      },
      {
        "duration": 26,
        "start_time": "2022-02-25T08:04:42.600Z"
      },
      {
        "duration": 26,
        "start_time": "2022-02-25T08:04:49.774Z"
      },
      {
        "duration": 26,
        "start_time": "2022-02-25T08:05:01.645Z"
      },
      {
        "duration": 29,
        "start_time": "2022-02-25T08:05:20.964Z"
      },
      {
        "duration": 27,
        "start_time": "2022-02-25T08:05:47.697Z"
      },
      {
        "duration": 27,
        "start_time": "2022-02-25T08:06:29.159Z"
      },
      {
        "duration": 94,
        "start_time": "2022-02-25T08:07:10.136Z"
      },
      {
        "duration": 328,
        "start_time": "2022-02-25T08:07:34.487Z"
      },
      {
        "duration": 284,
        "start_time": "2022-02-25T08:07:45.550Z"
      },
      {
        "duration": 26,
        "start_time": "2022-02-25T08:08:34.960Z"
      },
      {
        "duration": 33,
        "start_time": "2022-02-25T08:11:16.302Z"
      },
      {
        "duration": 87,
        "start_time": "2022-02-25T08:15:54.820Z"
      },
      {
        "duration": 101,
        "start_time": "2022-02-25T08:16:56.339Z"
      },
      {
        "duration": 82,
        "start_time": "2022-02-25T08:17:12.952Z"
      },
      {
        "duration": 304,
        "start_time": "2022-02-25T08:17:26.095Z"
      },
      {
        "duration": 371,
        "start_time": "2022-02-25T08:17:34.708Z"
      },
      {
        "duration": 285,
        "start_time": "2022-02-25T08:18:00.455Z"
      },
      {
        "duration": 1118,
        "start_time": "2022-02-25T08:18:30.958Z"
      },
      {
        "duration": 430,
        "start_time": "2022-02-25T08:19:20.610Z"
      },
      {
        "duration": 7400,
        "start_time": "2022-02-25T08:19:39.499Z"
      },
      {
        "duration": 289,
        "start_time": "2022-02-25T08:19:59.075Z"
      },
      {
        "duration": 46,
        "start_time": "2022-02-25T08:23:43.180Z"
      },
      {
        "duration": 791,
        "start_time": "2022-02-25T08:24:17.194Z"
      },
      {
        "duration": 6862,
        "start_time": "2022-02-25T08:25:33.490Z"
      },
      {
        "duration": 29,
        "start_time": "2022-02-25T08:26:09.446Z"
      },
      {
        "duration": 28,
        "start_time": "2022-02-25T08:27:25.516Z"
      },
      {
        "duration": 6691,
        "start_time": "2022-02-25T08:27:45.828Z"
      },
      {
        "duration": 352,
        "start_time": "2022-02-25T08:27:57.125Z"
      },
      {
        "duration": 30,
        "start_time": "2022-02-25T08:28:07.929Z"
      },
      {
        "duration": 27,
        "start_time": "2022-02-25T08:29:42.391Z"
      },
      {
        "duration": 4893,
        "start_time": "2022-02-25T08:30:45.149Z"
      },
      {
        "duration": 26,
        "start_time": "2022-02-25T08:31:00.921Z"
      },
      {
        "duration": 31,
        "start_time": "2022-02-25T08:31:06.186Z"
      },
      {
        "duration": 31,
        "start_time": "2022-02-25T08:31:59.591Z"
      },
      {
        "duration": 35,
        "start_time": "2022-02-25T08:32:16.645Z"
      },
      {
        "duration": 6889,
        "start_time": "2022-02-25T08:34:51.051Z"
      },
      {
        "duration": 36,
        "start_time": "2022-02-25T08:35:07.038Z"
      },
      {
        "duration": 296,
        "start_time": "2022-02-25T08:35:38.163Z"
      },
      {
        "duration": 36,
        "start_time": "2022-02-25T08:35:43.827Z"
      },
      {
        "duration": 39,
        "start_time": "2022-02-25T08:43:40.882Z"
      },
      {
        "duration": 37,
        "start_time": "2022-02-25T08:43:50.824Z"
      },
      {
        "duration": 37,
        "start_time": "2022-02-25T08:43:57.769Z"
      },
      {
        "duration": 36,
        "start_time": "2022-02-25T08:46:02.383Z"
      },
      {
        "duration": 442,
        "start_time": "2022-02-25T08:48:04.716Z"
      },
      {
        "duration": 1901,
        "start_time": "2022-02-25T08:49:24.360Z"
      },
      {
        "duration": 39,
        "start_time": "2022-02-25T08:49:35.131Z"
      },
      {
        "duration": 36,
        "start_time": "2022-02-25T08:49:57.331Z"
      },
      {
        "duration": 34,
        "start_time": "2022-02-25T08:50:26.890Z"
      },
      {
        "duration": 37,
        "start_time": "2022-02-25T08:51:05.051Z"
      },
      {
        "duration": 35,
        "start_time": "2022-02-25T08:51:35.973Z"
      },
      {
        "duration": 34,
        "start_time": "2022-02-25T08:52:15.744Z"
      },
      {
        "duration": 36,
        "start_time": "2022-02-25T08:53:08.377Z"
      },
      {
        "duration": 34,
        "start_time": "2022-02-25T08:53:51.840Z"
      },
      {
        "duration": 33,
        "start_time": "2022-02-25T08:54:44.190Z"
      },
      {
        "duration": 299,
        "start_time": "2022-02-25T08:57:42.923Z"
      },
      {
        "duration": 283,
        "start_time": "2022-02-25T08:57:57.210Z"
      },
      {
        "duration": 34,
        "start_time": "2022-02-25T08:58:26.857Z"
      },
      {
        "duration": 34,
        "start_time": "2022-02-25T08:58:36.853Z"
      },
      {
        "duration": 37,
        "start_time": "2022-02-25T09:00:34.658Z"
      },
      {
        "duration": 31,
        "start_time": "2022-02-25T09:09:10.540Z"
      },
      {
        "duration": 299,
        "start_time": "2022-02-25T09:21:53.706Z"
      },
      {
        "duration": 41,
        "start_time": "2022-02-25T09:22:30.408Z"
      },
      {
        "duration": 41,
        "start_time": "2022-02-25T09:22:43.848Z"
      },
      {
        "duration": 35,
        "start_time": "2022-02-25T09:23:59.888Z"
      },
      {
        "duration": 42,
        "start_time": "2022-02-25T09:24:34.663Z"
      },
      {
        "duration": 36,
        "start_time": "2022-02-25T10:06:42.854Z"
      },
      {
        "duration": 34,
        "start_time": "2022-02-25T10:06:55.623Z"
      },
      {
        "duration": 2197,
        "start_time": "2022-02-25T11:13:34.860Z"
      },
      {
        "duration": -1694,
        "start_time": "2022-02-25T11:13:38.754Z"
      },
      {
        "duration": 372,
        "start_time": "2022-02-25T11:13:57.674Z"
      },
      {
        "duration": 323,
        "start_time": "2022-02-25T11:14:30.169Z"
      },
      {
        "duration": 8,
        "start_time": "2022-02-25T11:15:47.873Z"
      },
      {
        "duration": 9,
        "start_time": "2022-02-25T11:15:51.830Z"
      },
      {
        "duration": 8146,
        "start_time": "2022-02-25T11:15:59.877Z"
      },
      {
        "duration": -1522,
        "start_time": "2022-02-25T11:16:09.548Z"
      },
      {
        "duration": 280,
        "start_time": "2022-02-25T11:16:35.418Z"
      },
      {
        "duration": 332,
        "start_time": "2022-02-25T11:16:56.413Z"
      },
      {
        "duration": 19,
        "start_time": "2022-02-25T11:17:03.851Z"
      },
      {
        "duration": 10,
        "start_time": "2022-02-25T11:17:05.371Z"
      },
      {
        "duration": 285,
        "start_time": "2022-02-25T11:18:02.815Z"
      },
      {
        "duration": 17,
        "start_time": "2022-02-25T11:19:06.225Z"
      },
      {
        "duration": 19,
        "start_time": "2022-02-25T11:19:46.220Z"
      },
      {
        "duration": 11,
        "start_time": "2022-02-25T11:20:10.440Z"
      },
      {
        "duration": 342,
        "start_time": "2022-02-25T11:20:36.743Z"
      },
      {
        "duration": 17,
        "start_time": "2022-02-25T11:20:48.129Z"
      },
      {
        "duration": 76,
        "start_time": "2022-02-25T11:21:16.505Z"
      },
      {
        "duration": 18,
        "start_time": "2022-02-25T11:21:27.208Z"
      },
      {
        "duration": 10,
        "start_time": "2022-02-25T11:21:29.957Z"
      },
      {
        "duration": -1272,
        "start_time": "2022-02-25T11:23:52.154Z"
      },
      {
        "duration": 10,
        "start_time": "2022-02-25T11:23:55.823Z"
      },
      {
        "duration": 22,
        "start_time": "2022-02-25T11:24:20.552Z"
      },
      {
        "duration": 12,
        "start_time": "2022-02-25T11:24:21.627Z"
      },
      {
        "duration": 30,
        "start_time": "2022-02-25T11:26:36.761Z"
      },
      {
        "duration": 13,
        "start_time": "2022-02-25T11:26:38.106Z"
      },
      {
        "duration": 609,
        "start_time": "2022-02-25T11:54:25.976Z"
      },
      {
        "duration": 12,
        "start_time": "2022-02-25T11:54:33.996Z"
      },
      {
        "duration": 23,
        "start_time": "2022-02-25T11:54:42.052Z"
      },
      {
        "duration": 9,
        "start_time": "2022-02-25T11:54:45.731Z"
      },
      {
        "duration": 13,
        "start_time": "2022-02-25T11:57:21.150Z"
      },
      {
        "duration": 8,
        "start_time": "2022-02-25T11:57:22.570Z"
      },
      {
        "duration": 11,
        "start_time": "2022-02-25T11:57:56.443Z"
      },
      {
        "duration": 15,
        "start_time": "2022-02-25T11:58:05.523Z"
      },
      {
        "duration": 7,
        "start_time": "2022-02-25T11:58:15.964Z"
      },
      {
        "duration": 12,
        "start_time": "2022-02-25T11:58:37.015Z"
      },
      {
        "duration": 7,
        "start_time": "2022-02-25T11:58:42.087Z"
      },
      {
        "duration": 54,
        "start_time": "2022-02-25T11:58:50.737Z"
      },
      {
        "duration": 15,
        "start_time": "2022-02-25T11:59:04.262Z"
      },
      {
        "duration": 8,
        "start_time": "2022-02-25T11:59:09.500Z"
      },
      {
        "duration": 19,
        "start_time": "2022-02-25T11:59:17.963Z"
      },
      {
        "duration": 7,
        "start_time": "2022-02-25T11:59:29.005Z"
      },
      {
        "duration": 7,
        "start_time": "2022-02-25T12:00:33.380Z"
      },
      {
        "duration": 15,
        "start_time": "2022-02-25T12:01:33.539Z"
      },
      {
        "duration": 13,
        "start_time": "2022-02-25T12:03:22.690Z"
      },
      {
        "duration": 42,
        "start_time": "2022-02-25T12:09:04.825Z"
      },
      {
        "duration": 13,
        "start_time": "2022-02-25T12:11:08.926Z"
      },
      {
        "duration": 15,
        "start_time": "2022-02-25T12:11:23.861Z"
      },
      {
        "duration": 11,
        "start_time": "2022-02-25T12:14:13.646Z"
      },
      {
        "duration": 13,
        "start_time": "2022-02-25T12:16:01.634Z"
      },
      {
        "duration": 24,
        "start_time": "2022-02-25T12:16:42.428Z"
      },
      {
        "duration": 11,
        "start_time": "2022-02-25T12:17:32.492Z"
      },
      {
        "duration": 22,
        "start_time": "2022-02-25T12:18:08.913Z"
      },
      {
        "duration": 18,
        "start_time": "2022-02-25T12:19:22.678Z"
      },
      {
        "duration": 12,
        "start_time": "2022-02-25T12:19:38.909Z"
      },
      {
        "duration": 14,
        "start_time": "2022-02-25T12:20:22.508Z"
      },
      {
        "duration": 14,
        "start_time": "2022-02-25T12:20:58.883Z"
      },
      {
        "duration": 5,
        "start_time": "2022-02-25T12:24:02.343Z"
      },
      {
        "duration": 70,
        "start_time": "2022-02-25T12:25:34.865Z"
      },
      {
        "duration": 13,
        "start_time": "2022-02-25T12:26:12.481Z"
      },
      {
        "duration": 64,
        "start_time": "2022-02-25T12:26:39.064Z"
      },
      {
        "duration": 63,
        "start_time": "2022-02-25T12:26:58.614Z"
      },
      {
        "duration": 57,
        "start_time": "2022-02-25T12:27:42.626Z"
      },
      {
        "duration": 13,
        "start_time": "2022-02-25T12:27:48.559Z"
      },
      {
        "duration": 14,
        "start_time": "2022-02-25T12:29:02.609Z"
      },
      {
        "duration": 13,
        "start_time": "2022-02-25T12:29:19.953Z"
      },
      {
        "duration": 27,
        "start_time": "2022-02-25T12:30:19.780Z"
      },
      {
        "duration": 14,
        "start_time": "2022-02-25T12:30:51.712Z"
      },
      {
        "duration": 5,
        "start_time": "2022-02-25T12:32:02.334Z"
      },
      {
        "duration": 5,
        "start_time": "2022-02-25T12:32:31.734Z"
      },
      {
        "duration": 5,
        "start_time": "2022-02-25T12:32:51.512Z"
      },
      {
        "duration": 6,
        "start_time": "2022-02-25T12:33:02.472Z"
      },
      {
        "duration": 15,
        "start_time": "2022-02-25T12:33:15.008Z"
      },
      {
        "duration": 25,
        "start_time": "2022-02-25T12:33:31.835Z"
      },
      {
        "duration": 31,
        "start_time": "2022-02-25T12:35:12.174Z"
      },
      {
        "duration": 81,
        "start_time": "2022-02-25T12:36:04.157Z"
      },
      {
        "duration": 61,
        "start_time": "2022-02-25T12:36:33.335Z"
      },
      {
        "duration": 29,
        "start_time": "2022-02-25T12:42:01.047Z"
      },
      {
        "duration": 27,
        "start_time": "2022-02-25T12:44:09.666Z"
      },
      {
        "duration": 24,
        "start_time": "2022-02-25T12:44:52.347Z"
      },
      {
        "duration": 56,
        "start_time": "2022-02-25T12:48:08.537Z"
      },
      {
        "duration": 16,
        "start_time": "2022-02-25T12:48:19.485Z"
      },
      {
        "duration": 26,
        "start_time": "2022-02-25T12:52:10.990Z"
      },
      {
        "duration": 87,
        "start_time": "2022-02-25T12:52:31.383Z"
      },
      {
        "duration": 12,
        "start_time": "2022-02-25T12:54:57.208Z"
      },
      {
        "duration": 8,
        "start_time": "2022-02-25T12:59:12.887Z"
      },
      {
        "duration": 25,
        "start_time": "2022-02-25T12:59:50.375Z"
      },
      {
        "duration": 17,
        "start_time": "2022-02-25T13:03:04.447Z"
      },
      {
        "duration": 11,
        "start_time": "2022-02-25T13:04:06.017Z"
      },
      {
        "duration": 38,
        "start_time": "2022-02-25T13:05:29.645Z"
      },
      {
        "duration": 11,
        "start_time": "2022-02-25T13:05:33.804Z"
      },
      {
        "duration": 30,
        "start_time": "2022-02-25T13:06:34.095Z"
      },
      {
        "duration": 12,
        "start_time": "2022-02-25T13:06:36.762Z"
      },
      {
        "duration": 436,
        "start_time": "2022-02-25T13:07:02.832Z"
      },
      {
        "duration": 25,
        "start_time": "2022-02-25T13:07:08.255Z"
      },
      {
        "duration": 12,
        "start_time": "2022-02-25T13:07:18.868Z"
      },
      {
        "duration": 26,
        "start_time": "2022-02-25T13:08:21.211Z"
      },
      {
        "duration": 26,
        "start_time": "2022-02-25T13:08:31.457Z"
      },
      {
        "duration": 22,
        "start_time": "2022-02-25T13:09:14.106Z"
      },
      {
        "duration": 220,
        "start_time": "2022-02-25T13:09:33.543Z"
      },
      {
        "duration": 22,
        "start_time": "2022-02-25T13:09:52.330Z"
      },
      {
        "duration": 14,
        "start_time": "2022-02-25T13:15:29.421Z"
      },
      {
        "duration": 19,
        "start_time": "2022-02-25T13:21:35.648Z"
      },
      {
        "duration": 4,
        "start_time": "2022-02-25T13:25:16.651Z"
      },
      {
        "duration": 22,
        "start_time": "2022-02-25T13:27:47.099Z"
      },
      {
        "duration": 11,
        "start_time": "2022-02-25T13:27:49.729Z"
      },
      {
        "duration": 14,
        "start_time": "2022-02-25T13:28:11.218Z"
      },
      {
        "duration": 6,
        "start_time": "2022-02-25T13:29:45.877Z"
      },
      {
        "duration": 11,
        "start_time": "2022-02-25T13:30:13.143Z"
      },
      {
        "duration": 5613,
        "start_time": "2022-02-25T13:30:16.946Z"
      },
      {
        "duration": -1529,
        "start_time": "2022-02-25T13:30:24.090Z"
      },
      {
        "duration": 614,
        "start_time": "2022-02-25T13:31:01.374Z"
      },
      {
        "duration": 12,
        "start_time": "2022-02-25T13:31:07.603Z"
      },
      {
        "duration": 4,
        "start_time": "2022-02-25T13:31:13.137Z"
      },
      {
        "duration": 11,
        "start_time": "2022-02-25T13:31:16.363Z"
      },
      {
        "duration": 16,
        "start_time": "2022-02-25T13:31:18.704Z"
      },
      {
        "duration": 14,
        "start_time": "2022-02-25T13:31:30.835Z"
      },
      {
        "duration": 18,
        "start_time": "2022-02-25T13:31:54.043Z"
      },
      {
        "duration": 21,
        "start_time": "2022-02-25T13:31:58.439Z"
      },
      {
        "duration": 13,
        "start_time": "2022-02-25T13:32:01.674Z"
      },
      {
        "duration": 35,
        "start_time": "2022-02-25T13:32:05.567Z"
      },
      {
        "duration": 4,
        "start_time": "2022-02-25T13:32:11.156Z"
      },
      {
        "duration": 16,
        "start_time": "2022-02-25T13:32:15.874Z"
      },
      {
        "duration": 10,
        "start_time": "2022-02-25T13:32:18.225Z"
      },
      {
        "duration": 14,
        "start_time": "2022-02-25T13:32:23.112Z"
      },
      {
        "duration": 6,
        "start_time": "2022-02-25T13:32:25.698Z"
      },
      {
        "duration": 4,
        "start_time": "2022-02-25T13:32:56.136Z"
      },
      {
        "duration": 21,
        "start_time": "2022-02-25T13:32:57.846Z"
      },
      {
        "duration": 40,
        "start_time": "2022-02-25T13:33:16.121Z"
      },
      {
        "duration": 304,
        "start_time": "2022-02-25T13:35:12.463Z"
      },
      {
        "duration": 5,
        "start_time": "2022-02-25T13:35:16.727Z"
      },
      {
        "duration": 20,
        "start_time": "2022-02-25T13:39:54.058Z"
      },
      {
        "duration": 24,
        "start_time": "2022-02-25T13:40:47.904Z"
      },
      {
        "duration": 21,
        "start_time": "2022-02-25T13:41:12.458Z"
      },
      {
        "duration": 25,
        "start_time": "2022-02-25T13:42:15.191Z"
      },
      {
        "duration": 22,
        "start_time": "2022-02-25T13:42:39.541Z"
      },
      {
        "duration": 22,
        "start_time": "2022-02-25T13:43:03.764Z"
      },
      {
        "duration": 4,
        "start_time": "2022-02-25T13:56:37.309Z"
      },
      {
        "duration": 4,
        "start_time": "2022-02-25T13:56:58.024Z"
      },
      {
        "duration": 4,
        "start_time": "2022-02-25T13:57:32.911Z"
      },
      {
        "duration": 26,
        "start_time": "2022-02-25T13:58:49.295Z"
      },
      {
        "duration": 22,
        "start_time": "2022-02-25T14:00:38.485Z"
      },
      {
        "duration": 27,
        "start_time": "2022-02-25T14:00:45.640Z"
      },
      {
        "duration": 22,
        "start_time": "2022-02-25T14:01:04.489Z"
      },
      {
        "duration": 24,
        "start_time": "2022-02-25T14:01:45.681Z"
      },
      {
        "duration": 4,
        "start_time": "2022-02-25T14:02:10.048Z"
      },
      {
        "duration": 22,
        "start_time": "2022-02-25T14:02:12.470Z"
      },
      {
        "duration": 24,
        "start_time": "2022-02-25T14:02:31.375Z"
      },
      {
        "duration": 20,
        "start_time": "2022-02-25T14:02:44.714Z"
      },
      {
        "duration": 26,
        "start_time": "2022-02-25T14:03:05.359Z"
      },
      {
        "duration": 719,
        "start_time": "2022-02-25T14:04:30.510Z"
      },
      {
        "duration": 12,
        "start_time": "2022-02-25T14:04:31.230Z"
      },
      {
        "duration": 3,
        "start_time": "2022-02-25T14:04:31.244Z"
      },
      {
        "duration": 11,
        "start_time": "2022-02-25T14:04:31.249Z"
      },
      {
        "duration": 18,
        "start_time": "2022-02-25T14:04:31.262Z"
      },
      {
        "duration": 4,
        "start_time": "2022-02-25T14:04:31.282Z"
      },
      {
        "duration": 15,
        "start_time": "2022-02-25T14:04:31.319Z"
      },
      {
        "duration": 10,
        "start_time": "2022-02-25T14:04:31.337Z"
      },
      {
        "duration": 13,
        "start_time": "2022-02-25T14:04:31.349Z"
      },
      {
        "duration": 12,
        "start_time": "2022-02-25T14:04:31.364Z"
      },
      {
        "duration": 6,
        "start_time": "2022-02-25T14:04:31.378Z"
      },
      {
        "duration": 46,
        "start_time": "2022-02-25T14:04:31.386Z"
      },
      {
        "duration": 16,
        "start_time": "2022-02-25T14:04:31.434Z"
      },
      {
        "duration": 6,
        "start_time": "2022-02-25T14:04:31.452Z"
      },
      {
        "duration": 15,
        "start_time": "2022-02-25T14:04:31.460Z"
      },
      {
        "duration": 102,
        "start_time": "2022-02-25T14:04:31.477Z"
      },
      {
        "duration": 42,
        "start_time": "2022-02-25T14:04:31.581Z"
      },
      {
        "duration": 18,
        "start_time": "2022-02-25T14:04:31.624Z"
      },
      {
        "duration": 18,
        "start_time": "2022-02-25T14:04:31.644Z"
      },
      {
        "duration": 12,
        "start_time": "2022-02-25T14:04:31.664Z"
      },
      {
        "duration": 42,
        "start_time": "2022-02-25T14:04:31.678Z"
      },
      {
        "duration": 8,
        "start_time": "2022-02-25T14:04:31.722Z"
      },
      {
        "duration": 17,
        "start_time": "2022-02-25T14:04:31.733Z"
      },
      {
        "duration": 10,
        "start_time": "2022-02-25T14:04:31.752Z"
      },
      {
        "duration": 13,
        "start_time": "2022-02-25T14:04:31.764Z"
      },
      {
        "duration": 42,
        "start_time": "2022-02-25T14:04:31.779Z"
      },
      {
        "duration": 3,
        "start_time": "2022-02-25T14:04:31.822Z"
      },
      {
        "duration": 25,
        "start_time": "2022-02-25T14:04:31.826Z"
      },
      {
        "duration": 41,
        "start_time": "2022-02-25T14:04:31.853Z"
      },
      {
        "duration": 4,
        "start_time": "2022-02-25T14:04:31.895Z"
      },
      {
        "duration": 5,
        "start_time": "2022-02-25T14:04:31.919Z"
      },
      {
        "duration": 22,
        "start_time": "2022-02-25T14:04:31.926Z"
      },
      {
        "duration": 25,
        "start_time": "2022-02-25T14:04:31.950Z"
      },
      {
        "duration": 53,
        "start_time": "2022-02-25T14:04:31.978Z"
      },
      {
        "duration": 21,
        "start_time": "2022-02-25T14:04:32.033Z"
      },
      {
        "duration": 8,
        "start_time": "2022-02-25T14:11:42.174Z"
      },
      {
        "duration": 7,
        "start_time": "2022-02-25T14:12:56.269Z"
      },
      {
        "duration": 709,
        "start_time": "2022-03-01T16:03:23.448Z"
      },
      {
        "duration": 12,
        "start_time": "2022-03-01T16:03:24.159Z"
      },
      {
        "duration": 13,
        "start_time": "2022-03-01T16:03:24.173Z"
      },
      {
        "duration": 11,
        "start_time": "2022-03-01T16:03:24.188Z"
      },
      {
        "duration": 20,
        "start_time": "2022-03-01T16:03:24.201Z"
      },
      {
        "duration": 4,
        "start_time": "2022-03-01T16:03:24.223Z"
      },
      {
        "duration": 17,
        "start_time": "2022-03-01T16:03:24.229Z"
      },
      {
        "duration": 28,
        "start_time": "2022-03-01T16:03:24.249Z"
      },
      {
        "duration": 11,
        "start_time": "2022-03-01T16:03:24.279Z"
      },
      {
        "duration": 17,
        "start_time": "2022-03-01T16:03:24.292Z"
      },
      {
        "duration": 8,
        "start_time": "2022-03-01T16:03:24.311Z"
      },
      {
        "duration": 25,
        "start_time": "2022-03-01T16:03:24.321Z"
      },
      {
        "duration": 30,
        "start_time": "2022-03-01T16:03:24.348Z"
      },
      {
        "duration": 6,
        "start_time": "2022-03-01T16:03:24.380Z"
      },
      {
        "duration": 15,
        "start_time": "2022-03-01T16:03:24.388Z"
      },
      {
        "duration": 116,
        "start_time": "2022-03-01T16:03:24.405Z"
      },
      {
        "duration": 11,
        "start_time": "2022-03-01T16:03:24.522Z"
      },
      {
        "duration": 50,
        "start_time": "2022-03-01T16:03:24.535Z"
      },
      {
        "duration": 19,
        "start_time": "2022-03-01T16:03:24.586Z"
      },
      {
        "duration": 15,
        "start_time": "2022-03-01T16:03:24.607Z"
      },
      {
        "duration": 18,
        "start_time": "2022-03-01T16:03:24.624Z"
      },
      {
        "duration": 4,
        "start_time": "2022-03-01T16:03:24.643Z"
      },
      {
        "duration": 17,
        "start_time": "2022-03-01T16:03:24.678Z"
      },
      {
        "duration": 10,
        "start_time": "2022-03-01T16:03:24.697Z"
      },
      {
        "duration": 13,
        "start_time": "2022-03-01T16:03:24.709Z"
      },
      {
        "duration": 5,
        "start_time": "2022-03-01T16:03:24.724Z"
      },
      {
        "duration": 3,
        "start_time": "2022-03-01T16:03:24.731Z"
      },
      {
        "duration": 60,
        "start_time": "2022-03-01T16:03:24.736Z"
      },
      {
        "duration": 14,
        "start_time": "2022-03-01T16:03:24.798Z"
      },
      {
        "duration": 42,
        "start_time": "2022-03-01T16:03:24.813Z"
      },
      {
        "duration": 24,
        "start_time": "2022-03-01T16:03:24.856Z"
      },
      {
        "duration": 4,
        "start_time": "2022-03-01T16:03:24.881Z"
      },
      {
        "duration": 13,
        "start_time": "2022-03-01T16:03:24.887Z"
      },
      {
        "duration": 29,
        "start_time": "2022-03-01T16:03:24.902Z"
      },
      {
        "duration": 27,
        "start_time": "2022-03-01T16:03:24.933Z"
      },
      {
        "duration": 22,
        "start_time": "2022-03-01T16:03:24.978Z"
      },
      {
        "duration": 22,
        "start_time": "2022-03-01T16:03:25.002Z"
      },
      {
        "duration": 4,
        "start_time": "2022-03-01T16:04:23.827Z"
      },
      {
        "duration": 3,
        "start_time": "2022-03-01T16:04:35.239Z"
      },
      {
        "duration": 28,
        "start_time": "2022-03-01T16:05:16.682Z"
      },
      {
        "duration": 85,
        "start_time": "2022-03-01T16:07:26.997Z"
      },
      {
        "duration": 30,
        "start_time": "2022-03-01T16:07:43.027Z"
      },
      {
        "duration": 8,
        "start_time": "2022-03-01T16:08:02.350Z"
      },
      {
        "duration": 8,
        "start_time": "2022-03-01T16:08:34.773Z"
      },
      {
        "duration": 6527,
        "start_time": "2022-03-01T16:11:18.062Z"
      },
      {
        "duration": 6374,
        "start_time": "2022-03-01T16:11:34.905Z"
      },
      {
        "duration": 6753,
        "start_time": "2022-03-01T16:11:56.094Z"
      },
      {
        "duration": 6,
        "start_time": "2022-03-01T16:15:45.356Z"
      },
      {
        "duration": 90,
        "start_time": "2022-03-01T16:16:21.082Z"
      },
      {
        "duration": 32,
        "start_time": "2022-03-01T16:16:34.477Z"
      },
      {
        "duration": 61,
        "start_time": "2022-03-01T16:17:24.617Z"
      },
      {
        "duration": 265,
        "start_time": "2022-03-01T16:21:40.274Z"
      },
      {
        "duration": 3,
        "start_time": "2022-03-01T16:22:18.789Z"
      },
      {
        "duration": 4,
        "start_time": "2022-03-01T16:23:55.453Z"
      },
      {
        "duration": 15,
        "start_time": "2022-03-01T16:23:59.000Z"
      },
      {
        "duration": 4,
        "start_time": "2022-03-01T16:24:19.022Z"
      },
      {
        "duration": 23,
        "start_time": "2022-03-01T16:24:20.952Z"
      },
      {
        "duration": 5,
        "start_time": "2022-03-01T16:25:11.497Z"
      },
      {
        "duration": 23,
        "start_time": "2022-03-01T16:25:13.933Z"
      },
      {
        "duration": 4,
        "start_time": "2022-03-01T16:25:41.677Z"
      },
      {
        "duration": 22,
        "start_time": "2022-03-01T16:25:48.302Z"
      },
      {
        "duration": 27,
        "start_time": "2022-03-01T16:26:56.168Z"
      },
      {
        "duration": 22,
        "start_time": "2022-03-01T16:27:16.806Z"
      },
      {
        "duration": 23,
        "start_time": "2022-03-01T16:27:47.270Z"
      },
      {
        "duration": 4,
        "start_time": "2022-03-01T16:29:59.202Z"
      },
      {
        "duration": 22,
        "start_time": "2022-03-01T16:30:04.317Z"
      },
      {
        "duration": 25,
        "start_time": "2022-03-01T16:30:56.782Z"
      },
      {
        "duration": 20,
        "start_time": "2022-03-01T16:31:04.852Z"
      },
      {
        "duration": 20,
        "start_time": "2022-03-01T16:31:13.889Z"
      },
      {
        "duration": 29,
        "start_time": "2022-03-01T16:32:57.258Z"
      },
      {
        "duration": 65,
        "start_time": "2022-03-01T16:35:13.481Z"
      },
      {
        "duration": 13,
        "start_time": "2022-03-01T16:36:25.072Z"
      },
      {
        "duration": 685,
        "start_time": "2022-03-01T16:36:50.887Z"
      },
      {
        "duration": 17,
        "start_time": "2022-03-01T16:37:09.194Z"
      },
      {
        "duration": 23,
        "start_time": "2022-03-01T16:37:43.510Z"
      },
      {
        "duration": 25,
        "start_time": "2022-03-01T16:38:32.694Z"
      },
      {
        "duration": 323,
        "start_time": "2022-03-01T16:39:04.613Z"
      },
      {
        "duration": 13,
        "start_time": "2022-03-01T16:39:45.915Z"
      },
      {
        "duration": 14,
        "start_time": "2022-03-01T16:39:54.286Z"
      },
      {
        "duration": 26,
        "start_time": "2022-03-01T16:40:07.145Z"
      },
      {
        "duration": 18,
        "start_time": "2022-03-01T16:40:36.999Z"
      },
      {
        "duration": 665,
        "start_time": "2022-03-01T16:42:02.205Z"
      },
      {
        "duration": 11,
        "start_time": "2022-03-01T16:42:02.872Z"
      },
      {
        "duration": 30,
        "start_time": "2022-03-01T16:42:02.886Z"
      },
      {
        "duration": 39,
        "start_time": "2022-03-01T16:42:02.918Z"
      },
      {
        "duration": 29,
        "start_time": "2022-03-01T16:42:02.959Z"
      },
      {
        "duration": 11,
        "start_time": "2022-03-01T16:42:02.990Z"
      },
      {
        "duration": 41,
        "start_time": "2022-03-01T16:42:03.002Z"
      },
      {
        "duration": 7,
        "start_time": "2022-03-01T16:42:03.045Z"
      },
      {
        "duration": 46,
        "start_time": "2022-03-01T16:42:03.056Z"
      },
      {
        "duration": 19,
        "start_time": "2022-03-01T16:42:03.104Z"
      },
      {
        "duration": 23,
        "start_time": "2022-03-01T16:42:03.125Z"
      },
      {
        "duration": 44,
        "start_time": "2022-03-01T16:42:03.149Z"
      },
      {
        "duration": 9,
        "start_time": "2022-03-01T16:42:03.195Z"
      },
      {
        "duration": 21,
        "start_time": "2022-03-01T16:42:03.206Z"
      },
      {
        "duration": 36,
        "start_time": "2022-03-01T16:42:03.229Z"
      },
      {
        "duration": 112,
        "start_time": "2022-03-01T16:42:03.266Z"
      },
      {
        "duration": 18,
        "start_time": "2022-03-01T16:42:03.380Z"
      },
      {
        "duration": 33,
        "start_time": "2022-03-01T16:42:03.400Z"
      },
      {
        "duration": 21,
        "start_time": "2022-03-01T16:42:03.434Z"
      },
      {
        "duration": 29,
        "start_time": "2022-03-01T16:42:03.457Z"
      },
      {
        "duration": 30,
        "start_time": "2022-03-01T16:42:03.487Z"
      },
      {
        "duration": 17,
        "start_time": "2022-03-01T16:42:03.519Z"
      },
      {
        "duration": 21,
        "start_time": "2022-03-01T16:42:03.537Z"
      },
      {
        "duration": 29,
        "start_time": "2022-03-01T16:42:03.560Z"
      },
      {
        "duration": 11,
        "start_time": "2022-03-01T16:42:03.591Z"
      },
      {
        "duration": 28,
        "start_time": "2022-03-01T16:42:03.603Z"
      },
      {
        "duration": 13,
        "start_time": "2022-03-01T16:42:03.635Z"
      },
      {
        "duration": 22,
        "start_time": "2022-03-01T16:42:03.650Z"
      },
      {
        "duration": 46,
        "start_time": "2022-03-01T16:42:03.674Z"
      },
      {
        "duration": 17,
        "start_time": "2022-03-01T16:42:03.722Z"
      },
      {
        "duration": 36,
        "start_time": "2022-03-01T16:42:03.741Z"
      },
      {
        "duration": 7,
        "start_time": "2022-03-01T16:42:03.779Z"
      },
      {
        "duration": 10,
        "start_time": "2022-03-01T16:42:03.787Z"
      },
      {
        "duration": 21,
        "start_time": "2022-03-01T16:42:03.799Z"
      },
      {
        "duration": 52,
        "start_time": "2022-03-01T16:42:03.822Z"
      },
      {
        "duration": 25,
        "start_time": "2022-03-01T16:42:03.876Z"
      },
      {
        "duration": 20,
        "start_time": "2022-03-01T16:42:03.903Z"
      },
      {
        "duration": 20,
        "start_time": "2022-03-01T16:42:03.924Z"
      },
      {
        "duration": 672,
        "start_time": "2022-03-02T07:40:29.617Z"
      },
      {
        "duration": 12,
        "start_time": "2022-03-02T07:40:30.291Z"
      },
      {
        "duration": 7,
        "start_time": "2022-03-02T07:40:30.305Z"
      },
      {
        "duration": 17,
        "start_time": "2022-03-02T07:40:30.313Z"
      },
      {
        "duration": 18,
        "start_time": "2022-03-02T07:40:30.331Z"
      },
      {
        "duration": 5,
        "start_time": "2022-03-02T07:40:30.350Z"
      },
      {
        "duration": 46,
        "start_time": "2022-03-02T07:40:30.357Z"
      },
      {
        "duration": 8,
        "start_time": "2022-03-02T07:40:30.405Z"
      },
      {
        "duration": 19,
        "start_time": "2022-03-02T07:40:30.417Z"
      },
      {
        "duration": 14,
        "start_time": "2022-03-02T07:40:30.439Z"
      },
      {
        "duration": 7,
        "start_time": "2022-03-02T07:40:30.455Z"
      },
      {
        "duration": 44,
        "start_time": "2022-03-02T07:40:30.464Z"
      },
      {
        "duration": 8,
        "start_time": "2022-03-02T07:40:30.510Z"
      },
      {
        "duration": 16,
        "start_time": "2022-03-02T07:40:30.520Z"
      },
      {
        "duration": 25,
        "start_time": "2022-03-02T07:40:30.538Z"
      },
      {
        "duration": 137,
        "start_time": "2022-03-02T07:40:30.565Z"
      },
      {
        "duration": 12,
        "start_time": "2022-03-02T07:40:30.704Z"
      },
      {
        "duration": 28,
        "start_time": "2022-03-02T07:40:30.717Z"
      },
      {
        "duration": 19,
        "start_time": "2022-03-02T07:40:30.747Z"
      },
      {
        "duration": 34,
        "start_time": "2022-03-02T07:40:30.768Z"
      },
      {
        "duration": 18,
        "start_time": "2022-03-02T07:40:30.803Z"
      },
      {
        "duration": 16,
        "start_time": "2022-03-02T07:40:30.823Z"
      },
      {
        "duration": 22,
        "start_time": "2022-03-02T07:40:30.842Z"
      },
      {
        "duration": 13,
        "start_time": "2022-03-02T07:40:30.866Z"
      },
      {
        "duration": 18,
        "start_time": "2022-03-02T07:40:30.901Z"
      },
      {
        "duration": 6,
        "start_time": "2022-03-02T07:40:30.922Z"
      },
      {
        "duration": 10,
        "start_time": "2022-03-02T07:40:30.931Z"
      },
      {
        "duration": 30,
        "start_time": "2022-03-02T07:40:30.943Z"
      },
      {
        "duration": 27,
        "start_time": "2022-03-02T07:40:30.975Z"
      },
      {
        "duration": 47,
        "start_time": "2022-03-02T07:40:31.005Z"
      },
      {
        "duration": 19,
        "start_time": "2022-03-02T07:40:31.054Z"
      },
      {
        "duration": 15,
        "start_time": "2022-03-02T07:40:31.075Z"
      },
      {
        "duration": 12,
        "start_time": "2022-03-02T07:40:31.092Z"
      },
      {
        "duration": 35,
        "start_time": "2022-03-02T07:40:31.106Z"
      },
      {
        "duration": 26,
        "start_time": "2022-03-02T07:40:31.143Z"
      },
      {
        "duration": 19,
        "start_time": "2022-03-02T07:40:31.171Z"
      },
      {
        "duration": 21,
        "start_time": "2022-03-02T07:40:31.201Z"
      },
      {
        "duration": 308,
        "start_time": "2022-03-02T07:41:50.002Z"
      },
      {
        "duration": 17,
        "start_time": "2022-03-02T07:42:05.262Z"
      },
      {
        "duration": 20,
        "start_time": "2022-03-02T07:42:14.365Z"
      },
      {
        "duration": 4391,
        "start_time": "2022-03-02T07:42:23.872Z"
      },
      {
        "duration": 4535,
        "start_time": "2022-03-02T07:42:56.417Z"
      },
      {
        "duration": 21,
        "start_time": "2022-03-02T07:43:07.804Z"
      },
      {
        "duration": 4361,
        "start_time": "2022-03-02T07:43:30.181Z"
      },
      {
        "duration": 4398,
        "start_time": "2022-03-02T07:43:49.914Z"
      },
      {
        "duration": 19,
        "start_time": "2022-03-02T07:43:55.911Z"
      },
      {
        "duration": 20,
        "start_time": "2022-03-02T07:44:55.470Z"
      },
      {
        "duration": 19,
        "start_time": "2022-03-02T07:45:00.169Z"
      },
      {
        "duration": 20,
        "start_time": "2022-03-02T07:45:08.650Z"
      },
      {
        "duration": 18,
        "start_time": "2022-03-02T07:45:59.933Z"
      },
      {
        "duration": 19,
        "start_time": "2022-03-02T07:46:13.993Z"
      },
      {
        "duration": 20,
        "start_time": "2022-03-02T07:46:51.392Z"
      },
      {
        "duration": 20,
        "start_time": "2022-03-02T07:46:57.537Z"
      },
      {
        "duration": 20,
        "start_time": "2022-03-02T07:47:09.727Z"
      },
      {
        "duration": 17,
        "start_time": "2022-03-02T07:48:17.645Z"
      },
      {
        "duration": 20,
        "start_time": "2022-03-02T07:48:20.951Z"
      },
      {
        "duration": 18,
        "start_time": "2022-03-02T07:49:10.080Z"
      },
      {
        "duration": 18,
        "start_time": "2022-03-02T07:49:14.257Z"
      },
      {
        "duration": 19,
        "start_time": "2022-03-02T07:53:04.083Z"
      },
      {
        "duration": 22,
        "start_time": "2022-03-02T07:53:08.664Z"
      },
      {
        "duration": 25,
        "start_time": "2022-03-02T07:54:18.679Z"
      },
      {
        "duration": 25,
        "start_time": "2022-03-02T07:54:47.359Z"
      },
      {
        "duration": 26,
        "start_time": "2022-03-02T07:55:19.998Z"
      },
      {
        "duration": 24,
        "start_time": "2022-03-02T08:11:02.849Z"
      },
      {
        "duration": 27,
        "start_time": "2022-03-02T08:12:19.135Z"
      },
      {
        "duration": 259,
        "start_time": "2022-03-03T16:49:58.617Z"
      },
      {
        "duration": 173,
        "start_time": "2022-03-03T16:50:07.292Z"
      },
      {
        "duration": 494,
        "start_time": "2022-03-03T16:50:48.706Z"
      },
      {
        "duration": 299,
        "start_time": "2022-03-03T16:50:58.793Z"
      },
      {
        "duration": 260,
        "start_time": "2022-03-03T16:51:13.968Z"
      },
      {
        "duration": 205,
        "start_time": "2022-03-03T16:52:23.119Z"
      },
      {
        "duration": 2080,
        "start_time": "2022-03-03T16:52:36.251Z"
      },
      {
        "duration": 126,
        "start_time": "2022-03-03T16:53:06.565Z"
      },
      {
        "duration": 133,
        "start_time": "2022-03-03T16:53:58.293Z"
      },
      {
        "duration": 936,
        "start_time": "2022-03-13T10:32:04.665Z"
      },
      {
        "duration": 16,
        "start_time": "2022-03-13T10:32:05.604Z"
      },
      {
        "duration": 7,
        "start_time": "2022-03-13T10:32:05.623Z"
      },
      {
        "duration": 15,
        "start_time": "2022-03-13T10:32:05.634Z"
      },
      {
        "duration": 46,
        "start_time": "2022-03-13T10:32:05.651Z"
      },
      {
        "duration": 5,
        "start_time": "2022-03-13T10:32:05.699Z"
      },
      {
        "duration": 66,
        "start_time": "2022-03-13T10:32:05.707Z"
      },
      {
        "duration": 12,
        "start_time": "2022-03-13T10:32:05.775Z"
      },
      {
        "duration": 15,
        "start_time": "2022-03-13T10:32:05.791Z"
      },
      {
        "duration": 392,
        "start_time": "2022-03-13T10:32:05.809Z"
      },
      {
        "duration": 17,
        "start_time": "2022-03-13T10:32:06.204Z"
      },
      {
        "duration": 10,
        "start_time": "2022-03-13T10:32:06.223Z"
      },
      {
        "duration": 61,
        "start_time": "2022-03-13T10:32:06.235Z"
      },
      {
        "duration": 12,
        "start_time": "2022-03-13T10:32:06.299Z"
      },
      {
        "duration": 8,
        "start_time": "2022-03-13T10:32:06.314Z"
      },
      {
        "duration": 57,
        "start_time": "2022-03-13T10:32:06.325Z"
      },
      {
        "duration": 205,
        "start_time": "2022-03-13T10:32:06.384Z"
      },
      {
        "duration": 18,
        "start_time": "2022-03-13T10:32:06.592Z"
      },
      {
        "duration": 66,
        "start_time": "2022-03-13T10:32:06.613Z"
      },
      {
        "duration": 30,
        "start_time": "2022-03-13T10:32:06.681Z"
      },
      {
        "duration": 29,
        "start_time": "2022-03-13T10:32:06.713Z"
      },
      {
        "duration": 39,
        "start_time": "2022-03-13T10:32:06.773Z"
      },
      {
        "duration": 10,
        "start_time": "2022-03-13T10:32:06.815Z"
      },
      {
        "duration": 54,
        "start_time": "2022-03-13T10:32:06.828Z"
      },
      {
        "duration": 16,
        "start_time": "2022-03-13T10:32:06.884Z"
      },
      {
        "duration": 28,
        "start_time": "2022-03-13T10:32:06.902Z"
      },
      {
        "duration": 43,
        "start_time": "2022-03-13T10:32:06.937Z"
      },
      {
        "duration": 9,
        "start_time": "2022-03-13T10:32:06.983Z"
      },
      {
        "duration": 35,
        "start_time": "2022-03-13T10:32:06.994Z"
      },
      {
        "duration": 42,
        "start_time": "2022-03-13T10:32:07.031Z"
      },
      {
        "duration": 48,
        "start_time": "2022-03-13T10:32:07.076Z"
      },
      {
        "duration": 11,
        "start_time": "2022-03-13T10:32:07.127Z"
      },
      {
        "duration": 5,
        "start_time": "2022-03-13T10:32:07.174Z"
      },
      {
        "duration": 11,
        "start_time": "2022-03-13T10:32:07.181Z"
      },
      {
        "duration": 34,
        "start_time": "2022-03-13T10:32:07.194Z"
      },
      {
        "duration": 68,
        "start_time": "2022-03-13T10:32:07.230Z"
      },
      {
        "duration": 32,
        "start_time": "2022-03-13T10:32:07.300Z"
      },
      {
        "duration": 57,
        "start_time": "2022-03-13T10:32:07.334Z"
      },
      {
        "duration": 9906,
        "start_time": "2022-03-13T10:39:16.466Z"
      },
      {
        "duration": 44,
        "start_time": "2022-03-13T10:40:37.491Z"
      },
      {
        "duration": 7132,
        "start_time": "2022-03-13T10:40:53.002Z"
      },
      {
        "duration": 9,
        "start_time": "2022-03-13T10:41:04.536Z"
      },
      {
        "duration": 32,
        "start_time": "2022-03-13T10:41:32.774Z"
      },
      {
        "duration": 648,
        "start_time": "2022-03-14T03:43:08.824Z"
      },
      {
        "duration": 13,
        "start_time": "2022-03-14T03:43:09.473Z"
      },
      {
        "duration": 14,
        "start_time": "2022-03-14T03:43:09.489Z"
      },
      {
        "duration": 14,
        "start_time": "2022-03-14T03:43:09.506Z"
      },
      {
        "duration": 30,
        "start_time": "2022-03-14T03:43:09.522Z"
      },
      {
        "duration": 4,
        "start_time": "2022-03-14T03:43:09.555Z"
      },
      {
        "duration": 15,
        "start_time": "2022-03-14T03:43:09.577Z"
      },
      {
        "duration": 8,
        "start_time": "2022-03-14T03:43:09.595Z"
      },
      {
        "duration": 14,
        "start_time": "2022-03-14T03:43:09.605Z"
      },
      {
        "duration": 257,
        "start_time": "2022-03-14T03:43:09.620Z"
      },
      {
        "duration": 13,
        "start_time": "2022-03-14T03:43:09.878Z"
      },
      {
        "duration": 7,
        "start_time": "2022-03-14T03:43:09.892Z"
      },
      {
        "duration": 22,
        "start_time": "2022-03-14T03:43:09.901Z"
      },
      {
        "duration": 7,
        "start_time": "2022-03-14T03:43:09.924Z"
      },
      {
        "duration": 14,
        "start_time": "2022-03-14T03:43:09.932Z"
      },
      {
        "duration": 38,
        "start_time": "2022-03-14T03:43:09.947Z"
      },
      {
        "duration": 126,
        "start_time": "2022-03-14T03:43:09.987Z"
      },
      {
        "duration": 11,
        "start_time": "2022-03-14T03:43:10.115Z"
      },
      {
        "duration": 37,
        "start_time": "2022-03-14T03:43:10.127Z"
      },
      {
        "duration": 19,
        "start_time": "2022-03-14T03:43:10.178Z"
      },
      {
        "duration": 22,
        "start_time": "2022-03-14T03:43:10.199Z"
      },
      {
        "duration": 18,
        "start_time": "2022-03-14T03:43:10.223Z"
      },
      {
        "duration": 7,
        "start_time": "2022-03-14T03:43:10.244Z"
      },
      {
        "duration": 39,
        "start_time": "2022-03-14T03:43:10.253Z"
      },
      {
        "duration": 22,
        "start_time": "2022-03-14T03:43:10.293Z"
      },
      {
        "duration": 30,
        "start_time": "2022-03-14T03:43:10.317Z"
      },
      {
        "duration": 12,
        "start_time": "2022-03-14T03:43:10.349Z"
      },
      {
        "duration": 8,
        "start_time": "2022-03-14T03:43:10.362Z"
      },
      {
        "duration": 33,
        "start_time": "2022-03-14T03:43:10.372Z"
      },
      {
        "duration": 18,
        "start_time": "2022-03-14T03:43:10.407Z"
      },
      {
        "duration": 39,
        "start_time": "2022-03-14T03:43:10.427Z"
      },
      {
        "duration": 12,
        "start_time": "2022-03-14T03:43:10.468Z"
      },
      {
        "duration": 11,
        "start_time": "2022-03-14T03:43:10.482Z"
      },
      {
        "duration": 11,
        "start_time": "2022-03-14T03:43:10.494Z"
      },
      {
        "duration": 28,
        "start_time": "2022-03-14T03:43:10.507Z"
      },
      {
        "duration": 28,
        "start_time": "2022-03-14T03:43:10.537Z"
      },
      {
        "duration": 31,
        "start_time": "2022-03-14T03:43:10.567Z"
      },
      {
        "duration": 21,
        "start_time": "2022-03-14T03:43:10.600Z"
      },
      {
        "duration": 22,
        "start_time": "2022-03-14T03:43:10.623Z"
      },
      {
        "duration": 16,
        "start_time": "2022-03-14T03:44:44.819Z"
      },
      {
        "duration": 8,
        "start_time": "2022-03-14T03:44:48.453Z"
      },
      {
        "duration": 16,
        "start_time": "2022-03-14T03:45:03.546Z"
      },
      {
        "duration": 9,
        "start_time": "2022-03-14T03:45:05.682Z"
      },
      {
        "duration": 6609,
        "start_time": "2022-03-14T03:45:47.729Z"
      },
      {
        "duration": -2500,
        "start_time": "2022-03-14T03:45:56.841Z"
      },
      {
        "duration": 8,
        "start_time": "2022-03-14T03:45:59.670Z"
      },
      {
        "duration": 15,
        "start_time": "2022-03-14T03:46:18.047Z"
      },
      {
        "duration": 9,
        "start_time": "2022-03-14T03:46:19.568Z"
      },
      {
        "duration": 61,
        "start_time": "2022-03-14T03:46:32.217Z"
      },
      {
        "duration": 13,
        "start_time": "2022-03-14T03:46:35.555Z"
      },
      {
        "duration": 3,
        "start_time": "2022-03-14T03:46:38.970Z"
      },
      {
        "duration": 11,
        "start_time": "2022-03-14T03:46:42.270Z"
      },
      {
        "duration": 19,
        "start_time": "2022-03-14T03:46:49.558Z"
      },
      {
        "duration": 5,
        "start_time": "2022-03-14T03:46:56.475Z"
      },
      {
        "duration": 14,
        "start_time": "2022-03-14T03:46:58.343Z"
      },
      {
        "duration": 7,
        "start_time": "2022-03-14T03:46:59.890Z"
      },
      {
        "duration": 6405,
        "start_time": "2022-03-14T03:48:49.208Z"
      },
      {
        "duration": 4,
        "start_time": "2022-03-14T03:49:09.180Z"
      },
      {
        "duration": 7,
        "start_time": "2022-03-14T03:49:27.954Z"
      },
      {
        "duration": 496,
        "start_time": "2022-03-17T13:38:10.052Z"
      },
      {
        "duration": 15,
        "start_time": "2022-03-17T13:38:10.550Z"
      },
      {
        "duration": 4,
        "start_time": "2022-03-17T13:38:10.566Z"
      },
      {
        "duration": 13,
        "start_time": "2022-03-17T13:38:10.571Z"
      },
      {
        "duration": 16,
        "start_time": "2022-03-17T13:38:10.586Z"
      },
      {
        "duration": 4,
        "start_time": "2022-03-17T13:38:10.603Z"
      },
      {
        "duration": 17,
        "start_time": "2022-03-17T13:38:10.637Z"
      },
      {
        "duration": 7,
        "start_time": "2022-03-17T13:38:10.656Z"
      },
      {
        "duration": 13,
        "start_time": "2022-03-17T13:38:10.665Z"
      },
      {
        "duration": 535,
        "start_time": "2022-03-17T13:38:10.679Z"
      },
      {
        "duration": 23,
        "start_time": "2022-03-17T13:38:11.215Z"
      },
      {
        "duration": 7,
        "start_time": "2022-03-17T13:38:11.240Z"
      },
      {
        "duration": 19,
        "start_time": "2022-03-17T13:38:11.248Z"
      },
      {
        "duration": 6,
        "start_time": "2022-03-17T13:38:11.270Z"
      },
      {
        "duration": 7,
        "start_time": "2022-03-17T13:38:11.278Z"
      },
      {
        "duration": 16,
        "start_time": "2022-03-17T13:38:11.287Z"
      },
      {
        "duration": 151,
        "start_time": "2022-03-17T13:38:11.305Z"
      },
      {
        "duration": 10,
        "start_time": "2022-03-17T13:38:11.458Z"
      },
      {
        "duration": 19,
        "start_time": "2022-03-17T13:38:11.470Z"
      },
      {
        "duration": 48,
        "start_time": "2022-03-17T13:38:11.491Z"
      },
      {
        "duration": 17,
        "start_time": "2022-03-17T13:38:11.540Z"
      },
      {
        "duration": 17,
        "start_time": "2022-03-17T13:38:11.559Z"
      },
      {
        "duration": 16,
        "start_time": "2022-03-17T13:38:11.577Z"
      },
      {
        "duration": 28,
        "start_time": "2022-03-17T13:38:11.595Z"
      },
      {
        "duration": 22,
        "start_time": "2022-03-17T13:38:11.625Z"
      },
      {
        "duration": 19,
        "start_time": "2022-03-17T13:38:11.648Z"
      },
      {
        "duration": 6,
        "start_time": "2022-03-17T13:38:11.669Z"
      },
      {
        "duration": 13,
        "start_time": "2022-03-17T13:38:11.677Z"
      },
      {
        "duration": 21,
        "start_time": "2022-03-17T13:38:11.691Z"
      },
      {
        "duration": 30,
        "start_time": "2022-03-17T13:38:11.714Z"
      },
      {
        "duration": 31,
        "start_time": "2022-03-17T13:38:11.745Z"
      },
      {
        "duration": 7,
        "start_time": "2022-03-17T13:38:11.777Z"
      },
      {
        "duration": 9,
        "start_time": "2022-03-17T13:38:11.785Z"
      },
      {
        "duration": 5,
        "start_time": "2022-03-17T13:38:11.795Z"
      },
      {
        "duration": 89,
        "start_time": "2022-03-17T13:38:11.801Z"
      },
      {
        "duration": 21,
        "start_time": "2022-03-17T13:38:11.892Z"
      },
      {
        "duration": 39,
        "start_time": "2022-03-17T13:38:11.915Z"
      },
      {
        "duration": 19,
        "start_time": "2022-03-17T13:38:11.956Z"
      },
      {
        "duration": 20,
        "start_time": "2022-03-17T13:38:11.976Z"
      },
      {
        "duration": 47,
        "start_time": "2022-03-17T13:38:11.998Z"
      },
      {
        "duration": 216,
        "start_time": "2022-03-17T13:39:19.852Z"
      },
      {
        "duration": 159,
        "start_time": "2022-03-17T13:41:35.016Z"
      },
      {
        "duration": 220,
        "start_time": "2022-03-17T13:42:20.484Z"
      },
      {
        "duration": 151,
        "start_time": "2022-03-17T13:44:58.101Z"
      },
      {
        "duration": 188,
        "start_time": "2022-03-17T13:45:13.887Z"
      },
      {
        "duration": 159,
        "start_time": "2022-03-17T13:45:32.778Z"
      },
      {
        "duration": 386,
        "start_time": "2022-03-20T09:34:35.391Z"
      },
      {
        "duration": 93,
        "start_time": "2022-03-20T09:34:36.980Z"
      },
      {
        "duration": 16,
        "start_time": "2022-03-20T09:34:40.694Z"
      },
      {
        "duration": 4,
        "start_time": "2022-03-20T09:34:55.713Z"
      },
      {
        "duration": 33,
        "start_time": "2022-03-20T09:35:23.695Z"
      },
      {
        "duration": 28,
        "start_time": "2022-03-20T09:37:46.447Z"
      },
      {
        "duration": 22,
        "start_time": "2022-03-20T09:38:17.161Z"
      },
      {
        "duration": 84,
        "start_time": "2022-03-20T09:39:05.952Z"
      },
      {
        "duration": 24,
        "start_time": "2022-03-20T09:39:37.347Z"
      },
      {
        "duration": 518,
        "start_time": "2022-03-20T09:41:31.650Z"
      },
      {
        "duration": 23,
        "start_time": "2022-03-20T09:41:41.717Z"
      },
      {
        "duration": 26,
        "start_time": "2022-03-20T09:41:50.904Z"
      },
      {
        "duration": 23,
        "start_time": "2022-03-20T09:42:03.907Z"
      },
      {
        "duration": 24,
        "start_time": "2022-03-20T09:45:42.017Z"
      },
      {
        "duration": 22,
        "start_time": "2022-03-20T09:45:57.364Z"
      },
      {
        "duration": 9,
        "start_time": "2022-03-20T09:48:19.845Z"
      },
      {
        "duration": 14,
        "start_time": "2022-03-20T09:48:50.366Z"
      },
      {
        "duration": 13,
        "start_time": "2022-03-20T09:49:55.600Z"
      },
      {
        "duration": 11,
        "start_time": "2022-03-20T09:50:21.903Z"
      },
      {
        "duration": 18,
        "start_time": "2022-03-20T09:50:50.851Z"
      },
      {
        "duration": 13,
        "start_time": "2022-03-20T09:51:05.283Z"
      },
      {
        "duration": 8,
        "start_time": "2022-03-20T09:51:25.031Z"
      },
      {
        "duration": 7,
        "start_time": "2022-03-20T09:53:56.662Z"
      },
      {
        "duration": 168,
        "start_time": "2022-03-20T09:55:54.706Z"
      },
      {
        "duration": 162,
        "start_time": "2022-03-20T09:56:06.879Z"
      },
      {
        "duration": 2,
        "start_time": "2022-03-20T09:56:31.685Z"
      },
      {
        "duration": 159,
        "start_time": "2022-03-20T09:56:43.339Z"
      },
      {
        "duration": 2,
        "start_time": "2022-03-20T09:57:48.091Z"
      },
      {
        "duration": 154,
        "start_time": "2022-03-20T09:57:55.994Z"
      },
      {
        "duration": 130,
        "start_time": "2022-03-20T09:59:49.619Z"
      },
      {
        "duration": 176,
        "start_time": "2022-03-20T10:01:48.511Z"
      },
      {
        "duration": 8,
        "start_time": "2022-03-20T10:02:27.607Z"
      },
      {
        "duration": 7,
        "start_time": "2022-03-20T10:02:55.320Z"
      },
      {
        "duration": 10,
        "start_time": "2022-03-20T10:03:08.632Z"
      },
      {
        "duration": 6,
        "start_time": "2022-03-20T10:04:22.387Z"
      },
      {
        "duration": 146,
        "start_time": "2022-03-20T10:05:07.056Z"
      },
      {
        "duration": 147,
        "start_time": "2022-03-20T10:05:21.599Z"
      },
      {
        "duration": 10,
        "start_time": "2022-03-20T10:06:53.007Z"
      },
      {
        "duration": 10,
        "start_time": "2022-03-20T10:07:02.096Z"
      },
      {
        "duration": 165,
        "start_time": "2022-03-20T10:07:50.122Z"
      },
      {
        "duration": 166,
        "start_time": "2022-03-20T10:08:22.232Z"
      },
      {
        "duration": 15,
        "start_time": "2022-03-20T10:08:39.279Z"
      },
      {
        "duration": 18,
        "start_time": "2022-03-20T10:12:21.277Z"
      },
      {
        "duration": 12,
        "start_time": "2022-03-20T10:12:51.436Z"
      },
      {
        "duration": 143,
        "start_time": "2022-03-20T10:13:08.908Z"
      },
      {
        "duration": 207,
        "start_time": "2022-03-20T10:13:25.546Z"
      },
      {
        "duration": 6,
        "start_time": "2022-03-20T10:14:28.387Z"
      },
      {
        "duration": 20,
        "start_time": "2022-03-20T10:15:26.750Z"
      },
      {
        "duration": 79,
        "start_time": "2022-03-20T10:15:50.117Z"
      },
      {
        "duration": 7,
        "start_time": "2022-03-20T10:16:00.248Z"
      },
      {
        "duration": 13,
        "start_time": "2022-03-20T10:16:04.012Z"
      },
      {
        "duration": 11,
        "start_time": "2022-03-20T10:16:07.091Z"
      },
      {
        "duration": 11,
        "start_time": "2022-03-20T10:16:38.936Z"
      },
      {
        "duration": 11,
        "start_time": "2022-03-20T10:16:52.709Z"
      },
      {
        "duration": 11,
        "start_time": "2022-03-20T10:18:27.385Z"
      },
      {
        "duration": 7,
        "start_time": "2022-03-20T10:18:36.745Z"
      },
      {
        "duration": 6,
        "start_time": "2022-03-20T10:18:56.854Z"
      },
      {
        "duration": 146,
        "start_time": "2022-03-20T10:18:58.702Z"
      },
      {
        "duration": 17,
        "start_time": "2022-03-20T10:20:18.878Z"
      },
      {
        "duration": 170,
        "start_time": "2022-03-20T10:25:52.307Z"
      },
      {
        "duration": 10,
        "start_time": "2022-03-20T10:26:02.352Z"
      },
      {
        "duration": 10,
        "start_time": "2022-03-20T10:26:59.572Z"
      },
      {
        "duration": 40,
        "start_time": "2022-03-20T10:27:41.814Z"
      },
      {
        "duration": 3162,
        "start_time": "2022-03-20T10:28:03.843Z"
      },
      {
        "duration": 8,
        "start_time": "2022-03-20T10:28:44.321Z"
      },
      {
        "duration": 38,
        "start_time": "2022-03-20T10:28:54.053Z"
      },
      {
        "duration": 30,
        "start_time": "2022-03-20T10:29:00.033Z"
      },
      {
        "duration": 58,
        "start_time": "2022-03-20T10:29:57.611Z"
      },
      {
        "duration": 10,
        "start_time": "2022-03-20T10:31:53.360Z"
      },
      {
        "duration": 24,
        "start_time": "2022-03-20T10:32:03.201Z"
      },
      {
        "duration": 207,
        "start_time": "2022-03-20T10:32:32.162Z"
      },
      {
        "duration": 32,
        "start_time": "2022-03-20T10:32:38.511Z"
      },
      {
        "duration": 4470,
        "start_time": "2022-03-20T10:32:46.398Z"
      },
      {
        "duration": 5,
        "start_time": "2022-03-20T10:34:14.951Z"
      },
      {
        "duration": 5,
        "start_time": "2022-03-20T10:34:28.191Z"
      },
      {
        "duration": 8,
        "start_time": "2022-03-20T10:35:14.257Z"
      },
      {
        "duration": 7,
        "start_time": "2022-03-20T10:35:36.150Z"
      },
      {
        "duration": 18,
        "start_time": "2022-03-20T10:35:52.766Z"
      },
      {
        "duration": 35,
        "start_time": "2022-03-20T10:36:02.743Z"
      },
      {
        "duration": 86,
        "start_time": "2022-03-20T10:36:21.078Z"
      },
      {
        "duration": 34,
        "start_time": "2022-03-20T10:36:43.849Z"
      },
      {
        "duration": 137,
        "start_time": "2022-03-20T10:37:31.809Z"
      },
      {
        "duration": 10,
        "start_time": "2022-03-20T10:37:53.314Z"
      },
      {
        "duration": 147,
        "start_time": "2022-03-20T10:37:59.593Z"
      },
      {
        "duration": 12,
        "start_time": "2022-03-20T10:39:48.122Z"
      },
      {
        "duration": 16,
        "start_time": "2022-03-20T10:40:05.494Z"
      },
      {
        "duration": 16,
        "start_time": "2022-03-20T10:40:18.194Z"
      },
      {
        "duration": 12,
        "start_time": "2022-03-20T10:40:45.850Z"
      },
      {
        "duration": 32,
        "start_time": "2022-03-20T10:41:05.902Z"
      },
      {
        "duration": 13,
        "start_time": "2022-03-20T10:41:20.412Z"
      },
      {
        "duration": 11,
        "start_time": "2022-03-20T10:41:36.761Z"
      },
      {
        "duration": 12,
        "start_time": "2022-03-20T10:46:10.675Z"
      },
      {
        "duration": 32,
        "start_time": "2022-03-20T10:46:34.004Z"
      },
      {
        "duration": 11,
        "start_time": "2022-03-20T10:48:20.797Z"
      },
      {
        "duration": 10,
        "start_time": "2022-03-20T10:49:54.672Z"
      },
      {
        "duration": 13,
        "start_time": "2022-03-20T10:50:28.358Z"
      },
      {
        "duration": 15,
        "start_time": "2022-03-20T10:50:40.043Z"
      },
      {
        "duration": 13,
        "start_time": "2022-03-20T10:52:20.293Z"
      },
      {
        "duration": 14,
        "start_time": "2022-03-20T10:52:30.003Z"
      },
      {
        "duration": 15,
        "start_time": "2022-03-20T10:52:46.219Z"
      },
      {
        "duration": 15,
        "start_time": "2022-03-20T10:53:18.480Z"
      },
      {
        "duration": 15,
        "start_time": "2022-03-20T10:53:49.600Z"
      },
      {
        "duration": 15,
        "start_time": "2022-03-20T10:54:49.473Z"
      },
      {
        "duration": 17,
        "start_time": "2022-03-20T10:55:10.179Z"
      },
      {
        "duration": 16,
        "start_time": "2022-03-20T10:55:25.050Z"
      },
      {
        "duration": 19,
        "start_time": "2022-03-20T10:55:33.426Z"
      },
      {
        "duration": 19,
        "start_time": "2022-03-20T10:55:40.100Z"
      },
      {
        "duration": 13,
        "start_time": "2022-03-20T11:03:42.977Z"
      },
      {
        "duration": 16,
        "start_time": "2022-03-20T11:05:35.682Z"
      },
      {
        "duration": 10,
        "start_time": "2022-03-20T11:05:58.636Z"
      },
      {
        "duration": 7,
        "start_time": "2022-03-20T11:06:12.501Z"
      },
      {
        "duration": 8,
        "start_time": "2022-03-20T11:06:23.653Z"
      },
      {
        "duration": 700,
        "start_time": "2022-03-20T11:07:23.052Z"
      },
      {
        "duration": 77,
        "start_time": "2022-03-20T11:07:24.244Z"
      },
      {
        "duration": 18,
        "start_time": "2022-03-20T11:07:26.728Z"
      },
      {
        "duration": 4,
        "start_time": "2022-03-20T11:07:28.563Z"
      },
      {
        "duration": 34,
        "start_time": "2022-03-20T11:07:29.719Z"
      },
      {
        "duration": 63,
        "start_time": "2022-03-20T11:07:32.900Z"
      },
      {
        "duration": 23,
        "start_time": "2022-03-20T11:07:46.540Z"
      },
      {
        "duration": 22,
        "start_time": "2022-03-20T11:08:10.169Z"
      },
      {
        "duration": 26,
        "start_time": "2022-03-20T11:08:14.300Z"
      },
      {
        "duration": 15,
        "start_time": "2022-03-20T11:08:17.945Z"
      },
      {
        "duration": 8,
        "start_time": "2022-03-20T11:08:18.981Z"
      },
      {
        "duration": 13,
        "start_time": "2022-03-20T11:08:21.996Z"
      },
      {
        "duration": 7,
        "start_time": "2022-03-20T11:08:24.559Z"
      },
      {
        "duration": 13,
        "start_time": "2022-03-20T11:08:26.387Z"
      },
      {
        "duration": 12,
        "start_time": "2022-03-20T11:08:29.680Z"
      },
      {
        "duration": 8,
        "start_time": "2022-03-20T11:08:31.812Z"
      },
      {
        "duration": 137,
        "start_time": "2022-03-20T11:08:34.094Z"
      },
      {
        "duration": 11,
        "start_time": "2022-03-20T11:08:36.510Z"
      },
      {
        "duration": 6,
        "start_time": "2022-03-20T11:08:38.963Z"
      },
      {
        "duration": 137,
        "start_time": "2022-03-20T11:08:40.880Z"
      },
      {
        "duration": 17,
        "start_time": "2022-03-20T11:08:44.469Z"
      },
      {
        "duration": 5005,
        "start_time": "2022-03-20T11:08:47.011Z"
      },
      {
        "duration": 147,
        "start_time": "2022-03-20T11:08:57.116Z"
      },
      {
        "duration": 14,
        "start_time": "2022-03-20T11:09:00.258Z"
      },
      {
        "duration": 20,
        "start_time": "2022-03-20T11:10:37.256Z"
      },
      {
        "duration": 13,
        "start_time": "2022-03-20T11:11:51.116Z"
      },
      {
        "duration": 8,
        "start_time": "2022-03-20T11:11:56.549Z"
      },
      {
        "duration": 13,
        "start_time": "2022-03-20T11:12:03.203Z"
      },
      {
        "duration": 8,
        "start_time": "2022-03-20T11:12:12.217Z"
      },
      {
        "duration": 5,
        "start_time": "2022-03-20T11:15:50.853Z"
      },
      {
        "duration": 8,
        "start_time": "2022-03-20T11:15:52.781Z"
      },
      {
        "duration": 13,
        "start_time": "2022-03-20T11:16:23.960Z"
      },
      {
        "duration": 10,
        "start_time": "2022-03-20T11:16:31.095Z"
      },
      {
        "duration": 4,
        "start_time": "2022-03-20T11:17:24.828Z"
      },
      {
        "duration": 8,
        "start_time": "2022-03-20T11:17:26.657Z"
      },
      {
        "duration": 7,
        "start_time": "2022-03-20T11:19:19.480Z"
      },
      {
        "duration": 8,
        "start_time": "2022-03-20T11:19:25.293Z"
      },
      {
        "duration": 713,
        "start_time": "2022-03-20T11:19:59.252Z"
      },
      {
        "duration": 93,
        "start_time": "2022-03-20T11:20:00.321Z"
      },
      {
        "duration": 21,
        "start_time": "2022-03-20T11:20:12.608Z"
      },
      {
        "duration": 7,
        "start_time": "2022-03-20T11:20:25.304Z"
      },
      {
        "duration": 19,
        "start_time": "2022-03-20T11:20:29.509Z"
      },
      {
        "duration": 15,
        "start_time": "2022-03-20T11:21:30.236Z"
      },
      {
        "duration": 76,
        "start_time": "2022-03-20T11:22:01.955Z"
      },
      {
        "duration": 14,
        "start_time": "2022-03-20T11:22:18.980Z"
      },
      {
        "duration": 6,
        "start_time": "2022-03-20T11:22:30.669Z"
      },
      {
        "duration": 18,
        "start_time": "2022-03-20T11:22:33.823Z"
      },
      {
        "duration": 12,
        "start_time": "2022-03-20T11:22:46.774Z"
      },
      {
        "duration": 12,
        "start_time": "2022-03-20T11:23:17.041Z"
      },
      {
        "duration": 13,
        "start_time": "2022-03-20T11:23:30.141Z"
      },
      {
        "duration": 4,
        "start_time": "2022-03-20T11:23:37.877Z"
      },
      {
        "duration": 79,
        "start_time": "2022-03-20T11:24:37.559Z"
      },
      {
        "duration": 7,
        "start_time": "2022-03-20T11:24:44.798Z"
      },
      {
        "duration": 688,
        "start_time": "2022-03-20T11:25:09.682Z"
      },
      {
        "duration": 90,
        "start_time": "2022-03-20T11:25:10.373Z"
      },
      {
        "duration": 17,
        "start_time": "2022-03-20T11:25:10.465Z"
      },
      {
        "duration": 4,
        "start_time": "2022-03-20T11:25:10.483Z"
      },
      {
        "duration": 52,
        "start_time": "2022-03-20T11:25:10.489Z"
      },
      {
        "duration": 58,
        "start_time": "2022-03-20T11:25:10.542Z"
      },
      {
        "duration": 35,
        "start_time": "2022-03-20T11:25:10.602Z"
      },
      {
        "duration": 15,
        "start_time": "2022-03-20T11:25:10.639Z"
      },
      {
        "duration": 8,
        "start_time": "2022-03-20T11:25:10.656Z"
      },
      {
        "duration": 12,
        "start_time": "2022-03-20T11:25:10.666Z"
      },
      {
        "duration": 7,
        "start_time": "2022-03-20T11:25:10.680Z"
      },
      {
        "duration": 45,
        "start_time": "2022-03-20T11:25:10.688Z"
      },
      {
        "duration": 12,
        "start_time": "2022-03-20T11:25:10.734Z"
      },
      {
        "duration": 6,
        "start_time": "2022-03-20T11:25:10.749Z"
      },
      {
        "duration": 160,
        "start_time": "2022-03-20T11:25:10.756Z"
      },
      {
        "duration": 16,
        "start_time": "2022-03-20T11:25:10.918Z"
      },
      {
        "duration": 5,
        "start_time": "2022-03-20T11:25:10.936Z"
      },
      {
        "duration": 155,
        "start_time": "2022-03-20T11:25:10.943Z"
      },
      {
        "duration": 32,
        "start_time": "2022-03-20T11:25:11.100Z"
      },
      {
        "duration": 154,
        "start_time": "2022-03-20T11:25:11.134Z"
      },
      {
        "duration": 14,
        "start_time": "2022-03-20T11:25:11.290Z"
      },
      {
        "duration": 37,
        "start_time": "2022-03-20T11:25:11.305Z"
      },
      {
        "duration": 4,
        "start_time": "2022-03-20T11:25:11.343Z"
      },
      {
        "duration": 24,
        "start_time": "2022-03-20T11:25:11.349Z"
      },
      {
        "duration": 20,
        "start_time": "2022-03-20T11:25:11.375Z"
      },
      {
        "duration": 39,
        "start_time": "2022-03-20T11:25:11.396Z"
      },
      {
        "duration": 7,
        "start_time": "2022-03-20T11:25:11.436Z"
      },
      {
        "duration": 22,
        "start_time": "2022-03-20T11:25:11.444Z"
      },
      {
        "duration": 10,
        "start_time": "2022-03-20T11:25:11.468Z"
      },
      {
        "duration": 15,
        "start_time": "2022-03-20T11:25:11.480Z"
      },
      {
        "duration": 38,
        "start_time": "2022-03-20T11:25:11.496Z"
      },
      {
        "duration": 3,
        "start_time": "2022-03-20T11:25:11.536Z"
      },
      {
        "duration": 20,
        "start_time": "2022-03-20T11:25:11.540Z"
      },
      {
        "duration": 10,
        "start_time": "2022-03-20T11:25:11.562Z"
      },
      {
        "duration": 30,
        "start_time": "2022-03-20T11:25:11.574Z"
      },
      {
        "duration": 7,
        "start_time": "2022-03-20T11:25:11.632Z"
      },
      {
        "duration": 6,
        "start_time": "2022-03-20T11:25:11.641Z"
      },
      {
        "duration": 5,
        "start_time": "2022-03-20T11:25:11.649Z"
      },
      {
        "duration": 26,
        "start_time": "2022-03-20T11:25:11.655Z"
      },
      {
        "duration": 55,
        "start_time": "2022-03-20T11:25:11.683Z"
      },
      {
        "duration": 25,
        "start_time": "2022-03-20T11:25:11.743Z"
      },
      {
        "duration": 182,
        "start_time": "2022-03-20T11:25:11.771Z"
      },
      {
        "duration": 22,
        "start_time": "2022-03-20T11:25:11.955Z"
      },
      {
        "duration": 22,
        "start_time": "2022-03-20T11:25:11.978Z"
      },
      {
        "duration": 47,
        "start_time": "2022-03-20T11:25:12.002Z"
      },
      {
        "duration": 29,
        "start_time": "2022-03-20T11:29:58.351Z"
      },
      {
        "duration": 18,
        "start_time": "2022-03-20T11:33:13.232Z"
      },
      {
        "duration": 33,
        "start_time": "2022-03-20T11:33:38.449Z"
      },
      {
        "duration": 6,
        "start_time": "2022-03-20T11:41:00.515Z"
      },
      {
        "duration": 39,
        "start_time": "2022-03-20T11:41:06.398Z"
      },
      {
        "duration": 7,
        "start_time": "2022-03-20T11:42:04.024Z"
      },
      {
        "duration": 4,
        "start_time": "2022-03-20T11:42:05.090Z"
      },
      {
        "duration": 31,
        "start_time": "2022-03-20T11:42:09.894Z"
      },
      {
        "duration": 118,
        "start_time": "2022-03-20T11:42:18.063Z"
      },
      {
        "duration": 6,
        "start_time": "2022-03-20T11:43:05.566Z"
      },
      {
        "duration": 42,
        "start_time": "2022-03-20T11:43:08.299Z"
      },
      {
        "duration": 29,
        "start_time": "2022-03-20T11:43:34.635Z"
      },
      {
        "duration": 5,
        "start_time": "2022-03-20T11:44:29.408Z"
      },
      {
        "duration": 35,
        "start_time": "2022-03-20T11:44:32.198Z"
      },
      {
        "duration": 27,
        "start_time": "2022-03-20T11:46:23.666Z"
      },
      {
        "duration": 21,
        "start_time": "2022-03-20T11:48:02.468Z"
      },
      {
        "duration": 4,
        "start_time": "2022-03-20T11:48:35.979Z"
      },
      {
        "duration": 27,
        "start_time": "2022-03-20T11:48:38.079Z"
      },
      {
        "duration": 93,
        "start_time": "2022-03-20T11:50:29.694Z"
      },
      {
        "duration": 27,
        "start_time": "2022-03-20T11:50:43.498Z"
      },
      {
        "duration": 28,
        "start_time": "2022-03-20T11:50:57.386Z"
      },
      {
        "duration": 3,
        "start_time": "2022-03-20T11:52:00.737Z"
      },
      {
        "duration": 25,
        "start_time": "2022-03-20T11:52:02.896Z"
      },
      {
        "duration": 27,
        "start_time": "2022-03-20T11:52:07.399Z"
      },
      {
        "duration": 4,
        "start_time": "2022-03-20T11:52:13.211Z"
      },
      {
        "duration": 4,
        "start_time": "2022-03-20T11:52:27.097Z"
      },
      {
        "duration": 23,
        "start_time": "2022-03-20T11:52:29.356Z"
      },
      {
        "duration": 4,
        "start_time": "2022-03-20T11:52:46.257Z"
      },
      {
        "duration": 26,
        "start_time": "2022-03-20T11:52:48.403Z"
      },
      {
        "duration": 5,
        "start_time": "2022-03-20T11:53:05.591Z"
      },
      {
        "duration": 25,
        "start_time": "2022-03-20T11:53:08.058Z"
      },
      {
        "duration": 4,
        "start_time": "2022-03-20T11:53:24.454Z"
      },
      {
        "duration": 22,
        "start_time": "2022-03-20T11:53:26.398Z"
      },
      {
        "duration": 4,
        "start_time": "2022-03-20T11:55:53.669Z"
      },
      {
        "duration": 25,
        "start_time": "2022-03-20T11:55:59.606Z"
      },
      {
        "duration": 25,
        "start_time": "2022-03-20T11:56:06.032Z"
      },
      {
        "duration": 28,
        "start_time": "2022-03-20T11:56:33.632Z"
      },
      {
        "duration": 30,
        "start_time": "2022-03-20T11:56:44.106Z"
      },
      {
        "duration": 696,
        "start_time": "2022-03-20T11:58:56.372Z"
      },
      {
        "duration": 80,
        "start_time": "2022-03-20T11:58:57.069Z"
      },
      {
        "duration": 17,
        "start_time": "2022-03-20T11:58:57.150Z"
      },
      {
        "duration": 3,
        "start_time": "2022-03-20T11:58:57.170Z"
      },
      {
        "duration": 35,
        "start_time": "2022-03-20T11:58:57.175Z"
      },
      {
        "duration": 76,
        "start_time": "2022-03-20T11:58:57.211Z"
      },
      {
        "duration": 19,
        "start_time": "2022-03-20T11:58:57.288Z"
      },
      {
        "duration": 36,
        "start_time": "2022-03-20T11:58:57.308Z"
      },
      {
        "duration": 7,
        "start_time": "2022-03-20T11:58:57.346Z"
      },
      {
        "duration": 12,
        "start_time": "2022-03-20T11:58:57.356Z"
      },
      {
        "duration": 7,
        "start_time": "2022-03-20T11:58:57.369Z"
      },
      {
        "duration": 17,
        "start_time": "2022-03-20T11:58:57.377Z"
      },
      {
        "duration": 41,
        "start_time": "2022-03-20T11:58:57.396Z"
      },
      {
        "duration": 7,
        "start_time": "2022-03-20T11:58:57.438Z"
      },
      {
        "duration": 155,
        "start_time": "2022-03-20T11:58:57.447Z"
      },
      {
        "duration": 11,
        "start_time": "2022-03-20T11:58:57.604Z"
      },
      {
        "duration": 18,
        "start_time": "2022-03-20T11:58:57.616Z"
      },
      {
        "duration": 150,
        "start_time": "2022-03-20T11:58:57.636Z"
      },
      {
        "duration": 17,
        "start_time": "2022-03-20T11:58:57.788Z"
      },
      {
        "duration": 167,
        "start_time": "2022-03-20T11:58:57.807Z"
      },
      {
        "duration": 14,
        "start_time": "2022-03-20T11:58:57.975Z"
      },
      {
        "duration": 42,
        "start_time": "2022-03-20T11:58:57.990Z"
      },
      {
        "duration": 20,
        "start_time": "2022-03-20T11:58:58.034Z"
      },
      {
        "duration": 25,
        "start_time": "2022-03-20T11:58:58.056Z"
      },
      {
        "duration": 17,
        "start_time": "2022-03-20T11:58:58.083Z"
      },
      {
        "duration": 47,
        "start_time": "2022-03-20T11:58:58.102Z"
      },
      {
        "duration": 37,
        "start_time": "2022-03-20T11:58:58.151Z"
      },
      {
        "duration": 4,
        "start_time": "2022-03-20T11:58:58.192Z"
      },
      {
        "duration": 36,
        "start_time": "2022-03-20T11:58:58.198Z"
      },
      {
        "duration": 11,
        "start_time": "2022-03-20T11:58:58.236Z"
      },
      {
        "duration": 14,
        "start_time": "2022-03-20T11:58:58.249Z"
      },
      {
        "duration": 6,
        "start_time": "2022-03-20T11:58:58.265Z"
      },
      {
        "duration": 3,
        "start_time": "2022-03-20T11:58:58.273Z"
      },
      {
        "duration": 55,
        "start_time": "2022-03-20T11:58:58.278Z"
      },
      {
        "duration": 8,
        "start_time": "2022-03-20T11:58:58.335Z"
      },
      {
        "duration": 33,
        "start_time": "2022-03-20T11:58:58.345Z"
      },
      {
        "duration": 7,
        "start_time": "2022-03-20T11:58:58.380Z"
      },
      {
        "duration": 6,
        "start_time": "2022-03-20T11:58:58.389Z"
      },
      {
        "duration": 37,
        "start_time": "2022-03-20T11:58:58.396Z"
      },
      {
        "duration": 31,
        "start_time": "2022-03-20T11:58:58.435Z"
      },
      {
        "duration": 26,
        "start_time": "2022-03-20T11:58:58.467Z"
      },
      {
        "duration": 51,
        "start_time": "2022-03-20T11:58:58.495Z"
      },
      {
        "duration": 29,
        "start_time": "2022-03-20T11:58:58.548Z"
      },
      {
        "duration": 695,
        "start_time": "2022-03-20T12:01:43.457Z"
      },
      {
        "duration": 87,
        "start_time": "2022-03-20T12:01:44.154Z"
      },
      {
        "duration": 16,
        "start_time": "2022-03-20T12:01:44.242Z"
      },
      {
        "duration": 3,
        "start_time": "2022-03-20T12:01:44.260Z"
      },
      {
        "duration": 37,
        "start_time": "2022-03-20T12:01:44.265Z"
      },
      {
        "duration": 77,
        "start_time": "2022-03-20T12:01:44.303Z"
      },
      {
        "duration": 20,
        "start_time": "2022-03-20T12:01:44.382Z"
      },
      {
        "duration": 37,
        "start_time": "2022-03-20T12:01:44.404Z"
      },
      {
        "duration": 8,
        "start_time": "2022-03-20T12:01:44.443Z"
      },
      {
        "duration": 15,
        "start_time": "2022-03-20T12:01:44.454Z"
      },
      {
        "duration": 8,
        "start_time": "2022-03-20T12:01:44.470Z"
      },
      {
        "duration": 13,
        "start_time": "2022-03-20T12:01:44.480Z"
      },
      {
        "duration": 42,
        "start_time": "2022-03-20T12:01:44.495Z"
      },
      {
        "duration": 7,
        "start_time": "2022-03-20T12:01:44.538Z"
      },
      {
        "duration": 163,
        "start_time": "2022-03-20T12:01:44.547Z"
      },
      {
        "duration": 10,
        "start_time": "2022-03-20T12:01:44.712Z"
      },
      {
        "duration": 13,
        "start_time": "2022-03-20T12:01:44.723Z"
      },
      {
        "duration": 161,
        "start_time": "2022-03-20T12:01:44.737Z"
      },
      {
        "duration": 18,
        "start_time": "2022-03-20T12:01:44.900Z"
      },
      {
        "duration": 174,
        "start_time": "2022-03-20T12:01:44.919Z"
      },
      {
        "duration": 44,
        "start_time": "2022-03-20T12:01:45.095Z"
      },
      {
        "duration": 11,
        "start_time": "2022-03-20T12:01:45.140Z"
      },
      {
        "duration": 21,
        "start_time": "2022-03-20T12:01:45.153Z"
      },
      {
        "duration": 26,
        "start_time": "2022-03-20T12:01:45.176Z"
      },
      {
        "duration": 38,
        "start_time": "2022-03-20T12:01:45.204Z"
      },
      {
        "duration": 31,
        "start_time": "2022-03-20T12:01:45.244Z"
      },
      {
        "duration": 36,
        "start_time": "2022-03-20T12:01:45.277Z"
      },
      {
        "duration": 17,
        "start_time": "2022-03-20T12:01:45.317Z"
      },
      {
        "duration": 17,
        "start_time": "2022-03-20T12:01:45.336Z"
      },
      {
        "duration": 21,
        "start_time": "2022-03-20T12:01:45.354Z"
      },
      {
        "duration": 20,
        "start_time": "2022-03-20T12:01:45.377Z"
      },
      {
        "duration": 10,
        "start_time": "2022-03-20T12:01:45.399Z"
      },
      {
        "duration": 24,
        "start_time": "2022-03-20T12:01:45.410Z"
      },
      {
        "duration": 21,
        "start_time": "2022-03-20T12:01:45.435Z"
      },
      {
        "duration": 10,
        "start_time": "2022-03-20T12:01:45.457Z"
      },
      {
        "duration": 33,
        "start_time": "2022-03-20T12:01:45.469Z"
      },
      {
        "duration": 7,
        "start_time": "2022-03-20T12:01:45.533Z"
      },
      {
        "duration": 6,
        "start_time": "2022-03-20T12:01:45.542Z"
      },
      {
        "duration": 6,
        "start_time": "2022-03-20T12:01:45.549Z"
      },
      {
        "duration": 29,
        "start_time": "2022-03-20T12:01:45.557Z"
      },
      {
        "duration": 48,
        "start_time": "2022-03-20T12:01:45.588Z"
      },
      {
        "duration": 29,
        "start_time": "2022-03-20T12:01:45.638Z"
      },
      {
        "duration": 31,
        "start_time": "2022-03-20T12:01:45.668Z"
      },
      {
        "duration": 83,
        "start_time": "2022-03-20T12:18:37.371Z"
      },
      {
        "duration": 29,
        "start_time": "2022-03-20T12:18:52.030Z"
      },
      {
        "duration": 58,
        "start_time": "2022-03-20T12:20:36.951Z"
      },
      {
        "duration": 30,
        "start_time": "2022-03-20T12:21:26.224Z"
      },
      {
        "duration": 8,
        "start_time": "2022-03-20T12:22:23.358Z"
      },
      {
        "duration": 16,
        "start_time": "2022-03-20T12:22:34.729Z"
      },
      {
        "duration": 160,
        "start_time": "2022-03-20T12:22:59.867Z"
      },
      {
        "duration": 16,
        "start_time": "2022-03-20T12:23:06.427Z"
      },
      {
        "duration": 140,
        "start_time": "2022-03-20T12:23:35.313Z"
      },
      {
        "duration": 15,
        "start_time": "2022-03-20T12:23:55.197Z"
      },
      {
        "duration": 9,
        "start_time": "2022-03-20T12:25:30.428Z"
      },
      {
        "duration": 9,
        "start_time": "2022-03-20T12:25:38.729Z"
      },
      {
        "duration": 12,
        "start_time": "2022-03-20T12:26:02.216Z"
      },
      {
        "duration": 13,
        "start_time": "2022-03-20T12:26:56.895Z"
      },
      {
        "duration": 8,
        "start_time": "2022-03-20T12:27:17.730Z"
      },
      {
        "duration": 27,
        "start_time": "2022-03-20T12:27:38.345Z"
      },
      {
        "duration": 27,
        "start_time": "2022-03-20T12:28:25.756Z"
      },
      {
        "duration": 30,
        "start_time": "2022-03-20T12:31:47.739Z"
      },
      {
        "duration": 24,
        "start_time": "2022-03-20T12:32:15.154Z"
      },
      {
        "duration": 29,
        "start_time": "2022-03-20T12:37:47.778Z"
      },
      {
        "duration": 28,
        "start_time": "2022-03-20T12:39:42.002Z"
      },
      {
        "duration": 12,
        "start_time": "2022-03-20T12:43:01.789Z"
      },
      {
        "duration": 35,
        "start_time": "2022-03-20T12:43:13.012Z"
      },
      {
        "duration": 38,
        "start_time": "2022-03-20T12:43:31.189Z"
      },
      {
        "duration": 34,
        "start_time": "2022-03-20T12:46:25.123Z"
      },
      {
        "duration": 37,
        "start_time": "2022-03-20T12:47:26.681Z"
      },
      {
        "duration": 36,
        "start_time": "2022-03-20T12:47:55.941Z"
      },
      {
        "duration": 36,
        "start_time": "2022-03-20T12:48:26.275Z"
      },
      {
        "duration": 24,
        "start_time": "2022-03-20T12:48:44.057Z"
      },
      {
        "duration": 29,
        "start_time": "2022-03-20T12:51:34.373Z"
      },
      {
        "duration": 43,
        "start_time": "2022-03-20T12:57:24.386Z"
      },
      {
        "duration": 39,
        "start_time": "2022-03-20T13:07:41.832Z"
      },
      {
        "duration": 40,
        "start_time": "2022-03-20T13:08:05.672Z"
      },
      {
        "duration": 32,
        "start_time": "2022-03-20T13:15:02.776Z"
      },
      {
        "duration": 154,
        "start_time": "2022-03-20T13:21:07.424Z"
      },
      {
        "duration": 34,
        "start_time": "2022-03-20T13:21:33.872Z"
      },
      {
        "duration": 698,
        "start_time": "2022-03-20T13:26:14.465Z"
      },
      {
        "duration": 91,
        "start_time": "2022-03-20T13:26:15.166Z"
      },
      {
        "duration": 17,
        "start_time": "2022-03-20T13:26:15.259Z"
      },
      {
        "duration": 4,
        "start_time": "2022-03-20T13:26:15.278Z"
      },
      {
        "duration": 49,
        "start_time": "2022-03-20T13:26:15.283Z"
      },
      {
        "duration": 61,
        "start_time": "2022-03-20T13:26:15.334Z"
      },
      {
        "duration": 35,
        "start_time": "2022-03-20T13:26:15.396Z"
      },
      {
        "duration": 16,
        "start_time": "2022-03-20T13:26:15.433Z"
      },
      {
        "duration": 8,
        "start_time": "2022-03-20T13:26:15.451Z"
      },
      {
        "duration": 12,
        "start_time": "2022-03-20T13:26:15.462Z"
      },
      {
        "duration": 6,
        "start_time": "2022-03-20T13:26:15.476Z"
      },
      {
        "duration": 13,
        "start_time": "2022-03-20T13:26:15.484Z"
      },
      {
        "duration": 12,
        "start_time": "2022-03-20T13:26:15.533Z"
      },
      {
        "duration": 6,
        "start_time": "2022-03-20T13:26:15.547Z"
      },
      {
        "duration": 167,
        "start_time": "2022-03-20T13:26:15.555Z"
      },
      {
        "duration": 15,
        "start_time": "2022-03-20T13:26:15.724Z"
      },
      {
        "duration": 5,
        "start_time": "2022-03-20T13:26:15.741Z"
      },
      {
        "duration": 165,
        "start_time": "2022-03-20T13:26:15.748Z"
      },
      {
        "duration": 27,
        "start_time": "2022-03-20T13:26:15.914Z"
      },
      {
        "duration": 159,
        "start_time": "2022-03-20T13:26:15.943Z"
      },
      {
        "duration": 42,
        "start_time": "2022-03-20T13:26:16.103Z"
      },
      {
        "duration": 11,
        "start_time": "2022-03-20T13:26:16.146Z"
      },
      {
        "duration": 23,
        "start_time": "2022-03-20T13:26:16.160Z"
      },
      {
        "duration": 62,
        "start_time": "2022-03-20T13:26:16.184Z"
      },
      {
        "duration": 21,
        "start_time": "2022-03-20T13:26:16.248Z"
      },
      {
        "duration": 26,
        "start_time": "2022-03-20T13:26:16.271Z"
      },
      {
        "duration": 63,
        "start_time": "2022-03-20T13:26:16.299Z"
      },
      {
        "duration": 4,
        "start_time": "2022-03-20T13:26:16.367Z"
      },
      {
        "duration": 16,
        "start_time": "2022-03-20T13:26:16.373Z"
      },
      {
        "duration": 11,
        "start_time": "2022-03-20T13:26:16.391Z"
      },
      {
        "duration": 43,
        "start_time": "2022-03-20T13:26:16.404Z"
      },
      {
        "duration": 6,
        "start_time": "2022-03-20T13:26:16.449Z"
      },
      {
        "duration": 3,
        "start_time": "2022-03-20T13:26:16.457Z"
      },
      {
        "duration": 20,
        "start_time": "2022-03-20T13:26:16.462Z"
      },
      {
        "duration": 7,
        "start_time": "2022-03-20T13:26:16.485Z"
      },
      {
        "duration": 62,
        "start_time": "2022-03-20T13:26:16.494Z"
      },
      {
        "duration": 8,
        "start_time": "2022-03-20T13:26:16.557Z"
      },
      {
        "duration": 8,
        "start_time": "2022-03-20T13:26:16.566Z"
      },
      {
        "duration": 5,
        "start_time": "2022-03-20T13:26:16.576Z"
      },
      {
        "duration": 60,
        "start_time": "2022-03-20T13:26:16.583Z"
      },
      {
        "duration": 27,
        "start_time": "2022-03-20T13:26:16.644Z"
      },
      {
        "duration": 24,
        "start_time": "2022-03-20T13:26:16.672Z"
      },
      {
        "duration": 56,
        "start_time": "2022-03-20T13:26:16.697Z"
      },
      {
        "duration": 26,
        "start_time": "2022-03-20T13:26:16.755Z"
      },
      {
        "duration": 62,
        "start_time": "2022-03-20T13:26:16.783Z"
      },
      {
        "duration": 43,
        "start_time": "2022-03-20T13:26:16.847Z"
      },
      {
        "duration": 50,
        "start_time": "2022-03-20T13:26:16.892Z"
      }
    ],
    "kernelspec": {
      "display_name": "Python 3 (ipykernel)",
      "language": "python",
      "name": "python3"
    },
    "language_info": {
      "codemirror_mode": {
        "name": "ipython",
        "version": 3
      },
      "file_extension": ".py",
      "mimetype": "text/x-python",
      "name": "python",
      "nbconvert_exporter": "python",
      "pygments_lexer": "ipython3",
      "version": "3.9.5"
    },
    "toc": {
      "base_numbering": 1,
      "nav_menu": {},
      "number_sections": true,
      "sideBar": true,
      "skip_h1_title": true,
      "title_cell": "Содержание",
      "title_sidebar": "Contents",
      "toc_cell": true,
      "toc_position": {},
      "toc_section_display": true,
      "toc_window_display": false
    },
    "colab": {
      "provenance": [],
      "collapsed_sections": [],
      "include_colab_link": true
    }
  },
  "nbformat": 4,
  "nbformat_minor": 5
}
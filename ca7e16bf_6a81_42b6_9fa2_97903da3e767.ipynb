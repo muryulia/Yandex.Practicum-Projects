{
  "cells": [
    {
      "cell_type": "markdown",
      "metadata": {
        "id": "view-in-github",
        "colab_type": "text"
      },
      "source": [
        "<a href=\"https://colab.research.google.com/github/muryulia/Yandex.Practicum-Projects/blob/main/ca7e16bf_6a81_42b6_9fa2_97903da3e767.ipynb\" target=\"_parent\"><img src=\"https://colab.research.google.com/assets/colab-badge.svg\" alt=\"Open In Colab\"/></a>"
      ]
    },
    {
      "cell_type": "markdown",
      "metadata": {
        "id": "E0vqbgi9ay0H"
      },
      "source": [
        "# Яндекс.Музыка: как слушают музыку в Москве и в Санкт-Петербурге"
      ]
    },
    {
      "cell_type": "markdown",
      "source": [
        "<h1>Содержание<span class=\"tocSkip\"></span></h1>\n",
        "<div class=\"toc\"><ul class=\"toc-item\"><li><span><a href=\"#Обзор-данных\" data-toc-modified-id=\"Обзор-данных-1\"><span class=\"toc-item-num\">1&nbsp;&nbsp;</span>Обзор данных</a></span></li><li><span><a href=\"#Предобработка-данных\" data-toc-modified-id=\"Предобработка-данных-2\"><span class=\"toc-item-num\">2&nbsp;&nbsp;</span>Предобработка данных</a></span><ul class=\"toc-item\"><li><span><a href=\"#Стиль-заголовков\" data-toc-modified-id=\"Стиль-заголовков-2.1\"><span class=\"toc-item-num\">2.1&nbsp;&nbsp;</span>Стиль заголовков</a></span></li><li><span><a href=\"#Пропуски-значений\" data-toc-modified-id=\"Пропуски-значений-2.2\"><span class=\"toc-item-num\">2.2&nbsp;&nbsp;</span>Пропуски значений</a></span></li><li><span><a href=\"#Дубликаты\" data-toc-modified-id=\"Дубликаты-2.3\"><span class=\"toc-item-num\">2.3&nbsp;&nbsp;</span>Дубликаты</a></span></li></ul></li><li><span><a href=\"#Проверка-гипотез\" data-toc-modified-id=\"Проверка-гипотез-3\"><span class=\"toc-item-num\">3&nbsp;&nbsp;</span>Проверка гипотез</a></span><ul class=\"toc-item\"><li><span><a href=\"#Сравнение-поведения-пользователей-двух-столиц\" data-toc-modified-id=\"Сравнение-поведения-пользователей-двух-столиц-3.1\"><span class=\"toc-item-num\">3.1&nbsp;&nbsp;</span>Сравнение поведения пользователей двух столиц</a></span></li><li><span><a href=\"#Музыка-в-начале-и-в-конце-недели\" data-toc-modified-id=\"Музыка-в-начале-и-в-конце-недели-3.2\"><span class=\"toc-item-num\">3.2&nbsp;&nbsp;</span>Музыка в начале и в конце недели</a></span></li><li><span><a href=\"#Жанровые-предпочтения-в-Москве-и-Петербурге\" data-toc-modified-id=\"Жанровые-предпочтения-в-Москве-и-Петербурге-3.3\"><span class=\"toc-item-num\">3.3&nbsp;&nbsp;</span>Жанровые предпочтения в Москве и Петербурге</a></span></li></ul></li><li><span><a href=\"#Итоги-исследования\" data-toc-modified-id=\"Итоги-исследования-4\"><span class=\"toc-item-num\">4&nbsp;&nbsp;</span>Итоги исследования</a></span></li></ul></div>\n",
        "\n"
      ],
      "metadata": {
        "id": "yBX-nOcXqRpm"
      }
    },
    {
      "cell_type": "markdown",
      "metadata": {
        "id": "VUC88oWjTJw2"
      },
      "source": [
        "Сравнение Москвы и Петербурга окружено мифами. Например:\n",
        " * Москва — мегаполис, подчинённый жёсткому ритму рабочей недели;\n",
        " * Петербург — культурная столица, со своими вкусами.\n",
        "\n",
        "На данных Яндекс.Музыки сравним поведение пользователей двух столиц.\n",
        "\n",
        "**Цель исследования** — проверить три гипотезы:\n",
        "1. Активность пользователей зависит от дня недели. Причём в Москве и Петербурге это проявляется по-разному.\n",
        "2. В понедельник утром в Москве преобладают одни жанры, а в Петербурге — другие. Так же и вечером пятницы преобладают разные жанры — в зависимости от города. \n",
        "3. Москва и Петербург предпочитают разные жанры музыки. В Москве чаще слушают поп-музыку, в Петербурге — русский рэп.\n",
        "\n",
        "**Ход исследования**\n",
        "\n",
        "Данные о поведении пользователей представлены в файле `yandex_music_project.csv`. О качестве данных ничего не известно. Поэтому перед проверкой гипотез понадобится обзор данных. \n",
        "\n",
        "Проведем проверку данных на ошибки и оценим их влияние на исследование. Затем, на этапе предобработки попробуем исправить самые критичные ошибки в данных.\n",
        " \n",
        "Таким образом, исследование пройдёт в три этапа:\n",
        " 1. Обзор данных.\n",
        " 2. Предобработка данных.\n",
        " 3. Проверка гипотез.\n",
        "\n",
        " **Дашборд Tableau**\n",
        "\n",
        "Как итог исследования построили дашборд в Tableau, чтобы можно было наглядно увидеть разницу между музыкальными предпочтениями двух столиц: [дашборд](https://public.tableau.com/app/profile/muryulia/viz/MusichabitsMoscowvsSaint-Petersburg/Dashboard1)\n",
        "\n"
      ]
    },
    {
      "cell_type": "markdown",
      "metadata": {
        "id": "Ml1hmfXC_Zcs"
      },
      "source": [
        "## Обзор данных\n",
        "\n",
        "Составим первое представление о данных Яндекс.Музыки.\n",
        "\n",
        "\n"
      ]
    },
    {
      "cell_type": "code",
      "execution_count": 1,
      "metadata": {
        "id": "AXN7PHPN_Zcs"
      },
      "outputs": [],
      "source": [
        "import pandas as pd\n",
        "pd.options.display.float_format = '{:.2f}'.format"
      ]
    },
    {
      "cell_type": "code",
      "execution_count": 2,
      "metadata": {
        "id": "fFVu7vqh_Zct"
      },
      "outputs": [],
      "source": [
        "# чтение файла с данными и сохранение в df\n",
        "df = pd.read_csv('/datasets/yandex_music_project.csv')"
      ]
    },
    {
      "cell_type": "markdown",
      "metadata": {
        "id": "rDoOMd3uTqnZ"
      },
      "source": [
        "Выведем на экран первые десять строк таблицы:"
      ]
    },
    {
      "cell_type": "code",
      "execution_count": 3,
      "metadata": {
        "id": "oWTVX3gW_Zct",
        "colab": {
          "base_uri": "https://localhost:8080/",
          "height": 363
        },
        "outputId": "e7e2067b-2067-4b47-975a-71b8987876df"
      },
      "outputs": [
        {
          "output_type": "execute_result",
          "data": {
            "text/plain": [
              "     userID                        Track            artist   genre  \\\n",
              "0  FFB692EC            Kamigata To Boots  The Mass Missile    rock   \n",
              "1  55204538  Delayed Because of Accident  Andreas Rönnberg    rock   \n",
              "2    20EC38            Funiculì funiculà       Mario Lanza     pop   \n",
              "3  A3DD03C9        Dragons in the Sunset        Fire + Ice    folk   \n",
              "4  E2DC1FAE                  Soul People        Space Echo   dance   \n",
              "5  842029A1                    Преданная         IMPERVTOR  rusrap   \n",
              "6  4CB90AA5                         True      Roman Messer   dance   \n",
              "7  F03E1C1F             Feeling This Way   Polina Griffith   dance   \n",
              "8  8FA1D3BE     И вновь продолжается бой               NaN  ruspop   \n",
              "9  E772D5C0                    Pessimist               NaN   dance   \n",
              "\n",
              "             City        time        Day  \n",
              "0  Saint-Petersburg  20:28:33  Wednesday  \n",
              "1            Moscow  14:07:09     Friday  \n",
              "2  Saint-Petersburg  20:58:07  Wednesday  \n",
              "3  Saint-Petersburg  08:37:09     Monday  \n",
              "4            Moscow  08:34:34     Monday  \n",
              "5  Saint-Petersburg  13:09:41     Friday  \n",
              "6            Moscow  13:00:07  Wednesday  \n",
              "7            Moscow  20:47:49  Wednesday  \n",
              "8            Moscow  09:17:40     Friday  \n",
              "9  Saint-Petersburg  21:20:49  Wednesday  "
            ],
            "text/html": [
              "\n",
              "  <div id=\"df-aa121854-abec-4a87-bee6-4da5a8e59f81\">\n",
              "    <div class=\"colab-df-container\">\n",
              "      <div>\n",
              "<style scoped>\n",
              "    .dataframe tbody tr th:only-of-type {\n",
              "        vertical-align: middle;\n",
              "    }\n",
              "\n",
              "    .dataframe tbody tr th {\n",
              "        vertical-align: top;\n",
              "    }\n",
              "\n",
              "    .dataframe thead th {\n",
              "        text-align: right;\n",
              "    }\n",
              "</style>\n",
              "<table border=\"1\" class=\"dataframe\">\n",
              "  <thead>\n",
              "    <tr style=\"text-align: right;\">\n",
              "      <th></th>\n",
              "      <th>userID</th>\n",
              "      <th>Track</th>\n",
              "      <th>artist</th>\n",
              "      <th>genre</th>\n",
              "      <th>City</th>\n",
              "      <th>time</th>\n",
              "      <th>Day</th>\n",
              "    </tr>\n",
              "  </thead>\n",
              "  <tbody>\n",
              "    <tr>\n",
              "      <th>0</th>\n",
              "      <td>FFB692EC</td>\n",
              "      <td>Kamigata To Boots</td>\n",
              "      <td>The Mass Missile</td>\n",
              "      <td>rock</td>\n",
              "      <td>Saint-Petersburg</td>\n",
              "      <td>20:28:33</td>\n",
              "      <td>Wednesday</td>\n",
              "    </tr>\n",
              "    <tr>\n",
              "      <th>1</th>\n",
              "      <td>55204538</td>\n",
              "      <td>Delayed Because of Accident</td>\n",
              "      <td>Andreas Rönnberg</td>\n",
              "      <td>rock</td>\n",
              "      <td>Moscow</td>\n",
              "      <td>14:07:09</td>\n",
              "      <td>Friday</td>\n",
              "    </tr>\n",
              "    <tr>\n",
              "      <th>2</th>\n",
              "      <td>20EC38</td>\n",
              "      <td>Funiculì funiculà</td>\n",
              "      <td>Mario Lanza</td>\n",
              "      <td>pop</td>\n",
              "      <td>Saint-Petersburg</td>\n",
              "      <td>20:58:07</td>\n",
              "      <td>Wednesday</td>\n",
              "    </tr>\n",
              "    <tr>\n",
              "      <th>3</th>\n",
              "      <td>A3DD03C9</td>\n",
              "      <td>Dragons in the Sunset</td>\n",
              "      <td>Fire + Ice</td>\n",
              "      <td>folk</td>\n",
              "      <td>Saint-Petersburg</td>\n",
              "      <td>08:37:09</td>\n",
              "      <td>Monday</td>\n",
              "    </tr>\n",
              "    <tr>\n",
              "      <th>4</th>\n",
              "      <td>E2DC1FAE</td>\n",
              "      <td>Soul People</td>\n",
              "      <td>Space Echo</td>\n",
              "      <td>dance</td>\n",
              "      <td>Moscow</td>\n",
              "      <td>08:34:34</td>\n",
              "      <td>Monday</td>\n",
              "    </tr>\n",
              "    <tr>\n",
              "      <th>5</th>\n",
              "      <td>842029A1</td>\n",
              "      <td>Преданная</td>\n",
              "      <td>IMPERVTOR</td>\n",
              "      <td>rusrap</td>\n",
              "      <td>Saint-Petersburg</td>\n",
              "      <td>13:09:41</td>\n",
              "      <td>Friday</td>\n",
              "    </tr>\n",
              "    <tr>\n",
              "      <th>6</th>\n",
              "      <td>4CB90AA5</td>\n",
              "      <td>True</td>\n",
              "      <td>Roman Messer</td>\n",
              "      <td>dance</td>\n",
              "      <td>Moscow</td>\n",
              "      <td>13:00:07</td>\n",
              "      <td>Wednesday</td>\n",
              "    </tr>\n",
              "    <tr>\n",
              "      <th>7</th>\n",
              "      <td>F03E1C1F</td>\n",
              "      <td>Feeling This Way</td>\n",
              "      <td>Polina Griffith</td>\n",
              "      <td>dance</td>\n",
              "      <td>Moscow</td>\n",
              "      <td>20:47:49</td>\n",
              "      <td>Wednesday</td>\n",
              "    </tr>\n",
              "    <tr>\n",
              "      <th>8</th>\n",
              "      <td>8FA1D3BE</td>\n",
              "      <td>И вновь продолжается бой</td>\n",
              "      <td>NaN</td>\n",
              "      <td>ruspop</td>\n",
              "      <td>Moscow</td>\n",
              "      <td>09:17:40</td>\n",
              "      <td>Friday</td>\n",
              "    </tr>\n",
              "    <tr>\n",
              "      <th>9</th>\n",
              "      <td>E772D5C0</td>\n",
              "      <td>Pessimist</td>\n",
              "      <td>NaN</td>\n",
              "      <td>dance</td>\n",
              "      <td>Saint-Petersburg</td>\n",
              "      <td>21:20:49</td>\n",
              "      <td>Wednesday</td>\n",
              "    </tr>\n",
              "  </tbody>\n",
              "</table>\n",
              "</div>\n",
              "      <button class=\"colab-df-convert\" onclick=\"convertToInteractive('df-aa121854-abec-4a87-bee6-4da5a8e59f81')\"\n",
              "              title=\"Convert this dataframe to an interactive table.\"\n",
              "              style=\"display:none;\">\n",
              "        \n",
              "  <svg xmlns=\"http://www.w3.org/2000/svg\" height=\"24px\"viewBox=\"0 0 24 24\"\n",
              "       width=\"24px\">\n",
              "    <path d=\"M0 0h24v24H0V0z\" fill=\"none\"/>\n",
              "    <path d=\"M18.56 5.44l.94 2.06.94-2.06 2.06-.94-2.06-.94-.94-2.06-.94 2.06-2.06.94zm-11 1L8.5 8.5l.94-2.06 2.06-.94-2.06-.94L8.5 2.5l-.94 2.06-2.06.94zm10 10l.94 2.06.94-2.06 2.06-.94-2.06-.94-.94-2.06-.94 2.06-2.06.94z\"/><path d=\"M17.41 7.96l-1.37-1.37c-.4-.4-.92-.59-1.43-.59-.52 0-1.04.2-1.43.59L10.3 9.45l-7.72 7.72c-.78.78-.78 2.05 0 2.83L4 21.41c.39.39.9.59 1.41.59.51 0 1.02-.2 1.41-.59l7.78-7.78 2.81-2.81c.8-.78.8-2.07 0-2.86zM5.41 20L4 18.59l7.72-7.72 1.47 1.35L5.41 20z\"/>\n",
              "  </svg>\n",
              "      </button>\n",
              "      \n",
              "  <style>\n",
              "    .colab-df-container {\n",
              "      display:flex;\n",
              "      flex-wrap:wrap;\n",
              "      gap: 12px;\n",
              "    }\n",
              "\n",
              "    .colab-df-convert {\n",
              "      background-color: #E8F0FE;\n",
              "      border: none;\n",
              "      border-radius: 50%;\n",
              "      cursor: pointer;\n",
              "      display: none;\n",
              "      fill: #1967D2;\n",
              "      height: 32px;\n",
              "      padding: 0 0 0 0;\n",
              "      width: 32px;\n",
              "    }\n",
              "\n",
              "    .colab-df-convert:hover {\n",
              "      background-color: #E2EBFA;\n",
              "      box-shadow: 0px 1px 2px rgba(60, 64, 67, 0.3), 0px 1px 3px 1px rgba(60, 64, 67, 0.15);\n",
              "      fill: #174EA6;\n",
              "    }\n",
              "\n",
              "    [theme=dark] .colab-df-convert {\n",
              "      background-color: #3B4455;\n",
              "      fill: #D2E3FC;\n",
              "    }\n",
              "\n",
              "    [theme=dark] .colab-df-convert:hover {\n",
              "      background-color: #434B5C;\n",
              "      box-shadow: 0px 1px 3px 1px rgba(0, 0, 0, 0.15);\n",
              "      filter: drop-shadow(0px 1px 2px rgba(0, 0, 0, 0.3));\n",
              "      fill: #FFFFFF;\n",
              "    }\n",
              "  </style>\n",
              "\n",
              "      <script>\n",
              "        const buttonEl =\n",
              "          document.querySelector('#df-aa121854-abec-4a87-bee6-4da5a8e59f81 button.colab-df-convert');\n",
              "        buttonEl.style.display =\n",
              "          google.colab.kernel.accessAllowed ? 'block' : 'none';\n",
              "\n",
              "        async function convertToInteractive(key) {\n",
              "          const element = document.querySelector('#df-aa121854-abec-4a87-bee6-4da5a8e59f81');\n",
              "          const dataTable =\n",
              "            await google.colab.kernel.invokeFunction('convertToInteractive',\n",
              "                                                     [key], {});\n",
              "          if (!dataTable) return;\n",
              "\n",
              "          const docLinkHtml = 'Like what you see? Visit the ' +\n",
              "            '<a target=\"_blank\" href=https://colab.research.google.com/notebooks/data_table.ipynb>data table notebook</a>'\n",
              "            + ' to learn more about interactive tables.';\n",
              "          element.innerHTML = '';\n",
              "          dataTable['output_type'] = 'display_data';\n",
              "          await google.colab.output.renderOutput(dataTable, element);\n",
              "          const docLink = document.createElement('div');\n",
              "          docLink.innerHTML = docLinkHtml;\n",
              "          element.appendChild(docLink);\n",
              "        }\n",
              "      </script>\n",
              "    </div>\n",
              "  </div>\n",
              "  "
            ]
          },
          "metadata": {},
          "execution_count": 3
        }
      ],
      "source": [
        "# получение первых 10 строк таблицы df\n",
        "df.head(10)"
      ]
    },
    {
      "cell_type": "markdown",
      "metadata": {
        "id": "EO73Kwic_Zct"
      },
      "source": [
        "Посмотрим общую информацию о таблице:"
      ]
    },
    {
      "cell_type": "code",
      "execution_count": 4,
      "metadata": {
        "id": "DSf2kIb-_Zct",
        "colab": {
          "base_uri": "https://localhost:8080/"
        },
        "outputId": "45dfc87f-2685-49f7-b9e5-8af127663a70"
      },
      "outputs": [
        {
          "output_type": "stream",
          "name": "stdout",
          "text": [
            "<class 'pandas.core.frame.DataFrame'>\n",
            "RangeIndex: 65079 entries, 0 to 65078\n",
            "Data columns (total 7 columns):\n",
            " #   Column    Non-Null Count  Dtype \n",
            "---  ------    --------------  ----- \n",
            " 0     userID  65079 non-null  object\n",
            " 1   Track     63848 non-null  object\n",
            " 2   artist    57876 non-null  object\n",
            " 3   genre     63881 non-null  object\n",
            " 4     City    65079 non-null  object\n",
            " 5   time      65079 non-null  object\n",
            " 6   Day       65079 non-null  object\n",
            "dtypes: object(7)\n",
            "memory usage: 3.5+ MB\n"
          ]
        }
      ],
      "source": [
        "# получение общей информации о данных в таблице df\n",
        "df.info()"
      ]
    },
    {
      "cell_type": "markdown",
      "metadata": {
        "id": "TaQ2Iwbr_Zct"
      },
      "source": [
        "Итак, в таблице семь столбцов. Тип данных во всех столбцах — `object`.\n",
        "\n",
        "Согласно документации к данным:\n",
        "* `userID` — идентификатор пользователя;\n",
        "* `Track` — название трека;  \n",
        "* `artist` — имя исполнителя;\n",
        "* `genre` — название жанра;\n",
        "* `City` — город пользователя;\n",
        "* `time` — время начала прослушивания;\n",
        "* `Day` — день недели.\n",
        "\n",
        "В названиях колонок видны несколько нарушений стиля:\n",
        "1. Строчные буквы сочетаются с прописными.\n",
        "2. Встречаются пробелы.\n",
        "3. Количество значений в столбцах различается. Значит, в данных есть пропущенные значения.\n",
        "4. Для заголовков рекомендуется использовать \"змеиный\" регистр: слова начинаются со строчной буквы, друг от друга слова отделяются нижним подчеркиванием.\n",
        "\n",
        "\n"
      ]
    },
    {
      "cell_type": "markdown",
      "metadata": {
        "id": "MCB6-dXG_Zct"
      },
      "source": [
        "**Выводы**\n",
        "\n",
        "В каждой строке таблицы — данные о прослушанном треке. Часть колонок описывает саму композицию: название, исполнителя и жанр. Остальные данные рассказывают о пользователе: из какого он города, когда он слушал музыку. \n",
        "\n",
        "Предварительно можно утверждать, что данных достаточно для проверки гипотез. Но встречаются пропуски в данных, а в названиях колонок — расхождения с хорошим стилем.\n",
        "\n",
        "Чтобы двигаться дальше, нужно устранить проблемы в данных."
      ]
    },
    {
      "cell_type": "markdown",
      "metadata": {
        "id": "SjYF6Ub9_Zct"
      },
      "source": [
        "## Предобработка данных\n",
        "Исправим стиль в заголовках столбцов, исключим пропуски. Затем проверим данные на дубликаты."
      ]
    },
    {
      "cell_type": "markdown",
      "metadata": {
        "id": "dIaKXr29_Zct"
      },
      "source": [
        "### Стиль заголовков\n",
        "Выведем на экран названия столбцов:"
      ]
    },
    {
      "cell_type": "code",
      "execution_count": 5,
      "metadata": {
        "id": "oKOTdF_Q_Zct",
        "colab": {
          "base_uri": "https://localhost:8080/"
        },
        "outputId": "ddae2d60-13e8-4dd8-f0d2-1fb6b7b11d55"
      },
      "outputs": [
        {
          "output_type": "execute_result",
          "data": {
            "text/plain": [
              "Index(['  userID', 'Track', 'artist', 'genre', '  City  ', 'time', 'Day'], dtype='object')"
            ]
          },
          "metadata": {},
          "execution_count": 5
        }
      ],
      "source": [
        "# перечень названий столбцов таблицы df\n",
        "df.columns"
      ]
    },
    {
      "cell_type": "markdown",
      "metadata": {
        "id": "zj5534cv_Zct"
      },
      "source": [
        "Приведем названия в соответствие с хорошим стилем:\n",
        "* несколько слов в названии запишем в «змеином_регистре»,\n",
        "* все символы сделаем строчными,\n",
        "* устраним пробелы."
      ]
    },
    {
      "cell_type": "code",
      "execution_count": 6,
      "metadata": {
        "id": "ISlFqs5y_Zct"
      },
      "outputs": [],
      "source": [
        "# переименование столбцов\n",
        "df = df.rename(columns={'  userID' : 'user_id', 'Track' : 'track', '  City  ' : 'city', 'Day' : 'day'})"
      ]
    },
    {
      "cell_type": "markdown",
      "metadata": {
        "id": "1dqbh00J_Zct"
      },
      "source": [
        "Проверим результат. Для этого ещё раз выведем на экран названия столбцов:"
      ]
    },
    {
      "cell_type": "code",
      "execution_count": 7,
      "metadata": {
        "id": "d4NOAmTW_Zct",
        "colab": {
          "base_uri": "https://localhost:8080/"
        },
        "outputId": "44b19a06-9b8d-4463-ab1a-e3bfed66ee96"
      },
      "outputs": [
        {
          "output_type": "execute_result",
          "data": {
            "text/plain": [
              "Index(['user_id', 'track', 'artist', 'genre', 'city', 'time', 'day'], dtype='object')"
            ]
          },
          "metadata": {},
          "execution_count": 7
        }
      ],
      "source": [
        "# проверка результатов - перечень названий столбцов\n",
        "df.columns"
      ]
    },
    {
      "cell_type": "markdown",
      "metadata": {
        "id": "5ISfbcfY_Zct"
      },
      "source": [
        "### Пропуски значений\n",
        "Сначала посчитаем, сколько в таблице пропущенных значений. "
      ]
    },
    {
      "cell_type": "code",
      "execution_count": 8,
      "metadata": {
        "id": "RskX29qr_Zct",
        "colab": {
          "base_uri": "https://localhost:8080/",
          "height": 269
        },
        "outputId": "5a300ad1-6011-4034-ff7c-c69f5f7fa86b"
      },
      "outputs": [
        {
          "output_type": "execute_result",
          "data": {
            "text/plain": [
              "<pandas.io.formats.style.Styler at 0x7fb705d38490>"
            ],
            "text/html": [
              "<style type=\"text/css\">\n",
              "#T_af638_row0_col0, #T_af638_row0_col1, #T_af638_row4_col0, #T_af638_row4_col1, #T_af638_row5_col0, #T_af638_row5_col1, #T_af638_row6_col0, #T_af638_row6_col1 {\n",
              "  background-color: #fcffa4;\n",
              "  color: #000000;\n",
              "}\n",
              "#T_af638_row1_col0, #T_af638_row1_col1 {\n",
              "  background-color: #fcb418;\n",
              "  color: #000000;\n",
              "}\n",
              "#T_af638_row2_col0, #T_af638_row2_col1 {\n",
              "  background-color: #000004;\n",
              "  color: #f1f1f1;\n",
              "}\n",
              "#T_af638_row3_col0, #T_af638_row3_col1 {\n",
              "  background-color: #fbb61a;\n",
              "  color: #000000;\n",
              "}\n",
              "</style>\n",
              "<table id=\"T_af638_\" class=\"dataframe\">\n",
              "  <thead>\n",
              "    <tr>\n",
              "      <th class=\"blank level0\" >&nbsp;</th>\n",
              "      <th class=\"col_heading level0 col0\" >nan_count</th>\n",
              "      <th class=\"col_heading level0 col1\" >nan_part</th>\n",
              "    </tr>\n",
              "  </thead>\n",
              "  <tbody>\n",
              "    <tr>\n",
              "      <th id=\"T_af638_level0_row0\" class=\"row_heading level0 row0\" >user_id</th>\n",
              "      <td id=\"T_af638_row0_col0\" class=\"data row0 col0\" >0</td>\n",
              "      <td id=\"T_af638_row0_col1\" class=\"data row0 col1\" >0.0%</td>\n",
              "    </tr>\n",
              "    <tr>\n",
              "      <th id=\"T_af638_level0_row1\" class=\"row_heading level0 row1\" >track</th>\n",
              "      <td id=\"T_af638_row1_col0\" class=\"data row1 col0\" >1231</td>\n",
              "      <td id=\"T_af638_row1_col1\" class=\"data row1 col1\" >1.9%</td>\n",
              "    </tr>\n",
              "    <tr>\n",
              "      <th id=\"T_af638_level0_row2\" class=\"row_heading level0 row2\" >artist</th>\n",
              "      <td id=\"T_af638_row2_col0\" class=\"data row2 col0\" >7203</td>\n",
              "      <td id=\"T_af638_row2_col1\" class=\"data row2 col1\" >11.1%</td>\n",
              "    </tr>\n",
              "    <tr>\n",
              "      <th id=\"T_af638_level0_row3\" class=\"row_heading level0 row3\" >genre</th>\n",
              "      <td id=\"T_af638_row3_col0\" class=\"data row3 col0\" >1198</td>\n",
              "      <td id=\"T_af638_row3_col1\" class=\"data row3 col1\" >1.8%</td>\n",
              "    </tr>\n",
              "    <tr>\n",
              "      <th id=\"T_af638_level0_row4\" class=\"row_heading level0 row4\" >city</th>\n",
              "      <td id=\"T_af638_row4_col0\" class=\"data row4 col0\" >0</td>\n",
              "      <td id=\"T_af638_row4_col1\" class=\"data row4 col1\" >0.0%</td>\n",
              "    </tr>\n",
              "    <tr>\n",
              "      <th id=\"T_af638_level0_row5\" class=\"row_heading level0 row5\" >time</th>\n",
              "      <td id=\"T_af638_row5_col0\" class=\"data row5 col0\" >0</td>\n",
              "      <td id=\"T_af638_row5_col1\" class=\"data row5 col1\" >0.0%</td>\n",
              "    </tr>\n",
              "    <tr>\n",
              "      <th id=\"T_af638_level0_row6\" class=\"row_heading level0 row6\" >day</th>\n",
              "      <td id=\"T_af638_row6_col0\" class=\"data row6 col0\" >0</td>\n",
              "      <td id=\"T_af638_row6_col1\" class=\"data row6 col1\" >0.0%</td>\n",
              "    </tr>\n",
              "  </tbody>\n",
              "</table>\n"
            ]
          },
          "metadata": {},
          "execution_count": 8
        }
      ],
      "source": [
        "# подсчёт пропусков\n",
        "(pd.concat([df.isna().sum(), \n",
        "           df.isna().mean()], \n",
        "          axis=1, \n",
        "          keys=['nan_count', 'nan_part'])\n",
        ".style.format({'nan_part': '{:.1%}'})\n",
        ".background_gradient(cmap='inferno_r', axis=0))"
      ]
    },
    {
      "cell_type": "markdown",
      "metadata": {
        "id": "qubhgnlO_Zct"
      },
      "source": [
        "Не все пропущенные значения влияют на исследование. Так в `track` и `artist` пропуски не важны для исследования. Достаточно заменить их явными обозначениями.\n",
        "\n",
        "Но пропуски в `genre` могут помешать сравнению музыкальных вкусов в Москве и Санкт-Петербурге. На практике было бы правильно установить причину пропусков и восстановить данные. Такой возможности нет в учебном проекте. Придётся:\n",
        "* заполнить и эти пропуски явными обозначениями,\n",
        "* оценить, насколько они повредят расчётам. "
      ]
    },
    {
      "cell_type": "markdown",
      "metadata": {
        "id": "fSv2laPA_Zct"
      },
      "source": [
        "Заменм пропущенные значения в столбцах `track`, `artist` и `genre` на строку `'unknown'`. Для этого создадим список `columns_to_replace`, переберем его элементы циклом `for` и для каждого столбца выполним замену пропущенных значений."
      ]
    },
    {
      "cell_type": "code",
      "execution_count": 9,
      "metadata": {
        "id": "KplB5qWs_Zct"
      },
      "outputs": [],
      "source": [
        "# перебор названий столбцов в цикле и замена пропущенных значений на 'unknown'\n",
        "columns_to_replace = ['track', 'artist', 'genre']\n",
        "for column in columns_to_replace:\n",
        "    df[column] = df[column].fillna('unknown') "
      ]
    },
    {
      "cell_type": "markdown",
      "metadata": {
        "id": "Ilsm-MZo_Zct"
      },
      "source": [
        "Убедимся, что в таблице не осталось пропусков. Для этого ещё раз посчитаем пропущенные значения."
      ]
    },
    {
      "cell_type": "code",
      "execution_count": 10,
      "metadata": {
        "id": "Tq4nYRX4_Zct",
        "colab": {
          "base_uri": "https://localhost:8080/",
          "height": 269
        },
        "outputId": "d7b5e5be-7f06-409f-e66c-9d47ec3201d4"
      },
      "outputs": [
        {
          "output_type": "execute_result",
          "data": {
            "text/plain": [
              "<pandas.io.formats.style.Styler at 0x7fb7058a0490>"
            ],
            "text/html": [
              "<style type=\"text/css\">\n",
              "#T_ef019_row0_col0, #T_ef019_row0_col1, #T_ef019_row1_col0, #T_ef019_row1_col1, #T_ef019_row2_col0, #T_ef019_row2_col1, #T_ef019_row3_col0, #T_ef019_row3_col1, #T_ef019_row4_col0, #T_ef019_row4_col1, #T_ef019_row5_col0, #T_ef019_row5_col1, #T_ef019_row6_col0, #T_ef019_row6_col1 {\n",
              "  background-color: #fcffa4;\n",
              "  color: #000000;\n",
              "}\n",
              "</style>\n",
              "<table id=\"T_ef019_\" class=\"dataframe\">\n",
              "  <thead>\n",
              "    <tr>\n",
              "      <th class=\"blank level0\" >&nbsp;</th>\n",
              "      <th class=\"col_heading level0 col0\" >nan_count</th>\n",
              "      <th class=\"col_heading level0 col1\" >nan_part</th>\n",
              "    </tr>\n",
              "  </thead>\n",
              "  <tbody>\n",
              "    <tr>\n",
              "      <th id=\"T_ef019_level0_row0\" class=\"row_heading level0 row0\" >user_id</th>\n",
              "      <td id=\"T_ef019_row0_col0\" class=\"data row0 col0\" >0</td>\n",
              "      <td id=\"T_ef019_row0_col1\" class=\"data row0 col1\" >0.0%</td>\n",
              "    </tr>\n",
              "    <tr>\n",
              "      <th id=\"T_ef019_level0_row1\" class=\"row_heading level0 row1\" >track</th>\n",
              "      <td id=\"T_ef019_row1_col0\" class=\"data row1 col0\" >0</td>\n",
              "      <td id=\"T_ef019_row1_col1\" class=\"data row1 col1\" >0.0%</td>\n",
              "    </tr>\n",
              "    <tr>\n",
              "      <th id=\"T_ef019_level0_row2\" class=\"row_heading level0 row2\" >artist</th>\n",
              "      <td id=\"T_ef019_row2_col0\" class=\"data row2 col0\" >0</td>\n",
              "      <td id=\"T_ef019_row2_col1\" class=\"data row2 col1\" >0.0%</td>\n",
              "    </tr>\n",
              "    <tr>\n",
              "      <th id=\"T_ef019_level0_row3\" class=\"row_heading level0 row3\" >genre</th>\n",
              "      <td id=\"T_ef019_row3_col0\" class=\"data row3 col0\" >0</td>\n",
              "      <td id=\"T_ef019_row3_col1\" class=\"data row3 col1\" >0.0%</td>\n",
              "    </tr>\n",
              "    <tr>\n",
              "      <th id=\"T_ef019_level0_row4\" class=\"row_heading level0 row4\" >city</th>\n",
              "      <td id=\"T_ef019_row4_col0\" class=\"data row4 col0\" >0</td>\n",
              "      <td id=\"T_ef019_row4_col1\" class=\"data row4 col1\" >0.0%</td>\n",
              "    </tr>\n",
              "    <tr>\n",
              "      <th id=\"T_ef019_level0_row5\" class=\"row_heading level0 row5\" >time</th>\n",
              "      <td id=\"T_ef019_row5_col0\" class=\"data row5 col0\" >0</td>\n",
              "      <td id=\"T_ef019_row5_col1\" class=\"data row5 col1\" >0.0%</td>\n",
              "    </tr>\n",
              "    <tr>\n",
              "      <th id=\"T_ef019_level0_row6\" class=\"row_heading level0 row6\" >day</th>\n",
              "      <td id=\"T_ef019_row6_col0\" class=\"data row6 col0\" >0</td>\n",
              "      <td id=\"T_ef019_row6_col1\" class=\"data row6 col1\" >0.0%</td>\n",
              "    </tr>\n",
              "  </tbody>\n",
              "</table>\n"
            ]
          },
          "metadata": {},
          "execution_count": 10
        }
      ],
      "source": [
        "# подсчёт пропусков\n",
        "(pd.concat([df.isna().sum(), \n",
        "           df.isna().mean()], \n",
        "          axis=1, \n",
        "          keys=['nan_count', 'nan_part'])\n",
        ".style.format({'nan_part': '{:.1%}'})\n",
        ".background_gradient(cmap='inferno_r', axis=0))"
      ]
    },
    {
      "cell_type": "markdown",
      "metadata": {
        "id": "BWKRtBJ3_Zct"
      },
      "source": [
        "### Дубликаты\n",
        "Посчитаем явные дубликаты в таблице."
      ]
    },
    {
      "cell_type": "code",
      "execution_count": 11,
      "metadata": {
        "id": "36eES_S0_Zct",
        "colab": {
          "base_uri": "https://localhost:8080/",
          "height": 81
        },
        "outputId": "c588f7fd-5652-4aa2-866a-db6f29d93a59"
      },
      "outputs": [
        {
          "output_type": "execute_result",
          "data": {
            "text/plain": [
              "<pandas.io.formats.style.Styler at 0x7fb705476210>"
            ],
            "text/html": [
              "<style type=\"text/css\">\n",
              "#T_e1760_row0_col0, #T_e1760_row0_col1 {\n",
              "  background-color: #fcffa4;\n",
              "  color: #000000;\n",
              "}\n",
              "</style>\n",
              "<table id=\"T_e1760_\" class=\"dataframe\">\n",
              "  <thead>\n",
              "    <tr>\n",
              "      <th class=\"blank level0\" >&nbsp;</th>\n",
              "      <th class=\"col_heading level0 col0\" >dups_count</th>\n",
              "      <th class=\"col_heading level0 col1\" >dups_part</th>\n",
              "    </tr>\n",
              "  </thead>\n",
              "  <tbody>\n",
              "    <tr>\n",
              "      <th id=\"T_e1760_level0_row0\" class=\"row_heading level0 row0\" >0</th>\n",
              "      <td id=\"T_e1760_row0_col0\" class=\"data row0 col0\" >3826</td>\n",
              "      <td id=\"T_e1760_row0_col1\" class=\"data row0 col1\" >5.9%</td>\n",
              "    </tr>\n",
              "  </tbody>\n",
              "</table>\n"
            ]
          },
          "metadata": {},
          "execution_count": 11
        }
      ],
      "source": [
        "# подсчёт явных дубликатов\n",
        "(pd.concat([pd.Series(df.duplicated().sum()), \n",
        "            pd.Series(df.duplicated().sum()/len(df))], axis=1,\n",
        "           keys=['dups_count', 'dups_part'])\n",
        ".style.format({'dups_part': '{:.1%}'}).\n",
        " background_gradient(cmap='inferno_r', axis=0))"
      ]
    },
    {
      "cell_type": "markdown",
      "metadata": {
        "id": "Ot25h6XR_Zct"
      },
      "source": [
        "Удалим явные дубликаты."
      ]
    },
    {
      "cell_type": "code",
      "execution_count": 12,
      "metadata": {
        "id": "exFHq6tt_Zct"
      },
      "outputs": [],
      "source": [
        "# удаление явных дубликатов (с удалением старых индексов и формированием новых)\n",
        "df = df.drop_duplicates().reset_index(drop=True) "
      ]
    },
    {
      "cell_type": "markdown",
      "metadata": {
        "id": "Im2YwBEG_Zct"
      },
      "source": [
        "убедимся, что явных дубликатов больше нет."
      ]
    },
    {
      "cell_type": "code",
      "execution_count": 13,
      "metadata": {
        "id": "-8PuNWQ0_Zct",
        "colab": {
          "base_uri": "https://localhost:8080/"
        },
        "outputId": "c580d094-5192-4f3e-e2f6-13c1b91b1ee7"
      },
      "outputs": [
        {
          "output_type": "execute_result",
          "data": {
            "text/plain": [
              "0"
            ]
          },
          "metadata": {},
          "execution_count": 13
        }
      ],
      "source": [
        "# проверка на отсутствие дубликатов\n",
        "df.duplicated().sum()"
      ]
    },
    {
      "cell_type": "markdown",
      "metadata": {
        "id": "QlFBsxAr_Zct"
      },
      "source": [
        "Теперь избавимся от неявных дубликатов в колонке `genre`. Например, название одного и того же жанра может быть записано немного по-разному. Такие ошибки тоже повлияют на результат исследования."
      ]
    },
    {
      "cell_type": "markdown",
      "metadata": {
        "id": "eSjWwsOh_Zct"
      },
      "source": [
        "Выведем на экран список уникальных названий жанров, отсортированный в алфавитном порядке. Для этого:\n",
        "* извлечем нужный столбец датафрейма, \n",
        "* применим к нему метод сортировки и получим уникальные значения из столбца."
      ]
    },
    {
      "cell_type": "code",
      "execution_count": 14,
      "metadata": {
        "id": "JIUcqzZN_Zct",
        "colab": {
          "base_uri": "https://localhost:8080/"
        },
        "outputId": "cc4697b7-12f2-4a59-d961-7c4c870ce435"
      },
      "outputs": [
        {
          "output_type": "execute_result",
          "data": {
            "text/plain": [
              "array(['acid', 'acoustic', 'action', 'adult', 'africa', 'afrikaans',\n",
              "       'alternative', 'alternativepunk', 'ambient', 'americana',\n",
              "       'animated', 'anime', 'arabesk', 'arabic', 'arena',\n",
              "       'argentinetango', 'art', 'audiobook', 'author', 'avantgarde',\n",
              "       'axé', 'baile', 'balkan', 'beats', 'bigroom', 'black', 'bluegrass',\n",
              "       'blues', 'bollywood', 'bossa', 'brazilian', 'breakbeat', 'breaks',\n",
              "       'broadway', 'cantautori', 'cantopop', 'canzone', 'caribbean',\n",
              "       'caucasian', 'celtic', 'chamber', 'chanson', 'children', 'chill',\n",
              "       'chinese', 'choral', 'christian', 'christmas', 'classical',\n",
              "       'classicmetal', 'club', 'colombian', 'comedy', 'conjazz',\n",
              "       'contemporary', 'country', 'cuban', 'dance', 'dancehall',\n",
              "       'dancepop', 'dark', 'death', 'deep', 'deutschrock', 'deutschspr',\n",
              "       'dirty', 'disco', 'dnb', 'documentary', 'downbeat', 'downtempo',\n",
              "       'drum', 'dub', 'dubstep', 'eastern', 'easy', 'electronic',\n",
              "       'electropop', 'emo', 'entehno', 'epicmetal', 'estrada', 'ethnic',\n",
              "       'eurofolk', 'european', 'experimental', 'extrememetal', 'fado',\n",
              "       'fairytail', 'film', 'fitness', 'flamenco', 'folk', 'folklore',\n",
              "       'folkmetal', 'folkrock', 'folktronica', 'forró', 'frankreich',\n",
              "       'französisch', 'french', 'funk', 'future', 'gangsta', 'garage',\n",
              "       'german', 'ghazal', 'gitarre', 'glitch', 'gospel', 'gothic',\n",
              "       'grime', 'grunge', 'gypsy', 'handsup', \"hard'n'heavy\", 'hardcore',\n",
              "       'hardstyle', 'hardtechno', 'hip', 'hip-hop', 'hiphop',\n",
              "       'historisch', 'holiday', 'hop', 'horror', 'house', 'hymn', 'idm',\n",
              "       'independent', 'indian', 'indie', 'indipop', 'industrial',\n",
              "       'inspirational', 'instrumental', 'international', 'irish', 'jam',\n",
              "       'japanese', 'jazz', 'jewish', 'jpop', 'jungle', 'k-pop',\n",
              "       'karadeniz', 'karaoke', 'kayokyoku', 'korean', 'laiko', 'latin',\n",
              "       'latino', 'leftfield', 'local', 'lounge', 'loungeelectronic',\n",
              "       'lovers', 'malaysian', 'mandopop', 'marschmusik', 'meditative',\n",
              "       'mediterranean', 'melodic', 'metal', 'metalcore', 'mexican',\n",
              "       'middle', 'minimal', 'miscellaneous', 'modern', 'mood', 'mpb',\n",
              "       'muslim', 'native', 'neoklassik', 'neue', 'new', 'newage',\n",
              "       'newwave', 'nu', 'nujazz', 'numetal', 'oceania', 'old', 'opera',\n",
              "       'orchestral', 'other', 'piano', 'podcasts', 'pop', 'popdance',\n",
              "       'popelectronic', 'popeurodance', 'poprussian', 'post',\n",
              "       'posthardcore', 'postrock', 'power', 'progmetal', 'progressive',\n",
              "       'psychedelic', 'punjabi', 'punk', 'quebecois', 'ragga', 'ram',\n",
              "       'rancheras', 'rap', 'rave', 'reggae', 'reggaeton', 'regional',\n",
              "       'relax', 'religious', 'retro', 'rhythm', 'rnb', 'rnr', 'rock',\n",
              "       'rockabilly', 'rockalternative', 'rockindie', 'rockother',\n",
              "       'romance', 'roots', 'ruspop', 'rusrap', 'rusrock', 'russian',\n",
              "       'salsa', 'samba', 'scenic', 'schlager', 'self', 'sertanejo',\n",
              "       'shanson', 'shoegazing', 'showtunes', 'singer', 'ska', 'skarock',\n",
              "       'slow', 'smooth', 'soft', 'soul', 'soulful', 'sound', 'soundtrack',\n",
              "       'southern', 'specialty', 'speech', 'spiritual', 'sport',\n",
              "       'stonerrock', 'surf', 'swing', 'synthpop', 'synthrock',\n",
              "       'sängerportrait', 'tango', 'tanzorchester', 'taraftar', 'tatar',\n",
              "       'tech', 'techno', 'teen', 'thrash', 'top', 'traditional',\n",
              "       'tradjazz', 'trance', 'tribal', 'trip', 'triphop', 'tropical',\n",
              "       'türk', 'türkçe', 'ukrrock', 'unknown', 'urban', 'uzbek',\n",
              "       'variété', 'vi', 'videogame', 'vocal', 'western', 'world',\n",
              "       'worldbeat', 'ïîï', 'электроника'], dtype=object)"
            ]
          },
          "metadata": {},
          "execution_count": 14
        }
      ],
      "source": [
        "# Просмотр уникальных названий жанров\n",
        "df['genre'].sort_values().unique()"
      ]
    },
    {
      "cell_type": "markdown",
      "metadata": {
        "id": "D4T9apkLnz1U"
      },
      "source": [
        "В списке жанров присутствует жанр с необычным названием 'ïîï' - возможно, стоит проверить, что это такое - не ошибка ли? С первого взгляда похоже на ошибку кодировки.\n",
        "\n",
        "Проверим, сколько у нас уникальных жанров."
      ]
    },
    {
      "cell_type": "code",
      "source": [
        "df['genre'].nunique()"
      ],
      "metadata": {
        "colab": {
          "base_uri": "https://localhost:8080/"
        },
        "id": "JPfYCp-B9vws",
        "outputId": "bd816f67-cddb-470d-8c67-adc4bcb861a7"
      },
      "execution_count": 15,
      "outputs": [
        {
          "output_type": "execute_result",
          "data": {
            "text/plain": [
              "290"
            ]
          },
          "metadata": {},
          "execution_count": 15
        }
      ]
    },
    {
      "cell_type": "markdown",
      "metadata": {
        "id": "qej-Qmuo_Zct"
      },
      "source": [
        "В списке присутствуют неявные дубликаты названия `hiphop`:\n",
        "* *hip*,\n",
        "* *hop*,\n",
        "* *hip-hop*.\n",
        "\n",
        "Чтобы очистить от них таблицу, напишем функцию `replace_wrong_genres()` с двумя параметрами: \n",
        "* `wrong_genres` — список дубликатов,\n",
        "* `correct_genre` — строка с правильным значением.\n",
        "\n",
        "Функция исправит колонку `genre` в таблице `df`: заменит каждое значение из списка `wrong_genres` на значение из `correct_genre`."
      ]
    },
    {
      "cell_type": "code",
      "execution_count": 16,
      "metadata": {
        "id": "ErNDkmns_Zct"
      },
      "outputs": [],
      "source": [
        "# Функция для замены неявных дубликатов\n",
        "def replace_wrong_genres(wrong_genres, correct_genre):\n",
        "    for genre in wrong_genres:\n",
        "        df['genre'] = df['genre'].replace(genre, correct_genre)       "
      ]
    },
    {
      "cell_type": "markdown",
      "metadata": {
        "id": "aDoBJxbA_Zct"
      },
      "source": [
        "Устраним неявные дубликаты: `hip`, `hop` и `hip-hop` заменим на `hiphop`:"
      ]
    },
    {
      "cell_type": "code",
      "execution_count": 17,
      "metadata": {
        "id": "YN5i2hpmSo09"
      },
      "outputs": [],
      "source": [
        "# Устранение неявных дубликатов\n",
        "replace_wrong_genres(['hip', 'hop', 'hip-hop'], 'hiphop')"
      ]
    },
    {
      "cell_type": "markdown",
      "metadata": {
        "id": "zQKF16_RG15m"
      },
      "source": [
        "Проверим, что заменили неправильные названия:\n",
        "\n",
        "*   hip\n",
        "*   hop\n",
        "*   hip-hop\n",
        "\n",
        "Выведем отсортированный список уникальных значений столбца `genre`:"
      ]
    },
    {
      "cell_type": "code",
      "execution_count": 18,
      "metadata": {
        "id": "wvixALnFG15m",
        "colab": {
          "base_uri": "https://localhost:8080/"
        },
        "outputId": "f72750a2-a385-4129-c438-393785612db1"
      },
      "outputs": [
        {
          "output_type": "execute_result",
          "data": {
            "text/plain": [
              "array(['acid', 'acoustic', 'action', 'adult', 'africa', 'afrikaans',\n",
              "       'alternative', 'alternativepunk', 'ambient', 'americana',\n",
              "       'animated', 'anime', 'arabesk', 'arabic', 'arena',\n",
              "       'argentinetango', 'art', 'audiobook', 'author', 'avantgarde',\n",
              "       'axé', 'baile', 'balkan', 'beats', 'bigroom', 'black', 'bluegrass',\n",
              "       'blues', 'bollywood', 'bossa', 'brazilian', 'breakbeat', 'breaks',\n",
              "       'broadway', 'cantautori', 'cantopop', 'canzone', 'caribbean',\n",
              "       'caucasian', 'celtic', 'chamber', 'chanson', 'children', 'chill',\n",
              "       'chinese', 'choral', 'christian', 'christmas', 'classical',\n",
              "       'classicmetal', 'club', 'colombian', 'comedy', 'conjazz',\n",
              "       'contemporary', 'country', 'cuban', 'dance', 'dancehall',\n",
              "       'dancepop', 'dark', 'death', 'deep', 'deutschrock', 'deutschspr',\n",
              "       'dirty', 'disco', 'dnb', 'documentary', 'downbeat', 'downtempo',\n",
              "       'drum', 'dub', 'dubstep', 'eastern', 'easy', 'electronic',\n",
              "       'electropop', 'emo', 'entehno', 'epicmetal', 'estrada', 'ethnic',\n",
              "       'eurofolk', 'european', 'experimental', 'extrememetal', 'fado',\n",
              "       'fairytail', 'film', 'fitness', 'flamenco', 'folk', 'folklore',\n",
              "       'folkmetal', 'folkrock', 'folktronica', 'forró', 'frankreich',\n",
              "       'französisch', 'french', 'funk', 'future', 'gangsta', 'garage',\n",
              "       'german', 'ghazal', 'gitarre', 'glitch', 'gospel', 'gothic',\n",
              "       'grime', 'grunge', 'gypsy', 'handsup', \"hard'n'heavy\", 'hardcore',\n",
              "       'hardstyle', 'hardtechno', 'hiphop', 'historisch', 'holiday',\n",
              "       'horror', 'house', 'hymn', 'idm', 'independent', 'indian', 'indie',\n",
              "       'indipop', 'industrial', 'inspirational', 'instrumental',\n",
              "       'international', 'irish', 'jam', 'japanese', 'jazz', 'jewish',\n",
              "       'jpop', 'jungle', 'k-pop', 'karadeniz', 'karaoke', 'kayokyoku',\n",
              "       'korean', 'laiko', 'latin', 'latino', 'leftfield', 'local',\n",
              "       'lounge', 'loungeelectronic', 'lovers', 'malaysian', 'mandopop',\n",
              "       'marschmusik', 'meditative', 'mediterranean', 'melodic', 'metal',\n",
              "       'metalcore', 'mexican', 'middle', 'minimal', 'miscellaneous',\n",
              "       'modern', 'mood', 'mpb', 'muslim', 'native', 'neoklassik', 'neue',\n",
              "       'new', 'newage', 'newwave', 'nu', 'nujazz', 'numetal', 'oceania',\n",
              "       'old', 'opera', 'orchestral', 'other', 'piano', 'podcasts', 'pop',\n",
              "       'popdance', 'popelectronic', 'popeurodance', 'poprussian', 'post',\n",
              "       'posthardcore', 'postrock', 'power', 'progmetal', 'progressive',\n",
              "       'psychedelic', 'punjabi', 'punk', 'quebecois', 'ragga', 'ram',\n",
              "       'rancheras', 'rap', 'rave', 'reggae', 'reggaeton', 'regional',\n",
              "       'relax', 'religious', 'retro', 'rhythm', 'rnb', 'rnr', 'rock',\n",
              "       'rockabilly', 'rockalternative', 'rockindie', 'rockother',\n",
              "       'romance', 'roots', 'ruspop', 'rusrap', 'rusrock', 'russian',\n",
              "       'salsa', 'samba', 'scenic', 'schlager', 'self', 'sertanejo',\n",
              "       'shanson', 'shoegazing', 'showtunes', 'singer', 'ska', 'skarock',\n",
              "       'slow', 'smooth', 'soft', 'soul', 'soulful', 'sound', 'soundtrack',\n",
              "       'southern', 'specialty', 'speech', 'spiritual', 'sport',\n",
              "       'stonerrock', 'surf', 'swing', 'synthpop', 'synthrock',\n",
              "       'sängerportrait', 'tango', 'tanzorchester', 'taraftar', 'tatar',\n",
              "       'tech', 'techno', 'teen', 'thrash', 'top', 'traditional',\n",
              "       'tradjazz', 'trance', 'tribal', 'trip', 'triphop', 'tropical',\n",
              "       'türk', 'türkçe', 'ukrrock', 'unknown', 'urban', 'uzbek',\n",
              "       'variété', 'vi', 'videogame', 'vocal', 'western', 'world',\n",
              "       'worldbeat', 'ïîï', 'электроника'], dtype=object)"
            ]
          },
          "metadata": {},
          "execution_count": 18
        }
      ],
      "source": [
        "# Проверка на неявные дубликаты\n",
        "# sorted(df['genre'].unique())\n",
        "df['genre'].sort_values().unique()"
      ]
    },
    {
      "cell_type": "markdown",
      "source": [
        "Подсчитаем, сколько уникальных жанров осталось."
      ],
      "metadata": {
        "id": "P3uSiRsoJMlU"
      }
    },
    {
      "cell_type": "code",
      "source": [
        "df['genre'].nunique()"
      ],
      "metadata": {
        "colab": {
          "base_uri": "https://localhost:8080/"
        },
        "id": "0sA5vqIJJMGb",
        "outputId": "6ad9ee11-bbf4-494f-d0c2-1fa137f98129"
      },
      "execution_count": 19,
      "outputs": [
        {
          "output_type": "execute_result",
          "data": {
            "text/plain": [
              "287"
            ]
          },
          "metadata": {},
          "execution_count": 19
        }
      ]
    },
    {
      "cell_type": "markdown",
      "metadata": {
        "id": "jz6a9-7HQUDd"
      },
      "source": [
        "**Выводы**\n",
        "\n",
        "Предобработка обнаружила три проблемы в данных:\n",
        "\n",
        "- нарушения в стиле заголовков,\n",
        "- пропущенные значения,\n",
        "- дубликаты — явные и неявные.\n",
        "\n",
        "Мы исправили заголовки, чтобы упростить работу с таблицей. \n",
        "\n",
        "Пропущенные значения заменили на `'unknown'`, удалили явные и неявные дубликаты. Ещё предстоит увидеть, не повредят ли исследованию пропуски в колонке `genre`.\n",
        "\n",
        "Теперь можно перейти к проверке гипотез. "
      ]
    },
    {
      "cell_type": "markdown",
      "metadata": {
        "id": "WttZHXH0SqKk"
      },
      "source": [
        "## Проверка гипотез"
      ]
    },
    {
      "cell_type": "markdown",
      "metadata": {
        "id": "Im936VVi_Zcu"
      },
      "source": [
        "### Сравнение поведения пользователей двух столиц"
      ]
    },
    {
      "cell_type": "markdown",
      "metadata": {
        "id": "nwt_MuaL_Zcu"
      },
      "source": [
        "Первая гипотеза утверждает, что пользователи по-разному слушают музыку в Москве и Санкт-Петербурге. Проверим это предположение по данным о трёх днях недели — понедельнику, среде и пятнице. Для этого:\n",
        "\n",
        "* Разделим пользователей Москвы и Санкт-Петербурга;\n",
        "* Сравним, сколько треков послушала каждая группа пользователей в понедельник, среду и пятницу.\n"
      ]
    },
    {
      "cell_type": "markdown",
      "metadata": {
        "id": "8Dw_YMmT_Zcu"
      },
      "source": [
        "Оценим активность пользователей в каждом городе. Сгруппируем данные по городу и посчитаем прослушивания в каждой группе.\n",
        "\n"
      ]
    },
    {
      "cell_type": "code",
      "execution_count": 20,
      "metadata": {
        "id": "0_Qs96oh_Zcu",
        "colab": {
          "base_uri": "https://localhost:8080/",
          "height": 143
        },
        "outputId": "dd948cd5-b682-43f7-8010-6153448eac5c"
      },
      "outputs": [
        {
          "output_type": "execute_result",
          "data": {
            "text/plain": [
              "<pandas.io.formats.style.Styler at 0x7fb7058e77d0>"
            ],
            "text/html": [
              "<style type=\"text/css\">\n",
              "#T_806c2_row0_col0 {\n",
              "  width: 10em;\n",
              "  height: 80%;\n",
              "  background: linear-gradient(90deg, transparent 50.0%, #fca50a 50.0%, #fca50a 100.0%, transparent 100.0%);\n",
              "}\n",
              "#T_806c2_row1_col0 {\n",
              "  width: 10em;\n",
              "  height: 80%;\n",
              "  background: linear-gradient(90deg, transparent 50.0%, #fca50a 50.0%, #fca50a 71.7%, transparent 71.7%);\n",
              "}\n",
              "</style>\n",
              "<table id=\"T_806c2_\" class=\"dataframe\">\n",
              "  <thead>\n",
              "    <tr>\n",
              "      <th class=\"blank level0\" >&nbsp;</th>\n",
              "      <th class=\"col_heading level0 col0\" >city</th>\n",
              "    </tr>\n",
              "    <tr>\n",
              "      <th class=\"index_name level0\" >city</th>\n",
              "      <th class=\"blank col0\" >&nbsp;</th>\n",
              "    </tr>\n",
              "  </thead>\n",
              "  <tbody>\n",
              "    <tr>\n",
              "      <th id=\"T_806c2_level0_row0\" class=\"row_heading level0 row0\" >Moscow</th>\n",
              "      <td id=\"T_806c2_row0_col0\" class=\"data row0 col0\" >42741</td>\n",
              "    </tr>\n",
              "    <tr>\n",
              "      <th id=\"T_806c2_level0_row1\" class=\"row_heading level0 row1\" >Saint-Petersburg</th>\n",
              "      <td id=\"T_806c2_row1_col0\" class=\"data row1 col0\" >18512</td>\n",
              "    </tr>\n",
              "  </tbody>\n",
              "</table>\n"
            ]
          },
          "metadata": {},
          "execution_count": 20
        }
      ],
      "source": [
        "# Подсчёт прослушиваний в каждом городе\n",
        "df.groupby('city')['city'].count().to_frame().style.bar(align='zero', color='#fca50a')"
      ]
    },
    {
      "cell_type": "markdown",
      "metadata": {
        "id": "dzli3w8o_Zcu"
      },
      "source": [
        "В Москве прослушиваний больше, чем в Петербурге. Из этого не следует, что московские пользователи чаще слушают музыку. Просто самих пользователей в Москве больше.\n",
        "\n",
        "Теперь сгруппируем данные по дню недели и подсчитаем прослушивания в понедельник, среду и пятницу. В данных есть информация только о прослушиваниях только за эти дни.\n"
      ]
    },
    {
      "cell_type": "code",
      "execution_count": 21,
      "metadata": {
        "id": "uZMKjiJz_Zcu",
        "colab": {
          "base_uri": "https://localhost:8080/",
          "height": 175
        },
        "outputId": "ed7176ab-d754-4da0-c4e5-36cb0845cbcb"
      },
      "outputs": [
        {
          "output_type": "execute_result",
          "data": {
            "text/plain": [
              "<pandas.io.formats.style.Styler at 0x7fb705440410>"
            ],
            "text/html": [
              "<style type=\"text/css\">\n",
              "#T_3a86a_row0_col0 {\n",
              "  width: 10em;\n",
              "  height: 80%;\n",
              "  background: linear-gradient(90deg, transparent 50.0%, #fca50a 50.0%, #fca50a 100.0%, transparent 100.0%);\n",
              "}\n",
              "#T_3a86a_row1_col0 {\n",
              "  width: 10em;\n",
              "  height: 80%;\n",
              "  background: linear-gradient(90deg, transparent 50.0%, #fca50a 50.0%, #fca50a 98.9%, transparent 98.9%);\n",
              "}\n",
              "#T_3a86a_row2_col0 {\n",
              "  width: 10em;\n",
              "  height: 80%;\n",
              "  background: linear-gradient(90deg, transparent 50.0%, #fca50a 50.0%, #fca50a 91.3%, transparent 91.3%);\n",
              "}\n",
              "</style>\n",
              "<table id=\"T_3a86a_\" class=\"dataframe\">\n",
              "  <thead>\n",
              "    <tr>\n",
              "      <th class=\"blank level0\" >&nbsp;</th>\n",
              "      <th class=\"col_heading level0 col0\" >day</th>\n",
              "    </tr>\n",
              "    <tr>\n",
              "      <th class=\"index_name level0\" >day</th>\n",
              "      <th class=\"blank col0\" >&nbsp;</th>\n",
              "    </tr>\n",
              "  </thead>\n",
              "  <tbody>\n",
              "    <tr>\n",
              "      <th id=\"T_3a86a_level0_row0\" class=\"row_heading level0 row0\" >Friday</th>\n",
              "      <td id=\"T_3a86a_row0_col0\" class=\"data row0 col0\" >21840</td>\n",
              "    </tr>\n",
              "    <tr>\n",
              "      <th id=\"T_3a86a_level0_row1\" class=\"row_heading level0 row1\" >Monday</th>\n",
              "      <td id=\"T_3a86a_row1_col0\" class=\"data row1 col0\" >21354</td>\n",
              "    </tr>\n",
              "    <tr>\n",
              "      <th id=\"T_3a86a_level0_row2\" class=\"row_heading level0 row2\" >Wednesday</th>\n",
              "      <td id=\"T_3a86a_row2_col0\" class=\"data row2 col0\" >18059</td>\n",
              "    </tr>\n",
              "  </tbody>\n",
              "</table>\n"
            ]
          },
          "metadata": {},
          "execution_count": 21
        }
      ],
      "source": [
        "# Подсчёт прослушиваний в каждый из трёх дней\n",
        "df.groupby('day')['day'].count().to_frame().style.bar(align='zero', color='#fca50a')"
      ]
    },
    {
      "cell_type": "markdown",
      "metadata": {
        "id": "cC2tNrlL_Zcu"
      },
      "source": [
        "В среднем пользователи из двух городов менее активны по средам. Но картина может измениться, если рассмотреть каждый город в отдельности."
      ]
    },
    {
      "cell_type": "markdown",
      "metadata": {
        "id": "POzs8bGa_Zcu"
      },
      "source": [
        "Создадим функцию `number_tracks()`, которая посчитает прослушивания для заданного дня и города. Ей понадобятся два параметра:\n",
        "* день недели,\n",
        "* название города.\n",
        "\n",
        "В функции сохраним в переменную строки исходной таблицы, у которых значение:\n",
        "  * в колонке `day` равно параметру `day`,\n",
        "  * в колонке `city` равно параметру `city`.\n",
        "\n",
        "Затем посчитаем значения в столбце `user_id` получившейся таблицы. "
      ]
    },
    {
      "cell_type": "code",
      "execution_count": 22,
      "metadata": {
        "id": "Nz3GdQB1_Zcu"
      },
      "outputs": [],
      "source": [
        "# <создание функции number_tracks()>\n",
        "# Объявляется функция с двумя параметрами: day, city.\n",
        "# В переменной track_list сохраняются те строки таблицы df, для которых \n",
        "# значение в столбце 'day' равно параметру day и одновременно значение\n",
        "# в столбце 'city' равно параметру city (используйте последовательную фильтрацию\n",
        "# с помощью логической индексации).\n",
        "# В переменной track_list_count сохраняется число значений столбца 'user_id',\n",
        "# рассчитанное методом count() для таблицы track_list.\n",
        "# Функция возвращает число - значение track_list_count.\n",
        "def number_tracks(day, city):\n",
        "    track_list = df[df['day'] == day]\n",
        "    track_list = track_list[track_list['city'] == city]\n",
        "    track_list_count = track_list['user_id'].count()\n",
        "    return track_list_count\n",
        "# Функция для подсчёта прослушиваний для конкретного города и дня.\n",
        "# С помощью последовательной фильтрации с логической индексацией она \n",
        "# сначала получит из исходной таблицы строки с нужным днём,\n",
        "# затем из результата отфильтрует строки с нужным городом,\n",
        "# методом count() посчитает количество значений в колонке user_id. \n",
        "# Это количество функция вернёт в качестве результата"
      ]
    },
    {
      "cell_type": "markdown",
      "metadata": {
        "id": "ytf7xFrFJQ2r"
      },
      "source": [
        "Вызовем `number_tracks()` шесть раз, меняя значение параметров — так, чтобы получить данные для каждого города в каждый из трёх дней."
      ]
    },
    {
      "cell_type": "code",
      "execution_count": 23,
      "metadata": {
        "id": "rJcRATNQ_Zcu",
        "colab": {
          "base_uri": "https://localhost:8080/"
        },
        "outputId": "1b6ce5d4-4083-4747-a157-d00ff593e64b"
      },
      "outputs": [
        {
          "output_type": "execute_result",
          "data": {
            "text/plain": [
              "15740"
            ]
          },
          "metadata": {},
          "execution_count": 23
        }
      ],
      "source": [
        "# количество прослушиваний в Москве по понедельникам\n",
        "number_tracks('Monday', 'Moscow')"
      ]
    },
    {
      "cell_type": "code",
      "execution_count": 24,
      "metadata": {
        "id": "hq_ncZ5T_Zcu",
        "colab": {
          "base_uri": "https://localhost:8080/"
        },
        "outputId": "3a3a6a2b-5ee9-4bb0-b215-b091d45dca69"
      },
      "outputs": [
        {
          "output_type": "execute_result",
          "data": {
            "text/plain": [
              "5614"
            ]
          },
          "metadata": {},
          "execution_count": 24
        }
      ],
      "source": [
        "# количество прослушиваний в Санкт-Петербурге по понедельникам\n",
        "number_tracks('Monday', 'Saint-Petersburg')"
      ]
    },
    {
      "cell_type": "code",
      "execution_count": 25,
      "metadata": {
        "id": "_NTy2VPU_Zcu",
        "colab": {
          "base_uri": "https://localhost:8080/"
        },
        "outputId": "2cdda0f3-84fe-4f4b-dad9-d69aa2919e8b"
      },
      "outputs": [
        {
          "output_type": "execute_result",
          "data": {
            "text/plain": [
              "11056"
            ]
          },
          "metadata": {},
          "execution_count": 25
        }
      ],
      "source": [
        "# количество прослушиваний в Москве по средам\n",
        "number_tracks('Wednesday', 'Moscow')"
      ]
    },
    {
      "cell_type": "code",
      "execution_count": 26,
      "metadata": {
        "id": "j2y3TAwo_Zcu",
        "colab": {
          "base_uri": "https://localhost:8080/"
        },
        "outputId": "1e9a3dca-b203-4dae-862e-391ce726549b"
      },
      "outputs": [
        {
          "output_type": "execute_result",
          "data": {
            "text/plain": [
              "7003"
            ]
          },
          "metadata": {},
          "execution_count": 26
        }
      ],
      "source": [
        "# количество прослушиваний в Санкт-Петербурге по средам\n",
        "number_tracks('Wednesday', 'Saint-Petersburg')"
      ]
    },
    {
      "cell_type": "code",
      "execution_count": 27,
      "metadata": {
        "id": "vYDw5u_K_Zcu",
        "colab": {
          "base_uri": "https://localhost:8080/"
        },
        "outputId": "0935c042-6d78-457e-8b35-7d16060a678e"
      },
      "outputs": [
        {
          "output_type": "execute_result",
          "data": {
            "text/plain": [
              "15945"
            ]
          },
          "metadata": {},
          "execution_count": 27
        }
      ],
      "source": [
        "# количество прослушиваний в Москве по пятницам\n",
        "number_tracks('Friday', 'Moscow')"
      ]
    },
    {
      "cell_type": "code",
      "execution_count": 28,
      "metadata": {
        "id": "8_yzFtW3_Zcu",
        "colab": {
          "base_uri": "https://localhost:8080/"
        },
        "outputId": "c37bc292-b3eb-4809-eb8f-1bc220856528"
      },
      "outputs": [
        {
          "output_type": "execute_result",
          "data": {
            "text/plain": [
              "5895"
            ]
          },
          "metadata": {},
          "execution_count": 28
        }
      ],
      "source": [
        "# количество прослушиваний в Санкт-Петербурге по пятницам\n",
        "number_tracks('Friday', 'Saint-Petersburg')"
      ]
    },
    {
      "cell_type": "markdown",
      "metadata": {
        "id": "7QXffbO-_Zcu"
      },
      "source": [
        "Создадим c помощью конструктора `pd.DataFrame` таблицу, где\n",
        "* названия колонок — `['city', 'monday', 'wednesday', 'friday']`;\n",
        "* данные — результаты, которые вы получили с помощью `number_tracks`."
      ]
    },
    {
      "cell_type": "code",
      "execution_count": 29,
      "metadata": {
        "id": "APAcLpOr_Zcu",
        "colab": {
          "base_uri": "https://localhost:8080/",
          "height": 112
        },
        "outputId": "c8a80922-749c-4929-9a82-51ab170719d7"
      },
      "outputs": [
        {
          "output_type": "execute_result",
          "data": {
            "text/plain": [
              "               city  monday  wednesday  friday\n",
              "0            Moscow   15740      11056   15945\n",
              "1  Saint-Petersburg    5614       7003    5895"
            ],
            "text/html": [
              "\n",
              "  <div id=\"df-d5ae7d16-a98d-4f6b-9c3e-f14fd29c2d7f\">\n",
              "    <div class=\"colab-df-container\">\n",
              "      <div>\n",
              "<style scoped>\n",
              "    .dataframe tbody tr th:only-of-type {\n",
              "        vertical-align: middle;\n",
              "    }\n",
              "\n",
              "    .dataframe tbody tr th {\n",
              "        vertical-align: top;\n",
              "    }\n",
              "\n",
              "    .dataframe thead th {\n",
              "        text-align: right;\n",
              "    }\n",
              "</style>\n",
              "<table border=\"1\" class=\"dataframe\">\n",
              "  <thead>\n",
              "    <tr style=\"text-align: right;\">\n",
              "      <th></th>\n",
              "      <th>city</th>\n",
              "      <th>monday</th>\n",
              "      <th>wednesday</th>\n",
              "      <th>friday</th>\n",
              "    </tr>\n",
              "  </thead>\n",
              "  <tbody>\n",
              "    <tr>\n",
              "      <th>0</th>\n",
              "      <td>Moscow</td>\n",
              "      <td>15740</td>\n",
              "      <td>11056</td>\n",
              "      <td>15945</td>\n",
              "    </tr>\n",
              "    <tr>\n",
              "      <th>1</th>\n",
              "      <td>Saint-Petersburg</td>\n",
              "      <td>5614</td>\n",
              "      <td>7003</td>\n",
              "      <td>5895</td>\n",
              "    </tr>\n",
              "  </tbody>\n",
              "</table>\n",
              "</div>\n",
              "      <button class=\"colab-df-convert\" onclick=\"convertToInteractive('df-d5ae7d16-a98d-4f6b-9c3e-f14fd29c2d7f')\"\n",
              "              title=\"Convert this dataframe to an interactive table.\"\n",
              "              style=\"display:none;\">\n",
              "        \n",
              "  <svg xmlns=\"http://www.w3.org/2000/svg\" height=\"24px\"viewBox=\"0 0 24 24\"\n",
              "       width=\"24px\">\n",
              "    <path d=\"M0 0h24v24H0V0z\" fill=\"none\"/>\n",
              "    <path d=\"M18.56 5.44l.94 2.06.94-2.06 2.06-.94-2.06-.94-.94-2.06-.94 2.06-2.06.94zm-11 1L8.5 8.5l.94-2.06 2.06-.94-2.06-.94L8.5 2.5l-.94 2.06-2.06.94zm10 10l.94 2.06.94-2.06 2.06-.94-2.06-.94-.94-2.06-.94 2.06-2.06.94z\"/><path d=\"M17.41 7.96l-1.37-1.37c-.4-.4-.92-.59-1.43-.59-.52 0-1.04.2-1.43.59L10.3 9.45l-7.72 7.72c-.78.78-.78 2.05 0 2.83L4 21.41c.39.39.9.59 1.41.59.51 0 1.02-.2 1.41-.59l7.78-7.78 2.81-2.81c.8-.78.8-2.07 0-2.86zM5.41 20L4 18.59l7.72-7.72 1.47 1.35L5.41 20z\"/>\n",
              "  </svg>\n",
              "      </button>\n",
              "      \n",
              "  <style>\n",
              "    .colab-df-container {\n",
              "      display:flex;\n",
              "      flex-wrap:wrap;\n",
              "      gap: 12px;\n",
              "    }\n",
              "\n",
              "    .colab-df-convert {\n",
              "      background-color: #E8F0FE;\n",
              "      border: none;\n",
              "      border-radius: 50%;\n",
              "      cursor: pointer;\n",
              "      display: none;\n",
              "      fill: #1967D2;\n",
              "      height: 32px;\n",
              "      padding: 0 0 0 0;\n",
              "      width: 32px;\n",
              "    }\n",
              "\n",
              "    .colab-df-convert:hover {\n",
              "      background-color: #E2EBFA;\n",
              "      box-shadow: 0px 1px 2px rgba(60, 64, 67, 0.3), 0px 1px 3px 1px rgba(60, 64, 67, 0.15);\n",
              "      fill: #174EA6;\n",
              "    }\n",
              "\n",
              "    [theme=dark] .colab-df-convert {\n",
              "      background-color: #3B4455;\n",
              "      fill: #D2E3FC;\n",
              "    }\n",
              "\n",
              "    [theme=dark] .colab-df-convert:hover {\n",
              "      background-color: #434B5C;\n",
              "      box-shadow: 0px 1px 3px 1px rgba(0, 0, 0, 0.15);\n",
              "      filter: drop-shadow(0px 1px 2px rgba(0, 0, 0, 0.3));\n",
              "      fill: #FFFFFF;\n",
              "    }\n",
              "  </style>\n",
              "\n",
              "      <script>\n",
              "        const buttonEl =\n",
              "          document.querySelector('#df-d5ae7d16-a98d-4f6b-9c3e-f14fd29c2d7f button.colab-df-convert');\n",
              "        buttonEl.style.display =\n",
              "          google.colab.kernel.accessAllowed ? 'block' : 'none';\n",
              "\n",
              "        async function convertToInteractive(key) {\n",
              "          const element = document.querySelector('#df-d5ae7d16-a98d-4f6b-9c3e-f14fd29c2d7f');\n",
              "          const dataTable =\n",
              "            await google.colab.kernel.invokeFunction('convertToInteractive',\n",
              "                                                     [key], {});\n",
              "          if (!dataTable) return;\n",
              "\n",
              "          const docLinkHtml = 'Like what you see? Visit the ' +\n",
              "            '<a target=\"_blank\" href=https://colab.research.google.com/notebooks/data_table.ipynb>data table notebook</a>'\n",
              "            + ' to learn more about interactive tables.';\n",
              "          element.innerHTML = '';\n",
              "          dataTable['output_type'] = 'display_data';\n",
              "          await google.colab.output.renderOutput(dataTable, element);\n",
              "          const docLink = document.createElement('div');\n",
              "          docLink.innerHTML = docLinkHtml;\n",
              "          element.appendChild(docLink);\n",
              "        }\n",
              "      </script>\n",
              "    </div>\n",
              "  </div>\n",
              "  "
            ]
          },
          "metadata": {},
          "execution_count": 29
        }
      ],
      "source": [
        "# Таблица с результатами\n",
        "data = [['Moscow', 15740, 11056, 15945],\n",
        "        ['Saint-Petersburg', 5614, 7003, 5895]]\n",
        "columns = ['city', 'monday', 'wednesday', 'friday']\n",
        "res = pd.DataFrame(data=data, columns=columns)\n",
        "res"
      ]
    },
    {
      "cell_type": "markdown",
      "source": [
        "А теперь простой способ сделать тоже самое за пару строчек."
      ],
      "metadata": {
        "id": "q_qFaAAaVICV"
      }
    },
    {
      "cell_type": "code",
      "source": [
        "music_by_days = (df.pivot_table(index='city', columns='day', values='genre', aggfunc='count')\n",
        ".reset_index())\n",
        "(music_by_days.reindex(columns=['city', 'Monday', 'Wednesday', 'Friday'])\n",
        ".style.background_gradient(cmap='inferno_r', axis=1))"
      ],
      "metadata": {
        "colab": {
          "base_uri": "https://localhost:8080/",
          "height": 112
        },
        "id": "tiNC9UR_Nrzu",
        "outputId": "541b23ca-dae0-43b7-f63c-36c12ba97708"
      },
      "execution_count": 30,
      "outputs": [
        {
          "output_type": "execute_result",
          "data": {
            "text/plain": [
              "<pandas.io.formats.style.Styler at 0x7fb705498d90>"
            ],
            "text/html": [
              "<style type=\"text/css\">\n",
              "#T_7cf61_row0_col1 {\n",
              "  background-color: #050417;\n",
              "  color: #f1f1f1;\n",
              "}\n",
              "#T_7cf61_row0_col2, #T_7cf61_row1_col1 {\n",
              "  background-color: #fcffa4;\n",
              "  color: #000000;\n",
              "}\n",
              "#T_7cf61_row0_col3, #T_7cf61_row1_col2 {\n",
              "  background-color: #000004;\n",
              "  color: #f1f1f1;\n",
              "}\n",
              "#T_7cf61_row1_col3 {\n",
              "  background-color: #fca50a;\n",
              "  color: #000000;\n",
              "}\n",
              "</style>\n",
              "<table id=\"T_7cf61_\" class=\"dataframe\">\n",
              "  <thead>\n",
              "    <tr>\n",
              "      <th class=\"index_name level0\" >day</th>\n",
              "      <th class=\"col_heading level0 col0\" >city</th>\n",
              "      <th class=\"col_heading level0 col1\" >Monday</th>\n",
              "      <th class=\"col_heading level0 col2\" >Wednesday</th>\n",
              "      <th class=\"col_heading level0 col3\" >Friday</th>\n",
              "    </tr>\n",
              "  </thead>\n",
              "  <tbody>\n",
              "    <tr>\n",
              "      <th id=\"T_7cf61_level0_row0\" class=\"row_heading level0 row0\" >0</th>\n",
              "      <td id=\"T_7cf61_row0_col0\" class=\"data row0 col0\" >Moscow</td>\n",
              "      <td id=\"T_7cf61_row0_col1\" class=\"data row0 col1\" >15740</td>\n",
              "      <td id=\"T_7cf61_row0_col2\" class=\"data row0 col2\" >11056</td>\n",
              "      <td id=\"T_7cf61_row0_col3\" class=\"data row0 col3\" >15945</td>\n",
              "    </tr>\n",
              "    <tr>\n",
              "      <th id=\"T_7cf61_level0_row1\" class=\"row_heading level0 row1\" >1</th>\n",
              "      <td id=\"T_7cf61_row1_col0\" class=\"data row1 col0\" >Saint-Petersburg</td>\n",
              "      <td id=\"T_7cf61_row1_col1\" class=\"data row1 col1\" >5614</td>\n",
              "      <td id=\"T_7cf61_row1_col2\" class=\"data row1 col2\" >7003</td>\n",
              "      <td id=\"T_7cf61_row1_col3\" class=\"data row1 col3\" >5895</td>\n",
              "    </tr>\n",
              "  </tbody>\n",
              "</table>\n"
            ]
          },
          "metadata": {},
          "execution_count": 30
        }
      ]
    },
    {
      "cell_type": "markdown",
      "metadata": {
        "id": "-EgPIHYu_Zcu"
      },
      "source": [
        "**Выводы**\n",
        "\n",
        "Данные показывают разницу поведения пользователей:\n",
        "\n",
        "- В Москве пик прослушиваний приходится на понедельник и пятницу, а в среду заметен спад.\n",
        "- В Петербурге, наоборот, больше слушают музыку по средам. Активность в понедельник и пятницу здесь почти в равной мере уступает среде.\n",
        "\n",
        "Значит, данные говорят в пользу первой гипотезы."
      ]
    },
    {
      "cell_type": "markdown",
      "metadata": {
        "id": "atZAxtq4_Zcu"
      },
      "source": [
        "### Музыка в начале и в конце недели"
      ]
    },
    {
      "cell_type": "markdown",
      "metadata": {
        "id": "eXrQqXFH_Zcu"
      },
      "source": [
        "Согласно второй гипотезе, утром в понедельник в Москве преобладают одни жанры, а в Петербурге — другие. Так же и вечером пятницы преобладают разные жанры — в зависимости от города."
      ]
    },
    {
      "cell_type": "markdown",
      "metadata": {
        "id": "S8UcW6Hw_Zcu"
      },
      "source": [
        "Сохраним таблицы с данными в две переменные:\n",
        "* по Москве — в `moscow_general`;\n",
        "* по Санкт-Петербургу — в `spb_general`."
      ]
    },
    {
      "cell_type": "code",
      "execution_count": 31,
      "metadata": {
        "id": "qeaFfM_P_Zcu"
      },
      "outputs": [],
      "source": [
        "# получение таблицы moscow_general из тех строк таблицы df, \n",
        "# для которых значение в столбце 'city' равно 'Moscow'\n",
        "moscow_general = df[df['city'] == 'Moscow']"
      ]
    },
    {
      "cell_type": "code",
      "execution_count": 32,
      "metadata": {
        "id": "ORaVRKto_Zcu"
      },
      "outputs": [],
      "source": [
        "# получение таблицы spb_general из тех строк таблицы df,\n",
        "# для которых значение в столбце 'city' равно 'Saint-Petersburg'\n",
        "spb_general = df[df['city'] == 'Saint-Petersburg']"
      ]
    },
    {
      "cell_type": "markdown",
      "metadata": {
        "id": "MEJV-CX2_Zcu"
      },
      "source": [
        "Создим функцию `genre_weekday()` с четырьмя параметрами:\n",
        "* таблица (датафрейм) с данными,\n",
        "* день недели,\n",
        "* начальная временная метка в формате 'hh:mm', \n",
        "* последняя временная метка в формате 'hh:mm'.\n",
        "\n",
        "Функция должна вернуть информацию о топ-10 жанров тех треков, которые прослушивали в указанный день, в промежутке между двумя отметками времени."
      ]
    },
    {
      "cell_type": "code",
      "execution_count": 33,
      "metadata": {
        "id": "laJT9BYl_Zcu"
      },
      "outputs": [],
      "source": [
        "# Объявление функции genre_weekday() с параметрами table, day, time1, time2,\n",
        "# которая возвращает информацию о самых популярных жанрах в указанный день в\n",
        "# заданное время:\n",
        "# 1) в переменную genre_df сохраняются те строки переданного датафрейма table, для\n",
        "#    которых одновременно:\n",
        "#    - значение в столбце day равно значению аргумента day\n",
        "#    - значение в столбце time больше значения аргумента time1\n",
        "#    - значение в столбце time меньше значения аргумента time2\n",
        "#    Используйте последовательную фильтрацию с помощью логической индексации.\n",
        "# 2) сгруппировать датафрейм genre_df по столбцу genre, взять один из его\n",
        "#    столбцов и посчитать методом count() количество записей для каждого из\n",
        "#    присутствующих жанров, получившийся Series записать в переменную\n",
        "#    genre_df_count\n",
        "# 3) отсортировать genre_df_count по убыванию встречаемости и сохранить\n",
        "#    в переменную genre_df_sorted\n",
        "# 4) вернуть Series из 10 первых значений genre_df_sorted, это будут топ-10\n",
        "#    популярных жанров (в указанный день, в заданное время)\n",
        "def genre_weekday(table, day, time1, time2):\n",
        "    genre_df = table[table['day'] == day]\n",
        "    genre_df = genre_df[genre_df['time'] > time1]\n",
        "    genre_df = genre_df[genre_df['time'] < time2]\n",
        "    genre_df_count = genre_df.groupby('genre')['genre'].count()\n",
        "    df_sorted = genre_df_count.sort_values(ascending=False)\n",
        "    return df_sorted.head(10)"
      ]
    },
    {
      "cell_type": "markdown",
      "metadata": {
        "id": "la2s2_PF_Zcu"
      },
      "source": [
        "Cравним результаты функции `genre_weekday()` для Москвы и Санкт-Петербурга в понедельник утром (с 7:00 до 11:00) и в пятницу вечером (с 17:00 до 23:00):"
      ]
    },
    {
      "cell_type": "code",
      "execution_count": 34,
      "metadata": {
        "id": "yz7itPUQ_Zcu",
        "colab": {
          "base_uri": "https://localhost:8080/",
          "height": 394
        },
        "outputId": "e4afbfb5-ef3e-47e6-dc1c-756d54b8bca0"
      },
      "outputs": [
        {
          "output_type": "execute_result",
          "data": {
            "text/plain": [
              "<pandas.io.formats.style.Styler at 0x7fb705443b90>"
            ],
            "text/html": [
              "<style type=\"text/css\">\n",
              "#T_24402_row0_col0 {\n",
              "  width: 10em;\n",
              "  height: 80%;\n",
              "  background: linear-gradient(90deg, transparent 50.0%, #fca50a 50.0%, #fca50a 100.0%, transparent 100.0%);\n",
              "}\n",
              "#T_24402_row1_col0 {\n",
              "  width: 10em;\n",
              "  height: 80%;\n",
              "  background: linear-gradient(90deg, transparent 50.0%, #fca50a 50.0%, #fca50a 85.1%, transparent 85.1%);\n",
              "}\n",
              "#T_24402_row2_col0 {\n",
              "  width: 10em;\n",
              "  height: 80%;\n",
              "  background: linear-gradient(90deg, transparent 50.0%, #fca50a 50.0%, #fca50a 80.7%, transparent 80.7%);\n",
              "}\n",
              "#T_24402_row3_col0 {\n",
              "  width: 10em;\n",
              "  height: 80%;\n",
              "  background: linear-gradient(90deg, transparent 50.0%, #fca50a 50.0%, #fca50a 80.3%, transparent 80.3%);\n",
              "}\n",
              "#T_24402_row4_col0 {\n",
              "  width: 10em;\n",
              "  height: 80%;\n",
              "  background: linear-gradient(90deg, transparent 50.0%, #fca50a 50.0%, #fca50a 68.3%, transparent 68.3%);\n",
              "}\n",
              "#T_24402_row5_col0 {\n",
              "  width: 10em;\n",
              "  height: 80%;\n",
              "  background: linear-gradient(90deg, transparent 50.0%, #fca50a 50.0%, #fca50a 61.9%, transparent 61.9%);\n",
              "}\n",
              "#T_24402_row6_col0 {\n",
              "  width: 10em;\n",
              "  height: 80%;\n",
              "  background: linear-gradient(90deg, transparent 50.0%, #fca50a 50.0%, #fca50a 61.6%, transparent 61.6%);\n",
              "}\n",
              "#T_24402_row7_col0 {\n",
              "  width: 10em;\n",
              "  height: 80%;\n",
              "  background: linear-gradient(90deg, transparent 50.0%, #fca50a 50.0%, #fca50a 61.2%, transparent 61.2%);\n",
              "}\n",
              "#T_24402_row8_col0 {\n",
              "  width: 10em;\n",
              "  height: 80%;\n",
              "  background: linear-gradient(90deg, transparent 50.0%, #fca50a 50.0%, #fca50a 60.5%, transparent 60.5%);\n",
              "}\n",
              "#T_24402_row9_col0 {\n",
              "  width: 10em;\n",
              "  height: 80%;\n",
              "  background: linear-gradient(90deg, transparent 50.0%, #fca50a 50.0%, #fca50a 60.3%, transparent 60.3%);\n",
              "}\n",
              "</style>\n",
              "<table id=\"T_24402_\" class=\"dataframe\">\n",
              "  <thead>\n",
              "    <tr>\n",
              "      <th class=\"blank level0\" >&nbsp;</th>\n",
              "      <th class=\"col_heading level0 col0\" >genre</th>\n",
              "    </tr>\n",
              "    <tr>\n",
              "      <th class=\"index_name level0\" >genre</th>\n",
              "      <th class=\"blank col0\" >&nbsp;</th>\n",
              "    </tr>\n",
              "  </thead>\n",
              "  <tbody>\n",
              "    <tr>\n",
              "      <th id=\"T_24402_level0_row0\" class=\"row_heading level0 row0\" >pop</th>\n",
              "      <td id=\"T_24402_row0_col0\" class=\"data row0 col0\" >781</td>\n",
              "    </tr>\n",
              "    <tr>\n",
              "      <th id=\"T_24402_level0_row1\" class=\"row_heading level0 row1\" >dance</th>\n",
              "      <td id=\"T_24402_row1_col0\" class=\"data row1 col0\" >549</td>\n",
              "    </tr>\n",
              "    <tr>\n",
              "      <th id=\"T_24402_level0_row2\" class=\"row_heading level0 row2\" >electronic</th>\n",
              "      <td id=\"T_24402_row2_col0\" class=\"data row2 col0\" >480</td>\n",
              "    </tr>\n",
              "    <tr>\n",
              "      <th id=\"T_24402_level0_row3\" class=\"row_heading level0 row3\" >rock</th>\n",
              "      <td id=\"T_24402_row3_col0\" class=\"data row3 col0\" >474</td>\n",
              "    </tr>\n",
              "    <tr>\n",
              "      <th id=\"T_24402_level0_row4\" class=\"row_heading level0 row4\" >hiphop</th>\n",
              "      <td id=\"T_24402_row4_col0\" class=\"data row4 col0\" >286</td>\n",
              "    </tr>\n",
              "    <tr>\n",
              "      <th id=\"T_24402_level0_row5\" class=\"row_heading level0 row5\" >ruspop</th>\n",
              "      <td id=\"T_24402_row5_col0\" class=\"data row5 col0\" >186</td>\n",
              "    </tr>\n",
              "    <tr>\n",
              "      <th id=\"T_24402_level0_row6\" class=\"row_heading level0 row6\" >world</th>\n",
              "      <td id=\"T_24402_row6_col0\" class=\"data row6 col0\" >181</td>\n",
              "    </tr>\n",
              "    <tr>\n",
              "      <th id=\"T_24402_level0_row7\" class=\"row_heading level0 row7\" >rusrap</th>\n",
              "      <td id=\"T_24402_row7_col0\" class=\"data row7 col0\" >175</td>\n",
              "    </tr>\n",
              "    <tr>\n",
              "      <th id=\"T_24402_level0_row8\" class=\"row_heading level0 row8\" >alternative</th>\n",
              "      <td id=\"T_24402_row8_col0\" class=\"data row8 col0\" >164</td>\n",
              "    </tr>\n",
              "    <tr>\n",
              "      <th id=\"T_24402_level0_row9\" class=\"row_heading level0 row9\" >unknown</th>\n",
              "      <td id=\"T_24402_row9_col0\" class=\"data row9 col0\" >161</td>\n",
              "    </tr>\n",
              "  </tbody>\n",
              "</table>\n"
            ]
          },
          "metadata": {},
          "execution_count": 34
        }
      ],
      "source": [
        "# вызов функции для утра понедельника в Москве (вместо df — таблица moscow_general)\n",
        "# объекты, хранящие время, являются строками и сравниваются как строки\n",
        "# пример вызова: genre_weekday(moscow_general, 'Monday', '07:00', '11:00')\n",
        "genre_weekday(moscow_general, 'Monday', '07:00', '11:00').to_frame().style.bar(align='zero', color='#fca50a')"
      ]
    },
    {
      "cell_type": "code",
      "execution_count": 35,
      "metadata": {
        "id": "kwUcHPdy_Zcu",
        "colab": {
          "base_uri": "https://localhost:8080/",
          "height": 394
        },
        "outputId": "4d4a7ebb-0e8b-40e6-e17a-468fa64016e9"
      },
      "outputs": [
        {
          "output_type": "execute_result",
          "data": {
            "text/plain": [
              "<pandas.io.formats.style.Styler at 0x7fb70687d910>"
            ],
            "text/html": [
              "<style type=\"text/css\">\n",
              "#T_0c11b_row0_col0 {\n",
              "  width: 10em;\n",
              "  height: 80%;\n",
              "  background: linear-gradient(90deg, transparent 50.0%, #fca50a 50.0%, #fca50a 100.0%, transparent 100.0%);\n",
              "}\n",
              "#T_0c11b_row1_col0 {\n",
              "  width: 10em;\n",
              "  height: 80%;\n",
              "  background: linear-gradient(90deg, transparent 50.0%, #fca50a 50.0%, #fca50a 91.7%, transparent 91.7%);\n",
              "}\n",
              "#T_0c11b_row2_col0 {\n",
              "  width: 10em;\n",
              "  height: 80%;\n",
              "  background: linear-gradient(90deg, transparent 50.0%, #fca50a 50.0%, #fca50a 87.2%, transparent 87.2%);\n",
              "}\n",
              "#T_0c11b_row3_col0 {\n",
              "  width: 10em;\n",
              "  height: 80%;\n",
              "  background: linear-gradient(90deg, transparent 50.0%, #fca50a 50.0%, #fca50a 83.7%, transparent 83.7%);\n",
              "}\n",
              "#T_0c11b_row4_col0 {\n",
              "  width: 10em;\n",
              "  height: 80%;\n",
              "  background: linear-gradient(90deg, transparent 50.0%, #fca50a 50.0%, #fca50a 68.3%, transparent 68.3%);\n",
              "}\n",
              "#T_0c11b_row5_col0 {\n",
              "  width: 10em;\n",
              "  height: 80%;\n",
              "  background: linear-gradient(90deg, transparent 50.0%, #fca50a 50.0%, #fca50a 64.7%, transparent 64.7%);\n",
              "}\n",
              "#T_0c11b_row6_col0 {\n",
              "  width: 10em;\n",
              "  height: 80%;\n",
              "  background: linear-gradient(90deg, transparent 50.0%, #fca50a 50.0%, #fca50a 63.3%, transparent 63.3%);\n",
              "}\n",
              "#T_0c11b_row7_col0 {\n",
              "  width: 10em;\n",
              "  height: 80%;\n",
              "  background: linear-gradient(90deg, transparent 50.0%, #fca50a 50.0%, #fca50a 62.6%, transparent 62.6%);\n",
              "}\n",
              "#T_0c11b_row8_col0 {\n",
              "  width: 10em;\n",
              "  height: 80%;\n",
              "  background: linear-gradient(90deg, transparent 50.0%, #fca50a 50.0%, #fca50a 60.1%, transparent 60.1%);\n",
              "}\n",
              "#T_0c11b_row9_col0 {\n",
              "  width: 10em;\n",
              "  height: 80%;\n",
              "  background: linear-gradient(90deg, transparent 50.0%, #fca50a 50.0%, #fca50a 59.2%, transparent 59.2%);\n",
              "}\n",
              "</style>\n",
              "<table id=\"T_0c11b_\" class=\"dataframe\">\n",
              "  <thead>\n",
              "    <tr>\n",
              "      <th class=\"blank level0\" >&nbsp;</th>\n",
              "      <th class=\"col_heading level0 col0\" >genre</th>\n",
              "    </tr>\n",
              "    <tr>\n",
              "      <th class=\"index_name level0\" >genre</th>\n",
              "      <th class=\"blank col0\" >&nbsp;</th>\n",
              "    </tr>\n",
              "  </thead>\n",
              "  <tbody>\n",
              "    <tr>\n",
              "      <th id=\"T_0c11b_level0_row0\" class=\"row_heading level0 row0\" >pop</th>\n",
              "      <td id=\"T_0c11b_row0_col0\" class=\"data row0 col0\" >218</td>\n",
              "    </tr>\n",
              "    <tr>\n",
              "      <th id=\"T_0c11b_level0_row1\" class=\"row_heading level0 row1\" >dance</th>\n",
              "      <td id=\"T_0c11b_row1_col0\" class=\"data row1 col0\" >182</td>\n",
              "    </tr>\n",
              "    <tr>\n",
              "      <th id=\"T_0c11b_level0_row2\" class=\"row_heading level0 row2\" >rock</th>\n",
              "      <td id=\"T_0c11b_row2_col0\" class=\"data row2 col0\" >162</td>\n",
              "    </tr>\n",
              "    <tr>\n",
              "      <th id=\"T_0c11b_level0_row3\" class=\"row_heading level0 row3\" >electronic</th>\n",
              "      <td id=\"T_0c11b_row3_col0\" class=\"data row3 col0\" >147</td>\n",
              "    </tr>\n",
              "    <tr>\n",
              "      <th id=\"T_0c11b_level0_row4\" class=\"row_heading level0 row4\" >hiphop</th>\n",
              "      <td id=\"T_0c11b_row4_col0\" class=\"data row4 col0\" >80</td>\n",
              "    </tr>\n",
              "    <tr>\n",
              "      <th id=\"T_0c11b_level0_row5\" class=\"row_heading level0 row5\" >ruspop</th>\n",
              "      <td id=\"T_0c11b_row5_col0\" class=\"data row5 col0\" >64</td>\n",
              "    </tr>\n",
              "    <tr>\n",
              "      <th id=\"T_0c11b_level0_row6\" class=\"row_heading level0 row6\" >alternative</th>\n",
              "      <td id=\"T_0c11b_row6_col0\" class=\"data row6 col0\" >58</td>\n",
              "    </tr>\n",
              "    <tr>\n",
              "      <th id=\"T_0c11b_level0_row7\" class=\"row_heading level0 row7\" >rusrap</th>\n",
              "      <td id=\"T_0c11b_row7_col0\" class=\"data row7 col0\" >55</td>\n",
              "    </tr>\n",
              "    <tr>\n",
              "      <th id=\"T_0c11b_level0_row8\" class=\"row_heading level0 row8\" >jazz</th>\n",
              "      <td id=\"T_0c11b_row8_col0\" class=\"data row8 col0\" >44</td>\n",
              "    </tr>\n",
              "    <tr>\n",
              "      <th id=\"T_0c11b_level0_row9\" class=\"row_heading level0 row9\" >classical</th>\n",
              "      <td id=\"T_0c11b_row9_col0\" class=\"data row9 col0\" >40</td>\n",
              "    </tr>\n",
              "  </tbody>\n",
              "</table>\n"
            ]
          },
          "metadata": {},
          "execution_count": 35
        }
      ],
      "source": [
        "# вызов функции для утра понедельника в Петербурге (вместо df — таблица spb_general)\n",
        "genre_weekday(spb_general, 'Monday', '07:00', '11:00').to_frame().style.bar(align='zero', color='#fca50a')"
      ]
    },
    {
      "cell_type": "code",
      "execution_count": 36,
      "metadata": {
        "id": "EzXVRE1o_Zcu",
        "colab": {
          "base_uri": "https://localhost:8080/",
          "height": 394
        },
        "outputId": "fe4c88fc-b5bd-403e-f490-6f212c3ffa37"
      },
      "outputs": [
        {
          "output_type": "execute_result",
          "data": {
            "text/plain": [
              "<pandas.io.formats.style.Styler at 0x7fb705451d50>"
            ],
            "text/html": [
              "<style type=\"text/css\">\n",
              "#T_d30e5_row0_col0 {\n",
              "  width: 10em;\n",
              "  height: 80%;\n",
              "  background: linear-gradient(90deg, transparent 50.0%, #fca50a 50.0%, #fca50a 100.0%, transparent 100.0%);\n",
              "}\n",
              "#T_d30e5_row1_col0 {\n",
              "  width: 10em;\n",
              "  height: 80%;\n",
              "  background: linear-gradient(90deg, transparent 50.0%, #fca50a 50.0%, #fca50a 86.3%, transparent 86.3%);\n",
              "}\n",
              "#T_d30e5_row2_col0 {\n",
              "  width: 10em;\n",
              "  height: 80%;\n",
              "  background: linear-gradient(90deg, transparent 50.0%, #fca50a 50.0%, #fca50a 84.7%, transparent 84.7%);\n",
              "}\n",
              "#T_d30e5_row3_col0 {\n",
              "  width: 10em;\n",
              "  height: 80%;\n",
              "  background: linear-gradient(90deg, transparent 50.0%, #fca50a 50.0%, #fca50a 83.8%, transparent 83.8%);\n",
              "}\n",
              "#T_d30e5_row4_col0 {\n",
              "  width: 10em;\n",
              "  height: 80%;\n",
              "  background: linear-gradient(90deg, transparent 50.0%, #fca50a 50.0%, #fca50a 69.1%, transparent 69.1%);\n",
              "}\n",
              "#T_d30e5_row5_col0 {\n",
              "  width: 10em;\n",
              "  height: 80%;\n",
              "  background: linear-gradient(90deg, transparent 50.0%, #fca50a 50.0%, #fca50a 64.6%, transparent 64.6%);\n",
              "}\n",
              "#T_d30e5_row6_col0 {\n",
              "  width: 10em;\n",
              "  height: 80%;\n",
              "  background: linear-gradient(90deg, transparent 50.0%, #fca50a 50.0%, #fca50a 61.9%, transparent 61.9%);\n",
              "}\n",
              "#T_d30e5_row7_col0, #T_d30e5_row8_col0 {\n",
              "  width: 10em;\n",
              "  height: 80%;\n",
              "  background: linear-gradient(90deg, transparent 50.0%, #fca50a 50.0%, #fca50a 61.4%, transparent 61.4%);\n",
              "}\n",
              "#T_d30e5_row9_col0 {\n",
              "  width: 10em;\n",
              "  height: 80%;\n",
              "  background: linear-gradient(90deg, transparent 50.0%, #fca50a 50.0%, #fca50a 60.0%, transparent 60.0%);\n",
              "}\n",
              "</style>\n",
              "<table id=\"T_d30e5_\" class=\"dataframe\">\n",
              "  <thead>\n",
              "    <tr>\n",
              "      <th class=\"blank level0\" >&nbsp;</th>\n",
              "      <th class=\"col_heading level0 col0\" >genre</th>\n",
              "    </tr>\n",
              "    <tr>\n",
              "      <th class=\"index_name level0\" >genre</th>\n",
              "      <th class=\"blank col0\" >&nbsp;</th>\n",
              "    </tr>\n",
              "  </thead>\n",
              "  <tbody>\n",
              "    <tr>\n",
              "      <th id=\"T_d30e5_level0_row0\" class=\"row_heading level0 row0\" >pop</th>\n",
              "      <td id=\"T_d30e5_row0_col0\" class=\"data row0 col0\" >713</td>\n",
              "    </tr>\n",
              "    <tr>\n",
              "      <th id=\"T_d30e5_level0_row1\" class=\"row_heading level0 row1\" >rock</th>\n",
              "      <td id=\"T_d30e5_row1_col0\" class=\"data row1 col0\" >517</td>\n",
              "    </tr>\n",
              "    <tr>\n",
              "      <th id=\"T_d30e5_level0_row2\" class=\"row_heading level0 row2\" >dance</th>\n",
              "      <td id=\"T_d30e5_row2_col0\" class=\"data row2 col0\" >495</td>\n",
              "    </tr>\n",
              "    <tr>\n",
              "      <th id=\"T_d30e5_level0_row3\" class=\"row_heading level0 row3\" >electronic</th>\n",
              "      <td id=\"T_d30e5_row3_col0\" class=\"data row3 col0\" >482</td>\n",
              "    </tr>\n",
              "    <tr>\n",
              "      <th id=\"T_d30e5_level0_row4\" class=\"row_heading level0 row4\" >hiphop</th>\n",
              "      <td id=\"T_d30e5_row4_col0\" class=\"data row4 col0\" >273</td>\n",
              "    </tr>\n",
              "    <tr>\n",
              "      <th id=\"T_d30e5_level0_row5\" class=\"row_heading level0 row5\" >world</th>\n",
              "      <td id=\"T_d30e5_row5_col0\" class=\"data row5 col0\" >208</td>\n",
              "    </tr>\n",
              "    <tr>\n",
              "      <th id=\"T_d30e5_level0_row6\" class=\"row_heading level0 row6\" >ruspop</th>\n",
              "      <td id=\"T_d30e5_row6_col0\" class=\"data row6 col0\" >170</td>\n",
              "    </tr>\n",
              "    <tr>\n",
              "      <th id=\"T_d30e5_level0_row7\" class=\"row_heading level0 row7\" >alternative</th>\n",
              "      <td id=\"T_d30e5_row7_col0\" class=\"data row7 col0\" >163</td>\n",
              "    </tr>\n",
              "    <tr>\n",
              "      <th id=\"T_d30e5_level0_row8\" class=\"row_heading level0 row8\" >classical</th>\n",
              "      <td id=\"T_d30e5_row8_col0\" class=\"data row8 col0\" >163</td>\n",
              "    </tr>\n",
              "    <tr>\n",
              "      <th id=\"T_d30e5_level0_row9\" class=\"row_heading level0 row9\" >rusrap</th>\n",
              "      <td id=\"T_d30e5_row9_col0\" class=\"data row9 col0\" >142</td>\n",
              "    </tr>\n",
              "  </tbody>\n",
              "</table>\n"
            ]
          },
          "metadata": {},
          "execution_count": 36
        }
      ],
      "source": [
        "# вызов функции для вечера пятницы в Москве\n",
        "genre_weekday(moscow_general, 'Friday', '17:00', '23:00').to_frame().style.bar(align='zero', color='#fca50a')"
      ]
    },
    {
      "cell_type": "code",
      "execution_count": 37,
      "metadata": {
        "id": "JZaEKu5v_Zcu",
        "colab": {
          "base_uri": "https://localhost:8080/",
          "height": 394
        },
        "outputId": "9ffa868a-d674-43ec-d920-277ef22f14c0"
      },
      "outputs": [
        {
          "output_type": "execute_result",
          "data": {
            "text/plain": [
              "<pandas.io.formats.style.Styler at 0x7fb705451510>"
            ],
            "text/html": [
              "<style type=\"text/css\">\n",
              "#T_02fa8_row0_col0 {\n",
              "  width: 10em;\n",
              "  height: 80%;\n",
              "  background: linear-gradient(90deg, transparent 50.0%, #fca50a 50.0%, #fca50a 100.0%, transparent 100.0%);\n",
              "}\n",
              "#T_02fa8_row1_col0, #T_02fa8_row2_col0 {\n",
              "  width: 10em;\n",
              "  height: 80%;\n",
              "  background: linear-gradient(90deg, transparent 50.0%, #fca50a 50.0%, #fca50a 92.2%, transparent 92.2%);\n",
              "}\n",
              "#T_02fa8_row3_col0 {\n",
              "  width: 10em;\n",
              "  height: 80%;\n",
              "  background: linear-gradient(90deg, transparent 50.0%, #fca50a 50.0%, #fca50a 91.0%, transparent 91.0%);\n",
              "}\n",
              "#T_02fa8_row4_col0 {\n",
              "  width: 10em;\n",
              "  height: 80%;\n",
              "  background: linear-gradient(90deg, transparent 50.0%, #fca50a 50.0%, #fca50a 68.9%, transparent 68.9%);\n",
              "}\n",
              "#T_02fa8_row5_col0 {\n",
              "  width: 10em;\n",
              "  height: 80%;\n",
              "  background: linear-gradient(90deg, transparent 50.0%, #fca50a 50.0%, #fca50a 62.3%, transparent 62.3%);\n",
              "}\n",
              "#T_02fa8_row6_col0 {\n",
              "  width: 10em;\n",
              "  height: 80%;\n",
              "  background: linear-gradient(90deg, transparent 50.0%, #fca50a 50.0%, #fca50a 61.9%, transparent 61.9%);\n",
              "}\n",
              "#T_02fa8_row7_col0 {\n",
              "  width: 10em;\n",
              "  height: 80%;\n",
              "  background: linear-gradient(90deg, transparent 50.0%, #fca50a 50.0%, #fca50a 61.7%, transparent 61.7%);\n",
              "}\n",
              "#T_02fa8_row8_col0 {\n",
              "  width: 10em;\n",
              "  height: 80%;\n",
              "  background: linear-gradient(90deg, transparent 50.0%, #fca50a 50.0%, #fca50a 61.5%, transparent 61.5%);\n",
              "}\n",
              "#T_02fa8_row9_col0 {\n",
              "  width: 10em;\n",
              "  height: 80%;\n",
              "  background: linear-gradient(90deg, transparent 50.0%, #fca50a 50.0%, #fca50a 60.5%, transparent 60.5%);\n",
              "}\n",
              "</style>\n",
              "<table id=\"T_02fa8_\" class=\"dataframe\">\n",
              "  <thead>\n",
              "    <tr>\n",
              "      <th class=\"blank level0\" >&nbsp;</th>\n",
              "      <th class=\"col_heading level0 col0\" >genre</th>\n",
              "    </tr>\n",
              "    <tr>\n",
              "      <th class=\"index_name level0\" >genre</th>\n",
              "      <th class=\"blank col0\" >&nbsp;</th>\n",
              "    </tr>\n",
              "  </thead>\n",
              "  <tbody>\n",
              "    <tr>\n",
              "      <th id=\"T_02fa8_level0_row0\" class=\"row_heading level0 row0\" >pop</th>\n",
              "      <td id=\"T_02fa8_row0_col0\" class=\"data row0 col0\" >256</td>\n",
              "    </tr>\n",
              "    <tr>\n",
              "      <th id=\"T_02fa8_level0_row1\" class=\"row_heading level0 row1\" >electronic</th>\n",
              "      <td id=\"T_02fa8_row1_col0\" class=\"data row1 col0\" >216</td>\n",
              "    </tr>\n",
              "    <tr>\n",
              "      <th id=\"T_02fa8_level0_row2\" class=\"row_heading level0 row2\" >rock</th>\n",
              "      <td id=\"T_02fa8_row2_col0\" class=\"data row2 col0\" >216</td>\n",
              "    </tr>\n",
              "    <tr>\n",
              "      <th id=\"T_02fa8_level0_row3\" class=\"row_heading level0 row3\" >dance</th>\n",
              "      <td id=\"T_02fa8_row3_col0\" class=\"data row3 col0\" >210</td>\n",
              "    </tr>\n",
              "    <tr>\n",
              "      <th id=\"T_02fa8_level0_row4\" class=\"row_heading level0 row4\" >hiphop</th>\n",
              "      <td id=\"T_02fa8_row4_col0\" class=\"data row4 col0\" >97</td>\n",
              "    </tr>\n",
              "    <tr>\n",
              "      <th id=\"T_02fa8_level0_row5\" class=\"row_heading level0 row5\" >alternative</th>\n",
              "      <td id=\"T_02fa8_row5_col0\" class=\"data row5 col0\" >63</td>\n",
              "    </tr>\n",
              "    <tr>\n",
              "      <th id=\"T_02fa8_level0_row6\" class=\"row_heading level0 row6\" >jazz</th>\n",
              "      <td id=\"T_02fa8_row6_col0\" class=\"data row6 col0\" >61</td>\n",
              "    </tr>\n",
              "    <tr>\n",
              "      <th id=\"T_02fa8_level0_row7\" class=\"row_heading level0 row7\" >classical</th>\n",
              "      <td id=\"T_02fa8_row7_col0\" class=\"data row7 col0\" >60</td>\n",
              "    </tr>\n",
              "    <tr>\n",
              "      <th id=\"T_02fa8_level0_row8\" class=\"row_heading level0 row8\" >rusrap</th>\n",
              "      <td id=\"T_02fa8_row8_col0\" class=\"data row8 col0\" >59</td>\n",
              "    </tr>\n",
              "    <tr>\n",
              "      <th id=\"T_02fa8_level0_row9\" class=\"row_heading level0 row9\" >world</th>\n",
              "      <td id=\"T_02fa8_row9_col0\" class=\"data row9 col0\" >54</td>\n",
              "    </tr>\n",
              "  </tbody>\n",
              "</table>\n"
            ]
          },
          "metadata": {},
          "execution_count": 37
        }
      ],
      "source": [
        "# вызов функции для вечера пятницы в Петербурге\n",
        "genre_weekday(spb_general, 'Friday', '17:00', '23:00').to_frame().style.bar(align='zero', color='#fca50a')"
      ]
    },
    {
      "cell_type": "markdown",
      "metadata": {
        "id": "wrCe4MNX_Zcu"
      },
      "source": [
        "**Выводы**\n",
        "\n",
        "Если сравнить топ-10 жанров в понедельник утром, можно сделать такие выводы:\n",
        "\n",
        "1. В Москве и Петербурге слушают похожую музыку. Единственное отличие — в московский рейтинг вошёл жанр “world”, а в петербургский — джаз и классика.\n",
        "\n",
        "2. В Москве пропущенных значений оказалось так много, что значение `'unknown'` заняло десятое место среди самых популярных жанров. Значит, пропущенные значения занимают существенную долю в данных и угрожают достоверности исследования.\n",
        "\n",
        "Вечер пятницы не меняет эту картину. Некоторые жанры поднимаются немного выше, другие спускаются, но в целом топ-10 остаётся тем же самым.\n",
        "\n",
        "Таким образом, вторая гипотеза подтвердилась лишь частично:\n",
        "* Пользователи слушают похожую музыку в начале недели и в конце.\n",
        "* Разница между Москвой и Петербургом не слишком выражена. В Москве чаще слушают русскую популярную музыку, в Петербурге — джаз.\n",
        "\n",
        "Однако пропуски в данных ставят под сомнение этот результат. В Москве их так много, что рейтинг топ-10 мог бы выглядеть иначе, если бы не утерянные  данные о жанрах."
      ]
    },
    {
      "cell_type": "markdown",
      "metadata": {
        "id": "JolODAqr_Zcu"
      },
      "source": [
        "### Жанровые предпочтения в Москве и Петербурге\n",
        "\n",
        "Гипотеза: Петербург — столица рэпа, музыку этого жанра там слушают чаще, чем в Москве.  А Москва — город контрастов, в котором, тем не менее, преобладает поп-музыка."
      ]
    },
    {
      "cell_type": "markdown",
      "metadata": {
        "id": "DlegSvaT_Zcu"
      },
      "source": [
        "Сгруппируем таблицу `moscow_general` по жанру и посчитаем прослушивания треков каждого жанра методом `count()`. Затем отсортируем результат в порядке убывания и сохраним его в таблице `moscow_genres`."
      ]
    },
    {
      "cell_type": "code",
      "execution_count": 38,
      "metadata": {
        "id": "r19lIPke_Zcu"
      },
      "outputs": [],
      "source": [
        "# одной строкой: группировка таблицы moscow_general по столбцу 'genre', \n",
        "# подсчёт числа значений 'genre' в этой группировке методом count(), \n",
        "# сортировка получившегося Series в порядке убывания и сохранение в moscow_genres\n",
        "moscow_genres = moscow_general.groupby('genre')['genre'].count().sort_values(ascending=False)"
      ]
    },
    {
      "cell_type": "markdown",
      "metadata": {
        "id": "6kMuomxTiIr8"
      },
      "source": [
        "Выведем на экран первые десять строк `moscow_genres`:"
      ]
    },
    {
      "cell_type": "code",
      "execution_count": 39,
      "metadata": {
        "id": "WhCSooF8_Zcv",
        "colab": {
          "base_uri": "https://localhost:8080/",
          "height": 394
        },
        "outputId": "2d078858-8062-460b-eb0d-93e7885b3d1e"
      },
      "outputs": [
        {
          "output_type": "execute_result",
          "data": {
            "text/plain": [
              "<pandas.io.formats.style.Styler at 0x7fb70540b790>"
            ],
            "text/html": [
              "<style type=\"text/css\">\n",
              "#T_b2ae2_row0_col0 {\n",
              "  width: 10em;\n",
              "  height: 80%;\n",
              "  background: linear-gradient(90deg, transparent 50.0%, #fca50a 50.0%, #fca50a 100.0%, transparent 100.0%);\n",
              "}\n",
              "#T_b2ae2_row1_col0 {\n",
              "  width: 10em;\n",
              "  height: 80%;\n",
              "  background: linear-gradient(90deg, transparent 50.0%, #fca50a 50.0%, #fca50a 87.6%, transparent 87.6%);\n",
              "}\n",
              "#T_b2ae2_row2_col0 {\n",
              "  width: 10em;\n",
              "  height: 80%;\n",
              "  background: linear-gradient(90deg, transparent 50.0%, #fca50a 50.0%, #fca50a 83.6%, transparent 83.6%);\n",
              "}\n",
              "#T_b2ae2_row3_col0 {\n",
              "  width: 10em;\n",
              "  height: 80%;\n",
              "  background: linear-gradient(90deg, transparent 50.0%, #fca50a 50.0%, #fca50a 82.1%, transparent 82.1%);\n",
              "}\n",
              "#T_b2ae2_row4_col0 {\n",
              "  width: 10em;\n",
              "  height: 80%;\n",
              "  background: linear-gradient(90deg, transparent 50.0%, #fca50a 50.0%, #fca50a 67.8%, transparent 67.8%);\n",
              "}\n",
              "#T_b2ae2_row5_col0 {\n",
              "  width: 10em;\n",
              "  height: 80%;\n",
              "  background: linear-gradient(90deg, transparent 50.0%, #fca50a 50.0%, #fca50a 63.7%, transparent 63.7%);\n",
              "}\n",
              "#T_b2ae2_row6_col0 {\n",
              "  width: 10em;\n",
              "  height: 80%;\n",
              "  background: linear-gradient(90deg, transparent 50.0%, #fca50a 50.0%, #fca50a 62.2%, transparent 62.2%);\n",
              "}\n",
              "#T_b2ae2_row7_col0 {\n",
              "  width: 10em;\n",
              "  height: 80%;\n",
              "  background: linear-gradient(90deg, transparent 50.0%, #fca50a 50.0%, #fca50a 61.7%, transparent 61.7%);\n",
              "}\n",
              "#T_b2ae2_row8_col0 {\n",
              "  width: 10em;\n",
              "  height: 80%;\n",
              "  background: linear-gradient(90deg, transparent 50.0%, #fca50a 50.0%, #fca50a 61.6%, transparent 61.6%);\n",
              "}\n",
              "#T_b2ae2_row9_col0 {\n",
              "  width: 10em;\n",
              "  height: 80%;\n",
              "  background: linear-gradient(90deg, transparent 50.0%, #fca50a 50.0%, #fca50a 59.9%, transparent 59.9%);\n",
              "}\n",
              "</style>\n",
              "<table id=\"T_b2ae2_\" class=\"dataframe\">\n",
              "  <thead>\n",
              "    <tr>\n",
              "      <th class=\"blank level0\" >&nbsp;</th>\n",
              "      <th class=\"col_heading level0 col0\" >genre</th>\n",
              "    </tr>\n",
              "    <tr>\n",
              "      <th class=\"index_name level0\" >genre</th>\n",
              "      <th class=\"blank col0\" >&nbsp;</th>\n",
              "    </tr>\n",
              "  </thead>\n",
              "  <tbody>\n",
              "    <tr>\n",
              "      <th id=\"T_b2ae2_level0_row0\" class=\"row_heading level0 row0\" >pop</th>\n",
              "      <td id=\"T_b2ae2_row0_col0\" class=\"data row0 col0\" >5892</td>\n",
              "    </tr>\n",
              "    <tr>\n",
              "      <th id=\"T_b2ae2_level0_row1\" class=\"row_heading level0 row1\" >dance</th>\n",
              "      <td id=\"T_b2ae2_row1_col0\" class=\"data row1 col0\" >4435</td>\n",
              "    </tr>\n",
              "    <tr>\n",
              "      <th id=\"T_b2ae2_level0_row2\" class=\"row_heading level0 row2\" >rock</th>\n",
              "      <td id=\"T_b2ae2_row2_col0\" class=\"data row2 col0\" >3965</td>\n",
              "    </tr>\n",
              "    <tr>\n",
              "      <th id=\"T_b2ae2_level0_row3\" class=\"row_heading level0 row3\" >electronic</th>\n",
              "      <td id=\"T_b2ae2_row3_col0\" class=\"data row3 col0\" >3786</td>\n",
              "    </tr>\n",
              "    <tr>\n",
              "      <th id=\"T_b2ae2_level0_row4\" class=\"row_heading level0 row4\" >hiphop</th>\n",
              "      <td id=\"T_b2ae2_row4_col0\" class=\"data row4 col0\" >2096</td>\n",
              "    </tr>\n",
              "    <tr>\n",
              "      <th id=\"T_b2ae2_level0_row5\" class=\"row_heading level0 row5\" >classical</th>\n",
              "      <td id=\"T_b2ae2_row5_col0\" class=\"data row5 col0\" >1616</td>\n",
              "    </tr>\n",
              "    <tr>\n",
              "      <th id=\"T_b2ae2_level0_row6\" class=\"row_heading level0 row6\" >world</th>\n",
              "      <td id=\"T_b2ae2_row6_col0\" class=\"data row6 col0\" >1432</td>\n",
              "    </tr>\n",
              "    <tr>\n",
              "      <th id=\"T_b2ae2_level0_row7\" class=\"row_heading level0 row7\" >alternative</th>\n",
              "      <td id=\"T_b2ae2_row7_col0\" class=\"data row7 col0\" >1379</td>\n",
              "    </tr>\n",
              "    <tr>\n",
              "      <th id=\"T_b2ae2_level0_row8\" class=\"row_heading level0 row8\" >ruspop</th>\n",
              "      <td id=\"T_b2ae2_row8_col0\" class=\"data row8 col0\" >1372</td>\n",
              "    </tr>\n",
              "    <tr>\n",
              "      <th id=\"T_b2ae2_level0_row9\" class=\"row_heading level0 row9\" >rusrap</th>\n",
              "      <td id=\"T_b2ae2_row9_col0\" class=\"data row9 col0\" >1161</td>\n",
              "    </tr>\n",
              "  </tbody>\n",
              "</table>\n"
            ]
          },
          "metadata": {},
          "execution_count": 39
        }
      ],
      "source": [
        "# просмотр первых 10 строк moscow_genres\n",
        "moscow_genres.head(10).to_frame().style.bar(align='zero', color='#fca50a')"
      ]
    },
    {
      "cell_type": "markdown",
      "metadata": {
        "id": "cnPG2vnN_Zcv"
      },
      "source": [
        "Теперь повторим то же и для Петербурга.\n",
        "\n",
        "Сгруппируем таблицу `spb_general` по жанру. Посчитаем прослушивания треков каждого жанра. Результат отсортируем в порядке убывания и сохраним в таблице `spb_genres`:\n"
      ]
    },
    {
      "cell_type": "code",
      "execution_count": 40,
      "metadata": {
        "id": "gluLIpE7_Zcv"
      },
      "outputs": [],
      "source": [
        "# одной строкой: группировка таблицы spb_general по столбцу 'genre', \n",
        "# подсчёт числа значений 'genre' в этой группировке методом count(), \n",
        "# сортировка получившегося Series в порядке убывания и сохранение в spb_genres\n",
        "spb_genres = spb_general.groupby('genre')['genre'].count().sort_values(ascending=False)"
      ]
    },
    {
      "cell_type": "markdown",
      "metadata": {
        "id": "5Doha_ODgyQ8"
      },
      "source": [
        "Выведем на экран первые десять строк `spb_genres`:"
      ]
    },
    {
      "cell_type": "code",
      "execution_count": 41,
      "metadata": {
        "id": "uaGJHjVU_Zcv",
        "colab": {
          "base_uri": "https://localhost:8080/",
          "height": 394
        },
        "outputId": "70f434f0-f6e6-4234-f546-7cfce1f322db"
      },
      "outputs": [
        {
          "output_type": "execute_result",
          "data": {
            "text/plain": [
              "<pandas.io.formats.style.Styler at 0x7fb70540b5d0>"
            ],
            "text/html": [
              "<style type=\"text/css\">\n",
              "#T_30621_row0_col0 {\n",
              "  width: 10em;\n",
              "  height: 80%;\n",
              "  background: linear-gradient(90deg, transparent 50.0%, #fca50a 50.0%, #fca50a 100.0%, transparent 100.0%);\n",
              "}\n",
              "#T_30621_row1_col0 {\n",
              "  width: 10em;\n",
              "  height: 80%;\n",
              "  background: linear-gradient(90deg, transparent 50.0%, #fca50a 50.0%, #fca50a 89.7%, transparent 89.7%);\n",
              "}\n",
              "#T_30621_row2_col0 {\n",
              "  width: 10em;\n",
              "  height: 80%;\n",
              "  background: linear-gradient(90deg, transparent 50.0%, #fca50a 50.0%, #fca50a 88.6%, transparent 88.6%);\n",
              "}\n",
              "#T_30621_row3_col0 {\n",
              "  width: 10em;\n",
              "  height: 80%;\n",
              "  background: linear-gradient(90deg, transparent 50.0%, #fca50a 50.0%, #fca50a 85.7%, transparent 85.7%);\n",
              "}\n",
              "#T_30621_row4_col0 {\n",
              "  width: 10em;\n",
              "  height: 80%;\n",
              "  background: linear-gradient(90deg, transparent 50.0%, #fca50a 50.0%, #fca50a 69.7%, transparent 69.7%);\n",
              "}\n",
              "#T_30621_row5_col0, #T_30621_row6_col0 {\n",
              "  width: 10em;\n",
              "  height: 80%;\n",
              "  background: linear-gradient(90deg, transparent 50.0%, #fca50a 50.0%, #fca50a 63.3%, transparent 63.3%);\n",
              "}\n",
              "#T_30621_row7_col0 {\n",
              "  width: 10em;\n",
              "  height: 80%;\n",
              "  background: linear-gradient(90deg, transparent 50.0%, #fca50a 50.0%, #fca50a 61.6%, transparent 61.6%);\n",
              "}\n",
              "#T_30621_row8_col0 {\n",
              "  width: 10em;\n",
              "  height: 80%;\n",
              "  background: linear-gradient(90deg, transparent 50.0%, #fca50a 50.0%, #fca50a 61.1%, transparent 61.1%);\n",
              "}\n",
              "#T_30621_row9_col0 {\n",
              "  width: 10em;\n",
              "  height: 80%;\n",
              "  background: linear-gradient(90deg, transparent 50.0%, #fca50a 50.0%, #fca50a 60.6%, transparent 60.6%);\n",
              "}\n",
              "</style>\n",
              "<table id=\"T_30621_\" class=\"dataframe\">\n",
              "  <thead>\n",
              "    <tr>\n",
              "      <th class=\"blank level0\" >&nbsp;</th>\n",
              "      <th class=\"col_heading level0 col0\" >genre</th>\n",
              "    </tr>\n",
              "    <tr>\n",
              "      <th class=\"index_name level0\" >genre</th>\n",
              "      <th class=\"blank col0\" >&nbsp;</th>\n",
              "    </tr>\n",
              "  </thead>\n",
              "  <tbody>\n",
              "    <tr>\n",
              "      <th id=\"T_30621_level0_row0\" class=\"row_heading level0 row0\" >pop</th>\n",
              "      <td id=\"T_30621_row0_col0\" class=\"data row0 col0\" >2431</td>\n",
              "    </tr>\n",
              "    <tr>\n",
              "      <th id=\"T_30621_level0_row1\" class=\"row_heading level0 row1\" >dance</th>\n",
              "      <td id=\"T_30621_row1_col0\" class=\"data row1 col0\" >1932</td>\n",
              "    </tr>\n",
              "    <tr>\n",
              "      <th id=\"T_30621_level0_row2\" class=\"row_heading level0 row2\" >rock</th>\n",
              "      <td id=\"T_30621_row2_col0\" class=\"data row2 col0\" >1879</td>\n",
              "    </tr>\n",
              "    <tr>\n",
              "      <th id=\"T_30621_level0_row3\" class=\"row_heading level0 row3\" >electronic</th>\n",
              "      <td id=\"T_30621_row3_col0\" class=\"data row3 col0\" >1736</td>\n",
              "    </tr>\n",
              "    <tr>\n",
              "      <th id=\"T_30621_level0_row4\" class=\"row_heading level0 row4\" >hiphop</th>\n",
              "      <td id=\"T_30621_row4_col0\" class=\"data row4 col0\" >960</td>\n",
              "    </tr>\n",
              "    <tr>\n",
              "      <th id=\"T_30621_level0_row5\" class=\"row_heading level0 row5\" >alternative</th>\n",
              "      <td id=\"T_30621_row5_col0\" class=\"data row5 col0\" >649</td>\n",
              "    </tr>\n",
              "    <tr>\n",
              "      <th id=\"T_30621_level0_row6\" class=\"row_heading level0 row6\" >classical</th>\n",
              "      <td id=\"T_30621_row6_col0\" class=\"data row6 col0\" >646</td>\n",
              "    </tr>\n",
              "    <tr>\n",
              "      <th id=\"T_30621_level0_row7\" class=\"row_heading level0 row7\" >rusrap</th>\n",
              "      <td id=\"T_30621_row7_col0\" class=\"data row7 col0\" >564</td>\n",
              "    </tr>\n",
              "    <tr>\n",
              "      <th id=\"T_30621_level0_row8\" class=\"row_heading level0 row8\" >ruspop</th>\n",
              "      <td id=\"T_30621_row8_col0\" class=\"data row8 col0\" >538</td>\n",
              "    </tr>\n",
              "    <tr>\n",
              "      <th id=\"T_30621_level0_row9\" class=\"row_heading level0 row9\" >world</th>\n",
              "      <td id=\"T_30621_row9_col0\" class=\"data row9 col0\" >515</td>\n",
              "    </tr>\n",
              "  </tbody>\n",
              "</table>\n"
            ]
          },
          "metadata": {},
          "execution_count": 41
        }
      ],
      "source": [
        "# просмотр первых 10 строк spb_genres\n",
        "spb_genres.head(10).to_frame().style.bar(align='zero', color='#fca50a')"
      ]
    },
    {
      "cell_type": "markdown",
      "metadata": {
        "id": "RY51YJYu_Zcv"
      },
      "source": [
        "**Выводы**"
      ]
    },
    {
      "cell_type": "markdown",
      "metadata": {
        "id": "nVhnJEm__Zcv"
      },
      "source": [
        "Гипотеза частично подтвердилась:\n",
        "* Поп-музыка — самый популярный жанр в Москве, как и предполагала гипотеза. Более того, в топ-10 жанров встречается близкий жанр — русская популярная музыка.\n",
        "* Вопреки ожиданиям, рэп одинаково популярен в Москве и Петербурге. \n"
      ]
    },
    {
      "cell_type": "markdown",
      "metadata": {
        "id": "ykKQ0N65_Zcv"
      },
      "source": [
        "## Итоги исследования"
      ]
    },
    {
      "cell_type": "markdown",
      "metadata": {
        "id": "tjUwbHb3_Zcv"
      },
      "source": [
        "Мы проверили три гипотезы и установили:\n",
        "\n",
        "1. День недели по-разному влияет на активность пользователей в Москве и Петербурге. \n",
        "\n",
        "Первая гипотеза полностью подтвердилась.\n",
        "\n",
        "2. Музыкальные предпочтения не сильно меняются в течение недели — будь то Москва или Петербург. Небольшие различия заметны в начале недели, по понедельникам:\n",
        "* в Москве слушают музыку жанра “world”,\n",
        "* в Петербурге — джаз и классику.\n",
        "\n",
        "Таким образом, вторая гипотеза подтвердилась лишь отчасти. Этот результат мог оказаться иным, если бы не пропуски в данных.\n",
        "\n",
        "3. Во вкусах пользователей Москвы и Петербурга больше общего, чем различий. Вопреки ожиданиям, предпочтения жанров в Петербурге напоминают московские.\n",
        "\n",
        "Третья гипотеза не подтвердилась. Если различия в предпочтениях и существуют, на основной массе пользователей они незаметны.\n",
        "\n",
        "**На практике исследования содержат проверки статистических гипотез.**\n",
        "Из данных одного сервиса не всегда можно сделать вывод о всех жителях города.\n",
        "Проверки статистических гипотез покажут, насколько они достоверны, исходя из имеющихся данных. "
      ]
    }
  ],
  "metadata": {
    "ExecuteTimeLog": [
      {
        "duration": 798,
        "start_time": "2022-02-10T18:18:09.791Z"
      },
      {
        "duration": 189,
        "start_time": "2022-02-10T18:18:11.495Z"
      },
      {
        "duration": 26,
        "start_time": "2022-02-10T18:18:23.109Z"
      },
      {
        "duration": 43,
        "start_time": "2022-02-10T18:18:38.355Z"
      },
      {
        "duration": 457,
        "start_time": "2022-02-10T18:19:18.298Z"
      },
      {
        "duration": 7,
        "start_time": "2022-02-10T18:20:36.436Z"
      },
      {
        "duration": 6,
        "start_time": "2022-02-10T18:20:52.704Z"
      },
      {
        "duration": 24,
        "start_time": "2022-02-10T18:22:58.025Z"
      },
      {
        "duration": 5,
        "start_time": "2022-02-10T18:23:02.192Z"
      },
      {
        "duration": 32,
        "start_time": "2022-02-10T18:23:30.174Z"
      },
      {
        "duration": 33,
        "start_time": "2022-02-10T18:23:40.289Z"
      },
      {
        "duration": 124,
        "start_time": "2022-02-10T18:27:33.096Z"
      },
      {
        "duration": 87,
        "start_time": "2022-02-10T18:27:52.937Z"
      },
      {
        "duration": 82,
        "start_time": "2022-02-10T18:27:57.500Z"
      },
      {
        "duration": 23,
        "start_time": "2022-02-10T18:30:18.369Z"
      },
      {
        "duration": 29,
        "start_time": "2022-02-10T18:30:29.251Z"
      },
      {
        "duration": 97,
        "start_time": "2022-02-10T18:30:51.064Z"
      },
      {
        "duration": 78,
        "start_time": "2022-02-10T18:30:59.376Z"
      },
      {
        "duration": 133,
        "start_time": "2022-02-10T18:31:06.147Z"
      },
      {
        "duration": 72,
        "start_time": "2022-02-10T18:31:11.781Z"
      },
      {
        "duration": 11,
        "start_time": "2022-02-10T18:31:51.325Z"
      },
      {
        "duration": 15,
        "start_time": "2022-02-10T18:32:15.533Z"
      },
      {
        "duration": 16,
        "start_time": "2022-02-10T18:35:06.617Z"
      },
      {
        "duration": 5,
        "start_time": "2022-02-11T06:45:20.773Z"
      },
      {
        "duration": 540,
        "start_time": "2022-02-11T06:47:11.253Z"
      },
      {
        "duration": 713,
        "start_time": "2022-02-11T06:47:21.622Z"
      },
      {
        "duration": 187,
        "start_time": "2022-02-11T06:47:22.857Z"
      },
      {
        "duration": 25,
        "start_time": "2022-02-11T06:47:24.221Z"
      },
      {
        "duration": 32,
        "start_time": "2022-02-11T06:47:26.966Z"
      },
      {
        "duration": 5,
        "start_time": "2022-02-11T06:47:31.033Z"
      },
      {
        "duration": 28,
        "start_time": "2022-02-11T06:47:35.714Z"
      },
      {
        "duration": 4,
        "start_time": "2022-02-11T06:47:37.550Z"
      },
      {
        "duration": 34,
        "start_time": "2022-02-11T06:47:40.320Z"
      },
      {
        "duration": 25,
        "start_time": "2022-02-11T06:47:43.457Z"
      },
      {
        "duration": 35,
        "start_time": "2022-02-11T06:47:45.611Z"
      },
      {
        "duration": 83,
        "start_time": "2022-02-11T06:47:48.094Z"
      },
      {
        "duration": 91,
        "start_time": "2022-02-11T06:47:50.274Z"
      },
      {
        "duration": 75,
        "start_time": "2022-02-11T06:47:52.246Z"
      },
      {
        "duration": 14,
        "start_time": "2022-02-11T06:47:54.832Z"
      },
      {
        "duration": 9,
        "start_time": "2022-02-11T06:48:12.785Z"
      },
      {
        "duration": 14,
        "start_time": "2022-02-11T06:48:17.248Z"
      },
      {
        "duration": 4,
        "start_time": "2022-02-11T06:48:22.953Z"
      },
      {
        "duration": 14,
        "start_time": "2022-02-11T06:48:24.730Z"
      },
      {
        "duration": 15,
        "start_time": "2022-02-11T06:48:29.848Z"
      },
      {
        "duration": 14,
        "start_time": "2022-02-11T06:49:10.640Z"
      },
      {
        "duration": 14,
        "start_time": "2022-02-11T06:52:35.549Z"
      },
      {
        "duration": 15,
        "start_time": "2022-02-11T06:57:53.013Z"
      },
      {
        "duration": 5,
        "start_time": "2022-02-11T07:19:20.129Z"
      },
      {
        "duration": 15,
        "start_time": "2022-02-11T07:19:23.491Z"
      },
      {
        "duration": 30,
        "start_time": "2022-02-11T07:19:42.123Z"
      },
      {
        "duration": 21,
        "start_time": "2022-02-11T07:20:16.482Z"
      },
      {
        "duration": 30,
        "start_time": "2022-02-11T07:20:27.301Z"
      },
      {
        "duration": 5,
        "start_time": "2022-02-11T07:20:37.240Z"
      },
      {
        "duration": 745,
        "start_time": "2022-02-11T07:20:41.655Z"
      },
      {
        "duration": 5,
        "start_time": "2022-02-11T07:21:02.738Z"
      },
      {
        "duration": 31,
        "start_time": "2022-02-11T07:21:06.340Z"
      },
      {
        "duration": 5,
        "start_time": "2022-02-11T07:22:12.191Z"
      },
      {
        "duration": 32,
        "start_time": "2022-02-11T07:22:14.472Z"
      },
      {
        "duration": 22,
        "start_time": "2022-02-11T07:22:17.315Z"
      },
      {
        "duration": 19,
        "start_time": "2022-02-11T07:22:27.344Z"
      },
      {
        "duration": 22,
        "start_time": "2022-02-11T07:23:12.960Z"
      },
      {
        "duration": 21,
        "start_time": "2022-02-11T07:23:18.182Z"
      },
      {
        "duration": 21,
        "start_time": "2022-02-11T07:23:23.948Z"
      },
      {
        "duration": 83,
        "start_time": "2022-02-11T07:29:35.278Z"
      },
      {
        "duration": 85,
        "start_time": "2022-02-11T07:33:46.502Z"
      },
      {
        "duration": 13,
        "start_time": "2022-02-11T07:36:41.982Z"
      },
      {
        "duration": 14,
        "start_time": "2022-02-11T07:38:48.361Z"
      },
      {
        "duration": 333,
        "start_time": "2022-02-11T07:52:42.901Z"
      },
      {
        "duration": 6,
        "start_time": "2022-02-11T07:52:51.422Z"
      },
      {
        "duration": 537,
        "start_time": "2022-02-11T07:52:54.776Z"
      },
      {
        "duration": 7,
        "start_time": "2022-02-11T07:53:19.948Z"
      },
      {
        "duration": 700,
        "start_time": "2022-02-11T07:53:22.854Z"
      },
      {
        "duration": 6,
        "start_time": "2022-02-11T07:55:25.659Z"
      },
      {
        "duration": 537,
        "start_time": "2022-02-11T07:55:27.904Z"
      },
      {
        "duration": 5,
        "start_time": "2022-02-11T07:57:50.767Z"
      },
      {
        "duration": 49,
        "start_time": "2022-02-11T07:57:53.232Z"
      },
      {
        "duration": 6,
        "start_time": "2022-02-11T07:58:40.391Z"
      },
      {
        "duration": 47,
        "start_time": "2022-02-11T07:58:42.237Z"
      },
      {
        "duration": 5,
        "start_time": "2022-02-11T07:58:50.492Z"
      },
      {
        "duration": 47,
        "start_time": "2022-02-11T07:58:51.774Z"
      },
      {
        "duration": 44,
        "start_time": "2022-02-11T07:59:18.749Z"
      },
      {
        "duration": 45,
        "start_time": "2022-02-11T07:59:27.337Z"
      },
      {
        "duration": 263,
        "start_time": "2022-02-11T07:59:51.207Z"
      },
      {
        "duration": 15,
        "start_time": "2022-02-11T08:00:00.295Z"
      },
      {
        "duration": 13,
        "start_time": "2022-02-11T08:00:01.418Z"
      },
      {
        "duration": 6,
        "start_time": "2022-02-11T08:00:03.581Z"
      },
      {
        "duration": 46,
        "start_time": "2022-02-11T08:00:05.361Z"
      },
      {
        "duration": 41,
        "start_time": "2022-02-11T08:00:08.013Z"
      },
      {
        "duration": 18,
        "start_time": "2022-02-11T08:00:37.401Z"
      },
      {
        "duration": 14,
        "start_time": "2022-02-11T08:00:39.190Z"
      },
      {
        "duration": 8,
        "start_time": "2022-02-11T08:01:18.221Z"
      },
      {
        "duration": 28,
        "start_time": "2022-02-11T08:01:20.407Z"
      },
      {
        "duration": 17,
        "start_time": "2022-02-11T08:01:23.225Z"
      },
      {
        "duration": 24,
        "start_time": "2022-02-11T08:01:58.205Z"
      },
      {
        "duration": 17,
        "start_time": "2022-02-11T08:02:25.008Z"
      },
      {
        "duration": 266,
        "start_time": "2022-02-11T08:05:59.413Z"
      },
      {
        "duration": 256,
        "start_time": "2022-02-11T08:06:26.525Z"
      },
      {
        "duration": 263,
        "start_time": "2022-02-11T08:07:45.983Z"
      },
      {
        "duration": 282,
        "start_time": "2022-02-11T08:08:06.034Z"
      },
      {
        "duration": 6,
        "start_time": "2022-02-11T08:08:20.791Z"
      },
      {
        "duration": 269,
        "start_time": "2022-02-11T08:09:09.058Z"
      },
      {
        "duration": 6,
        "start_time": "2022-02-11T08:09:52.088Z"
      },
      {
        "duration": 268,
        "start_time": "2022-02-11T08:10:06.030Z"
      },
      {
        "duration": 310,
        "start_time": "2022-02-11T08:10:48.711Z"
      },
      {
        "duration": 11,
        "start_time": "2022-02-11T08:11:08.651Z"
      },
      {
        "duration": 7,
        "start_time": "2022-02-11T08:11:30.832Z"
      },
      {
        "duration": 7,
        "start_time": "2022-02-11T08:11:52.663Z"
      },
      {
        "duration": 7,
        "start_time": "2022-02-11T08:12:09.292Z"
      },
      {
        "duration": 8,
        "start_time": "2022-02-11T08:12:13.258Z"
      },
      {
        "duration": 6,
        "start_time": "2022-02-11T08:12:24.080Z"
      },
      {
        "duration": 239,
        "start_time": "2022-02-11T08:12:57.145Z"
      },
      {
        "duration": 9,
        "start_time": "2022-02-11T08:13:07.992Z"
      },
      {
        "duration": 6,
        "start_time": "2022-02-11T08:13:09.598Z"
      },
      {
        "duration": 219,
        "start_time": "2022-02-11T12:30:54.631Z"
      },
      {
        "duration": 548,
        "start_time": "2022-02-11T12:31:26.898Z"
      },
      {
        "duration": 136,
        "start_time": "2022-02-11T12:31:27.448Z"
      },
      {
        "duration": 15,
        "start_time": "2022-02-11T12:31:27.586Z"
      },
      {
        "duration": 27,
        "start_time": "2022-02-11T12:31:27.603Z"
      },
      {
        "duration": 3,
        "start_time": "2022-02-11T12:31:27.632Z"
      },
      {
        "duration": 35,
        "start_time": "2022-02-11T12:31:27.637Z"
      },
      {
        "duration": 8,
        "start_time": "2022-02-11T12:31:27.673Z"
      },
      {
        "duration": 24,
        "start_time": "2022-02-11T12:31:27.683Z"
      },
      {
        "duration": 16,
        "start_time": "2022-02-11T12:31:27.710Z"
      },
      {
        "duration": 38,
        "start_time": "2022-02-11T12:31:27.728Z"
      },
      {
        "duration": 57,
        "start_time": "2022-02-11T12:31:27.768Z"
      },
      {
        "duration": 84,
        "start_time": "2022-02-11T12:31:27.826Z"
      },
      {
        "duration": 50,
        "start_time": "2022-02-11T12:31:27.914Z"
      },
      {
        "duration": 8,
        "start_time": "2022-02-11T12:31:27.966Z"
      },
      {
        "duration": 2,
        "start_time": "2022-02-11T12:31:27.975Z"
      },
      {
        "duration": 12,
        "start_time": "2022-02-11T12:31:27.979Z"
      },
      {
        "duration": 9,
        "start_time": "2022-02-11T12:31:27.993Z"
      },
      {
        "duration": 13,
        "start_time": "2022-02-11T12:31:28.003Z"
      },
      {
        "duration": 9,
        "start_time": "2022-02-11T12:31:28.018Z"
      },
      {
        "duration": 32,
        "start_time": "2022-02-11T12:31:28.028Z"
      },
      {
        "duration": 23,
        "start_time": "2022-02-11T12:31:28.062Z"
      },
      {
        "duration": 14,
        "start_time": "2022-02-11T12:31:28.086Z"
      },
      {
        "duration": 15,
        "start_time": "2022-02-11T12:31:28.103Z"
      },
      {
        "duration": 13,
        "start_time": "2022-02-11T12:31:28.120Z"
      },
      {
        "duration": 35,
        "start_time": "2022-02-11T12:31:28.134Z"
      },
      {
        "duration": 13,
        "start_time": "2022-02-11T12:31:28.171Z"
      },
      {
        "duration": 8,
        "start_time": "2022-02-11T12:31:28.185Z"
      },
      {
        "duration": 12,
        "start_time": "2022-02-11T12:31:28.195Z"
      },
      {
        "duration": 8,
        "start_time": "2022-02-11T12:31:28.208Z"
      },
      {
        "duration": 4,
        "start_time": "2022-02-11T12:31:28.218Z"
      },
      {
        "duration": 52,
        "start_time": "2022-02-11T12:31:28.223Z"
      },
      {
        "duration": 15,
        "start_time": "2022-02-11T12:31:28.277Z"
      },
      {
        "duration": 25,
        "start_time": "2022-02-11T12:31:28.293Z"
      },
      {
        "duration": 11,
        "start_time": "2022-02-11T12:31:28.320Z"
      },
      {
        "duration": 29,
        "start_time": "2022-02-11T12:31:28.332Z"
      },
      {
        "duration": 4,
        "start_time": "2022-02-11T12:31:28.362Z"
      },
      {
        "duration": 7,
        "start_time": "2022-02-11T12:31:28.367Z"
      },
      {
        "duration": 5,
        "start_time": "2022-02-11T12:31:28.375Z"
      },
      {
        "duration": 5,
        "start_time": "2022-02-11T12:31:38.253Z"
      },
      {
        "duration": 4,
        "start_time": "2022-02-11T12:31:50.841Z"
      },
      {
        "duration": 11,
        "start_time": "2022-02-11T12:32:45.517Z"
      },
      {
        "duration": 10,
        "start_time": "2022-02-11T12:32:58.058Z"
      },
      {
        "duration": 9,
        "start_time": "2022-02-11T12:33:12.578Z"
      },
      {
        "duration": 9,
        "start_time": "2022-02-11T12:33:33.244Z"
      },
      {
        "duration": 57,
        "start_time": "2022-02-11T12:33:42.794Z"
      },
      {
        "duration": 55,
        "start_time": "2022-02-11T12:33:50.813Z"
      },
      {
        "duration": 4,
        "start_time": "2022-02-11T12:34:01.657Z"
      },
      {
        "duration": 4,
        "start_time": "2022-02-11T12:34:08.973Z"
      },
      {
        "duration": 316,
        "start_time": "2022-02-11T12:50:16.316Z"
      },
      {
        "duration": 134,
        "start_time": "2022-02-11T12:51:15.760Z"
      },
      {
        "duration": 691,
        "start_time": "2022-02-11T12:52:19.080Z"
      },
      {
        "duration": 140,
        "start_time": "2022-02-11T12:52:36.506Z"
      },
      {
        "duration": 326,
        "start_time": "2022-02-12T04:32:36.538Z"
      },
      {
        "duration": 610,
        "start_time": "2022-02-12T04:32:42.703Z"
      },
      {
        "duration": 148,
        "start_time": "2022-02-12T04:32:43.885Z"
      },
      {
        "duration": 21,
        "start_time": "2022-02-12T04:32:44.770Z"
      },
      {
        "duration": 27,
        "start_time": "2022-02-12T04:32:49.429Z"
      },
      {
        "duration": 4,
        "start_time": "2022-02-12T04:32:53.008Z"
      },
      {
        "duration": 22,
        "start_time": "2022-02-12T04:32:55.411Z"
      },
      {
        "duration": 5,
        "start_time": "2022-02-12T04:32:56.887Z"
      },
      {
        "duration": 29,
        "start_time": "2022-02-12T04:33:00.482Z"
      },
      {
        "duration": 20,
        "start_time": "2022-02-12T04:33:03.470Z"
      },
      {
        "duration": 24,
        "start_time": "2022-02-12T04:33:04.937Z"
      },
      {
        "duration": 67,
        "start_time": "2022-02-12T04:33:07.021Z"
      },
      {
        "duration": 79,
        "start_time": "2022-02-12T04:33:09.664Z"
      },
      {
        "duration": 57,
        "start_time": "2022-02-12T04:33:11.579Z"
      },
      {
        "duration": 10,
        "start_time": "2022-02-12T04:33:16.813Z"
      },
      {
        "duration": 4,
        "start_time": "2022-02-12T04:33:22.329Z"
      },
      {
        "duration": 11,
        "start_time": "2022-02-12T04:33:24.061Z"
      },
      {
        "duration": 11,
        "start_time": "2022-02-12T04:33:26.136Z"
      },
      {
        "duration": 12,
        "start_time": "2022-02-12T04:33:30.604Z"
      },
      {
        "duration": 11,
        "start_time": "2022-02-12T04:33:32.910Z"
      },
      {
        "duration": 4,
        "start_time": "2022-02-12T04:33:36.699Z"
      },
      {
        "duration": 20,
        "start_time": "2022-02-12T04:33:41.045Z"
      },
      {
        "duration": 17,
        "start_time": "2022-02-12T04:33:42.561Z"
      },
      {
        "duration": 18,
        "start_time": "2022-02-12T04:33:44.100Z"
      },
      {
        "duration": 20,
        "start_time": "2022-02-12T04:33:46.793Z"
      },
      {
        "duration": 18,
        "start_time": "2022-02-12T04:33:48.669Z"
      },
      {
        "duration": 9,
        "start_time": "2022-02-12T04:33:51.584Z"
      },
      {
        "duration": 9,
        "start_time": "2022-02-12T04:33:56.247Z"
      },
      {
        "duration": 12,
        "start_time": "2022-02-12T04:34:09.655Z"
      },
      {
        "duration": 10,
        "start_time": "2022-02-12T04:34:10.874Z"
      },
      {
        "duration": 4,
        "start_time": "2022-02-12T04:34:15.216Z"
      },
      {
        "duration": 21,
        "start_time": "2022-02-12T04:34:18.512Z"
      },
      {
        "duration": 14,
        "start_time": "2022-02-12T04:34:20.876Z"
      },
      {
        "duration": 18,
        "start_time": "2022-02-12T04:34:23.470Z"
      },
      {
        "duration": 14,
        "start_time": "2022-02-12T04:34:25.617Z"
      },
      {
        "duration": 8,
        "start_time": "2022-02-12T04:34:28.619Z"
      },
      {
        "duration": 5,
        "start_time": "2022-02-12T04:34:31.656Z"
      },
      {
        "duration": 6,
        "start_time": "2022-02-12T04:34:35.396Z"
      },
      {
        "duration": 5,
        "start_time": "2022-02-12T04:34:36.991Z"
      },
      {
        "duration": 782,
        "start_time": "2022-02-17T02:52:50.245Z"
      },
      {
        "duration": 303,
        "start_time": "2022-02-17T02:56:39.066Z"
      },
      {
        "duration": 669,
        "start_time": "2022-02-17T02:57:06.291Z"
      },
      {
        "duration": 157,
        "start_time": "2022-02-17T02:57:06.963Z"
      },
      {
        "duration": 20,
        "start_time": "2022-02-17T02:57:07.123Z"
      },
      {
        "duration": 29,
        "start_time": "2022-02-17T02:57:07.146Z"
      },
      {
        "duration": 5,
        "start_time": "2022-02-17T02:57:07.177Z"
      },
      {
        "duration": 22,
        "start_time": "2022-02-17T02:57:07.208Z"
      },
      {
        "duration": 14,
        "start_time": "2022-02-17T02:57:07.232Z"
      },
      {
        "duration": 28,
        "start_time": "2022-02-17T02:57:07.249Z"
      },
      {
        "duration": 44,
        "start_time": "2022-02-17T02:57:07.279Z"
      },
      {
        "duration": 26,
        "start_time": "2022-02-17T02:57:07.325Z"
      },
      {
        "duration": 84,
        "start_time": "2022-02-17T02:57:07.353Z"
      },
      {
        "duration": 89,
        "start_time": "2022-02-17T02:57:07.439Z"
      },
      {
        "duration": 58,
        "start_time": "2022-02-17T02:57:07.530Z"
      },
      {
        "duration": 56,
        "start_time": "2022-02-17T02:57:07.590Z"
      },
      {
        "duration": 3,
        "start_time": "2022-02-17T02:57:07.649Z"
      },
      {
        "duration": 22,
        "start_time": "2022-02-17T02:57:07.654Z"
      },
      {
        "duration": 14,
        "start_time": "2022-02-17T02:57:07.678Z"
      },
      {
        "duration": 13,
        "start_time": "2022-02-17T02:57:07.708Z"
      },
      {
        "duration": 16,
        "start_time": "2022-02-17T02:57:07.723Z"
      },
      {
        "duration": 3,
        "start_time": "2022-02-17T02:57:07.741Z"
      },
      {
        "duration": 25,
        "start_time": "2022-02-17T02:57:07.746Z"
      },
      {
        "duration": 46,
        "start_time": "2022-02-17T02:57:07.773Z"
      },
      {
        "duration": 18,
        "start_time": "2022-02-17T02:57:07.823Z"
      },
      {
        "duration": 18,
        "start_time": "2022-02-17T02:57:07.843Z"
      },
      {
        "duration": 45,
        "start_time": "2022-02-17T02:57:07.863Z"
      },
      {
        "duration": 17,
        "start_time": "2022-02-17T02:57:07.911Z"
      },
      {
        "duration": 10,
        "start_time": "2022-02-17T02:57:07.930Z"
      },
      {
        "duration": 16,
        "start_time": "2022-02-17T02:57:07.942Z"
      },
      {
        "duration": 14,
        "start_time": "2022-02-17T02:57:07.960Z"
      },
      {
        "duration": 5,
        "start_time": "2022-02-17T02:57:07.976Z"
      },
      {
        "duration": 25,
        "start_time": "2022-02-17T02:57:08.007Z"
      },
      {
        "duration": 17,
        "start_time": "2022-02-17T02:57:08.034Z"
      },
      {
        "duration": 19,
        "start_time": "2022-02-17T02:57:08.053Z"
      },
      {
        "duration": 44,
        "start_time": "2022-02-17T02:57:08.074Z"
      },
      {
        "duration": 8,
        "start_time": "2022-02-17T02:57:08.120Z"
      },
      {
        "duration": 5,
        "start_time": "2022-02-17T02:57:08.130Z"
      },
      {
        "duration": 11,
        "start_time": "2022-02-17T02:57:08.137Z"
      },
      {
        "duration": 14,
        "start_time": "2022-02-17T02:57:08.150Z"
      },
      {
        "duration": 46,
        "start_time": "2022-02-17T03:00:55.058Z"
      },
      {
        "duration": 98,
        "start_time": "2022-02-17T03:04:37.456Z"
      },
      {
        "duration": 79,
        "start_time": "2022-02-17T03:04:46.582Z"
      },
      {
        "duration": 83,
        "start_time": "2022-02-17T03:04:58.127Z"
      },
      {
        "duration": 82,
        "start_time": "2022-02-17T03:05:18.877Z"
      },
      {
        "duration": 80,
        "start_time": "2022-02-17T03:05:52.204Z"
      },
      {
        "duration": 82,
        "start_time": "2022-02-17T03:06:50.462Z"
      },
      {
        "duration": 105,
        "start_time": "2022-02-17T03:08:13.780Z"
      },
      {
        "duration": 659,
        "start_time": "2022-02-17T03:13:40.008Z"
      },
      {
        "duration": 167,
        "start_time": "2022-02-17T03:13:40.669Z"
      },
      {
        "duration": 21,
        "start_time": "2022-02-17T03:13:40.838Z"
      },
      {
        "duration": 46,
        "start_time": "2022-02-17T03:13:40.861Z"
      },
      {
        "duration": 4,
        "start_time": "2022-02-17T03:13:40.910Z"
      },
      {
        "duration": 25,
        "start_time": "2022-02-17T03:13:40.916Z"
      },
      {
        "duration": 4,
        "start_time": "2022-02-17T03:13:40.944Z"
      },
      {
        "duration": 30,
        "start_time": "2022-02-17T03:13:40.951Z"
      },
      {
        "duration": 43,
        "start_time": "2022-02-17T03:13:40.984Z"
      },
      {
        "duration": 28,
        "start_time": "2022-02-17T03:13:41.029Z"
      },
      {
        "duration": 96,
        "start_time": "2022-02-17T03:13:41.059Z"
      },
      {
        "duration": 88,
        "start_time": "2022-02-17T03:13:41.157Z"
      },
      {
        "duration": 69,
        "start_time": "2022-02-17T03:13:41.247Z"
      },
      {
        "duration": 46,
        "start_time": "2022-02-17T03:13:41.318Z"
      },
      {
        "duration": 3,
        "start_time": "2022-02-17T03:13:41.366Z"
      },
      {
        "duration": 14,
        "start_time": "2022-02-17T03:13:41.371Z"
      },
      {
        "duration": 63,
        "start_time": "2022-02-17T03:13:41.387Z"
      },
      {
        "duration": 13,
        "start_time": "2022-02-17T03:13:41.452Z"
      },
      {
        "duration": 12,
        "start_time": "2022-02-17T03:13:41.467Z"
      },
      {
        "duration": 29,
        "start_time": "2022-02-17T03:13:41.481Z"
      },
      {
        "duration": 28,
        "start_time": "2022-02-17T03:13:41.512Z"
      },
      {
        "duration": 21,
        "start_time": "2022-02-17T03:13:41.543Z"
      },
      {
        "duration": 26,
        "start_time": "2022-02-17T03:13:41.569Z"
      },
      {
        "duration": 20,
        "start_time": "2022-02-17T03:13:41.608Z"
      },
      {
        "duration": 20,
        "start_time": "2022-02-17T03:13:41.630Z"
      },
      {
        "duration": 18,
        "start_time": "2022-02-17T03:13:41.652Z"
      },
      {
        "duration": 37,
        "start_time": "2022-02-17T03:13:41.672Z"
      },
      {
        "duration": 13,
        "start_time": "2022-02-17T03:13:41.711Z"
      },
      {
        "duration": 10,
        "start_time": "2022-02-17T03:13:41.726Z"
      },
      {
        "duration": 7,
        "start_time": "2022-02-17T03:13:41.738Z"
      },
      {
        "duration": 27,
        "start_time": "2022-02-17T03:13:41.747Z"
      },
      {
        "duration": 43,
        "start_time": "2022-02-17T03:13:41.776Z"
      },
      {
        "duration": 20,
        "start_time": "2022-02-17T03:13:41.820Z"
      },
      {
        "duration": 14,
        "start_time": "2022-02-17T03:13:41.842Z"
      },
      {
        "duration": 8,
        "start_time": "2022-02-17T03:13:41.858Z"
      },
      {
        "duration": 6,
        "start_time": "2022-02-17T03:13:41.868Z"
      },
      {
        "duration": 38,
        "start_time": "2022-02-17T03:13:41.875Z"
      },
      {
        "duration": 13,
        "start_time": "2022-02-17T03:13:41.915Z"
      }
    ],
    "colab": {
      "collapsed_sections": [],
      "name": "ca7e16bf-6a81-42b6-9fa2-97903da3e767.ipynb",
      "provenance": [],
      "include_colab_link": true
    },
    "kernelspec": {
      "display_name": "Python 3 (ipykernel)",
      "language": "python",
      "name": "python3"
    },
    "language_info": {
      "codemirror_mode": {
        "name": "ipython",
        "version": 3
      },
      "file_extension": ".py",
      "mimetype": "text/x-python",
      "name": "python",
      "nbconvert_exporter": "python",
      "pygments_lexer": "ipython3",
      "version": "3.9.5"
    },
    "toc": {
      "base_numbering": 1,
      "nav_menu": {},
      "number_sections": true,
      "sideBar": true,
      "skip_h1_title": true,
      "title_cell": "Table of Contents",
      "title_sidebar": "Contents",
      "toc_cell": false,
      "toc_position": {},
      "toc_section_display": true,
      "toc_window_display": false
    }
  },
  "nbformat": 4,
  "nbformat_minor": 0
}